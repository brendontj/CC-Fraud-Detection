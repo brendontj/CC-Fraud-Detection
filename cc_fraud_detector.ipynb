{
  "nbformat": 4,
  "nbformat_minor": 0,
  "metadata": {
    "colab": {
      "name": "cc_fraud_detector.ipynb",
      "provenance": [],
      "collapsed_sections": [],
      "toc_visible": true,
      "include_colab_link": true
    },
    "kernelspec": {
      "name": "python3",
      "display_name": "Python 3"
    }
  },
  "cells": [
    {
      "cell_type": "markdown",
      "metadata": {
        "id": "view-in-github",
        "colab_type": "text"
      },
      "source": [
        "<a href=\"https://colab.research.google.com/github/brendontj/CC-Fraud-Detection/blob/master/cc_fraud_detector.ipynb\" target=\"_parent\"><img src=\"https://colab.research.google.com/assets/colab-badge.svg\" alt=\"Open In Colab\"/></a>"
      ]
    },
    {
      "cell_type": "code",
      "metadata": {
        "id": "yNc2f7lJTRQn"
      },
      "source": [
        "import pandas as pd\n",
        "import numpy as np\n",
        "import seaborn as sns\n",
        "import matplotlib.pyplot as plt\n",
        "\n",
        "from sklearn.model_selection import train_test_split, cross_val_score, StratifiedKFold\n",
        "from sklearn.feature_selection import mutual_info_classif, SelectKBest\n",
        "from sklearn.ensemble import RandomForestClassifier\n",
        "from sklearn.metrics import classification_report, roc_curve, roc_auc_score, mean_absolute_error, accuracy_score, plot_roc_curve, auc\n",
        "from sklearn.neighbors import KNeighborsClassifier\n",
        "from sklearn.neural_network import MLPClassifier\n",
        "from math import sqrt"
      ],
      "execution_count": 38,
      "outputs": []
    },
    {
      "cell_type": "markdown",
      "metadata": {
        "id": "JaBZqp3BOa-Y"
      },
      "source": [
        "O conjunto de dados apresenta em suma dados numéricos obtidos após transformação PCA (Principal Component Analysis). Não foi possível obter os dados previamente a esta transformação."
      ]
    },
    {
      "cell_type": "markdown",
      "metadata": {
        "id": "VWXQdTqzY2NR"
      },
      "source": [
        "Leitura do dataset de entrada com informações referentes a transações de cartão de crédito."
      ]
    },
    {
      "cell_type": "code",
      "metadata": {
        "colab": {
          "base_uri": "https://localhost:8080/",
          "height": 241
        },
        "id": "eZUVuwvxffVP",
        "outputId": "2a4d4ec1-de45-43fc-dfd7-c23c60ab1fe6"
      },
      "source": [
        "data = pd.read_csv('creditcard.csv')\n",
        "print('Quantidade de linhas do dataset {}'.format(data.shape[0]))\n",
        "data.head()"
      ],
      "execution_count": 39,
      "outputs": [
        {
          "output_type": "stream",
          "text": [
            "Quantidade de linhas do dataset 284807\n"
          ],
          "name": "stdout"
        },
        {
          "output_type": "execute_result",
          "data": {
            "text/html": [
              "<div>\n",
              "<style scoped>\n",
              "    .dataframe tbody tr th:only-of-type {\n",
              "        vertical-align: middle;\n",
              "    }\n",
              "\n",
              "    .dataframe tbody tr th {\n",
              "        vertical-align: top;\n",
              "    }\n",
              "\n",
              "    .dataframe thead th {\n",
              "        text-align: right;\n",
              "    }\n",
              "</style>\n",
              "<table border=\"1\" class=\"dataframe\">\n",
              "  <thead>\n",
              "    <tr style=\"text-align: right;\">\n",
              "      <th></th>\n",
              "      <th>Time</th>\n",
              "      <th>V1</th>\n",
              "      <th>V2</th>\n",
              "      <th>V3</th>\n",
              "      <th>V4</th>\n",
              "      <th>V5</th>\n",
              "      <th>V6</th>\n",
              "      <th>V7</th>\n",
              "      <th>V8</th>\n",
              "      <th>V9</th>\n",
              "      <th>V10</th>\n",
              "      <th>V11</th>\n",
              "      <th>V12</th>\n",
              "      <th>V13</th>\n",
              "      <th>V14</th>\n",
              "      <th>V15</th>\n",
              "      <th>V16</th>\n",
              "      <th>V17</th>\n",
              "      <th>V18</th>\n",
              "      <th>V19</th>\n",
              "      <th>V20</th>\n",
              "      <th>V21</th>\n",
              "      <th>V22</th>\n",
              "      <th>V23</th>\n",
              "      <th>V24</th>\n",
              "      <th>V25</th>\n",
              "      <th>V26</th>\n",
              "      <th>V27</th>\n",
              "      <th>V28</th>\n",
              "      <th>Amount</th>\n",
              "      <th>Class</th>\n",
              "    </tr>\n",
              "  </thead>\n",
              "  <tbody>\n",
              "    <tr>\n",
              "      <th>0</th>\n",
              "      <td>0.0</td>\n",
              "      <td>-1.359807</td>\n",
              "      <td>-0.072781</td>\n",
              "      <td>2.536347</td>\n",
              "      <td>1.378155</td>\n",
              "      <td>-0.338321</td>\n",
              "      <td>0.462388</td>\n",
              "      <td>0.239599</td>\n",
              "      <td>0.098698</td>\n",
              "      <td>0.363787</td>\n",
              "      <td>0.090794</td>\n",
              "      <td>-0.551600</td>\n",
              "      <td>-0.617801</td>\n",
              "      <td>-0.991390</td>\n",
              "      <td>-0.311169</td>\n",
              "      <td>1.468177</td>\n",
              "      <td>-0.470401</td>\n",
              "      <td>0.207971</td>\n",
              "      <td>0.025791</td>\n",
              "      <td>0.403993</td>\n",
              "      <td>0.251412</td>\n",
              "      <td>-0.018307</td>\n",
              "      <td>0.277838</td>\n",
              "      <td>-0.110474</td>\n",
              "      <td>0.066928</td>\n",
              "      <td>0.128539</td>\n",
              "      <td>-0.189115</td>\n",
              "      <td>0.133558</td>\n",
              "      <td>-0.021053</td>\n",
              "      <td>149.62</td>\n",
              "      <td>0</td>\n",
              "    </tr>\n",
              "    <tr>\n",
              "      <th>1</th>\n",
              "      <td>0.0</td>\n",
              "      <td>1.191857</td>\n",
              "      <td>0.266151</td>\n",
              "      <td>0.166480</td>\n",
              "      <td>0.448154</td>\n",
              "      <td>0.060018</td>\n",
              "      <td>-0.082361</td>\n",
              "      <td>-0.078803</td>\n",
              "      <td>0.085102</td>\n",
              "      <td>-0.255425</td>\n",
              "      <td>-0.166974</td>\n",
              "      <td>1.612727</td>\n",
              "      <td>1.065235</td>\n",
              "      <td>0.489095</td>\n",
              "      <td>-0.143772</td>\n",
              "      <td>0.635558</td>\n",
              "      <td>0.463917</td>\n",
              "      <td>-0.114805</td>\n",
              "      <td>-0.183361</td>\n",
              "      <td>-0.145783</td>\n",
              "      <td>-0.069083</td>\n",
              "      <td>-0.225775</td>\n",
              "      <td>-0.638672</td>\n",
              "      <td>0.101288</td>\n",
              "      <td>-0.339846</td>\n",
              "      <td>0.167170</td>\n",
              "      <td>0.125895</td>\n",
              "      <td>-0.008983</td>\n",
              "      <td>0.014724</td>\n",
              "      <td>2.69</td>\n",
              "      <td>0</td>\n",
              "    </tr>\n",
              "    <tr>\n",
              "      <th>2</th>\n",
              "      <td>1.0</td>\n",
              "      <td>-1.358354</td>\n",
              "      <td>-1.340163</td>\n",
              "      <td>1.773209</td>\n",
              "      <td>0.379780</td>\n",
              "      <td>-0.503198</td>\n",
              "      <td>1.800499</td>\n",
              "      <td>0.791461</td>\n",
              "      <td>0.247676</td>\n",
              "      <td>-1.514654</td>\n",
              "      <td>0.207643</td>\n",
              "      <td>0.624501</td>\n",
              "      <td>0.066084</td>\n",
              "      <td>0.717293</td>\n",
              "      <td>-0.165946</td>\n",
              "      <td>2.345865</td>\n",
              "      <td>-2.890083</td>\n",
              "      <td>1.109969</td>\n",
              "      <td>-0.121359</td>\n",
              "      <td>-2.261857</td>\n",
              "      <td>0.524980</td>\n",
              "      <td>0.247998</td>\n",
              "      <td>0.771679</td>\n",
              "      <td>0.909412</td>\n",
              "      <td>-0.689281</td>\n",
              "      <td>-0.327642</td>\n",
              "      <td>-0.139097</td>\n",
              "      <td>-0.055353</td>\n",
              "      <td>-0.059752</td>\n",
              "      <td>378.66</td>\n",
              "      <td>0</td>\n",
              "    </tr>\n",
              "    <tr>\n",
              "      <th>3</th>\n",
              "      <td>1.0</td>\n",
              "      <td>-0.966272</td>\n",
              "      <td>-0.185226</td>\n",
              "      <td>1.792993</td>\n",
              "      <td>-0.863291</td>\n",
              "      <td>-0.010309</td>\n",
              "      <td>1.247203</td>\n",
              "      <td>0.237609</td>\n",
              "      <td>0.377436</td>\n",
              "      <td>-1.387024</td>\n",
              "      <td>-0.054952</td>\n",
              "      <td>-0.226487</td>\n",
              "      <td>0.178228</td>\n",
              "      <td>0.507757</td>\n",
              "      <td>-0.287924</td>\n",
              "      <td>-0.631418</td>\n",
              "      <td>-1.059647</td>\n",
              "      <td>-0.684093</td>\n",
              "      <td>1.965775</td>\n",
              "      <td>-1.232622</td>\n",
              "      <td>-0.208038</td>\n",
              "      <td>-0.108300</td>\n",
              "      <td>0.005274</td>\n",
              "      <td>-0.190321</td>\n",
              "      <td>-1.175575</td>\n",
              "      <td>0.647376</td>\n",
              "      <td>-0.221929</td>\n",
              "      <td>0.062723</td>\n",
              "      <td>0.061458</td>\n",
              "      <td>123.50</td>\n",
              "      <td>0</td>\n",
              "    </tr>\n",
              "    <tr>\n",
              "      <th>4</th>\n",
              "      <td>2.0</td>\n",
              "      <td>-1.158233</td>\n",
              "      <td>0.877737</td>\n",
              "      <td>1.548718</td>\n",
              "      <td>0.403034</td>\n",
              "      <td>-0.407193</td>\n",
              "      <td>0.095921</td>\n",
              "      <td>0.592941</td>\n",
              "      <td>-0.270533</td>\n",
              "      <td>0.817739</td>\n",
              "      <td>0.753074</td>\n",
              "      <td>-0.822843</td>\n",
              "      <td>0.538196</td>\n",
              "      <td>1.345852</td>\n",
              "      <td>-1.119670</td>\n",
              "      <td>0.175121</td>\n",
              "      <td>-0.451449</td>\n",
              "      <td>-0.237033</td>\n",
              "      <td>-0.038195</td>\n",
              "      <td>0.803487</td>\n",
              "      <td>0.408542</td>\n",
              "      <td>-0.009431</td>\n",
              "      <td>0.798278</td>\n",
              "      <td>-0.137458</td>\n",
              "      <td>0.141267</td>\n",
              "      <td>-0.206010</td>\n",
              "      <td>0.502292</td>\n",
              "      <td>0.219422</td>\n",
              "      <td>0.215153</td>\n",
              "      <td>69.99</td>\n",
              "      <td>0</td>\n",
              "    </tr>\n",
              "  </tbody>\n",
              "</table>\n",
              "</div>"
            ],
            "text/plain": [
              "   Time        V1        V2        V3  ...       V27       V28  Amount  Class\n",
              "0   0.0 -1.359807 -0.072781  2.536347  ...  0.133558 -0.021053  149.62      0\n",
              "1   0.0  1.191857  0.266151  0.166480  ... -0.008983  0.014724    2.69      0\n",
              "2   1.0 -1.358354 -1.340163  1.773209  ... -0.055353 -0.059752  378.66      0\n",
              "3   1.0 -0.966272 -0.185226  1.792993  ...  0.062723  0.061458  123.50      0\n",
              "4   2.0 -1.158233  0.877737  1.548718  ...  0.219422  0.215153   69.99      0\n",
              "\n",
              "[5 rows x 31 columns]"
            ]
          },
          "metadata": {
            "tags": []
          },
          "execution_count": 39
        }
      ]
    },
    {
      "cell_type": "markdown",
      "metadata": {
        "id": "w7jDIwMPOrus"
      },
      "source": [
        "- Removemos os registros que apresentam features com valores faltantes\n",
        "- Removemos a feature \"time\" por achar que a mesma não é relevante para predizer se uma transação é ou não fraudulenta"
      ]
    },
    {
      "cell_type": "code",
      "metadata": {
        "colab": {
          "base_uri": "https://localhost:8080/",
          "height": 241
        },
        "id": "CfTeMAhsg_MW",
        "outputId": "6c25a120-9238-4ba9-b657-a6fcc93dcbfe"
      },
      "source": [
        "df = data.dropna()\n",
        "df = df.drop(columns=\"Time\")\n",
        "df['ID']= np.arange(1,len(df.Class)+1)\n",
        "print('Quantidade de linhas do dataset sem valor Null/NaN/NaT {}'.format(df.shape[0]))\n",
        "df.head()"
      ],
      "execution_count": 40,
      "outputs": [
        {
          "output_type": "stream",
          "text": [
            "Quantidade de linhas do dataset sem valor Null/NaN/NaT 284807\n"
          ],
          "name": "stdout"
        },
        {
          "output_type": "execute_result",
          "data": {
            "text/html": [
              "<div>\n",
              "<style scoped>\n",
              "    .dataframe tbody tr th:only-of-type {\n",
              "        vertical-align: middle;\n",
              "    }\n",
              "\n",
              "    .dataframe tbody tr th {\n",
              "        vertical-align: top;\n",
              "    }\n",
              "\n",
              "    .dataframe thead th {\n",
              "        text-align: right;\n",
              "    }\n",
              "</style>\n",
              "<table border=\"1\" class=\"dataframe\">\n",
              "  <thead>\n",
              "    <tr style=\"text-align: right;\">\n",
              "      <th></th>\n",
              "      <th>V1</th>\n",
              "      <th>V2</th>\n",
              "      <th>V3</th>\n",
              "      <th>V4</th>\n",
              "      <th>V5</th>\n",
              "      <th>V6</th>\n",
              "      <th>V7</th>\n",
              "      <th>V8</th>\n",
              "      <th>V9</th>\n",
              "      <th>V10</th>\n",
              "      <th>V11</th>\n",
              "      <th>V12</th>\n",
              "      <th>V13</th>\n",
              "      <th>V14</th>\n",
              "      <th>V15</th>\n",
              "      <th>V16</th>\n",
              "      <th>V17</th>\n",
              "      <th>V18</th>\n",
              "      <th>V19</th>\n",
              "      <th>V20</th>\n",
              "      <th>V21</th>\n",
              "      <th>V22</th>\n",
              "      <th>V23</th>\n",
              "      <th>V24</th>\n",
              "      <th>V25</th>\n",
              "      <th>V26</th>\n",
              "      <th>V27</th>\n",
              "      <th>V28</th>\n",
              "      <th>Amount</th>\n",
              "      <th>Class</th>\n",
              "      <th>ID</th>\n",
              "    </tr>\n",
              "  </thead>\n",
              "  <tbody>\n",
              "    <tr>\n",
              "      <th>0</th>\n",
              "      <td>-1.359807</td>\n",
              "      <td>-0.072781</td>\n",
              "      <td>2.536347</td>\n",
              "      <td>1.378155</td>\n",
              "      <td>-0.338321</td>\n",
              "      <td>0.462388</td>\n",
              "      <td>0.239599</td>\n",
              "      <td>0.098698</td>\n",
              "      <td>0.363787</td>\n",
              "      <td>0.090794</td>\n",
              "      <td>-0.551600</td>\n",
              "      <td>-0.617801</td>\n",
              "      <td>-0.991390</td>\n",
              "      <td>-0.311169</td>\n",
              "      <td>1.468177</td>\n",
              "      <td>-0.470401</td>\n",
              "      <td>0.207971</td>\n",
              "      <td>0.025791</td>\n",
              "      <td>0.403993</td>\n",
              "      <td>0.251412</td>\n",
              "      <td>-0.018307</td>\n",
              "      <td>0.277838</td>\n",
              "      <td>-0.110474</td>\n",
              "      <td>0.066928</td>\n",
              "      <td>0.128539</td>\n",
              "      <td>-0.189115</td>\n",
              "      <td>0.133558</td>\n",
              "      <td>-0.021053</td>\n",
              "      <td>149.62</td>\n",
              "      <td>0</td>\n",
              "      <td>1</td>\n",
              "    </tr>\n",
              "    <tr>\n",
              "      <th>1</th>\n",
              "      <td>1.191857</td>\n",
              "      <td>0.266151</td>\n",
              "      <td>0.166480</td>\n",
              "      <td>0.448154</td>\n",
              "      <td>0.060018</td>\n",
              "      <td>-0.082361</td>\n",
              "      <td>-0.078803</td>\n",
              "      <td>0.085102</td>\n",
              "      <td>-0.255425</td>\n",
              "      <td>-0.166974</td>\n",
              "      <td>1.612727</td>\n",
              "      <td>1.065235</td>\n",
              "      <td>0.489095</td>\n",
              "      <td>-0.143772</td>\n",
              "      <td>0.635558</td>\n",
              "      <td>0.463917</td>\n",
              "      <td>-0.114805</td>\n",
              "      <td>-0.183361</td>\n",
              "      <td>-0.145783</td>\n",
              "      <td>-0.069083</td>\n",
              "      <td>-0.225775</td>\n",
              "      <td>-0.638672</td>\n",
              "      <td>0.101288</td>\n",
              "      <td>-0.339846</td>\n",
              "      <td>0.167170</td>\n",
              "      <td>0.125895</td>\n",
              "      <td>-0.008983</td>\n",
              "      <td>0.014724</td>\n",
              "      <td>2.69</td>\n",
              "      <td>0</td>\n",
              "      <td>2</td>\n",
              "    </tr>\n",
              "    <tr>\n",
              "      <th>2</th>\n",
              "      <td>-1.358354</td>\n",
              "      <td>-1.340163</td>\n",
              "      <td>1.773209</td>\n",
              "      <td>0.379780</td>\n",
              "      <td>-0.503198</td>\n",
              "      <td>1.800499</td>\n",
              "      <td>0.791461</td>\n",
              "      <td>0.247676</td>\n",
              "      <td>-1.514654</td>\n",
              "      <td>0.207643</td>\n",
              "      <td>0.624501</td>\n",
              "      <td>0.066084</td>\n",
              "      <td>0.717293</td>\n",
              "      <td>-0.165946</td>\n",
              "      <td>2.345865</td>\n",
              "      <td>-2.890083</td>\n",
              "      <td>1.109969</td>\n",
              "      <td>-0.121359</td>\n",
              "      <td>-2.261857</td>\n",
              "      <td>0.524980</td>\n",
              "      <td>0.247998</td>\n",
              "      <td>0.771679</td>\n",
              "      <td>0.909412</td>\n",
              "      <td>-0.689281</td>\n",
              "      <td>-0.327642</td>\n",
              "      <td>-0.139097</td>\n",
              "      <td>-0.055353</td>\n",
              "      <td>-0.059752</td>\n",
              "      <td>378.66</td>\n",
              "      <td>0</td>\n",
              "      <td>3</td>\n",
              "    </tr>\n",
              "    <tr>\n",
              "      <th>3</th>\n",
              "      <td>-0.966272</td>\n",
              "      <td>-0.185226</td>\n",
              "      <td>1.792993</td>\n",
              "      <td>-0.863291</td>\n",
              "      <td>-0.010309</td>\n",
              "      <td>1.247203</td>\n",
              "      <td>0.237609</td>\n",
              "      <td>0.377436</td>\n",
              "      <td>-1.387024</td>\n",
              "      <td>-0.054952</td>\n",
              "      <td>-0.226487</td>\n",
              "      <td>0.178228</td>\n",
              "      <td>0.507757</td>\n",
              "      <td>-0.287924</td>\n",
              "      <td>-0.631418</td>\n",
              "      <td>-1.059647</td>\n",
              "      <td>-0.684093</td>\n",
              "      <td>1.965775</td>\n",
              "      <td>-1.232622</td>\n",
              "      <td>-0.208038</td>\n",
              "      <td>-0.108300</td>\n",
              "      <td>0.005274</td>\n",
              "      <td>-0.190321</td>\n",
              "      <td>-1.175575</td>\n",
              "      <td>0.647376</td>\n",
              "      <td>-0.221929</td>\n",
              "      <td>0.062723</td>\n",
              "      <td>0.061458</td>\n",
              "      <td>123.50</td>\n",
              "      <td>0</td>\n",
              "      <td>4</td>\n",
              "    </tr>\n",
              "    <tr>\n",
              "      <th>4</th>\n",
              "      <td>-1.158233</td>\n",
              "      <td>0.877737</td>\n",
              "      <td>1.548718</td>\n",
              "      <td>0.403034</td>\n",
              "      <td>-0.407193</td>\n",
              "      <td>0.095921</td>\n",
              "      <td>0.592941</td>\n",
              "      <td>-0.270533</td>\n",
              "      <td>0.817739</td>\n",
              "      <td>0.753074</td>\n",
              "      <td>-0.822843</td>\n",
              "      <td>0.538196</td>\n",
              "      <td>1.345852</td>\n",
              "      <td>-1.119670</td>\n",
              "      <td>0.175121</td>\n",
              "      <td>-0.451449</td>\n",
              "      <td>-0.237033</td>\n",
              "      <td>-0.038195</td>\n",
              "      <td>0.803487</td>\n",
              "      <td>0.408542</td>\n",
              "      <td>-0.009431</td>\n",
              "      <td>0.798278</td>\n",
              "      <td>-0.137458</td>\n",
              "      <td>0.141267</td>\n",
              "      <td>-0.206010</td>\n",
              "      <td>0.502292</td>\n",
              "      <td>0.219422</td>\n",
              "      <td>0.215153</td>\n",
              "      <td>69.99</td>\n",
              "      <td>0</td>\n",
              "      <td>5</td>\n",
              "    </tr>\n",
              "  </tbody>\n",
              "</table>\n",
              "</div>"
            ],
            "text/plain": [
              "         V1        V2        V3        V4  ...       V28  Amount  Class  ID\n",
              "0 -1.359807 -0.072781  2.536347  1.378155  ... -0.021053  149.62      0   1\n",
              "1  1.191857  0.266151  0.166480  0.448154  ...  0.014724    2.69      0   2\n",
              "2 -1.358354 -1.340163  1.773209  0.379780  ... -0.059752  378.66      0   3\n",
              "3 -0.966272 -0.185226  1.792993 -0.863291  ...  0.061458  123.50      0   4\n",
              "4 -1.158233  0.877737  1.548718  0.403034  ...  0.215153   69.99      0   5\n",
              "\n",
              "[5 rows x 31 columns]"
            ]
          },
          "metadata": {
            "tags": []
          },
          "execution_count": 40
        }
      ]
    },
    {
      "cell_type": "markdown",
      "metadata": {
        "id": "TqCDFMkhQM_E"
      },
      "source": [
        "Particionamos o dataset de entrada em 80% para o conjunto de treino e 20% para o conjunto de teste."
      ]
    },
    {
      "cell_type": "code",
      "metadata": {
        "colab": {
          "base_uri": "https://localhost:8080/"
        },
        "id": "GcqF7KN6igzQ",
        "outputId": "510bee01-d9d1-40dd-994b-4f846d52e050"
      },
      "source": [
        "x_train,  x_test, y_train, y_test = train_test_split(df.drop(['ID', 'Class'], axis=1), df['Class'], test_size=0.20, random_state = 0)\n",
        "print('Dados de treino {}\\n'.format(x_train.shape))\n",
        "print('Dados de teste  {}\\n'.format(x_test.shape))"
      ],
      "execution_count": 41,
      "outputs": [
        {
          "output_type": "stream",
          "text": [
            "Dados de treino (227845, 29)\n",
            "\n",
            "Dados de teste  (56962, 29)\n",
            "\n"
          ],
          "name": "stdout"
        }
      ]
    },
    {
      "cell_type": "code",
      "metadata": {
        "id": "OLscTbRRBcLL"
      },
      "source": [
        "df_train = x_train.copy()\n",
        "df_train['Class'] = y_train\n",
        "df_test = x_test.copy()\n",
        "df_test['Class'] = y_test"
      ],
      "execution_count": 42,
      "outputs": []
    },
    {
      "cell_type": "markdown",
      "metadata": {
        "id": "5wEvSRSBQd4f"
      },
      "source": [
        "Descrição estatística do conjunto de treino"
      ]
    },
    {
      "cell_type": "code",
      "metadata": {
        "colab": {
          "base_uri": "https://localhost:8080/",
          "height": 317
        },
        "id": "1gaKurr2lN-V",
        "outputId": "c8d75992-f5eb-4e37-c4f6-f7cce4f65b29"
      },
      "source": [
        "df_train.describe()"
      ],
      "execution_count": 43,
      "outputs": [
        {
          "output_type": "execute_result",
          "data": {
            "text/html": [
              "<div>\n",
              "<style scoped>\n",
              "    .dataframe tbody tr th:only-of-type {\n",
              "        vertical-align: middle;\n",
              "    }\n",
              "\n",
              "    .dataframe tbody tr th {\n",
              "        vertical-align: top;\n",
              "    }\n",
              "\n",
              "    .dataframe thead th {\n",
              "        text-align: right;\n",
              "    }\n",
              "</style>\n",
              "<table border=\"1\" class=\"dataframe\">\n",
              "  <thead>\n",
              "    <tr style=\"text-align: right;\">\n",
              "      <th></th>\n",
              "      <th>V1</th>\n",
              "      <th>V2</th>\n",
              "      <th>V3</th>\n",
              "      <th>V4</th>\n",
              "      <th>V5</th>\n",
              "      <th>V6</th>\n",
              "      <th>V7</th>\n",
              "      <th>V8</th>\n",
              "      <th>V9</th>\n",
              "      <th>V10</th>\n",
              "      <th>V11</th>\n",
              "      <th>V12</th>\n",
              "      <th>V13</th>\n",
              "      <th>V14</th>\n",
              "      <th>V15</th>\n",
              "      <th>V16</th>\n",
              "      <th>V17</th>\n",
              "      <th>V18</th>\n",
              "      <th>V19</th>\n",
              "      <th>V20</th>\n",
              "      <th>V21</th>\n",
              "      <th>V22</th>\n",
              "      <th>V23</th>\n",
              "      <th>V24</th>\n",
              "      <th>V25</th>\n",
              "      <th>V26</th>\n",
              "      <th>V27</th>\n",
              "      <th>V28</th>\n",
              "      <th>Amount</th>\n",
              "      <th>Class</th>\n",
              "    </tr>\n",
              "  </thead>\n",
              "  <tbody>\n",
              "    <tr>\n",
              "      <th>count</th>\n",
              "      <td>227845.000000</td>\n",
              "      <td>227845.000000</td>\n",
              "      <td>227845.000000</td>\n",
              "      <td>227845.000000</td>\n",
              "      <td>227845.000000</td>\n",
              "      <td>227845.000000</td>\n",
              "      <td>227845.000000</td>\n",
              "      <td>227845.000000</td>\n",
              "      <td>227845.000000</td>\n",
              "      <td>227845.000000</td>\n",
              "      <td>227845.000000</td>\n",
              "      <td>227845.000000</td>\n",
              "      <td>227845.000000</td>\n",
              "      <td>227845.000000</td>\n",
              "      <td>227845.000000</td>\n",
              "      <td>227845.000000</td>\n",
              "      <td>227845.000000</td>\n",
              "      <td>227845.000000</td>\n",
              "      <td>227845.000000</td>\n",
              "      <td>227845.000000</td>\n",
              "      <td>227845.000000</td>\n",
              "      <td>227845.000000</td>\n",
              "      <td>227845.000000</td>\n",
              "      <td>227845.000000</td>\n",
              "      <td>227845.000000</td>\n",
              "      <td>227845.000000</td>\n",
              "      <td>227845.000000</td>\n",
              "      <td>227845.000000</td>\n",
              "      <td>227845.000000</td>\n",
              "      <td>227845.000000</td>\n",
              "    </tr>\n",
              "    <tr>\n",
              "      <th>mean</th>\n",
              "      <td>0.002930</td>\n",
              "      <td>-0.000877</td>\n",
              "      <td>-0.001470</td>\n",
              "      <td>0.001131</td>\n",
              "      <td>-0.001714</td>\n",
              "      <td>-0.001035</td>\n",
              "      <td>-0.000411</td>\n",
              "      <td>-0.001360</td>\n",
              "      <td>-0.000018</td>\n",
              "      <td>0.001496</td>\n",
              "      <td>-0.000732</td>\n",
              "      <td>-0.000990</td>\n",
              "      <td>0.000816</td>\n",
              "      <td>0.000992</td>\n",
              "      <td>0.000608</td>\n",
              "      <td>-0.000131</td>\n",
              "      <td>0.000657</td>\n",
              "      <td>-0.000735</td>\n",
              "      <td>0.000312</td>\n",
              "      <td>0.001775</td>\n",
              "      <td>0.000266</td>\n",
              "      <td>0.000300</td>\n",
              "      <td>-0.000276</td>\n",
              "      <td>0.000687</td>\n",
              "      <td>0.000192</td>\n",
              "      <td>-0.000584</td>\n",
              "      <td>-0.000574</td>\n",
              "      <td>-0.000135</td>\n",
              "      <td>88.630203</td>\n",
              "      <td>0.001716</td>\n",
              "    </tr>\n",
              "    <tr>\n",
              "      <th>std</th>\n",
              "      <td>1.955265</td>\n",
              "      <td>1.649672</td>\n",
              "      <td>1.515055</td>\n",
              "      <td>1.416360</td>\n",
              "      <td>1.365962</td>\n",
              "      <td>1.326404</td>\n",
              "      <td>1.225317</td>\n",
              "      <td>1.205508</td>\n",
              "      <td>1.099972</td>\n",
              "      <td>1.091091</td>\n",
              "      <td>1.019688</td>\n",
              "      <td>0.997871</td>\n",
              "      <td>0.997318</td>\n",
              "      <td>0.956432</td>\n",
              "      <td>0.915323</td>\n",
              "      <td>0.875836</td>\n",
              "      <td>0.850158</td>\n",
              "      <td>0.837698</td>\n",
              "      <td>0.815065</td>\n",
              "      <td>0.764878</td>\n",
              "      <td>0.737593</td>\n",
              "      <td>0.726705</td>\n",
              "      <td>0.623074</td>\n",
              "      <td>0.605268</td>\n",
              "      <td>0.520835</td>\n",
              "      <td>0.481943</td>\n",
              "      <td>0.401394</td>\n",
              "      <td>0.320750</td>\n",
              "      <td>248.037789</td>\n",
              "      <td>0.041390</td>\n",
              "    </tr>\n",
              "    <tr>\n",
              "      <th>min</th>\n",
              "      <td>-46.855047</td>\n",
              "      <td>-63.344698</td>\n",
              "      <td>-33.680984</td>\n",
              "      <td>-5.683171</td>\n",
              "      <td>-42.147898</td>\n",
              "      <td>-23.496714</td>\n",
              "      <td>-43.557242</td>\n",
              "      <td>-73.216718</td>\n",
              "      <td>-13.434066</td>\n",
              "      <td>-24.588262</td>\n",
              "      <td>-4.797473</td>\n",
              "      <td>-18.553697</td>\n",
              "      <td>-5.791881</td>\n",
              "      <td>-19.214325</td>\n",
              "      <td>-4.498945</td>\n",
              "      <td>-14.129855</td>\n",
              "      <td>-25.162799</td>\n",
              "      <td>-9.498746</td>\n",
              "      <td>-7.213527</td>\n",
              "      <td>-23.646890</td>\n",
              "      <td>-34.830382</td>\n",
              "      <td>-10.933144</td>\n",
              "      <td>-44.807735</td>\n",
              "      <td>-2.822684</td>\n",
              "      <td>-10.295397</td>\n",
              "      <td>-2.604551</td>\n",
              "      <td>-22.565679</td>\n",
              "      <td>-11.710896</td>\n",
              "      <td>0.000000</td>\n",
              "      <td>0.000000</td>\n",
              "    </tr>\n",
              "    <tr>\n",
              "      <th>25%</th>\n",
              "      <td>-0.919898</td>\n",
              "      <td>-0.599013</td>\n",
              "      <td>-0.894424</td>\n",
              "      <td>-0.847412</td>\n",
              "      <td>-0.693585</td>\n",
              "      <td>-0.769201</td>\n",
              "      <td>-0.553573</td>\n",
              "      <td>-0.209145</td>\n",
              "      <td>-0.644499</td>\n",
              "      <td>-0.534165</td>\n",
              "      <td>-0.763115</td>\n",
              "      <td>-0.407805</td>\n",
              "      <td>-0.649363</td>\n",
              "      <td>-0.424852</td>\n",
              "      <td>-0.583393</td>\n",
              "      <td>-0.468316</td>\n",
              "      <td>-0.483629</td>\n",
              "      <td>-0.499053</td>\n",
              "      <td>-0.456435</td>\n",
              "      <td>-0.211511</td>\n",
              "      <td>-0.228658</td>\n",
              "      <td>-0.543193</td>\n",
              "      <td>-0.161766</td>\n",
              "      <td>-0.354153</td>\n",
              "      <td>-0.316644</td>\n",
              "      <td>-0.327647</td>\n",
              "      <td>-0.070776</td>\n",
              "      <td>-0.052865</td>\n",
              "      <td>5.690000</td>\n",
              "      <td>0.000000</td>\n",
              "    </tr>\n",
              "    <tr>\n",
              "      <th>50%</th>\n",
              "      <td>0.021886</td>\n",
              "      <td>0.063972</td>\n",
              "      <td>0.177138</td>\n",
              "      <td>-0.017538</td>\n",
              "      <td>-0.055515</td>\n",
              "      <td>-0.274916</td>\n",
              "      <td>0.039988</td>\n",
              "      <td>0.021545</td>\n",
              "      <td>-0.050353</td>\n",
              "      <td>-0.091912</td>\n",
              "      <td>-0.033716</td>\n",
              "      <td>0.139185</td>\n",
              "      <td>-0.013345</td>\n",
              "      <td>0.050754</td>\n",
              "      <td>0.049506</td>\n",
              "      <td>0.066979</td>\n",
              "      <td>-0.065926</td>\n",
              "      <td>-0.004297</td>\n",
              "      <td>0.004283</td>\n",
              "      <td>-0.062430</td>\n",
              "      <td>-0.028974</td>\n",
              "      <td>0.006970</td>\n",
              "      <td>-0.010914</td>\n",
              "      <td>0.041164</td>\n",
              "      <td>0.017429</td>\n",
              "      <td>-0.052443</td>\n",
              "      <td>0.001091</td>\n",
              "      <td>0.011171</td>\n",
              "      <td>22.000000</td>\n",
              "      <td>0.000000</td>\n",
              "    </tr>\n",
              "    <tr>\n",
              "      <th>75%</th>\n",
              "      <td>1.316871</td>\n",
              "      <td>0.802516</td>\n",
              "      <td>1.026049</td>\n",
              "      <td>0.744471</td>\n",
              "      <td>0.610153</td>\n",
              "      <td>0.397215</td>\n",
              "      <td>0.569938</td>\n",
              "      <td>0.325849</td>\n",
              "      <td>0.597788</td>\n",
              "      <td>0.457121</td>\n",
              "      <td>0.739265</td>\n",
              "      <td>0.618081</td>\n",
              "      <td>0.664465</td>\n",
              "      <td>0.493876</td>\n",
              "      <td>0.649587</td>\n",
              "      <td>0.522822</td>\n",
              "      <td>0.400096</td>\n",
              "      <td>0.499689</td>\n",
              "      <td>0.459840</td>\n",
              "      <td>0.133394</td>\n",
              "      <td>0.187107</td>\n",
              "      <td>0.529867</td>\n",
              "      <td>0.147642</td>\n",
              "      <td>0.439916</td>\n",
              "      <td>0.350742</td>\n",
              "      <td>0.240840</td>\n",
              "      <td>0.090529</td>\n",
              "      <td>0.078142</td>\n",
              "      <td>77.600000</td>\n",
              "      <td>0.000000</td>\n",
              "    </tr>\n",
              "    <tr>\n",
              "      <th>max</th>\n",
              "      <td>2.451888</td>\n",
              "      <td>22.057729</td>\n",
              "      <td>9.382558</td>\n",
              "      <td>16.875344</td>\n",
              "      <td>34.099309</td>\n",
              "      <td>23.917837</td>\n",
              "      <td>44.054461</td>\n",
              "      <td>20.007208</td>\n",
              "      <td>15.594995</td>\n",
              "      <td>23.745136</td>\n",
              "      <td>12.018913</td>\n",
              "      <td>7.848392</td>\n",
              "      <td>4.569009</td>\n",
              "      <td>10.526766</td>\n",
              "      <td>5.825654</td>\n",
              "      <td>7.059132</td>\n",
              "      <td>9.207059</td>\n",
              "      <td>5.041069</td>\n",
              "      <td>5.572113</td>\n",
              "      <td>39.420904</td>\n",
              "      <td>27.202839</td>\n",
              "      <td>10.503090</td>\n",
              "      <td>22.528412</td>\n",
              "      <td>4.022866</td>\n",
              "      <td>7.519589</td>\n",
              "      <td>3.463246</td>\n",
              "      <td>12.152401</td>\n",
              "      <td>22.620072</td>\n",
              "      <td>19656.530000</td>\n",
              "      <td>1.000000</td>\n",
              "    </tr>\n",
              "  </tbody>\n",
              "</table>\n",
              "</div>"
            ],
            "text/plain": [
              "                  V1             V2  ...         Amount          Class\n",
              "count  227845.000000  227845.000000  ...  227845.000000  227845.000000\n",
              "mean        0.002930      -0.000877  ...      88.630203       0.001716\n",
              "std         1.955265       1.649672  ...     248.037789       0.041390\n",
              "min       -46.855047     -63.344698  ...       0.000000       0.000000\n",
              "25%        -0.919898      -0.599013  ...       5.690000       0.000000\n",
              "50%         0.021886       0.063972  ...      22.000000       0.000000\n",
              "75%         1.316871       0.802516  ...      77.600000       0.000000\n",
              "max         2.451888      22.057729  ...   19656.530000       1.000000\n",
              "\n",
              "[8 rows x 30 columns]"
            ]
          },
          "metadata": {
            "tags": []
          },
          "execution_count": 43
        }
      ]
    },
    {
      "cell_type": "markdown",
      "metadata": {
        "id": "-PTYipQtQoAB"
      },
      "source": [
        "Descrição estatística do conjunto de teste"
      ]
    },
    {
      "cell_type": "code",
      "metadata": {
        "colab": {
          "base_uri": "https://localhost:8080/",
          "height": 317
        },
        "id": "1VR9euGZlQgg",
        "outputId": "b1987be0-41ae-4a07-bf4a-f85f38fb1f6e"
      },
      "source": [
        "df_test.describe()"
      ],
      "execution_count": 44,
      "outputs": [
        {
          "output_type": "execute_result",
          "data": {
            "text/html": [
              "<div>\n",
              "<style scoped>\n",
              "    .dataframe tbody tr th:only-of-type {\n",
              "        vertical-align: middle;\n",
              "    }\n",
              "\n",
              "    .dataframe tbody tr th {\n",
              "        vertical-align: top;\n",
              "    }\n",
              "\n",
              "    .dataframe thead th {\n",
              "        text-align: right;\n",
              "    }\n",
              "</style>\n",
              "<table border=\"1\" class=\"dataframe\">\n",
              "  <thead>\n",
              "    <tr style=\"text-align: right;\">\n",
              "      <th></th>\n",
              "      <th>V1</th>\n",
              "      <th>V2</th>\n",
              "      <th>V3</th>\n",
              "      <th>V4</th>\n",
              "      <th>V5</th>\n",
              "      <th>V6</th>\n",
              "      <th>V7</th>\n",
              "      <th>V8</th>\n",
              "      <th>V9</th>\n",
              "      <th>V10</th>\n",
              "      <th>V11</th>\n",
              "      <th>V12</th>\n",
              "      <th>V13</th>\n",
              "      <th>V14</th>\n",
              "      <th>V15</th>\n",
              "      <th>V16</th>\n",
              "      <th>V17</th>\n",
              "      <th>V18</th>\n",
              "      <th>V19</th>\n",
              "      <th>V20</th>\n",
              "      <th>V21</th>\n",
              "      <th>V22</th>\n",
              "      <th>V23</th>\n",
              "      <th>V24</th>\n",
              "      <th>V25</th>\n",
              "      <th>V26</th>\n",
              "      <th>V27</th>\n",
              "      <th>V28</th>\n",
              "      <th>Amount</th>\n",
              "      <th>Class</th>\n",
              "    </tr>\n",
              "  </thead>\n",
              "  <tbody>\n",
              "    <tr>\n",
              "      <th>count</th>\n",
              "      <td>56962.000000</td>\n",
              "      <td>56962.000000</td>\n",
              "      <td>56962.000000</td>\n",
              "      <td>56962.000000</td>\n",
              "      <td>56962.000000</td>\n",
              "      <td>56962.000000</td>\n",
              "      <td>56962.000000</td>\n",
              "      <td>56962.000000</td>\n",
              "      <td>56962.000000</td>\n",
              "      <td>56962.000000</td>\n",
              "      <td>56962.000000</td>\n",
              "      <td>56962.000000</td>\n",
              "      <td>56962.000000</td>\n",
              "      <td>56962.000000</td>\n",
              "      <td>56962.000000</td>\n",
              "      <td>56962.000000</td>\n",
              "      <td>56962.000000</td>\n",
              "      <td>56962.000000</td>\n",
              "      <td>56962.000000</td>\n",
              "      <td>56962.000000</td>\n",
              "      <td>56962.000000</td>\n",
              "      <td>56962.000000</td>\n",
              "      <td>56962.000000</td>\n",
              "      <td>56962.000000</td>\n",
              "      <td>56962.000000</td>\n",
              "      <td>56962.000000</td>\n",
              "      <td>56962.000000</td>\n",
              "      <td>56962.000000</td>\n",
              "      <td>56962.000000</td>\n",
              "      <td>56962.000000</td>\n",
              "    </tr>\n",
              "    <tr>\n",
              "      <th>mean</th>\n",
              "      <td>-0.011720</td>\n",
              "      <td>0.003508</td>\n",
              "      <td>0.005881</td>\n",
              "      <td>-0.004524</td>\n",
              "      <td>0.006858</td>\n",
              "      <td>0.004139</td>\n",
              "      <td>0.001644</td>\n",
              "      <td>0.005440</td>\n",
              "      <td>0.000074</td>\n",
              "      <td>-0.005986</td>\n",
              "      <td>0.002927</td>\n",
              "      <td>0.003958</td>\n",
              "      <td>-0.003264</td>\n",
              "      <td>-0.003967</td>\n",
              "      <td>-0.002431</td>\n",
              "      <td>0.000523</td>\n",
              "      <td>-0.002629</td>\n",
              "      <td>0.002940</td>\n",
              "      <td>-0.001246</td>\n",
              "      <td>-0.007101</td>\n",
              "      <td>-0.001065</td>\n",
              "      <td>-0.001201</td>\n",
              "      <td>0.001104</td>\n",
              "      <td>-0.002750</td>\n",
              "      <td>-0.000767</td>\n",
              "      <td>0.002337</td>\n",
              "      <td>0.002295</td>\n",
              "      <td>0.000541</td>\n",
              "      <td>87.227297</td>\n",
              "      <td>0.001773</td>\n",
              "    </tr>\n",
              "    <tr>\n",
              "      <th>std</th>\n",
              "      <td>1.972334</td>\n",
              "      <td>1.657848</td>\n",
              "      <td>1.521044</td>\n",
              "      <td>1.413903</td>\n",
              "      <td>1.435957</td>\n",
              "      <td>1.355490</td>\n",
              "      <td>1.283130</td>\n",
              "      <td>1.148643</td>\n",
              "      <td>1.093268</td>\n",
              "      <td>1.079827</td>\n",
              "      <td>1.024805</td>\n",
              "      <td>1.004503</td>\n",
              "      <td>0.987058</td>\n",
              "      <td>0.967199</td>\n",
              "      <td>0.915292</td>\n",
              "      <td>0.877925</td>\n",
              "      <td>0.846048</td>\n",
              "      <td>0.840086</td>\n",
              "      <td>0.809937</td>\n",
              "      <td>0.794620</td>\n",
              "      <td>0.722125</td>\n",
              "      <td>0.721680</td>\n",
              "      <td>0.629978</td>\n",
              "      <td>0.607158</td>\n",
              "      <td>0.523049</td>\n",
              "      <td>0.483359</td>\n",
              "      <td>0.412459</td>\n",
              "      <td>0.365040</td>\n",
              "      <td>258.280642</td>\n",
              "      <td>0.042071</td>\n",
              "    </tr>\n",
              "    <tr>\n",
              "      <th>min</th>\n",
              "      <td>-56.407510</td>\n",
              "      <td>-72.715728</td>\n",
              "      <td>-48.325589</td>\n",
              "      <td>-5.600607</td>\n",
              "      <td>-113.743307</td>\n",
              "      <td>-26.160506</td>\n",
              "      <td>-23.189397</td>\n",
              "      <td>-50.943369</td>\n",
              "      <td>-8.630390</td>\n",
              "      <td>-17.141514</td>\n",
              "      <td>-4.568390</td>\n",
              "      <td>-18.683715</td>\n",
              "      <td>-3.835618</td>\n",
              "      <td>-18.049998</td>\n",
              "      <td>-4.391307</td>\n",
              "      <td>-13.303888</td>\n",
              "      <td>-22.883999</td>\n",
              "      <td>-9.287832</td>\n",
              "      <td>-4.353679</td>\n",
              "      <td>-54.497720</td>\n",
              "      <td>-22.665685</td>\n",
              "      <td>-8.483441</td>\n",
              "      <td>-32.828995</td>\n",
              "      <td>-2.836627</td>\n",
              "      <td>-8.696627</td>\n",
              "      <td>-1.855355</td>\n",
              "      <td>-8.878665</td>\n",
              "      <td>-15.430084</td>\n",
              "      <td>0.000000</td>\n",
              "      <td>0.000000</td>\n",
              "    </tr>\n",
              "    <tr>\n",
              "      <th>25%</th>\n",
              "      <td>-0.921972</td>\n",
              "      <td>-0.595792</td>\n",
              "      <td>-0.874649</td>\n",
              "      <td>-0.853267</td>\n",
              "      <td>-0.683487</td>\n",
              "      <td>-0.765653</td>\n",
              "      <td>-0.555542</td>\n",
              "      <td>-0.206208</td>\n",
              "      <td>-0.637058</td>\n",
              "      <td>-0.539031</td>\n",
              "      <td>-0.759576</td>\n",
              "      <td>-0.396268</td>\n",
              "      <td>-0.643496</td>\n",
              "      <td>-0.428579</td>\n",
              "      <td>-0.580244</td>\n",
              "      <td>-0.467537</td>\n",
              "      <td>-0.484584</td>\n",
              "      <td>-0.494712</td>\n",
              "      <td>-0.455365</td>\n",
              "      <td>-0.212744</td>\n",
              "      <td>-0.227182</td>\n",
              "      <td>-0.538917</td>\n",
              "      <td>-0.162292</td>\n",
              "      <td>-0.356309</td>\n",
              "      <td>-0.319498</td>\n",
              "      <td>-0.324004</td>\n",
              "      <td>-0.071012</td>\n",
              "      <td>-0.053511</td>\n",
              "      <td>5.460000</td>\n",
              "      <td>0.000000</td>\n",
              "    </tr>\n",
              "    <tr>\n",
              "      <th>50%</th>\n",
              "      <td>-0.002761</td>\n",
              "      <td>0.072712</td>\n",
              "      <td>0.191364</td>\n",
              "      <td>-0.028170</td>\n",
              "      <td>-0.050472</td>\n",
              "      <td>-0.271310</td>\n",
              "      <td>0.040576</td>\n",
              "      <td>0.025516</td>\n",
              "      <td>-0.053689</td>\n",
              "      <td>-0.097007</td>\n",
              "      <td>-0.028609</td>\n",
              "      <td>0.143534</td>\n",
              "      <td>-0.014759</td>\n",
              "      <td>0.049965</td>\n",
              "      <td>0.041602</td>\n",
              "      <td>0.063724</td>\n",
              "      <td>-0.064384</td>\n",
              "      <td>-0.001115</td>\n",
              "      <td>0.002028</td>\n",
              "      <td>-0.062617</td>\n",
              "      <td>-0.031747</td>\n",
              "      <td>0.006132</td>\n",
              "      <td>-0.012237</td>\n",
              "      <td>0.040072</td>\n",
              "      <td>0.013137</td>\n",
              "      <td>-0.050965</td>\n",
              "      <td>0.002251</td>\n",
              "      <td>0.011521</td>\n",
              "      <td>21.940000</td>\n",
              "      <td>0.000000</td>\n",
              "    </tr>\n",
              "    <tr>\n",
              "      <th>75%</th>\n",
              "      <td>1.309289</td>\n",
              "      <td>0.809015</td>\n",
              "      <td>1.031690</td>\n",
              "      <td>0.739049</td>\n",
              "      <td>0.619408</td>\n",
              "      <td>0.403661</td>\n",
              "      <td>0.572788</td>\n",
              "      <td>0.332808</td>\n",
              "      <td>0.594146</td>\n",
              "      <td>0.440694</td>\n",
              "      <td>0.741010</td>\n",
              "      <td>0.618570</td>\n",
              "      <td>0.652610</td>\n",
              "      <td>0.491192</td>\n",
              "      <td>0.645804</td>\n",
              "      <td>0.524908</td>\n",
              "      <td>0.397842</td>\n",
              "      <td>0.505740</td>\n",
              "      <td>0.454977</td>\n",
              "      <td>0.131808</td>\n",
              "      <td>0.183874</td>\n",
              "      <td>0.524395</td>\n",
              "      <td>0.147643</td>\n",
              "      <td>0.438394</td>\n",
              "      <td>0.350657</td>\n",
              "      <td>0.241285</td>\n",
              "      <td>0.093085</td>\n",
              "      <td>0.078844</td>\n",
              "      <td>76.000000</td>\n",
              "      <td>0.000000</td>\n",
              "    </tr>\n",
              "    <tr>\n",
              "      <th>max</th>\n",
              "      <td>2.454930</td>\n",
              "      <td>14.845545</td>\n",
              "      <td>4.079168</td>\n",
              "      <td>16.491217</td>\n",
              "      <td>34.801666</td>\n",
              "      <td>73.301626</td>\n",
              "      <td>120.589494</td>\n",
              "      <td>17.573712</td>\n",
              "      <td>9.272376</td>\n",
              "      <td>15.331742</td>\n",
              "      <td>11.228470</td>\n",
              "      <td>4.406338</td>\n",
              "      <td>7.126883</td>\n",
              "      <td>7.293226</td>\n",
              "      <td>8.877742</td>\n",
              "      <td>17.315112</td>\n",
              "      <td>9.253526</td>\n",
              "      <td>4.295648</td>\n",
              "      <td>5.591971</td>\n",
              "      <td>19.746453</td>\n",
              "      <td>22.579714</td>\n",
              "      <td>7.220158</td>\n",
              "      <td>19.002942</td>\n",
              "      <td>4.584549</td>\n",
              "      <td>5.521140</td>\n",
              "      <td>3.517346</td>\n",
              "      <td>31.612198</td>\n",
              "      <td>33.847808</td>\n",
              "      <td>25691.160000</td>\n",
              "      <td>1.000000</td>\n",
              "    </tr>\n",
              "  </tbody>\n",
              "</table>\n",
              "</div>"
            ],
            "text/plain": [
              "                 V1            V2  ...        Amount         Class\n",
              "count  56962.000000  56962.000000  ...  56962.000000  56962.000000\n",
              "mean      -0.011720      0.003508  ...     87.227297      0.001773\n",
              "std        1.972334      1.657848  ...    258.280642      0.042071\n",
              "min      -56.407510    -72.715728  ...      0.000000      0.000000\n",
              "25%       -0.921972     -0.595792  ...      5.460000      0.000000\n",
              "50%       -0.002761      0.072712  ...     21.940000      0.000000\n",
              "75%        1.309289      0.809015  ...     76.000000      0.000000\n",
              "max        2.454930     14.845545  ...  25691.160000      1.000000\n",
              "\n",
              "[8 rows x 30 columns]"
            ]
          },
          "metadata": {
            "tags": []
          },
          "execution_count": 44
        }
      ]
    },
    {
      "cell_type": "markdown",
      "metadata": {
        "id": "vWOs48cfSpOU"
      },
      "source": [
        "Contagem dos valores de cada classe. 0 indicando uma transação onde não há fraude e 1 indicando uma fraude."
      ]
    },
    {
      "cell_type": "code",
      "metadata": {
        "colab": {
          "base_uri": "https://localhost:8080/"
        },
        "id": "RC10tOWjIU8t",
        "outputId": "be48cb76-4afe-4d47-9e8e-c12b7a4c7404"
      },
      "source": [
        "df_train['Class'].value_counts()"
      ],
      "execution_count": 45,
      "outputs": [
        {
          "output_type": "execute_result",
          "data": {
            "text/plain": [
              "0    227454\n",
              "1       391\n",
              "Name: Class, dtype: int64"
            ]
          },
          "metadata": {
            "tags": []
          },
          "execution_count": 45
        }
      ]
    },
    {
      "cell_type": "code",
      "metadata": {
        "colab": {
          "base_uri": "https://localhost:8080/"
        },
        "id": "Ho9sDYS_IZ88",
        "outputId": "83db54d3-0493-458f-e9d5-164aeb033c97"
      },
      "source": [
        "df_test['Class'].value_counts()"
      ],
      "execution_count": 46,
      "outputs": [
        {
          "output_type": "execute_result",
          "data": {
            "text/plain": [
              "0    56861\n",
              "1      101\n",
              "Name: Class, dtype: int64"
            ]
          },
          "metadata": {
            "tags": []
          },
          "execution_count": 46
        }
      ]
    },
    {
      "cell_type": "markdown",
      "metadata": {
        "id": "vs-IeSx3S2ej"
      },
      "source": [
        "Gráficos com a quantidade de cada classe nos conjuntos de dados"
      ]
    },
    {
      "cell_type": "code",
      "metadata": {
        "colab": {
          "base_uri": "https://localhost:8080/",
          "height": 279
        },
        "id": "2rsmquWsJUEb",
        "outputId": "a15acbe8-2176-45bf-8eef-3ebb553ef6ef"
      },
      "source": [
        "ax = sns.countplot(x=\"Class\", data=df_train)"
      ],
      "execution_count": 47,
      "outputs": [
        {
          "output_type": "display_data",
          "data": {
            "image/png": "[encoded data removed]",
            "text/plain": [
              "<Figure size 432x288 with 1 Axes>"
            ]
          },
          "metadata": {
            "tags": [],
            "needs_background": "light"
          }
        }
      ]
    },
    {
      "cell_type": "code",
      "metadata": {
        "colab": {
          "base_uri": "https://localhost:8080/",
          "height": 279
        },
        "id": "-OJgW1w0Jk_-",
        "outputId": "4a38ad3e-2d61-4c6b-93ad-6c33343b28f1"
      },
      "source": [
        "bx = sns.countplot(x=\"Class\", data=df_test)"
      ],
      "execution_count": 48,
      "outputs": [
        {
          "output_type": "display_data",
          "data": {
            "image/png": "[encoded data removed]",
            "text/plain": [
              "<Figure size 432x288 with 1 Axes>"
            ]
          },
          "metadata": {
            "tags": [],
            "needs_background": "light"
          }
        }
      ]
    },
    {
      "cell_type": "code",
      "metadata": {
        "colab": {
          "base_uri": "https://localhost:8080/"
        },
        "id": "tsoWBnd_GnzL",
        "outputId": "21dfb0a6-429d-4434-e19c-9e67dbc0ae6b"
      },
      "source": [
        "n_fraudulent_transactions = df_train['Class'].value_counts()[1]\n",
        "print('Quantidade de transações fraudulentas no dataset de treino ({}) representando um total de ({})% do dataset'.format(n_fraudulent_transactions, (n_fraudulent_transactions/df_train.shape[0])*100))\n",
        "n_fraudulent_transactions = df_test['Class'].value_counts()[1]\n",
        "print('Quantidade de transações fraudulentas no dataset de teste ({}) representando um total de ({})% do dataset'.format(n_fraudulent_transactions, (n_fraudulent_transactions/df_test.shape[0])*100))"
      ],
      "execution_count": 49,
      "outputs": [
        {
          "output_type": "stream",
          "text": [
            "Quantidade de transações fraudulentas no dataset de treino (391) representando um total de (0.171607891329632)% do dataset\n",
            "Quantidade de transações fraudulentas no dataset de teste (101) representando um total de (0.1773111899160844)% do dataset\n"
          ],
          "name": "stdout"
        }
      ]
    },
    {
      "cell_type": "markdown",
      "metadata": {
        "id": "gROHtou2TStE"
      },
      "source": [
        "Utilizamos o `mutual_info_classif` para estimar informações através de testes estatísticos, auxiliando na seleção de atributos que possuem forte relacionamento com a variável que estamos tentando prever."
      ]
    },
    {
      "cell_type": "code",
      "metadata": {
        "colab": {
          "base_uri": "https://localhost:8080/"
        },
        "id": "UgGdYx7flG_D",
        "outputId": "35d9a61d-3c2d-476e-85bd-ddf5e4cad71a"
      },
      "source": [
        "mic = mutual_info_classif(x_train, y_train)\n",
        "mic"
      ],
      "execution_count": 50,
      "outputs": [
        {
          "output_type": "execute_result",
          "data": {
            "text/plain": [
              "array([0.00223417, 0.00324333, 0.0048859 , 0.00493872, 0.0024805 ,\n",
              "       0.00235812, 0.00385332, 0.00200889, 0.00420066, 0.00735391,\n",
              "       0.00683457, 0.00754913, 0.00048603, 0.00796175, 0.00033733,\n",
              "       0.00614541, 0.00819216, 0.00429184, 0.00147992, 0.00127442,\n",
              "       0.00256113, 0.0004726 , 0.00081558, 0.00072547, 0.0006311 ,\n",
              "       0.00054575, 0.00238648, 0.00180494, 0.00145779])"
            ]
          },
          "metadata": {
            "tags": []
          },
          "execution_count": 50
        }
      ]
    },
    {
      "cell_type": "code",
      "metadata": {
        "colab": {
          "base_uri": "https://localhost:8080/",
          "height": 638
        },
        "id": "l9fETRgXl-c8",
        "outputId": "5635f342-8d31-44e2-9fcf-0caff73e0171"
      },
      "source": [
        "mic = pd.Series(mic)\n",
        "mic.index = x_train.columns\n",
        "mic = mic.sort_values(ascending = True)\n",
        "mic.plot.bar(figsize=(22,10))"
      ],
      "execution_count": 51,
      "outputs": [
        {
          "output_type": "execute_result",
          "data": {
            "text/plain": [
              "<matplotlib.axes._subplots.AxesSubplot at 0x7f63922f6fd0>"
            ]
          },
          "metadata": {
            "tags": []
          },
          "execution_count": 51
        },
        {
          "output_type": "display_data",
          "data": {
            "image/png": "[encoded data removed]",
            "text/plain": [
              "<Figure size 1584x720 with 1 Axes>"
            ]
          },
          "metadata": {
            "tags": [],
            "needs_background": "light"
          }
        }
      ]
    },
    {
      "cell_type": "markdown",
      "metadata": {
        "id": "_fAwqTgKUcdX"
      },
      "source": [
        "Selecionamos as K variáveis que mais se relacionam com a coluna que indica a classificação da transação. `k=22`"
      ]
    },
    {
      "cell_type": "code",
      "metadata": {
        "id": "NdBDaW-HnABb"
      },
      "source": [
        "selection = SelectKBest(mutual_info_classif, k= 22).fit(x_train, y_train)\n",
        "X_train = x_train[x_train.columns[selection.get_support()]]\n",
        "X_test = x_test[x_test.columns[selection.get_support()]]"
      ],
      "execution_count": 52,
      "outputs": []
    },
    {
      "cell_type": "markdown",
      "metadata": {
        "id": "UGLg7-cjVC7g"
      },
      "source": [
        "Função utilizada para gerar as curvas do K fold cross validation"
      ]
    },
    {
      "cell_type": "code",
      "metadata": {
        "id": "pZWsc5L893EQ"
      },
      "source": [
        "def plot_Kfold_cross_validation_curves(md, x_data, y_data):\r\n",
        "  cv = StratifiedKFold(n_splits=5)\r\n",
        "\r\n",
        "  tprs = []\r\n",
        "  aucs = []\r\n",
        "  mean_fpr = np.linspace(0, 1, 100)\r\n",
        "\r\n",
        "  fig, ax = plt.subplots()\r\n",
        "  for i, (train, test) in enumerate(cv.split(x_data, y_data)):\r\n",
        "      md.fit(x_data.iloc[train], y_data.iloc[train])\r\n",
        "      viz = plot_roc_curve(md, x_data.iloc[test], y_data.iloc[test],\r\n",
        "                          name='ROC fold {}'.format(i),\r\n",
        "                          alpha=0.3, lw=1, ax=ax)\r\n",
        "      interp_tpr = np.interp(mean_fpr, viz.fpr, viz.tpr)\r\n",
        "      interp_tpr[0] = 0.0\r\n",
        "      tprs.append(interp_tpr)\r\n",
        "      aucs.append(viz.roc_auc)\r\n",
        "\r\n",
        "  ax.plot([0, 1], [0, 1], linestyle='--', lw=2, color='r',\r\n",
        "          label='Chance', alpha=.8)\r\n",
        "\r\n",
        "  mean_tpr = np.mean(tprs, axis=0)\r\n",
        "  mean_tpr[-1] = 1.0\r\n",
        "  mean_auc = auc(mean_fpr, mean_tpr)\r\n",
        "  std_auc = np.std(aucs)\r\n",
        "  ax.plot(mean_fpr, mean_tpr, color='b',\r\n",
        "          label=r'Mean ROC (AUC = %0.2f $\\pm$ %0.2f)' % (mean_auc, std_auc),\r\n",
        "          lw=2, alpha=.8)\r\n",
        "\r\n",
        "  std_tpr = np.std(tprs, axis=0)\r\n",
        "  tprs_upper = np.minimum(mean_tpr + std_tpr, 1)\r\n",
        "  tprs_lower = np.maximum(mean_tpr - std_tpr, 0)\r\n",
        "  ax.fill_between(mean_fpr, tprs_lower, tprs_upper, color='grey', alpha=.2,\r\n",
        "                  label=r'$\\pm$ 1 std. dev.')\r\n",
        "\r\n",
        "  ax.set(xlim=[-0.05, 1.05], ylim=[-0.05, 1.05],\r\n",
        "        title=\"ROC for K fold cross-validation curves\")\r\n",
        "  ax.legend(loc=\"lower right\")\r\n",
        "  plt.show()"
      ],
      "execution_count": 53,
      "outputs": []
    },
    {
      "cell_type": "markdown",
      "metadata": {
        "id": "owxa6ZjPOKhh"
      },
      "source": [
        "# Random Forest"
      ]
    },
    {
      "cell_type": "markdown",
      "metadata": {
        "id": "e1ixcAFfjL3S"
      },
      "source": [
        "Utilizaremos a classe padrão do classificador Random Forest, não utilizamos variações na parametrização da classe devido a obtenção de um resultado satisfatório com os parâmetros padrões.  "
      ]
    },
    {
      "cell_type": "code",
      "metadata": {
        "colab": {
          "base_uri": "https://localhost:8080/"
        },
        "id": "aFymemqQq2JH",
        "outputId": "a910eead-4de3-4494-bc92-368bb801c803"
      },
      "source": [
        "rf = RandomForestClassifier()\n",
        "rf.fit(X_train, y_train)"
      ],
      "execution_count": 54,
      "outputs": [
        {
          "output_type": "execute_result",
          "data": {
            "text/plain": [
              "RandomForestClassifier(bootstrap=True, ccp_alpha=0.0, class_weight=None,\n",
              "                       criterion='gini', max_depth=None, max_features='auto',\n",
              "                       max_leaf_nodes=None, max_samples=None,\n",
              "                       min_impurity_decrease=0.0, min_impurity_split=None,\n",
              "                       min_samples_leaf=1, min_samples_split=2,\n",
              "                       min_weight_fraction_leaf=0.0, n_estimators=100,\n",
              "                       n_jobs=None, oob_score=False, random_state=None,\n",
              "                       verbose=0, warm_start=False)"
            ]
          },
          "metadata": {
            "tags": []
          },
          "execution_count": 54
        }
      ]
    },
    {
      "cell_type": "markdown",
      "metadata": {
        "id": "5cCP7fsx5_58"
      },
      "source": [
        "## Treino"
      ]
    },
    {
      "cell_type": "markdown",
      "metadata": {
        "id": "lGL1A2ixjbRT"
      },
      "source": [
        "Relatório de classificação da predição com o modelo Random forest com o sample de treino"
      ]
    },
    {
      "cell_type": "code",
      "metadata": {
        "colab": {
          "base_uri": "https://localhost:8080/"
        },
        "id": "5S5NGcYljXTS",
        "outputId": "c81ff4dc-a144-43e1-9a75-21c44e4a20f4"
      },
      "source": [
        "predictions = rf.predict(X_train)\n",
        "print(classification_report(y_train, predictions))"
      ],
      "execution_count": 55,
      "outputs": [
        {
          "output_type": "stream",
          "text": [
            "              precision    recall  f1-score   support\n",
            "\n",
            "           0       1.00      1.00      1.00    227454\n",
            "           1       1.00      1.00      1.00       391\n",
            "\n",
            "    accuracy                           1.00    227845\n",
            "   macro avg       1.00      1.00      1.00    227845\n",
            "weighted avg       1.00      1.00      1.00    227845\n",
            "\n"
          ],
          "name": "stdout"
        }
      ]
    },
    {
      "cell_type": "markdown",
      "metadata": {
        "id": "4Bi71KcCjn7r"
      },
      "source": [
        "Matriz de confusão dos valores preditos com o conjunto de treino"
      ]
    },
    {
      "cell_type": "code",
      "metadata": {
        "id": "njyVMGnunwwp",
        "colab": {
          "base_uri": "https://localhost:8080/",
          "height": 173
        },
        "outputId": "3be018e3-ef24-48dc-cfec-cfe70960e33b"
      },
      "source": [
        "pd.crosstab(y_train, predictions, rownames=['Real'],colnames=['Predito'],margins=True)"
      ],
      "execution_count": 56,
      "outputs": [
        {
          "output_type": "execute_result",
          "data": {
            "text/html": [
              "<div>\n",
              "<style scoped>\n",
              "    .dataframe tbody tr th:only-of-type {\n",
              "        vertical-align: middle;\n",
              "    }\n",
              "\n",
              "    .dataframe tbody tr th {\n",
              "        vertical-align: top;\n",
              "    }\n",
              "\n",
              "    .dataframe thead th {\n",
              "        text-align: right;\n",
              "    }\n",
              "</style>\n",
              "<table border=\"1\" class=\"dataframe\">\n",
              "  <thead>\n",
              "    <tr style=\"text-align: right;\">\n",
              "      <th>Predito</th>\n",
              "      <th>0</th>\n",
              "      <th>1</th>\n",
              "      <th>All</th>\n",
              "    </tr>\n",
              "    <tr>\n",
              "      <th>Real</th>\n",
              "      <th></th>\n",
              "      <th></th>\n",
              "      <th></th>\n",
              "    </tr>\n",
              "  </thead>\n",
              "  <tbody>\n",
              "    <tr>\n",
              "      <th>0</th>\n",
              "      <td>227454</td>\n",
              "      <td>0</td>\n",
              "      <td>227454</td>\n",
              "    </tr>\n",
              "    <tr>\n",
              "      <th>1</th>\n",
              "      <td>1</td>\n",
              "      <td>390</td>\n",
              "      <td>391</td>\n",
              "    </tr>\n",
              "    <tr>\n",
              "      <th>All</th>\n",
              "      <td>227455</td>\n",
              "      <td>390</td>\n",
              "      <td>227845</td>\n",
              "    </tr>\n",
              "  </tbody>\n",
              "</table>\n",
              "</div>"
            ],
            "text/plain": [
              "Predito       0    1     All\n",
              "Real                        \n",
              "0        227454    0  227454\n",
              "1             1  390     391\n",
              "All      227455  390  227845"
            ]
          },
          "metadata": {
            "tags": []
          },
          "execution_count": 56
        }
      ]
    },
    {
      "cell_type": "markdown",
      "metadata": {
        "id": "sE7DnFY-jzJv"
      },
      "source": [
        "Scores das validações cruzadas"
      ]
    },
    {
      "cell_type": "code",
      "metadata": {
        "id": "0ct-yzB2fCPM",
        "colab": {
          "base_uri": "https://localhost:8080/"
        },
        "outputId": "5b135f26-583d-4184-de48-2efcbfe498d2"
      },
      "source": [
        "scores = cross_val_score(rf, X_train, y_train, cv=5, scoring='accuracy')\n",
        "scores"
      ],
      "execution_count": 57,
      "outputs": [
        {
          "output_type": "execute_result",
          "data": {
            "text/plain": [
              "array([0.99958305, 0.99940749, 0.99962694, 0.99956111, 0.99949527])"
            ]
          },
          "metadata": {
            "tags": []
          },
          "execution_count": 57
        }
      ]
    },
    {
      "cell_type": "markdown",
      "metadata": {
        "id": "eKTu5VKtj_Sa"
      },
      "source": [
        "Media dos scores obtidos das validações cruzadas"
      ]
    },
    {
      "cell_type": "code",
      "metadata": {
        "colab": {
          "base_uri": "https://localhost:8080/"
        },
        "id": "-mUN-alkjv_k",
        "outputId": "ff3c4d10-65df-4397-a3b8-393160fcc36d"
      },
      "source": [
        "scores.mean()"
      ],
      "execution_count": 58,
      "outputs": [
        {
          "output_type": "execute_result",
          "data": {
            "text/plain": [
              "0.9995347714455003"
            ]
          },
          "metadata": {
            "tags": []
          },
          "execution_count": 58
        }
      ]
    },
    {
      "cell_type": "markdown",
      "metadata": {
        "id": "knVoURIF9sWn"
      },
      "source": [
        "Acurácia das predições com base no conjunto de treino"
      ]
    },
    {
      "cell_type": "code",
      "metadata": {
        "colab": {
          "base_uri": "https://localhost:8080/"
        },
        "id": "1otoQtsp9rWH",
        "outputId": "6faa94e7-f3ce-44a3-bb18-8392d139641c"
      },
      "source": [
        "accuracy_score(y_train, predictions)"
      ],
      "execution_count": 59,
      "outputs": [
        {
          "output_type": "execute_result",
          "data": {
            "text/plain": [
              "0.9999956110513727"
            ]
          },
          "metadata": {
            "tags": []
          },
          "execution_count": 59
        }
      ]
    },
    {
      "cell_type": "markdown",
      "metadata": {
        "id": "Vg6h_dD98MqW"
      },
      "source": [
        "Erro absoluto com base no conjunto de treino\n",
        "\n",
        "\n"
      ]
    },
    {
      "cell_type": "code",
      "metadata": {
        "colab": {
          "base_uri": "https://localhost:8080/"
        },
        "id": "hJQvPDMd8ItB",
        "outputId": "e55a2c33-2426-4a57-8ce4-456eb0e9851c"
      },
      "source": [
        "e = mean_absolute_error(y_train, predictions)\n",
        "e"
      ],
      "execution_count": 60,
      "outputs": [
        {
          "output_type": "execute_result",
          "data": {
            "text/plain": [
              "4.388948627356317e-06"
            ]
          },
          "metadata": {
            "tags": []
          },
          "execution_count": 60
        }
      ]
    },
    {
      "cell_type": "markdown",
      "metadata": {
        "id": "mGAT9y95nCOj"
      },
      "source": [
        "Curva ROC"
      ]
    },
    {
      "cell_type": "code",
      "metadata": {
        "colab": {
          "base_uri": "https://localhost:8080/",
          "height": 265
        },
        "id": "3KTJsdBMV2Ze",
        "outputId": "9dcd8e11-6319-4e60-b458-10652557cec2"
      },
      "source": [
        "fpr, tpr, _ = roc_curve(y_train, predictions)\r\n",
        "roc_auc_scr =  roc_auc_score(y_train, predictions)\r\n",
        "plt.plot(fpr,tpr,label=\"data, auc=\"+str(roc_auc_scr))\r\n",
        "plt.legend(loc=4)\r\n",
        "plt.show() "
      ],
      "execution_count": 61,
      "outputs": [
        {
          "output_type": "display_data",
          "data": {
            "image/png": "[encoded data removed]",
            "text/plain": [
              "<Figure size 432x288 with 1 Axes>"
            ]
          },
          "metadata": {
            "tags": [],
            "needs_background": "light"
          }
        }
      ]
    },
    {
      "cell_type": "markdown",
      "metadata": {
        "id": "eg2wN52vVvGf"
      },
      "source": [
        "Curvas da K fold cross-validation"
      ]
    },
    {
      "cell_type": "code",
      "metadata": {
        "id": "IpLo2KtjmIAK",
        "outputId": "1396b4ba-e508-4629-d256-a45c23963f3d",
        "colab": {
          "base_uri": "https://localhost:8080/",
          "height": 295
        }
      },
      "source": [
        "plot_Kfold_cross_validation_curves(rf, X_train, y_train)"
      ],
      "execution_count": 62,
      "outputs": [
        {
          "output_type": "display_data",
          "data": {
            "image/png": "[encoded data removed]",
            "text/plain": [
              "<Figure size 432x288 with 1 Axes>"
            ]
          },
          "metadata": {
            "tags": [],
            "needs_background": "light"
          }
        }
      ]
    },
    {
      "cell_type": "markdown",
      "metadata": {
        "id": "-4_DNbB_6Dp2"
      },
      "source": [
        "## Teste"
      ]
    },
    {
      "cell_type": "markdown",
      "metadata": {
        "id": "BLAB8P6AkG2L"
      },
      "source": [
        "Predição com o sample de teste"
      ]
    },
    {
      "cell_type": "code",
      "metadata": {
        "id": "2NP6MyeutU7D"
      },
      "source": [
        "predictions_test = rf.predict(X_test)"
      ],
      "execution_count": 63,
      "outputs": []
    },
    {
      "cell_type": "markdown",
      "metadata": {
        "id": "xyaMdfoAkUyW"
      },
      "source": [
        "Relatório de classificação da predição com o modelo Random forest com o sample de teste\n",
        "\n"
      ]
    },
    {
      "cell_type": "code",
      "metadata": {
        "colab": {
          "base_uri": "https://localhost:8080/"
        },
        "id": "8dP_bcm5kQ3C",
        "outputId": "0741c7f6-0c10-48cf-8591-e4780dbcce67"
      },
      "source": [
        "print(classification_report(y_test, predictions_test))"
      ],
      "execution_count": 64,
      "outputs": [
        {
          "output_type": "stream",
          "text": [
            "              precision    recall  f1-score   support\n",
            "\n",
            "           0       1.00      1.00      1.00     56861\n",
            "           1       0.93      0.77      0.84       101\n",
            "\n",
            "    accuracy                           1.00     56962\n",
            "   macro avg       0.96      0.89      0.92     56962\n",
            "weighted avg       1.00      1.00      1.00     56962\n",
            "\n"
          ],
          "name": "stdout"
        }
      ]
    },
    {
      "cell_type": "markdown",
      "metadata": {
        "id": "JQ6w9D7SkkMo"
      },
      "source": [
        "Matriz de confusão dos valores preditos com o conjunto de teste"
      ]
    },
    {
      "cell_type": "code",
      "metadata": {
        "id": "uJIkYyI1oKzr",
        "colab": {
          "base_uri": "https://localhost:8080/",
          "height": 173
        },
        "outputId": "d1950c34-4740-44fa-8fdc-4943eec3c857"
      },
      "source": [
        "pd.crosstab(y_test, predictions_test, rownames=['Real'],colnames=['Predito'],margins=True) "
      ],
      "execution_count": 65,
      "outputs": [
        {
          "output_type": "execute_result",
          "data": {
            "text/html": [
              "<div>\n",
              "<style scoped>\n",
              "    .dataframe tbody tr th:only-of-type {\n",
              "        vertical-align: middle;\n",
              "    }\n",
              "\n",
              "    .dataframe tbody tr th {\n",
              "        vertical-align: top;\n",
              "    }\n",
              "\n",
              "    .dataframe thead th {\n",
              "        text-align: right;\n",
              "    }\n",
              "</style>\n",
              "<table border=\"1\" class=\"dataframe\">\n",
              "  <thead>\n",
              "    <tr style=\"text-align: right;\">\n",
              "      <th>Predito</th>\n",
              "      <th>0</th>\n",
              "      <th>1</th>\n",
              "      <th>All</th>\n",
              "    </tr>\n",
              "    <tr>\n",
              "      <th>Real</th>\n",
              "      <th></th>\n",
              "      <th></th>\n",
              "      <th></th>\n",
              "    </tr>\n",
              "  </thead>\n",
              "  <tbody>\n",
              "    <tr>\n",
              "      <th>0</th>\n",
              "      <td>56855</td>\n",
              "      <td>6</td>\n",
              "      <td>56861</td>\n",
              "    </tr>\n",
              "    <tr>\n",
              "      <th>1</th>\n",
              "      <td>23</td>\n",
              "      <td>78</td>\n",
              "      <td>101</td>\n",
              "    </tr>\n",
              "    <tr>\n",
              "      <th>All</th>\n",
              "      <td>56878</td>\n",
              "      <td>84</td>\n",
              "      <td>56962</td>\n",
              "    </tr>\n",
              "  </tbody>\n",
              "</table>\n",
              "</div>"
            ],
            "text/plain": [
              "Predito      0   1    All\n",
              "Real                     \n",
              "0        56855   6  56861\n",
              "1           23  78    101\n",
              "All      56878  84  56962"
            ]
          },
          "metadata": {
            "tags": []
          },
          "execution_count": 65
        }
      ]
    },
    {
      "cell_type": "markdown",
      "metadata": {
        "id": "nNenluCDksUE"
      },
      "source": [
        "Validação cruzada utilizando 5 pastas com conjunto de teste"
      ]
    },
    {
      "cell_type": "code",
      "metadata": {
        "id": "7SyA2FdfnlJk",
        "colab": {
          "base_uri": "https://localhost:8080/"
        },
        "outputId": "17790ef5-d019-4583-e562-d2472f7929db"
      },
      "source": [
        "scores = cross_val_score(rf, X_test, predictions_test, cv=5, scoring='accuracy')\n",
        "scores"
      ],
      "execution_count": 66,
      "outputs": [
        {
          "output_type": "execute_result",
          "data": {
            "text/plain": [
              "array([0.99973668, 0.99964891, 0.99982444, 0.99947331, 0.99982444])"
            ]
          },
          "metadata": {
            "tags": []
          },
          "execution_count": 66
        }
      ]
    },
    {
      "cell_type": "markdown",
      "metadata": {
        "id": "54zV1n_mk1ma"
      },
      "source": [
        "Media dos scores obtidos com o conjunto de teste"
      ]
    },
    {
      "cell_type": "code",
      "metadata": {
        "colab": {
          "base_uri": "https://localhost:8080/"
        },
        "id": "p__RCkAdkzPE",
        "outputId": "82876f26-589a-46df-fc65-84c36ea8c083"
      },
      "source": [
        "scores.mean()"
      ],
      "execution_count": 67,
      "outputs": [
        {
          "output_type": "execute_result",
          "data": {
            "text/plain": [
              "0.9997015557305542"
            ]
          },
          "metadata": {
            "tags": []
          },
          "execution_count": 67
        }
      ]
    },
    {
      "cell_type": "markdown",
      "metadata": {
        "id": "4B5va7gw9-mR"
      },
      "source": [
        "Acurácia do modelo"
      ]
    },
    {
      "cell_type": "code",
      "metadata": {
        "colab": {
          "base_uri": "https://localhost:8080/"
        },
        "id": "wePT4YrX9930",
        "outputId": "337652d1-5010-4ca4-c609-fb81dee03bac"
      },
      "source": [
        "accuracy_score(y_test, predictions_test)"
      ],
      "execution_count": 68,
      "outputs": [
        {
          "output_type": "execute_result",
          "data": {
            "text/plain": [
              "0.9994908886626171"
            ]
          },
          "metadata": {
            "tags": []
          },
          "execution_count": 68
        }
      ]
    },
    {
      "cell_type": "markdown",
      "metadata": {
        "id": "6-CjgM258h6e"
      },
      "source": [
        "Mean Absolute Error"
      ]
    },
    {
      "cell_type": "code",
      "metadata": {
        "colab": {
          "base_uri": "https://localhost:8080/"
        },
        "id": "0sdttlBo8hA7",
        "outputId": "f9eee546-b1f8-40cd-8a5e-fb73859c17ee"
      },
      "source": [
        "e = mean_absolute_error(y_test, predictions_test)\n",
        "e"
      ],
      "execution_count": 69,
      "outputs": [
        {
          "output_type": "execute_result",
          "data": {
            "text/plain": [
              "0.0005091113373828166"
            ]
          },
          "metadata": {
            "tags": []
          },
          "execution_count": 69
        }
      ]
    },
    {
      "cell_type": "markdown",
      "metadata": {
        "id": "U42RdVNMtJ37"
      },
      "source": [
        "Curva ROC com o conjunto de teste"
      ]
    },
    {
      "cell_type": "code",
      "metadata": {
        "colab": {
          "base_uri": "https://localhost:8080/",
          "height": 265
        },
        "id": "3spn8Gf2mEt5",
        "outputId": "82ce286a-ffea-4b5e-8e5f-a8a82abfe204"
      },
      "source": [
        "fpr, tpr, _ = roc_curve(y_test, predictions_test)\n",
        "roc_auc_scr =  roc_auc_score(y_test, predictions_test)\n",
        "plt.plot(fpr,tpr,label=\"data, auc=\"+str(roc_auc_scr))\n",
        "plt.legend(loc=4)\n",
        "plt.show()"
      ],
      "execution_count": 70,
      "outputs": [
        {
          "output_type": "display_data",
          "data": {
            "image/png": "[encoded data removed]",
            "text/plain": [
              "<Figure size 432x288 with 1 Axes>"
            ]
          },
          "metadata": {
            "tags": [],
            "needs_background": "light"
          }
        }
      ]
    },
    {
      "cell_type": "markdown",
      "metadata": {
        "id": "boChx6PpWFps"
      },
      "source": [
        "Curvas da K fold cross-validation com os dados de teste"
      ]
    },
    {
      "cell_type": "code",
      "metadata": {
        "colab": {
          "base_uri": "https://localhost:8080/",
          "height": 295
        },
        "id": "eeo98JS4WL2e",
        "outputId": "b535e645-4730-4035-9334-957f8b109236"
      },
      "source": [
        "plot_Kfold_cross_validation_curves(rf, X_test, y_test)"
      ],
      "execution_count": 71,
      "outputs": [
        {
          "output_type": "display_data",
          "data": {
            "image/png": "[encoded data removed]",
            "text/plain": [
              "<Figure size 432x288 with 1 Axes>"
            ]
          },
          "metadata": {
            "tags": [],
            "needs_background": "light"
          }
        }
      ]
    },
    {
      "cell_type": "markdown",
      "metadata": {
        "id": "1sZhJG0MOQw1"
      },
      "source": [
        "# KNN "
      ]
    },
    {
      "cell_type": "markdown",
      "metadata": {
        "id": "klIFQi1jwtHx"
      },
      "source": [
        "Utilizaremos a classe padrão do K Neighbors Classifier, utilizaremos apenas o parâmetro `n_neighbors=3` pois o mesmo demonstrou um aumento na acurácia do modelo. Para descobrir isso executamos `i` execuções com `i` variando de 1 até 25 e a execução com 3 vizinhos mostrou a melhor acurácia."
      ]
    },
    {
      "cell_type": "code",
      "metadata": {
        "colab": {
          "base_uri": "https://localhost:8080/"
        },
        "id": "Q7IW0wPwjux3",
        "outputId": "5bcc1d0d-4c9e-4409-9e8e-fecef0660d3a"
      },
      "source": [
        "knn = KNeighborsClassifier(n_neighbors=3)\r\n",
        "knn.fit(X_train, y_train)"
      ],
      "execution_count": 72,
      "outputs": [
        {
          "output_type": "execute_result",
          "data": {
            "text/plain": [
              "KNeighborsClassifier(algorithm='auto', leaf_size=30, metric='minkowski',\n",
              "                     metric_params=None, n_jobs=None, n_neighbors=3, p=2,\n",
              "                     weights='uniform')"
            ]
          },
          "metadata": {
            "tags": []
          },
          "execution_count": 72
        }
      ]
    },
    {
      "cell_type": "markdown",
      "metadata": {
        "id": "Lv7zuKEW5xbu"
      },
      "source": [
        "## Treino"
      ]
    },
    {
      "cell_type": "markdown",
      "metadata": {
        "id": "g-V04aOB-jlH"
      },
      "source": [
        "Predição da classificação dos dados de treino com base no modelo treinado"
      ]
    },
    {
      "cell_type": "code",
      "metadata": {
        "id": "l8Ja5V0sBwrB"
      },
      "source": [
        "y_pred = knn.predict(X_train)"
      ],
      "execution_count": 74,
      "outputs": []
    },
    {
      "cell_type": "markdown",
      "metadata": {
        "id": "cR26Z8xQujoo"
      },
      "source": [
        "Relatório de classificação da predição com o modelo K Neighbors classifier com o sample de treino"
      ]
    },
    {
      "cell_type": "code",
      "metadata": {
        "id": "WeXgWfnJwM7j",
        "colab": {
          "base_uri": "https://localhost:8080/"
        },
        "outputId": "5916ddd9-9299-4701-c0cb-65fd1f0f838e"
      },
      "source": [
        "print(classification_report(y_train, y_pred))"
      ],
      "execution_count": 75,
      "outputs": [
        {
          "output_type": "stream",
          "text": [
            "              precision    recall  f1-score   support\n",
            "\n",
            "           0       1.00      1.00      1.00    227454\n",
            "           1       0.96      0.76      0.85       391\n",
            "\n",
            "    accuracy                           1.00    227845\n",
            "   macro avg       0.98      0.88      0.92    227845\n",
            "weighted avg       1.00      1.00      1.00    227845\n",
            "\n"
          ],
          "name": "stdout"
        }
      ]
    },
    {
      "cell_type": "markdown",
      "metadata": {
        "id": "2nkSZEpsu9kI"
      },
      "source": [
        "Matriz de confusão dos valores preditos com o conjunto de treino"
      ]
    },
    {
      "cell_type": "code",
      "metadata": {
        "id": "O8LDjwVXxbv1",
        "colab": {
          "base_uri": "https://localhost:8080/",
          "height": 173
        },
        "outputId": "366177de-8574-43be-aeac-1caf2916a586"
      },
      "source": [
        "pd.crosstab(y_train, y_pred, rownames=['Real'],colnames=['Predito'],margins=True)"
      ],
      "execution_count": 76,
      "outputs": [
        {
          "output_type": "execute_result",
          "data": {
            "text/html": [
              "<div>\n",
              "<style scoped>\n",
              "    .dataframe tbody tr th:only-of-type {\n",
              "        vertical-align: middle;\n",
              "    }\n",
              "\n",
              "    .dataframe tbody tr th {\n",
              "        vertical-align: top;\n",
              "    }\n",
              "\n",
              "    .dataframe thead th {\n",
              "        text-align: right;\n",
              "    }\n",
              "</style>\n",
              "<table border=\"1\" class=\"dataframe\">\n",
              "  <thead>\n",
              "    <tr style=\"text-align: right;\">\n",
              "      <th>Predito</th>\n",
              "      <th>0</th>\n",
              "      <th>1</th>\n",
              "      <th>All</th>\n",
              "    </tr>\n",
              "    <tr>\n",
              "      <th>Real</th>\n",
              "      <th></th>\n",
              "      <th></th>\n",
              "      <th></th>\n",
              "    </tr>\n",
              "  </thead>\n",
              "  <tbody>\n",
              "    <tr>\n",
              "      <th>0</th>\n",
              "      <td>227442</td>\n",
              "      <td>12</td>\n",
              "      <td>227454</td>\n",
              "    </tr>\n",
              "    <tr>\n",
              "      <th>1</th>\n",
              "      <td>94</td>\n",
              "      <td>297</td>\n",
              "      <td>391</td>\n",
              "    </tr>\n",
              "    <tr>\n",
              "      <th>All</th>\n",
              "      <td>227536</td>\n",
              "      <td>309</td>\n",
              "      <td>227845</td>\n",
              "    </tr>\n",
              "  </tbody>\n",
              "</table>\n",
              "</div>"
            ],
            "text/plain": [
              "Predito       0    1     All\n",
              "Real                        \n",
              "0        227442   12  227454\n",
              "1            94  297     391\n",
              "All      227536  309  227845"
            ]
          },
          "metadata": {
            "tags": []
          },
          "execution_count": 76
        }
      ]
    },
    {
      "cell_type": "markdown",
      "metadata": {
        "id": "Nz3MN_49vL9V"
      },
      "source": [
        "Scores das validações cruzadas"
      ]
    },
    {
      "cell_type": "code",
      "metadata": {
        "id": "Nim0I8PMxvCO",
        "colab": {
          "base_uri": "https://localhost:8080/"
        },
        "outputId": "8a9f2a2b-e1c6-49c0-b850-5e0c5343a5bf"
      },
      "source": [
        "scores = cross_val_score(knn, X_train, y_train, cv=5, scoring='accuracy')\n",
        "scores"
      ],
      "execution_count": 77,
      "outputs": [
        {
          "output_type": "execute_result",
          "data": {
            "text/plain": [
              "array([0.9993636 , 0.99927582, 0.99945138, 0.99934166, 0.99912221])"
            ]
          },
          "metadata": {
            "tags": []
          },
          "execution_count": 77
        }
      ]
    },
    {
      "cell_type": "markdown",
      "metadata": {
        "id": "7Vb_nM5vvR_X"
      },
      "source": [
        "Media dos scores obtidos das validações cruzadas"
      ]
    },
    {
      "cell_type": "code",
      "metadata": {
        "id": "eDIZWLplxyRU",
        "colab": {
          "base_uri": "https://localhost:8080/"
        },
        "outputId": "5dddc96a-a53a-474a-fca8-46d9224e4311"
      },
      "source": [
        "scores.mean()"
      ],
      "execution_count": 78,
      "outputs": [
        {
          "output_type": "execute_result",
          "data": {
            "text/plain": [
              "0.9993109350655051"
            ]
          },
          "metadata": {
            "tags": []
          },
          "execution_count": 78
        }
      ]
    },
    {
      "cell_type": "markdown",
      "metadata": {
        "id": "b6wNjhh1vWKX"
      },
      "source": [
        "Acurácia das predições com base no conjunto de treino"
      ]
    },
    {
      "cell_type": "code",
      "metadata": {
        "id": "kogl1nyfx3HQ",
        "colab": {
          "base_uri": "https://localhost:8080/"
        },
        "outputId": "ad4ff247-2187-4727-eac5-b6df3d760df5"
      },
      "source": [
        "accuracy_score(y_train, y_pred)"
      ],
      "execution_count": 79,
      "outputs": [
        {
          "output_type": "execute_result",
          "data": {
            "text/plain": [
              "0.9995347714455002"
            ]
          },
          "metadata": {
            "tags": []
          },
          "execution_count": 79
        }
      ]
    },
    {
      "cell_type": "markdown",
      "metadata": {
        "id": "WKasHT03lkUC"
      },
      "source": [
        "Erro absoluto médio"
      ]
    },
    {
      "cell_type": "code",
      "metadata": {
        "id": "4NqqkFI-yAkn",
        "colab": {
          "base_uri": "https://localhost:8080/"
        },
        "outputId": "f6789edd-06f9-4b3a-e461-f49c791236e8"
      },
      "source": [
        "e = mean_absolute_error(y_train, y_pred)\n",
        "e"
      ],
      "execution_count": 80,
      "outputs": [
        {
          "output_type": "execute_result",
          "data": {
            "text/plain": [
              "0.0004652285544997696"
            ]
          },
          "metadata": {
            "tags": []
          },
          "execution_count": 80
        }
      ]
    },
    {
      "cell_type": "markdown",
      "metadata": {
        "id": "RQr1EFuPvjCF"
      },
      "source": [
        "Curva ROC dos dados de treino"
      ]
    },
    {
      "cell_type": "code",
      "metadata": {
        "id": "hpsP9EKoz0f_",
        "colab": {
          "base_uri": "https://localhost:8080/",
          "height": 265
        },
        "outputId": "78de1362-0ff4-44db-ff0a-8e844258d509"
      },
      "source": [
        "fpr, tpr, _ = roc_curve(y_train, y_pred)\n",
        "roc_auc_scr =  roc_auc_score(y_train, y_pred)\n",
        "plt.plot(fpr,tpr,label=\"data, auc=\"+str(roc_auc_scr))\n",
        "plt.legend(loc=4)\n",
        "plt.show()"
      ],
      "execution_count": 81,
      "outputs": [
        {
          "output_type": "display_data",
          "data": {
            "image/png": "[encoded data removed]",
            "text/plain": [
              "<Figure size 432x288 with 1 Axes>"
            ]
          },
          "metadata": {
            "tags": [],
            "needs_background": "light"
          }
        }
      ]
    },
    {
      "cell_type": "markdown",
      "metadata": {
        "id": "AALgecBhvp6V"
      },
      "source": [
        "Curvas da K fold cross-validation"
      ]
    },
    {
      "cell_type": "code",
      "metadata": {
        "colab": {
          "base_uri": "https://localhost:8080/",
          "height": 295
        },
        "id": "LcHPDaSYkQGH",
        "outputId": "cbb22792-aa21-479a-f1aa-1a331c0b0ca1"
      },
      "source": [
        "plot_Kfold_cross_validation_curves(knn, X_train, y_train)"
      ],
      "execution_count": 82,
      "outputs": [
        {
          "output_type": "display_data",
          "data": {
            "image/png": "[encoded data removed]",
            "text/plain": [
              "<Figure size 432x288 with 1 Axes>"
            ]
          },
          "metadata": {
            "tags": [],
            "needs_background": "light"
          }
        }
      ]
    },
    {
      "cell_type": "markdown",
      "metadata": {
        "id": "1e3GXDKx5sKD"
      },
      "source": [
        "## Teste"
      ]
    },
    {
      "cell_type": "markdown",
      "metadata": {
        "id": "zEvlMg5dv7Lx"
      },
      "source": [
        "Predição com base no modelo treinado utilizando o sample de teste"
      ]
    },
    {
      "cell_type": "code",
      "metadata": {
        "id": "D29TGihY3uM6"
      },
      "source": [
        "y_pred = knn.predict(X_test)"
      ],
      "execution_count": 83,
      "outputs": []
    },
    {
      "cell_type": "markdown",
      "metadata": {
        "id": "ifPexNQxwCxI"
      },
      "source": [
        "Relatório de classificação da predição com o modelo KNN com o sample de teste"
      ]
    },
    {
      "cell_type": "code",
      "metadata": {
        "colab": {
          "base_uri": "https://localhost:8080/"
        },
        "id": "01Hb5MHF33Tg",
        "outputId": "b11ed758-48f4-475c-dbc7-fed635ea8605"
      },
      "source": [
        "print(classification_report(y_test, y_pred))"
      ],
      "execution_count": 84,
      "outputs": [
        {
          "output_type": "stream",
          "text": [
            "              precision    recall  f1-score   support\n",
            "\n",
            "           0       1.00      1.00      1.00     56861\n",
            "           1       0.92      0.72      0.81       101\n",
            "\n",
            "    accuracy                           1.00     56962\n",
            "   macro avg       0.96      0.86      0.91     56962\n",
            "weighted avg       1.00      1.00      1.00     56962\n",
            "\n"
          ],
          "name": "stdout"
        }
      ]
    },
    {
      "cell_type": "markdown",
      "metadata": {
        "id": "BR8h1QOVwIlC"
      },
      "source": [
        "Matriz de confusão dos valores preditos com o conjunto de teste"
      ]
    },
    {
      "cell_type": "code",
      "metadata": {
        "colab": {
          "base_uri": "https://localhost:8080/",
          "height": 173
        },
        "id": "tybBBEAh35Pv",
        "outputId": "a22cc6a5-87fe-453f-9ecb-30436751cec7"
      },
      "source": [
        "pd.crosstab(y_test, y_pred, rownames=['Real'],colnames=['Predito'],margins=True)"
      ],
      "execution_count": 85,
      "outputs": [
        {
          "output_type": "execute_result",
          "data": {
            "text/html": [
              "<div>\n",
              "<style scoped>\n",
              "    .dataframe tbody tr th:only-of-type {\n",
              "        vertical-align: middle;\n",
              "    }\n",
              "\n",
              "    .dataframe tbody tr th {\n",
              "        vertical-align: top;\n",
              "    }\n",
              "\n",
              "    .dataframe thead th {\n",
              "        text-align: right;\n",
              "    }\n",
              "</style>\n",
              "<table border=\"1\" class=\"dataframe\">\n",
              "  <thead>\n",
              "    <tr style=\"text-align: right;\">\n",
              "      <th>Predito</th>\n",
              "      <th>0</th>\n",
              "      <th>1</th>\n",
              "      <th>All</th>\n",
              "    </tr>\n",
              "    <tr>\n",
              "      <th>Real</th>\n",
              "      <th></th>\n",
              "      <th></th>\n",
              "      <th></th>\n",
              "    </tr>\n",
              "  </thead>\n",
              "  <tbody>\n",
              "    <tr>\n",
              "      <th>0</th>\n",
              "      <td>56855</td>\n",
              "      <td>6</td>\n",
              "      <td>56861</td>\n",
              "    </tr>\n",
              "    <tr>\n",
              "      <th>1</th>\n",
              "      <td>28</td>\n",
              "      <td>73</td>\n",
              "      <td>101</td>\n",
              "    </tr>\n",
              "    <tr>\n",
              "      <th>All</th>\n",
              "      <td>56883</td>\n",
              "      <td>79</td>\n",
              "      <td>56962</td>\n",
              "    </tr>\n",
              "  </tbody>\n",
              "</table>\n",
              "</div>"
            ],
            "text/plain": [
              "Predito      0   1    All\n",
              "Real                     \n",
              "0        56855   6  56861\n",
              "1           28  73    101\n",
              "All      56883  79  56962"
            ]
          },
          "metadata": {
            "tags": []
          },
          "execution_count": 85
        }
      ]
    },
    {
      "cell_type": "markdown",
      "metadata": {
        "id": "YbDWhkKGwL1K"
      },
      "source": [
        "Scores das validações cruzadas"
      ]
    },
    {
      "cell_type": "code",
      "metadata": {
        "colab": {
          "base_uri": "https://localhost:8080/"
        },
        "id": "fMHYao9y39w4",
        "outputId": "508d2d2e-42fd-4333-a4d5-b8f6cb4dad56"
      },
      "source": [
        "scores = cross_val_score(knn, X_test, y_test, cv=5, scoring='accuracy')\r\n",
        "scores"
      ],
      "execution_count": 86,
      "outputs": [
        {
          "output_type": "execute_result",
          "data": {
            "text/plain": [
              "array([0.99938559, 0.99912227, 0.99894663, 0.99894663, 0.99920997])"
            ]
          },
          "metadata": {
            "tags": []
          },
          "execution_count": 86
        }
      ]
    },
    {
      "cell_type": "markdown",
      "metadata": {
        "id": "IUObozPcwPH-"
      },
      "source": [
        "Media dos scores obtidos com o conjunto de teste"
      ]
    },
    {
      "cell_type": "code",
      "metadata": {
        "colab": {
          "base_uri": "https://localhost:8080/"
        },
        "id": "UpaadsvS4DV2",
        "outputId": "f6d46fe5-8c9b-4846-f695-741e3e9dcd8e"
      },
      "source": [
        "scores.mean()"
      ],
      "execution_count": 87,
      "outputs": [
        {
          "output_type": "execute_result",
          "data": {
            "text/plain": [
              "0.9991222172075895"
            ]
          },
          "metadata": {
            "tags": []
          },
          "execution_count": 87
        }
      ]
    },
    {
      "cell_type": "markdown",
      "metadata": {
        "id": "thT0iXd7wS-1"
      },
      "source": [
        "Acurácia do modelo com base nos dados preditos do conjunto de teste"
      ]
    },
    {
      "cell_type": "code",
      "metadata": {
        "colab": {
          "base_uri": "https://localhost:8080/"
        },
        "id": "FpRovKRa4ICh",
        "outputId": "00d1e019-a0ef-4f05-9152-f5b94de1c8df"
      },
      "source": [
        "accuracy_score(y_test, y_pred)"
      ],
      "execution_count": 88,
      "outputs": [
        {
          "output_type": "execute_result",
          "data": {
            "text/plain": [
              "0.999403110845827"
            ]
          },
          "metadata": {
            "tags": []
          },
          "execution_count": 88
        }
      ]
    },
    {
      "cell_type": "markdown",
      "metadata": {
        "id": "VqzRyyBdwZ-Q"
      },
      "source": [
        "Erro absoluto do modelo com base no conjunto de teste"
      ]
    },
    {
      "cell_type": "code",
      "metadata": {
        "colab": {
          "base_uri": "https://localhost:8080/"
        },
        "id": "6q9YEHuO4KJX",
        "outputId": "f6b34093-5949-4b32-ade5-0b3e41f63357"
      },
      "source": [
        "e = mean_absolute_error(y_test, y_pred)\r\n",
        "e"
      ],
      "execution_count": 89,
      "outputs": [
        {
          "output_type": "execute_result",
          "data": {
            "text/plain": [
              "0.0005968891541729574"
            ]
          },
          "metadata": {
            "tags": []
          },
          "execution_count": 89
        }
      ]
    },
    {
      "cell_type": "markdown",
      "metadata": {
        "id": "NRqPJIf6wgRa"
      },
      "source": [
        "Curva ROC com o conjunto de teste"
      ]
    },
    {
      "cell_type": "code",
      "metadata": {
        "colab": {
          "base_uri": "https://localhost:8080/",
          "height": 265
        },
        "id": "_tk57NUV4LjN",
        "outputId": "17fd008c-f653-4fbf-d701-95d25b986957"
      },
      "source": [
        "fpr, tpr, _ = roc_curve(y_test, y_pred)\r\n",
        "roc_auc_scr =  roc_auc_score(y_test, y_pred)\r\n",
        "plt.plot(fpr,tpr,label=\"data, auc=\"+str(roc_auc_scr))\r\n",
        "plt.legend(loc=4)\r\n",
        "plt.show()"
      ],
      "execution_count": 90,
      "outputs": [
        {
          "output_type": "display_data",
          "data": {
            "image/png": "[encoded data removed]",
            "text/plain": [
              "<Figure size 432x288 with 1 Axes>"
            ]
          },
          "metadata": {
            "tags": [],
            "needs_background": "light"
          }
        }
      ]
    },
    {
      "cell_type": "markdown",
      "metadata": {
        "id": "gg1pAZrrwkHW"
      },
      "source": [
        "Curvas da K fold cross-validation com os dados de teste"
      ]
    },
    {
      "cell_type": "code",
      "metadata": {
        "colab": {
          "base_uri": "https://localhost:8080/",
          "height": 295
        },
        "id": "yF24AvUS4QlH",
        "outputId": "359a387d-f57b-4172-a845-91d93216b916"
      },
      "source": [
        "plot_Kfold_cross_validation_curves(knn, X_test, y_test)"
      ],
      "execution_count": 91,
      "outputs": [
        {
          "output_type": "display_data",
          "data": {
            "image/png": "[encoded data removed]",
            "text/plain": [
              "<Figure size 432x288 with 1 Axes>"
            ]
          },
          "metadata": {
            "tags": [],
            "needs_background": "light"
          }
        }
      ]
    },
    {
      "cell_type": "markdown",
      "metadata": {
        "id": "giZi9VFEPbfG"
      },
      "source": [
        "# MLPClassifier"
      ]
    },
    {
      "cell_type": "markdown",
      "metadata": {
        "id": "u9DwQbkxxoRG"
      },
      "source": [
        "Utilizaremos a classe do MLP Classifier com algumas alterações dos parâmetros default, pois principalmente relacionado ao número de iterações acaba fazendo com que o tempo de execução se torne algo muito custoso principalmente para executar as k validações cruzadas. Optamos por diminuir o número de layers como o número de neurônios da rede neural para 2 camadas com 50 neurônios cada e um número máximo de iterações igual a 5. Importante deixar claro que o modelo apresenta uma acurácia superor utizando a parametrização padrão da classe."
      ]
    },
    {
      "cell_type": "code",
      "metadata": {
        "id": "TCP1wGp0PdwJ"
      },
      "source": [
        "clf = MLPClassifier(hidden_layer_sizes=(50,50), max_iter=5, alpha=0.0001,\n",
        "                     solver='sgd', verbose=10,  random_state=21,tol=0.000000001)"
      ],
      "execution_count": 92,
      "outputs": []
    },
    {
      "cell_type": "markdown",
      "metadata": {
        "id": "cQ9wZSqs5fQw"
      },
      "source": [
        "## Treino"
      ]
    },
    {
      "cell_type": "markdown",
      "metadata": {
        "id": "n8yuJ2YKoIBL"
      },
      "source": [
        "Treino e predição com o modelo treinado utilizando o MLP classifier"
      ]
    },
    {
      "cell_type": "code",
      "metadata": {
        "id": "9g-Gk6rq2FIT",
        "colab": {
          "base_uri": "https://localhost:8080/"
        },
        "outputId": "329e348a-1c9c-41f2-c749-6afacdade470"
      },
      "source": [
        "clf.fit(X_train, y_train)\n",
        "y_pred = clf.predict(X_train)"
      ],
      "execution_count": 93,
      "outputs": [
        {
          "output_type": "stream",
          "text": [
            "Iteration 1, loss = inf\n",
            "Iteration 2, loss = 0.02712378\n",
            "Iteration 3, loss = inf\n",
            "Iteration 4, loss = 0.01661020\n",
            "Iteration 5, loss = 0.01060315\n"
          ],
          "name": "stdout"
        },
        {
          "output_type": "stream",
          "text": [
            "/usr/local/lib/python3.7/dist-packages/sklearn/neural_network/_multilayer_perceptron.py:571: ConvergenceWarning: Stochastic Optimizer: Maximum iterations (5) reached and the optimization hasn't converged yet.\n",
            "  % self.max_iter, ConvergenceWarning)\n"
          ],
          "name": "stderr"
        }
      ]
    },
    {
      "cell_type": "markdown",
      "metadata": {
        "id": "29BeP_pxo2Se"
      },
      "source": [
        "Relatório de classificação da predição com o modelo MLPClassifier com o sample de treino"
      ]
    },
    {
      "cell_type": "code",
      "metadata": {
        "id": "ZL0h0Lx32Nyt",
        "colab": {
          "base_uri": "https://localhost:8080/"
        },
        "outputId": "7d7b42ce-65e1-4323-be18-6e24b93c1ef1"
      },
      "source": [
        " print(classification_report(y_train, y_pred))"
      ],
      "execution_count": 94,
      "outputs": [
        {
          "output_type": "stream",
          "text": [
            "              precision    recall  f1-score   support\n",
            "\n",
            "           0       1.00      1.00      1.00    227454\n",
            "           1       0.87      0.64      0.74       391\n",
            "\n",
            "    accuracy                           1.00    227845\n",
            "   macro avg       0.93      0.82      0.87    227845\n",
            "weighted avg       1.00      1.00      1.00    227845\n",
            "\n"
          ],
          "name": "stdout"
        }
      ]
    },
    {
      "cell_type": "markdown",
      "metadata": {
        "id": "NJt7rGaAqPzM"
      },
      "source": [
        "Matriz de confusão dos valores preditos com o conjunto de treino"
      ]
    },
    {
      "cell_type": "code",
      "metadata": {
        "id": "AUGrMZhT2Srz",
        "colab": {
          "base_uri": "https://localhost:8080/",
          "height": 173
        },
        "outputId": "a4c9fa94-b01a-4a17-ec28-e2cb0013e0e2"
      },
      "source": [
        "pd.crosstab(y_train, y_pred, rownames=['Real'],colnames=['Predito'],margins=True)"
      ],
      "execution_count": 95,
      "outputs": [
        {
          "output_type": "execute_result",
          "data": {
            "text/html": [
              "<div>\n",
              "<style scoped>\n",
              "    .dataframe tbody tr th:only-of-type {\n",
              "        vertical-align: middle;\n",
              "    }\n",
              "\n",
              "    .dataframe tbody tr th {\n",
              "        vertical-align: top;\n",
              "    }\n",
              "\n",
              "    .dataframe thead th {\n",
              "        text-align: right;\n",
              "    }\n",
              "</style>\n",
              "<table border=\"1\" class=\"dataframe\">\n",
              "  <thead>\n",
              "    <tr style=\"text-align: right;\">\n",
              "      <th>Predito</th>\n",
              "      <th>0</th>\n",
              "      <th>1</th>\n",
              "      <th>All</th>\n",
              "    </tr>\n",
              "    <tr>\n",
              "      <th>Real</th>\n",
              "      <th></th>\n",
              "      <th></th>\n",
              "      <th></th>\n",
              "    </tr>\n",
              "  </thead>\n",
              "  <tbody>\n",
              "    <tr>\n",
              "      <th>0</th>\n",
              "      <td>227416</td>\n",
              "      <td>38</td>\n",
              "      <td>227454</td>\n",
              "    </tr>\n",
              "    <tr>\n",
              "      <th>1</th>\n",
              "      <td>141</td>\n",
              "      <td>250</td>\n",
              "      <td>391</td>\n",
              "    </tr>\n",
              "    <tr>\n",
              "      <th>All</th>\n",
              "      <td>227557</td>\n",
              "      <td>288</td>\n",
              "      <td>227845</td>\n",
              "    </tr>\n",
              "  </tbody>\n",
              "</table>\n",
              "</div>"
            ],
            "text/plain": [
              "Predito       0    1     All\n",
              "Real                        \n",
              "0        227416   38  227454\n",
              "1           141  250     391\n",
              "All      227557  288  227845"
            ]
          },
          "metadata": {
            "tags": []
          },
          "execution_count": 95
        }
      ]
    },
    {
      "cell_type": "markdown",
      "metadata": {
        "id": "nc0KrzlDqVkO"
      },
      "source": [
        "Scores das validações cruzadas com conjunto de treino\n"
      ]
    },
    {
      "cell_type": "code",
      "metadata": {
        "id": "jJEpukK92ZED",
        "colab": {
          "base_uri": "https://localhost:8080/"
        },
        "outputId": "9dafc25d-224f-472d-b1e7-853fcb93a62c"
      },
      "source": [
        "scores = cross_val_score(clf, X_train, y_train, cv=5, scoring='accuracy')\n",
        "scores"
      ],
      "execution_count": 96,
      "outputs": [
        {
          "output_type": "stream",
          "text": [
            "Iteration 1, loss = inf\n",
            "Iteration 2, loss = 0.02722532\n",
            "Iteration 3, loss = 0.02695025\n",
            "Iteration 4, loss = 0.02307299\n",
            "Iteration 5, loss = 0.01372564\n"
          ],
          "name": "stdout"
        },
        {
          "output_type": "stream",
          "text": [
            "/usr/local/lib/python3.7/dist-packages/sklearn/neural_network/_multilayer_perceptron.py:571: ConvergenceWarning: Stochastic Optimizer: Maximum iterations (5) reached and the optimization hasn't converged yet.\n",
            "  % self.max_iter, ConvergenceWarning)\n"
          ],
          "name": "stderr"
        },
        {
          "output_type": "stream",
          "text": [
            "Iteration 1, loss = inf\n",
            "Iteration 2, loss = 0.02913047\n",
            "Iteration 3, loss = 0.03468142\n",
            "Iteration 4, loss = 0.01834889\n",
            "Iteration 5, loss = 0.01344923\n"
          ],
          "name": "stdout"
        },
        {
          "output_type": "stream",
          "text": [
            "/usr/local/lib/python3.7/dist-packages/sklearn/neural_network/_multilayer_perceptron.py:571: ConvergenceWarning: Stochastic Optimizer: Maximum iterations (5) reached and the optimization hasn't converged yet.\n",
            "  % self.max_iter, ConvergenceWarning)\n"
          ],
          "name": "stderr"
        },
        {
          "output_type": "stream",
          "text": [
            "Iteration 1, loss = inf\n",
            "Iteration 2, loss = 0.02834564\n",
            "Iteration 3, loss = inf\n",
            "Iteration 4, loss = 0.02769228\n",
            "Iteration 5, loss = 0.01786017\n"
          ],
          "name": "stdout"
        },
        {
          "output_type": "stream",
          "text": [
            "/usr/local/lib/python3.7/dist-packages/sklearn/neural_network/_multilayer_perceptron.py:571: ConvergenceWarning: Stochastic Optimizer: Maximum iterations (5) reached and the optimization hasn't converged yet.\n",
            "  % self.max_iter, ConvergenceWarning)\n"
          ],
          "name": "stderr"
        },
        {
          "output_type": "stream",
          "text": [
            "Iteration 1, loss = inf\n",
            "Iteration 2, loss = 0.02960014\n",
            "Iteration 3, loss = inf\n",
            "Iteration 4, loss = 0.01987128\n",
            "Iteration 5, loss = 0.01891146\n"
          ],
          "name": "stdout"
        },
        {
          "output_type": "stream",
          "text": [
            "/usr/local/lib/python3.7/dist-packages/sklearn/neural_network/_multilayer_perceptron.py:571: ConvergenceWarning: Stochastic Optimizer: Maximum iterations (5) reached and the optimization hasn't converged yet.\n",
            "  % self.max_iter, ConvergenceWarning)\n"
          ],
          "name": "stderr"
        },
        {
          "output_type": "stream",
          "text": [
            "Iteration 1, loss = inf\n",
            "Iteration 2, loss = 0.03324739\n",
            "Iteration 3, loss = inf\n",
            "Iteration 4, loss = 0.01918058\n",
            "Iteration 5, loss = 0.01250826\n"
          ],
          "name": "stdout"
        },
        {
          "output_type": "stream",
          "text": [
            "/usr/local/lib/python3.7/dist-packages/sklearn/neural_network/_multilayer_perceptron.py:571: ConvergenceWarning: Stochastic Optimizer: Maximum iterations (5) reached and the optimization hasn't converged yet.\n",
            "  % self.max_iter, ConvergenceWarning)\n"
          ],
          "name": "stderr"
        },
        {
          "output_type": "execute_result",
          "data": {
            "text/plain": [
              "array([0.99918804, 0.99929777, 0.99881498, 0.99899054, 0.99870526])"
            ]
          },
          "metadata": {
            "tags": []
          },
          "execution_count": 96
        }
      ]
    },
    {
      "cell_type": "markdown",
      "metadata": {
        "id": "cJSUAaXAqon-"
      },
      "source": [
        "Media dos scores obtidos das validações cruzadas"
      ]
    },
    {
      "cell_type": "code",
      "metadata": {
        "id": "xKIgmpAo2bpy",
        "colab": {
          "base_uri": "https://localhost:8080/"
        },
        "outputId": "116464aa-bac1-4985-b548-b3cdc1e420f6"
      },
      "source": [
        "scores.mean()"
      ],
      "execution_count": 97,
      "outputs": [
        {
          "output_type": "execute_result",
          "data": {
            "text/plain": [
              "0.9989993197129629"
            ]
          },
          "metadata": {
            "tags": []
          },
          "execution_count": 97
        }
      ]
    },
    {
      "cell_type": "markdown",
      "metadata": {
        "id": "u6IzlY3JruWI"
      },
      "source": [
        "Acurácia das predições com base no conjunto de treino"
      ]
    },
    {
      "cell_type": "code",
      "metadata": {
        "id": "9CObHkwe2NEz",
        "colab": {
          "base_uri": "https://localhost:8080/"
        },
        "outputId": "0b9d6158-2b43-4271-cfd2-26d691f5fc17"
      },
      "source": [
        "accuracy_score(y_train, y_pred)"
      ],
      "execution_count": 98,
      "outputs": [
        {
          "output_type": "execute_result",
          "data": {
            "text/plain": [
              "0.9992143781957032"
            ]
          },
          "metadata": {
            "tags": []
          },
          "execution_count": 98
        }
      ]
    },
    {
      "cell_type": "markdown",
      "metadata": {
        "id": "MMSaYQWPrvxv"
      },
      "source": [
        "Erro absoluto com base no conjunto de treino"
      ]
    },
    {
      "cell_type": "code",
      "metadata": {
        "id": "V-7innmQ2d0F",
        "colab": {
          "base_uri": "https://localhost:8080/"
        },
        "outputId": "f99679e2-5404-4ee0-a1ca-d612940a6cdb"
      },
      "source": [
        "e = mean_absolute_error(y_train, y_pred)\n",
        "e"
      ],
      "execution_count": 99,
      "outputs": [
        {
          "output_type": "execute_result",
          "data": {
            "text/plain": [
              "0.0007856218042967807"
            ]
          },
          "metadata": {
            "tags": []
          },
          "execution_count": 99
        }
      ]
    },
    {
      "cell_type": "markdown",
      "metadata": {
        "id": "qpvzt34sr567"
      },
      "source": [
        "Curva ROC com os dados de treino"
      ]
    },
    {
      "cell_type": "code",
      "metadata": {
        "id": "e7VLXhbi3XCI",
        "colab": {
          "base_uri": "https://localhost:8080/",
          "height": 265
        },
        "outputId": "37fd7d60-6df5-4df4-bcb3-4fabd508dcac"
      },
      "source": [
        "fpr, tpr, _ = roc_curve(y_train, y_pred)\n",
        "roc_auc_scr =  roc_auc_score(y_train, y_pred)\n",
        "plt.plot(fpr,tpr,label=\"data, auc=\"+str(roc_auc_scr))\n",
        "plt.legend(loc=4)\n",
        "plt.show()"
      ],
      "execution_count": 100,
      "outputs": [
        {
          "output_type": "display_data",
          "data": {
            "image/png": "[encoded data removed]",
            "text/plain": [
              "<Figure size 432x288 with 1 Axes>"
            ]
          },
          "metadata": {
            "tags": [],
            "needs_background": "light"
          }
        }
      ]
    },
    {
      "cell_type": "markdown",
      "metadata": {
        "id": "Ndz9FKl9r91L"
      },
      "source": [
        "Curvas da K fold cross-validation com os dados de treino"
      ]
    },
    {
      "cell_type": "code",
      "metadata": {
        "id": "ZW6DtnbJ4hw9",
        "colab": {
          "base_uri": "https://localhost:8080/",
          "height": 910
        },
        "outputId": "26676b64-702e-4c10-c732-8837c142fca2"
      },
      "source": [
        "plot_Kfold_cross_validation_curves(clf, X_train, y_train)"
      ],
      "execution_count": 101,
      "outputs": [
        {
          "output_type": "stream",
          "text": [
            "Iteration 1, loss = inf\n",
            "Iteration 2, loss = 0.02722532\n",
            "Iteration 3, loss = 0.02695025\n",
            "Iteration 4, loss = 0.02307299\n",
            "Iteration 5, loss = 0.01372564\n"
          ],
          "name": "stdout"
        },
        {
          "output_type": "stream",
          "text": [
            "/usr/local/lib/python3.7/dist-packages/sklearn/neural_network/_multilayer_perceptron.py:571: ConvergenceWarning: Stochastic Optimizer: Maximum iterations (5) reached and the optimization hasn't converged yet.\n",
            "  % self.max_iter, ConvergenceWarning)\n"
          ],
          "name": "stderr"
        },
        {
          "output_type": "stream",
          "text": [
            "Iteration 1, loss = inf\n",
            "Iteration 2, loss = 0.02913047\n",
            "Iteration 3, loss = 0.03468142\n",
            "Iteration 4, loss = 0.01834889\n",
            "Iteration 5, loss = 0.01344923\n"
          ],
          "name": "stdout"
        },
        {
          "output_type": "stream",
          "text": [
            "/usr/local/lib/python3.7/dist-packages/sklearn/neural_network/_multilayer_perceptron.py:571: ConvergenceWarning: Stochastic Optimizer: Maximum iterations (5) reached and the optimization hasn't converged yet.\n",
            "  % self.max_iter, ConvergenceWarning)\n"
          ],
          "name": "stderr"
        },
        {
          "output_type": "stream",
          "text": [
            "Iteration 1, loss = inf\n",
            "Iteration 2, loss = 0.02834564\n",
            "Iteration 3, loss = inf\n",
            "Iteration 4, loss = 0.02769228\n",
            "Iteration 5, loss = 0.01786017\n"
          ],
          "name": "stdout"
        },
        {
          "output_type": "stream",
          "text": [
            "/usr/local/lib/python3.7/dist-packages/sklearn/neural_network/_multilayer_perceptron.py:571: ConvergenceWarning: Stochastic Optimizer: Maximum iterations (5) reached and the optimization hasn't converged yet.\n",
            "  % self.max_iter, ConvergenceWarning)\n"
          ],
          "name": "stderr"
        },
        {
          "output_type": "stream",
          "text": [
            "Iteration 1, loss = inf\n",
            "Iteration 2, loss = 0.02960014\n",
            "Iteration 3, loss = inf\n",
            "Iteration 4, loss = 0.01987128\n",
            "Iteration 5, loss = 0.01891146\n"
          ],
          "name": "stdout"
        },
        {
          "output_type": "stream",
          "text": [
            "/usr/local/lib/python3.7/dist-packages/sklearn/neural_network/_multilayer_perceptron.py:571: ConvergenceWarning: Stochastic Optimizer: Maximum iterations (5) reached and the optimization hasn't converged yet.\n",
            "  % self.max_iter, ConvergenceWarning)\n"
          ],
          "name": "stderr"
        },
        {
          "output_type": "stream",
          "text": [
            "Iteration 1, loss = inf\n",
            "Iteration 2, loss = 0.03324739\n",
            "Iteration 3, loss = inf\n",
            "Iteration 4, loss = 0.01918058\n",
            "Iteration 5, loss = 0.01250826\n"
          ],
          "name": "stdout"
        },
        {
          "output_type": "stream",
          "text": [
            "/usr/local/lib/python3.7/dist-packages/sklearn/neural_network/_multilayer_perceptron.py:571: ConvergenceWarning: Stochastic Optimizer: Maximum iterations (5) reached and the optimization hasn't converged yet.\n",
            "  % self.max_iter, ConvergenceWarning)\n"
          ],
          "name": "stderr"
        },
        {
          "output_type": "display_data",
          "data": {
            "image/png": "[encoded data removed]",
            "text/plain": [
              "<Figure size 432x288 with 1 Axes>"
            ]
          },
          "metadata": {
            "tags": [],
            "needs_background": "light"
          }
        }
      ]
    },
    {
      "cell_type": "markdown",
      "metadata": {
        "id": "Wnv9olx35m6Q"
      },
      "source": [
        "## Teste"
      ]
    },
    {
      "cell_type": "markdown",
      "metadata": {
        "id": "aFWWnqfIsFE3"
      },
      "source": [
        "Predição dos dados de teste com o modelo treinado utilizando o MLP classifier"
      ]
    },
    {
      "cell_type": "code",
      "metadata": {
        "id": "bB7rrxM241Yr"
      },
      "source": [
        "y_pred = clf.predict(X_test)"
      ],
      "execution_count": 102,
      "outputs": []
    },
    {
      "cell_type": "markdown",
      "metadata": {
        "id": "ZwWYvdNysR2V"
      },
      "source": [
        "Relatório de classificação da predição com o modelo MLPClassifier com o sample de teste"
      ]
    },
    {
      "cell_type": "code",
      "metadata": {
        "id": "RUVaLQc746WR",
        "colab": {
          "base_uri": "https://localhost:8080/"
        },
        "outputId": "803e6da2-7932-4ff5-83e6-7da1919c9169"
      },
      "source": [
        " print(classification_report(y_test, y_pred))"
      ],
      "execution_count": 103,
      "outputs": [
        {
          "output_type": "stream",
          "text": [
            "              precision    recall  f1-score   support\n",
            "\n",
            "           0       1.00      1.00      1.00     56861\n",
            "           1       0.88      0.56      0.69       101\n",
            "\n",
            "    accuracy                           1.00     56962\n",
            "   macro avg       0.94      0.78      0.84     56962\n",
            "weighted avg       1.00      1.00      1.00     56962\n",
            "\n"
          ],
          "name": "stdout"
        }
      ]
    },
    {
      "cell_type": "markdown",
      "metadata": {
        "id": "mM6NcLFvsZhu"
      },
      "source": [
        "\n",
        "Matriz de confusão dos valores preditos com o conjunto de teste"
      ]
    },
    {
      "cell_type": "code",
      "metadata": {
        "id": "bDmSabqj4-YW",
        "colab": {
          "base_uri": "https://localhost:8080/",
          "height": 173
        },
        "outputId": "cf033ae8-2e8d-4c45-8dcf-dc548e62f523"
      },
      "source": [
        "pd.crosstab(y_test, y_pred, rownames=['Real'],colnames=['Predito'],margins=True)"
      ],
      "execution_count": 104,
      "outputs": [
        {
          "output_type": "execute_result",
          "data": {
            "text/html": [
              "<div>\n",
              "<style scoped>\n",
              "    .dataframe tbody tr th:only-of-type {\n",
              "        vertical-align: middle;\n",
              "    }\n",
              "\n",
              "    .dataframe tbody tr th {\n",
              "        vertical-align: top;\n",
              "    }\n",
              "\n",
              "    .dataframe thead th {\n",
              "        text-align: right;\n",
              "    }\n",
              "</style>\n",
              "<table border=\"1\" class=\"dataframe\">\n",
              "  <thead>\n",
              "    <tr style=\"text-align: right;\">\n",
              "      <th>Predito</th>\n",
              "      <th>0</th>\n",
              "      <th>1</th>\n",
              "      <th>All</th>\n",
              "    </tr>\n",
              "    <tr>\n",
              "      <th>Real</th>\n",
              "      <th></th>\n",
              "      <th></th>\n",
              "      <th></th>\n",
              "    </tr>\n",
              "  </thead>\n",
              "  <tbody>\n",
              "    <tr>\n",
              "      <th>0</th>\n",
              "      <td>56853</td>\n",
              "      <td>8</td>\n",
              "      <td>56861</td>\n",
              "    </tr>\n",
              "    <tr>\n",
              "      <th>1</th>\n",
              "      <td>44</td>\n",
              "      <td>57</td>\n",
              "      <td>101</td>\n",
              "    </tr>\n",
              "    <tr>\n",
              "      <th>All</th>\n",
              "      <td>56897</td>\n",
              "      <td>65</td>\n",
              "      <td>56962</td>\n",
              "    </tr>\n",
              "  </tbody>\n",
              "</table>\n",
              "</div>"
            ],
            "text/plain": [
              "Predito      0   1    All\n",
              "Real                     \n",
              "0        56853   8  56861\n",
              "1           44  57    101\n",
              "All      56897  65  56962"
            ]
          },
          "metadata": {
            "tags": []
          },
          "execution_count": 104
        }
      ]
    },
    {
      "cell_type": "markdown",
      "metadata": {
        "id": "8oUaUSc8sfDW"
      },
      "source": [
        "Scores das validações cruzadas com conjunto de treino"
      ]
    },
    {
      "cell_type": "code",
      "metadata": {
        "id": "bgp98eI55Cgl",
        "colab": {
          "base_uri": "https://localhost:8080/"
        },
        "outputId": "3853bd0e-badb-4f8d-fc9e-3b7814e6f566"
      },
      "source": [
        "scores = cross_val_score(clf, X_test, y_test, cv=5, scoring='accuracy')\r\n",
        "scores"
      ],
      "execution_count": 105,
      "outputs": [
        {
          "output_type": "stream",
          "text": [
            "Iteration 1, loss = inf\n",
            "Iteration 2, loss = 0.10979617\n",
            "Iteration 3, loss = 0.07809046\n",
            "Iteration 4, loss = 0.05709109\n",
            "Iteration 5, loss = 0.04128277\n"
          ],
          "name": "stdout"
        },
        {
          "output_type": "stream",
          "text": [
            "/usr/local/lib/python3.7/dist-packages/sklearn/neural_network/_multilayer_perceptron.py:571: ConvergenceWarning: Stochastic Optimizer: Maximum iterations (5) reached and the optimization hasn't converged yet.\n",
            "  % self.max_iter, ConvergenceWarning)\n"
          ],
          "name": "stderr"
        },
        {
          "output_type": "stream",
          "text": [
            "Iteration 1, loss = inf\n",
            "Iteration 2, loss = 0.10426688\n",
            "Iteration 3, loss = 0.07710955\n",
            "Iteration 4, loss = 0.05767491\n",
            "Iteration 5, loss = 0.04334860\n"
          ],
          "name": "stdout"
        },
        {
          "output_type": "stream",
          "text": [
            "/usr/local/lib/python3.7/dist-packages/sklearn/neural_network/_multilayer_perceptron.py:571: ConvergenceWarning: Stochastic Optimizer: Maximum iterations (5) reached and the optimization hasn't converged yet.\n",
            "  % self.max_iter, ConvergenceWarning)\n"
          ],
          "name": "stderr"
        },
        {
          "output_type": "stream",
          "text": [
            "Iteration 1, loss = inf\n",
            "Iteration 2, loss = 0.10734112\n",
            "Iteration 3, loss = 0.07366163\n",
            "Iteration 4, loss = 0.05507909\n",
            "Iteration 5, loss = 0.03982645\n"
          ],
          "name": "stdout"
        },
        {
          "output_type": "stream",
          "text": [
            "/usr/local/lib/python3.7/dist-packages/sklearn/neural_network/_multilayer_perceptron.py:571: ConvergenceWarning: Stochastic Optimizer: Maximum iterations (5) reached and the optimization hasn't converged yet.\n",
            "  % self.max_iter, ConvergenceWarning)\n"
          ],
          "name": "stderr"
        },
        {
          "output_type": "stream",
          "text": [
            "Iteration 1, loss = inf\n",
            "Iteration 2, loss = 0.11081528\n",
            "Iteration 3, loss = 0.07684522\n",
            "Iteration 4, loss = 0.05440205\n",
            "Iteration 5, loss = 0.03938074\n"
          ],
          "name": "stdout"
        },
        {
          "output_type": "stream",
          "text": [
            "/usr/local/lib/python3.7/dist-packages/sklearn/neural_network/_multilayer_perceptron.py:571: ConvergenceWarning: Stochastic Optimizer: Maximum iterations (5) reached and the optimization hasn't converged yet.\n",
            "  % self.max_iter, ConvergenceWarning)\n"
          ],
          "name": "stderr"
        },
        {
          "output_type": "stream",
          "text": [
            "Iteration 1, loss = inf\n",
            "Iteration 2, loss = 0.10059844\n",
            "Iteration 3, loss = 0.07369080\n",
            "Iteration 4, loss = 0.05428945\n",
            "Iteration 5, loss = 0.03891028\n"
          ],
          "name": "stdout"
        },
        {
          "output_type": "stream",
          "text": [
            "/usr/local/lib/python3.7/dist-packages/sklearn/neural_network/_multilayer_perceptron.py:571: ConvergenceWarning: Stochastic Optimizer: Maximum iterations (5) reached and the optimization hasn't converged yet.\n",
            "  % self.max_iter, ConvergenceWarning)\n"
          ],
          "name": "stderr"
        },
        {
          "output_type": "execute_result",
          "data": {
            "text/plain": [
              "array([0.99877118, 0.99850786, 0.99868329, 0.99885885, 0.99868329])"
            ]
          },
          "metadata": {
            "tags": []
          },
          "execution_count": 105
        }
      ]
    },
    {
      "cell_type": "markdown",
      "metadata": {
        "id": "RyswG7Qjsha0"
      },
      "source": [
        "Média dos scores obtidos das k validações cruzadas"
      ]
    },
    {
      "cell_type": "code",
      "metadata": {
        "id": "3duu5Rxy5F3a",
        "colab": {
          "base_uri": "https://localhost:8080/"
        },
        "outputId": "53790f36-0e9b-47ef-f09b-5a8b6a9d6856"
      },
      "source": [
        "scores.mean()"
      ],
      "execution_count": 106,
      "outputs": [
        {
          "output_type": "execute_result",
          "data": {
            "text/plain": [
              "0.9987008904664505"
            ]
          },
          "metadata": {
            "tags": []
          },
          "execution_count": 106
        }
      ]
    },
    {
      "cell_type": "markdown",
      "metadata": {
        "id": "uytkE_CBspwW"
      },
      "source": [
        "Acurácia das predições com base no conjunto de teste"
      ]
    },
    {
      "cell_type": "code",
      "metadata": {
        "id": "KQYudM9b5H38",
        "colab": {
          "base_uri": "https://localhost:8080/"
        },
        "outputId": "4623108b-abe7-405f-8f3e-b4f5aba1db08"
      },
      "source": [
        "accuracy_score(y_test, y_pred)"
      ],
      "execution_count": 107,
      "outputs": [
        {
          "output_type": "execute_result",
          "data": {
            "text/plain": [
              "0.9990871107053826"
            ]
          },
          "metadata": {
            "tags": []
          },
          "execution_count": 107
        }
      ]
    },
    {
      "cell_type": "markdown",
      "metadata": {
        "id": "uH_3qEecsuPq"
      },
      "source": [
        "Erro absoluto com base no conjunto de teste"
      ]
    },
    {
      "cell_type": "code",
      "metadata": {
        "id": "SRvKrjsK5ObE",
        "colab": {
          "base_uri": "https://localhost:8080/"
        },
        "outputId": "5eb14678-ddae-4ab6-94a6-61748807945b"
      },
      "source": [
        "e = mean_absolute_error(y_test, y_pred)\r\n",
        "e"
      ],
      "execution_count": 108,
      "outputs": [
        {
          "output_type": "execute_result",
          "data": {
            "text/plain": [
              "0.0009128892946174643"
            ]
          },
          "metadata": {
            "tags": []
          },
          "execution_count": 108
        }
      ]
    },
    {
      "cell_type": "markdown",
      "metadata": {
        "id": "N0EHpEnQswBq"
      },
      "source": [
        "Curva ROC utilizando os dados de teste"
      ]
    },
    {
      "cell_type": "code",
      "metadata": {
        "id": "uCOF_vtk5RPb",
        "colab": {
          "base_uri": "https://localhost:8080/",
          "height": 265
        },
        "outputId": "92a12571-d992-4f58-8b14-4cba41819812"
      },
      "source": [
        "fpr, tpr, _ = roc_curve(y_test, y_pred)\r\n",
        "roc_auc_scr =  roc_auc_score(y_test, y_pred)\r\n",
        "plt.plot(fpr,tpr,label=\"data, auc=\"+str(roc_auc_scr))\r\n",
        "plt.legend(loc=4)\r\n",
        "plt.show()"
      ],
      "execution_count": 109,
      "outputs": [
        {
          "output_type": "display_data",
          "data": {
            "image/png": "[encoded data removed]",
            "text/plain": [
              "<Figure size 432x288 with 1 Axes>"
            ]
          },
          "metadata": {
            "tags": [],
            "needs_background": "light"
          }
        }
      ]
    },
    {
      "cell_type": "markdown",
      "metadata": {
        "id": "s9N2xNcts-Eg"
      },
      "source": [
        "Curvas da K fold cross-validation com os dados de teste"
      ]
    },
    {
      "cell_type": "code",
      "metadata": {
        "id": "NUMi0WOV5UAM",
        "colab": {
          "base_uri": "https://localhost:8080/",
          "height": 910
        },
        "outputId": "6a555738-96f1-4a18-d638-7fbf16a5202b"
      },
      "source": [
        "plot_Kfold_cross_validation_curves(clf, X_test, y_test)"
      ],
      "execution_count": 110,
      "outputs": [
        {
          "output_type": "stream",
          "text": [
            "Iteration 1, loss = inf\n",
            "Iteration 2, loss = 0.10979617\n",
            "Iteration 3, loss = 0.07809046\n",
            "Iteration 4, loss = 0.05709109\n",
            "Iteration 5, loss = 0.04128277\n"
          ],
          "name": "stdout"
        },
        {
          "output_type": "stream",
          "text": [
            "/usr/local/lib/python3.7/dist-packages/sklearn/neural_network/_multilayer_perceptron.py:571: ConvergenceWarning: Stochastic Optimizer: Maximum iterations (5) reached and the optimization hasn't converged yet.\n",
            "  % self.max_iter, ConvergenceWarning)\n"
          ],
          "name": "stderr"
        },
        {
          "output_type": "stream",
          "text": [
            "Iteration 1, loss = inf\n",
            "Iteration 2, loss = 0.10426688\n",
            "Iteration 3, loss = 0.07710955\n",
            "Iteration 4, loss = 0.05767491\n",
            "Iteration 5, loss = 0.04334860\n"
          ],
          "name": "stdout"
        },
        {
          "output_type": "stream",
          "text": [
            "/usr/local/lib/python3.7/dist-packages/sklearn/neural_network/_multilayer_perceptron.py:571: ConvergenceWarning: Stochastic Optimizer: Maximum iterations (5) reached and the optimization hasn't converged yet.\n",
            "  % self.max_iter, ConvergenceWarning)\n"
          ],
          "name": "stderr"
        },
        {
          "output_type": "stream",
          "text": [
            "Iteration 1, loss = inf\n",
            "Iteration 2, loss = 0.10734112\n",
            "Iteration 3, loss = 0.07366163\n",
            "Iteration 4, loss = 0.05507909\n",
            "Iteration 5, loss = 0.03982645\n"
          ],
          "name": "stdout"
        },
        {
          "output_type": "stream",
          "text": [
            "/usr/local/lib/python3.7/dist-packages/sklearn/neural_network/_multilayer_perceptron.py:571: ConvergenceWarning: Stochastic Optimizer: Maximum iterations (5) reached and the optimization hasn't converged yet.\n",
            "  % self.max_iter, ConvergenceWarning)\n"
          ],
          "name": "stderr"
        },
        {
          "output_type": "stream",
          "text": [
            "Iteration 1, loss = inf\n",
            "Iteration 2, loss = 0.11081528\n",
            "Iteration 3, loss = 0.07684522\n",
            "Iteration 4, loss = 0.05440205\n",
            "Iteration 5, loss = 0.03938074\n"
          ],
          "name": "stdout"
        },
        {
          "output_type": "stream",
          "text": [
            "/usr/local/lib/python3.7/dist-packages/sklearn/neural_network/_multilayer_perceptron.py:571: ConvergenceWarning: Stochastic Optimizer: Maximum iterations (5) reached and the optimization hasn't converged yet.\n",
            "  % self.max_iter, ConvergenceWarning)\n"
          ],
          "name": "stderr"
        },
        {
          "output_type": "stream",
          "text": [
            "Iteration 1, loss = inf\n",
            "Iteration 2, loss = 0.10059844\n",
            "Iteration 3, loss = 0.07369080\n",
            "Iteration 4, loss = 0.05428945\n",
            "Iteration 5, loss = 0.03891028\n"
          ],
          "name": "stdout"
        },
        {
          "output_type": "stream",
          "text": [
            "/usr/local/lib/python3.7/dist-packages/sklearn/neural_network/_multilayer_perceptron.py:571: ConvergenceWarning: Stochastic Optimizer: Maximum iterations (5) reached and the optimization hasn't converged yet.\n",
            "  % self.max_iter, ConvergenceWarning)\n"
          ],
          "name": "stderr"
        },
        {
          "output_type": "display_data",
          "data": {
            "image/png": "[encoded data removed]",
            "text/plain": [
              "<Figure size 432x288 with 1 Axes>"
            ]
          },
          "metadata": {
            "tags": [],
            "needs_background": "light"
          }
        }
      ]
    },
    {
      "cell_type": "markdown",
      "metadata": {
        "id": "NTCGM1oI80Z0"
      },
      "source": [
        "É uma pena para a execução do trabalho com base nesse tema não ter o dataset pré processamento para identificar um possível overfit nos modelos criados, haja vista a grande acurácia apresentada. Apesar da incógnita perando as features dos dados pré processamento podemos concluir que o objetivo foi alcançado com sucesso. Podemos fazer esta afirmação olhando para as taxas de falso positivo e falso negativo já que os dados em si apresentam em ampla maioria registros de transações não fraudulentas, logo o peso de marcar uma transação como fraudulenda ou não sem que a mesma tenha realmente esta classificação adquire um peso maior."
      ]
    }
  ]
}