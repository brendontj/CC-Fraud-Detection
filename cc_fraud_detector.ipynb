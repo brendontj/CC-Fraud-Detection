{
  "nbformat": 4,
  "nbformat_minor": 0,
  "metadata": {
    "colab": {
      "name": "cc_fraud_detector.ipynb",
      "provenance": [],
      "collapsed_sections": [],
      "include_colab_link": true
    },
    "kernelspec": {
      "name": "python3",
      "display_name": "Python 3"
    }
  },
  "cells": [
    {
      "cell_type": "markdown",
      "metadata": {
        "id": "view-in-github",
        "colab_type": "text"
      },
      "source": [
        "<a href=\"https://colab.research.google.com/github/brendontj/CC-Fraud-Detection/blob/master/cc_fraud_detector.ipynb\" target=\"_parent\"><img src=\"https://colab.research.google.com/assets/colab-badge.svg\" alt=\"Open In Colab\"/></a>"
      ]
    },
    {
      "cell_type": "code",
      "metadata": {
        "id": "yNc2f7lJTRQn"
      },
      "source": [
        "import pandas as pd\n",
        "import numpy as np\n",
        "import seaborn as sns\n",
        "import matplotlib.pyplot as plt\n",
        "\n",
        "from sklearn.model_selection import train_test_split, cross_val_score, StratifiedKFold\n",
        "from sklearn.feature_selection import mutual_info_classif, SelectKBest\n",
        "from sklearn.ensemble import RandomForestClassifier\n",
        "from sklearn.metrics import classification_report, roc_curve, roc_auc_score, mean_squared_error, accuracy_score, plot_roc_curve, auc\n",
        "from sklearn.neighbors import KNeighborsClassifier\n",
        "from sklearn.neural_network import MLPClassifier\n",
        "from math import sqrt"
      ],
      "execution_count": 1,
      "outputs": []
    },
    {
      "cell_type": "code",
      "metadata": {
        "colab": {
          "base_uri": "https://localhost:8080/",
          "height": 241
        },
        "id": "eZUVuwvxffVP",
        "outputId": "d3ae2111-9573-4bb3-ff4d-b1997a2386f6"
      },
      "source": [
        "data = pd.read_csv('creditcard.csv')\n",
        "print('Quantidade de linhas do dataset {}'.format(data.shape[0]))\n",
        "data.head()"
      ],
      "execution_count": 2,
      "outputs": [
        {
          "output_type": "stream",
          "text": [
            "Quantidade de linhas do dataset 284807\n"
          ],
          "name": "stdout"
        },
        {
          "output_type": "execute_result",
          "data": {
            "text/html": [
              "<div>\n",
              "<style scoped>\n",
              "    .dataframe tbody tr th:only-of-type {\n",
              "        vertical-align: middle;\n",
              "    }\n",
              "\n",
              "    .dataframe tbody tr th {\n",
              "        vertical-align: top;\n",
              "    }\n",
              "\n",
              "    .dataframe thead th {\n",
              "        text-align: right;\n",
              "    }\n",
              "</style>\n",
              "<table border=\"1\" class=\"dataframe\">\n",
              "  <thead>\n",
              "    <tr style=\"text-align: right;\">\n",
              "      <th></th>\n",
              "      <th>Time</th>\n",
              "      <th>V1</th>\n",
              "      <th>V2</th>\n",
              "      <th>V3</th>\n",
              "      <th>V4</th>\n",
              "      <th>V5</th>\n",
              "      <th>V6</th>\n",
              "      <th>V7</th>\n",
              "      <th>V8</th>\n",
              "      <th>V9</th>\n",
              "      <th>V10</th>\n",
              "      <th>V11</th>\n",
              "      <th>V12</th>\n",
              "      <th>V13</th>\n",
              "      <th>V14</th>\n",
              "      <th>V15</th>\n",
              "      <th>V16</th>\n",
              "      <th>V17</th>\n",
              "      <th>V18</th>\n",
              "      <th>V19</th>\n",
              "      <th>V20</th>\n",
              "      <th>V21</th>\n",
              "      <th>V22</th>\n",
              "      <th>V23</th>\n",
              "      <th>V24</th>\n",
              "      <th>V25</th>\n",
              "      <th>V26</th>\n",
              "      <th>V27</th>\n",
              "      <th>V28</th>\n",
              "      <th>Amount</th>\n",
              "      <th>Class</th>\n",
              "    </tr>\n",
              "  </thead>\n",
              "  <tbody>\n",
              "    <tr>\n",
              "      <th>0</th>\n",
              "      <td>0.0</td>\n",
              "      <td>-1.359807</td>\n",
              "      <td>-0.072781</td>\n",
              "      <td>2.536347</td>\n",
              "      <td>1.378155</td>\n",
              "      <td>-0.338321</td>\n",
              "      <td>0.462388</td>\n",
              "      <td>0.239599</td>\n",
              "      <td>0.098698</td>\n",
              "      <td>0.363787</td>\n",
              "      <td>0.090794</td>\n",
              "      <td>-0.551600</td>\n",
              "      <td>-0.617801</td>\n",
              "      <td>-0.991390</td>\n",
              "      <td>-0.311169</td>\n",
              "      <td>1.468177</td>\n",
              "      <td>-0.470401</td>\n",
              "      <td>0.207971</td>\n",
              "      <td>0.025791</td>\n",
              "      <td>0.403993</td>\n",
              "      <td>0.251412</td>\n",
              "      <td>-0.018307</td>\n",
              "      <td>0.277838</td>\n",
              "      <td>-0.110474</td>\n",
              "      <td>0.066928</td>\n",
              "      <td>0.128539</td>\n",
              "      <td>-0.189115</td>\n",
              "      <td>0.133558</td>\n",
              "      <td>-0.021053</td>\n",
              "      <td>149.62</td>\n",
              "      <td>0</td>\n",
              "    </tr>\n",
              "    <tr>\n",
              "      <th>1</th>\n",
              "      <td>0.0</td>\n",
              "      <td>1.191857</td>\n",
              "      <td>0.266151</td>\n",
              "      <td>0.166480</td>\n",
              "      <td>0.448154</td>\n",
              "      <td>0.060018</td>\n",
              "      <td>-0.082361</td>\n",
              "      <td>-0.078803</td>\n",
              "      <td>0.085102</td>\n",
              "      <td>-0.255425</td>\n",
              "      <td>-0.166974</td>\n",
              "      <td>1.612727</td>\n",
              "      <td>1.065235</td>\n",
              "      <td>0.489095</td>\n",
              "      <td>-0.143772</td>\n",
              "      <td>0.635558</td>\n",
              "      <td>0.463917</td>\n",
              "      <td>-0.114805</td>\n",
              "      <td>-0.183361</td>\n",
              "      <td>-0.145783</td>\n",
              "      <td>-0.069083</td>\n",
              "      <td>-0.225775</td>\n",
              "      <td>-0.638672</td>\n",
              "      <td>0.101288</td>\n",
              "      <td>-0.339846</td>\n",
              "      <td>0.167170</td>\n",
              "      <td>0.125895</td>\n",
              "      <td>-0.008983</td>\n",
              "      <td>0.014724</td>\n",
              "      <td>2.69</td>\n",
              "      <td>0</td>\n",
              "    </tr>\n",
              "    <tr>\n",
              "      <th>2</th>\n",
              "      <td>1.0</td>\n",
              "      <td>-1.358354</td>\n",
              "      <td>-1.340163</td>\n",
              "      <td>1.773209</td>\n",
              "      <td>0.379780</td>\n",
              "      <td>-0.503198</td>\n",
              "      <td>1.800499</td>\n",
              "      <td>0.791461</td>\n",
              "      <td>0.247676</td>\n",
              "      <td>-1.514654</td>\n",
              "      <td>0.207643</td>\n",
              "      <td>0.624501</td>\n",
              "      <td>0.066084</td>\n",
              "      <td>0.717293</td>\n",
              "      <td>-0.165946</td>\n",
              "      <td>2.345865</td>\n",
              "      <td>-2.890083</td>\n",
              "      <td>1.109969</td>\n",
              "      <td>-0.121359</td>\n",
              "      <td>-2.261857</td>\n",
              "      <td>0.524980</td>\n",
              "      <td>0.247998</td>\n",
              "      <td>0.771679</td>\n",
              "      <td>0.909412</td>\n",
              "      <td>-0.689281</td>\n",
              "      <td>-0.327642</td>\n",
              "      <td>-0.139097</td>\n",
              "      <td>-0.055353</td>\n",
              "      <td>-0.059752</td>\n",
              "      <td>378.66</td>\n",
              "      <td>0</td>\n",
              "    </tr>\n",
              "    <tr>\n",
              "      <th>3</th>\n",
              "      <td>1.0</td>\n",
              "      <td>-0.966272</td>\n",
              "      <td>-0.185226</td>\n",
              "      <td>1.792993</td>\n",
              "      <td>-0.863291</td>\n",
              "      <td>-0.010309</td>\n",
              "      <td>1.247203</td>\n",
              "      <td>0.237609</td>\n",
              "      <td>0.377436</td>\n",
              "      <td>-1.387024</td>\n",
              "      <td>-0.054952</td>\n",
              "      <td>-0.226487</td>\n",
              "      <td>0.178228</td>\n",
              "      <td>0.507757</td>\n",
              "      <td>-0.287924</td>\n",
              "      <td>-0.631418</td>\n",
              "      <td>-1.059647</td>\n",
              "      <td>-0.684093</td>\n",
              "      <td>1.965775</td>\n",
              "      <td>-1.232622</td>\n",
              "      <td>-0.208038</td>\n",
              "      <td>-0.108300</td>\n",
              "      <td>0.005274</td>\n",
              "      <td>-0.190321</td>\n",
              "      <td>-1.175575</td>\n",
              "      <td>0.647376</td>\n",
              "      <td>-0.221929</td>\n",
              "      <td>0.062723</td>\n",
              "      <td>0.061458</td>\n",
              "      <td>123.50</td>\n",
              "      <td>0</td>\n",
              "    </tr>\n",
              "    <tr>\n",
              "      <th>4</th>\n",
              "      <td>2.0</td>\n",
              "      <td>-1.158233</td>\n",
              "      <td>0.877737</td>\n",
              "      <td>1.548718</td>\n",
              "      <td>0.403034</td>\n",
              "      <td>-0.407193</td>\n",
              "      <td>0.095921</td>\n",
              "      <td>0.592941</td>\n",
              "      <td>-0.270533</td>\n",
              "      <td>0.817739</td>\n",
              "      <td>0.753074</td>\n",
              "      <td>-0.822843</td>\n",
              "      <td>0.538196</td>\n",
              "      <td>1.345852</td>\n",
              "      <td>-1.119670</td>\n",
              "      <td>0.175121</td>\n",
              "      <td>-0.451449</td>\n",
              "      <td>-0.237033</td>\n",
              "      <td>-0.038195</td>\n",
              "      <td>0.803487</td>\n",
              "      <td>0.408542</td>\n",
              "      <td>-0.009431</td>\n",
              "      <td>0.798278</td>\n",
              "      <td>-0.137458</td>\n",
              "      <td>0.141267</td>\n",
              "      <td>-0.206010</td>\n",
              "      <td>0.502292</td>\n",
              "      <td>0.219422</td>\n",
              "      <td>0.215153</td>\n",
              "      <td>69.99</td>\n",
              "      <td>0</td>\n",
              "    </tr>\n",
              "  </tbody>\n",
              "</table>\n",
              "</div>"
            ],
            "text/plain": [
              "   Time        V1        V2        V3  ...       V27       V28  Amount  Class\n",
              "0   0.0 -1.359807 -0.072781  2.536347  ...  0.133558 -0.021053  149.62      0\n",
              "1   0.0  1.191857  0.266151  0.166480  ... -0.008983  0.014724    2.69      0\n",
              "2   1.0 -1.358354 -1.340163  1.773209  ... -0.055353 -0.059752  378.66      0\n",
              "3   1.0 -0.966272 -0.185226  1.792993  ...  0.062723  0.061458  123.50      0\n",
              "4   2.0 -1.158233  0.877737  1.548718  ...  0.219422  0.215153   69.99      0\n",
              "\n",
              "[5 rows x 31 columns]"
            ]
          },
          "metadata": {
            "tags": []
          },
          "execution_count": 2
        }
      ]
    },
    {
      "cell_type": "code",
      "metadata": {
        "colab": {
          "base_uri": "https://localhost:8080/",
          "height": 241
        },
        "id": "CfTeMAhsg_MW",
        "outputId": "6249c281-caf2-4814-db17-436f8ef68e1c"
      },
      "source": [
        "df = data.dropna()\n",
        "df = df.drop(columns=\"Time\") # Removing column time, because is not relevant\n",
        "df['ID']= np.arange(1,len(df.Class)+1)\n",
        "print('Quantidade de linhas do dataset sem valor Null/NaN/NaT {}'.format(df.shape[0]))\n",
        "df.head()"
      ],
      "execution_count": 3,
      "outputs": [
        {
          "output_type": "stream",
          "text": [
            "Quantidade de linhas do dataset sem valor Null/NaN/NaT 284807\n"
          ],
          "name": "stdout"
        },
        {
          "output_type": "execute_result",
          "data": {
            "text/html": [
              "<div>\n",
              "<style scoped>\n",
              "    .dataframe tbody tr th:only-of-type {\n",
              "        vertical-align: middle;\n",
              "    }\n",
              "\n",
              "    .dataframe tbody tr th {\n",
              "        vertical-align: top;\n",
              "    }\n",
              "\n",
              "    .dataframe thead th {\n",
              "        text-align: right;\n",
              "    }\n",
              "</style>\n",
              "<table border=\"1\" class=\"dataframe\">\n",
              "  <thead>\n",
              "    <tr style=\"text-align: right;\">\n",
              "      <th></th>\n",
              "      <th>V1</th>\n",
              "      <th>V2</th>\n",
              "      <th>V3</th>\n",
              "      <th>V4</th>\n",
              "      <th>V5</th>\n",
              "      <th>V6</th>\n",
              "      <th>V7</th>\n",
              "      <th>V8</th>\n",
              "      <th>V9</th>\n",
              "      <th>V10</th>\n",
              "      <th>V11</th>\n",
              "      <th>V12</th>\n",
              "      <th>V13</th>\n",
              "      <th>V14</th>\n",
              "      <th>V15</th>\n",
              "      <th>V16</th>\n",
              "      <th>V17</th>\n",
              "      <th>V18</th>\n",
              "      <th>V19</th>\n",
              "      <th>V20</th>\n",
              "      <th>V21</th>\n",
              "      <th>V22</th>\n",
              "      <th>V23</th>\n",
              "      <th>V24</th>\n",
              "      <th>V25</th>\n",
              "      <th>V26</th>\n",
              "      <th>V27</th>\n",
              "      <th>V28</th>\n",
              "      <th>Amount</th>\n",
              "      <th>Class</th>\n",
              "      <th>ID</th>\n",
              "    </tr>\n",
              "  </thead>\n",
              "  <tbody>\n",
              "    <tr>\n",
              "      <th>0</th>\n",
              "      <td>-1.359807</td>\n",
              "      <td>-0.072781</td>\n",
              "      <td>2.536347</td>\n",
              "      <td>1.378155</td>\n",
              "      <td>-0.338321</td>\n",
              "      <td>0.462388</td>\n",
              "      <td>0.239599</td>\n",
              "      <td>0.098698</td>\n",
              "      <td>0.363787</td>\n",
              "      <td>0.090794</td>\n",
              "      <td>-0.551600</td>\n",
              "      <td>-0.617801</td>\n",
              "      <td>-0.991390</td>\n",
              "      <td>-0.311169</td>\n",
              "      <td>1.468177</td>\n",
              "      <td>-0.470401</td>\n",
              "      <td>0.207971</td>\n",
              "      <td>0.025791</td>\n",
              "      <td>0.403993</td>\n",
              "      <td>0.251412</td>\n",
              "      <td>-0.018307</td>\n",
              "      <td>0.277838</td>\n",
              "      <td>-0.110474</td>\n",
              "      <td>0.066928</td>\n",
              "      <td>0.128539</td>\n",
              "      <td>-0.189115</td>\n",
              "      <td>0.133558</td>\n",
              "      <td>-0.021053</td>\n",
              "      <td>149.62</td>\n",
              "      <td>0</td>\n",
              "      <td>1</td>\n",
              "    </tr>\n",
              "    <tr>\n",
              "      <th>1</th>\n",
              "      <td>1.191857</td>\n",
              "      <td>0.266151</td>\n",
              "      <td>0.166480</td>\n",
              "      <td>0.448154</td>\n",
              "      <td>0.060018</td>\n",
              "      <td>-0.082361</td>\n",
              "      <td>-0.078803</td>\n",
              "      <td>0.085102</td>\n",
              "      <td>-0.255425</td>\n",
              "      <td>-0.166974</td>\n",
              "      <td>1.612727</td>\n",
              "      <td>1.065235</td>\n",
              "      <td>0.489095</td>\n",
              "      <td>-0.143772</td>\n",
              "      <td>0.635558</td>\n",
              "      <td>0.463917</td>\n",
              "      <td>-0.114805</td>\n",
              "      <td>-0.183361</td>\n",
              "      <td>-0.145783</td>\n",
              "      <td>-0.069083</td>\n",
              "      <td>-0.225775</td>\n",
              "      <td>-0.638672</td>\n",
              "      <td>0.101288</td>\n",
              "      <td>-0.339846</td>\n",
              "      <td>0.167170</td>\n",
              "      <td>0.125895</td>\n",
              "      <td>-0.008983</td>\n",
              "      <td>0.014724</td>\n",
              "      <td>2.69</td>\n",
              "      <td>0</td>\n",
              "      <td>2</td>\n",
              "    </tr>\n",
              "    <tr>\n",
              "      <th>2</th>\n",
              "      <td>-1.358354</td>\n",
              "      <td>-1.340163</td>\n",
              "      <td>1.773209</td>\n",
              "      <td>0.379780</td>\n",
              "      <td>-0.503198</td>\n",
              "      <td>1.800499</td>\n",
              "      <td>0.791461</td>\n",
              "      <td>0.247676</td>\n",
              "      <td>-1.514654</td>\n",
              "      <td>0.207643</td>\n",
              "      <td>0.624501</td>\n",
              "      <td>0.066084</td>\n",
              "      <td>0.717293</td>\n",
              "      <td>-0.165946</td>\n",
              "      <td>2.345865</td>\n",
              "      <td>-2.890083</td>\n",
              "      <td>1.109969</td>\n",
              "      <td>-0.121359</td>\n",
              "      <td>-2.261857</td>\n",
              "      <td>0.524980</td>\n",
              "      <td>0.247998</td>\n",
              "      <td>0.771679</td>\n",
              "      <td>0.909412</td>\n",
              "      <td>-0.689281</td>\n",
              "      <td>-0.327642</td>\n",
              "      <td>-0.139097</td>\n",
              "      <td>-0.055353</td>\n",
              "      <td>-0.059752</td>\n",
              "      <td>378.66</td>\n",
              "      <td>0</td>\n",
              "      <td>3</td>\n",
              "    </tr>\n",
              "    <tr>\n",
              "      <th>3</th>\n",
              "      <td>-0.966272</td>\n",
              "      <td>-0.185226</td>\n",
              "      <td>1.792993</td>\n",
              "      <td>-0.863291</td>\n",
              "      <td>-0.010309</td>\n",
              "      <td>1.247203</td>\n",
              "      <td>0.237609</td>\n",
              "      <td>0.377436</td>\n",
              "      <td>-1.387024</td>\n",
              "      <td>-0.054952</td>\n",
              "      <td>-0.226487</td>\n",
              "      <td>0.178228</td>\n",
              "      <td>0.507757</td>\n",
              "      <td>-0.287924</td>\n",
              "      <td>-0.631418</td>\n",
              "      <td>-1.059647</td>\n",
              "      <td>-0.684093</td>\n",
              "      <td>1.965775</td>\n",
              "      <td>-1.232622</td>\n",
              "      <td>-0.208038</td>\n",
              "      <td>-0.108300</td>\n",
              "      <td>0.005274</td>\n",
              "      <td>-0.190321</td>\n",
              "      <td>-1.175575</td>\n",
              "      <td>0.647376</td>\n",
              "      <td>-0.221929</td>\n",
              "      <td>0.062723</td>\n",
              "      <td>0.061458</td>\n",
              "      <td>123.50</td>\n",
              "      <td>0</td>\n",
              "      <td>4</td>\n",
              "    </tr>\n",
              "    <tr>\n",
              "      <th>4</th>\n",
              "      <td>-1.158233</td>\n",
              "      <td>0.877737</td>\n",
              "      <td>1.548718</td>\n",
              "      <td>0.403034</td>\n",
              "      <td>-0.407193</td>\n",
              "      <td>0.095921</td>\n",
              "      <td>0.592941</td>\n",
              "      <td>-0.270533</td>\n",
              "      <td>0.817739</td>\n",
              "      <td>0.753074</td>\n",
              "      <td>-0.822843</td>\n",
              "      <td>0.538196</td>\n",
              "      <td>1.345852</td>\n",
              "      <td>-1.119670</td>\n",
              "      <td>0.175121</td>\n",
              "      <td>-0.451449</td>\n",
              "      <td>-0.237033</td>\n",
              "      <td>-0.038195</td>\n",
              "      <td>0.803487</td>\n",
              "      <td>0.408542</td>\n",
              "      <td>-0.009431</td>\n",
              "      <td>0.798278</td>\n",
              "      <td>-0.137458</td>\n",
              "      <td>0.141267</td>\n",
              "      <td>-0.206010</td>\n",
              "      <td>0.502292</td>\n",
              "      <td>0.219422</td>\n",
              "      <td>0.215153</td>\n",
              "      <td>69.99</td>\n",
              "      <td>0</td>\n",
              "      <td>5</td>\n",
              "    </tr>\n",
              "  </tbody>\n",
              "</table>\n",
              "</div>"
            ],
            "text/plain": [
              "         V1        V2        V3        V4  ...       V28  Amount  Class  ID\n",
              "0 -1.359807 -0.072781  2.536347  1.378155  ... -0.021053  149.62      0   1\n",
              "1  1.191857  0.266151  0.166480  0.448154  ...  0.014724    2.69      0   2\n",
              "2 -1.358354 -1.340163  1.773209  0.379780  ... -0.059752  378.66      0   3\n",
              "3 -0.966272 -0.185226  1.792993 -0.863291  ...  0.061458  123.50      0   4\n",
              "4 -1.158233  0.877737  1.548718  0.403034  ...  0.215153   69.99      0   5\n",
              "\n",
              "[5 rows x 31 columns]"
            ]
          },
          "metadata": {
            "tags": []
          },
          "execution_count": 3
        }
      ]
    },
    {
      "cell_type": "code",
      "metadata": {
        "colab": {
          "base_uri": "https://localhost:8080/"
        },
        "id": "GcqF7KN6igzQ",
        "outputId": "ca8f3c50-3ef5-441d-9819-c1dfae32c38a"
      },
      "source": [
        "x_train,  x_test, y_train, y_test = train_test_split(df.drop(['ID', 'Class'], axis=1), df['Class'], test_size=0.20, random_state = 0)\n",
        "print('Dados de treino {}\\n'.format(x_train.shape))\n",
        "print('Dados de teste  {}\\n'.format(x_test.shape))"
      ],
      "execution_count": 4,
      "outputs": [
        {
          "output_type": "stream",
          "text": [
            "Dados de treino (227845, 29)\n",
            "\n",
            "Dados de teste  (56962, 29)\n",
            "\n"
          ],
          "name": "stdout"
        }
      ]
    },
    {
      "cell_type": "code",
      "metadata": {
        "id": "OLscTbRRBcLL"
      },
      "source": [
        "df_train = x_train.copy()\n",
        "df_train['Class'] = y_train\n",
        "df_test = x_test.copy()\n",
        "df_test['Class'] = y_test"
      ],
      "execution_count": 5,
      "outputs": []
    },
    {
      "cell_type": "code",
      "metadata": {
        "colab": {
          "base_uri": "https://localhost:8080/",
          "height": 317
        },
        "id": "1gaKurr2lN-V",
        "outputId": "c27b0133-a3c8-4297-e9b1-721daeb71086"
      },
      "source": [
        "df_train.describe()"
      ],
      "execution_count": 6,
      "outputs": [
        {
          "output_type": "execute_result",
          "data": {
            "text/html": [
              "<div>\n",
              "<style scoped>\n",
              "    .dataframe tbody tr th:only-of-type {\n",
              "        vertical-align: middle;\n",
              "    }\n",
              "\n",
              "    .dataframe tbody tr th {\n",
              "        vertical-align: top;\n",
              "    }\n",
              "\n",
              "    .dataframe thead th {\n",
              "        text-align: right;\n",
              "    }\n",
              "</style>\n",
              "<table border=\"1\" class=\"dataframe\">\n",
              "  <thead>\n",
              "    <tr style=\"text-align: right;\">\n",
              "      <th></th>\n",
              "      <th>V1</th>\n",
              "      <th>V2</th>\n",
              "      <th>V3</th>\n",
              "      <th>V4</th>\n",
              "      <th>V5</th>\n",
              "      <th>V6</th>\n",
              "      <th>V7</th>\n",
              "      <th>V8</th>\n",
              "      <th>V9</th>\n",
              "      <th>V10</th>\n",
              "      <th>V11</th>\n",
              "      <th>V12</th>\n",
              "      <th>V13</th>\n",
              "      <th>V14</th>\n",
              "      <th>V15</th>\n",
              "      <th>V16</th>\n",
              "      <th>V17</th>\n",
              "      <th>V18</th>\n",
              "      <th>V19</th>\n",
              "      <th>V20</th>\n",
              "      <th>V21</th>\n",
              "      <th>V22</th>\n",
              "      <th>V23</th>\n",
              "      <th>V24</th>\n",
              "      <th>V25</th>\n",
              "      <th>V26</th>\n",
              "      <th>V27</th>\n",
              "      <th>V28</th>\n",
              "      <th>Amount</th>\n",
              "      <th>Class</th>\n",
              "    </tr>\n",
              "  </thead>\n",
              "  <tbody>\n",
              "    <tr>\n",
              "      <th>count</th>\n",
              "      <td>227845.000000</td>\n",
              "      <td>227845.000000</td>\n",
              "      <td>227845.000000</td>\n",
              "      <td>227845.000000</td>\n",
              "      <td>227845.000000</td>\n",
              "      <td>227845.000000</td>\n",
              "      <td>227845.000000</td>\n",
              "      <td>227845.000000</td>\n",
              "      <td>227845.000000</td>\n",
              "      <td>227845.000000</td>\n",
              "      <td>227845.000000</td>\n",
              "      <td>227845.000000</td>\n",
              "      <td>227845.000000</td>\n",
              "      <td>227845.000000</td>\n",
              "      <td>227845.000000</td>\n",
              "      <td>227845.000000</td>\n",
              "      <td>227845.000000</td>\n",
              "      <td>227845.000000</td>\n",
              "      <td>227845.000000</td>\n",
              "      <td>227845.000000</td>\n",
              "      <td>227845.000000</td>\n",
              "      <td>227845.000000</td>\n",
              "      <td>227845.000000</td>\n",
              "      <td>227845.000000</td>\n",
              "      <td>227845.000000</td>\n",
              "      <td>227845.000000</td>\n",
              "      <td>227845.000000</td>\n",
              "      <td>227845.000000</td>\n",
              "      <td>227845.000000</td>\n",
              "      <td>227845.000000</td>\n",
              "    </tr>\n",
              "    <tr>\n",
              "      <th>mean</th>\n",
              "      <td>0.002930</td>\n",
              "      <td>-0.000877</td>\n",
              "      <td>-0.001470</td>\n",
              "      <td>0.001131</td>\n",
              "      <td>-0.001714</td>\n",
              "      <td>-0.001035</td>\n",
              "      <td>-0.000411</td>\n",
              "      <td>-0.001360</td>\n",
              "      <td>-0.000018</td>\n",
              "      <td>0.001496</td>\n",
              "      <td>-0.000732</td>\n",
              "      <td>-0.000990</td>\n",
              "      <td>0.000816</td>\n",
              "      <td>0.000992</td>\n",
              "      <td>0.000608</td>\n",
              "      <td>-0.000131</td>\n",
              "      <td>0.000657</td>\n",
              "      <td>-0.000735</td>\n",
              "      <td>0.000312</td>\n",
              "      <td>0.001775</td>\n",
              "      <td>0.000266</td>\n",
              "      <td>0.000300</td>\n",
              "      <td>-0.000276</td>\n",
              "      <td>0.000687</td>\n",
              "      <td>0.000192</td>\n",
              "      <td>-0.000584</td>\n",
              "      <td>-0.000574</td>\n",
              "      <td>-0.000135</td>\n",
              "      <td>88.630203</td>\n",
              "      <td>0.001716</td>\n",
              "    </tr>\n",
              "    <tr>\n",
              "      <th>std</th>\n",
              "      <td>1.955265</td>\n",
              "      <td>1.649672</td>\n",
              "      <td>1.515055</td>\n",
              "      <td>1.416360</td>\n",
              "      <td>1.365962</td>\n",
              "      <td>1.326404</td>\n",
              "      <td>1.225317</td>\n",
              "      <td>1.205508</td>\n",
              "      <td>1.099972</td>\n",
              "      <td>1.091091</td>\n",
              "      <td>1.019688</td>\n",
              "      <td>0.997871</td>\n",
              "      <td>0.997318</td>\n",
              "      <td>0.956432</td>\n",
              "      <td>0.915323</td>\n",
              "      <td>0.875836</td>\n",
              "      <td>0.850158</td>\n",
              "      <td>0.837698</td>\n",
              "      <td>0.815065</td>\n",
              "      <td>0.764878</td>\n",
              "      <td>0.737593</td>\n",
              "      <td>0.726705</td>\n",
              "      <td>0.623074</td>\n",
              "      <td>0.605268</td>\n",
              "      <td>0.520835</td>\n",
              "      <td>0.481943</td>\n",
              "      <td>0.401394</td>\n",
              "      <td>0.320750</td>\n",
              "      <td>248.037789</td>\n",
              "      <td>0.041390</td>\n",
              "    </tr>\n",
              "    <tr>\n",
              "      <th>min</th>\n",
              "      <td>-46.855047</td>\n",
              "      <td>-63.344698</td>\n",
              "      <td>-33.680984</td>\n",
              "      <td>-5.683171</td>\n",
              "      <td>-42.147898</td>\n",
              "      <td>-23.496714</td>\n",
              "      <td>-43.557242</td>\n",
              "      <td>-73.216718</td>\n",
              "      <td>-13.434066</td>\n",
              "      <td>-24.588262</td>\n",
              "      <td>-4.797473</td>\n",
              "      <td>-18.553697</td>\n",
              "      <td>-5.791881</td>\n",
              "      <td>-19.214325</td>\n",
              "      <td>-4.498945</td>\n",
              "      <td>-14.129855</td>\n",
              "      <td>-25.162799</td>\n",
              "      <td>-9.498746</td>\n",
              "      <td>-7.213527</td>\n",
              "      <td>-23.646890</td>\n",
              "      <td>-34.830382</td>\n",
              "      <td>-10.933144</td>\n",
              "      <td>-44.807735</td>\n",
              "      <td>-2.822684</td>\n",
              "      <td>-10.295397</td>\n",
              "      <td>-2.604551</td>\n",
              "      <td>-22.565679</td>\n",
              "      <td>-11.710896</td>\n",
              "      <td>0.000000</td>\n",
              "      <td>0.000000</td>\n",
              "    </tr>\n",
              "    <tr>\n",
              "      <th>25%</th>\n",
              "      <td>-0.919898</td>\n",
              "      <td>-0.599013</td>\n",
              "      <td>-0.894424</td>\n",
              "      <td>-0.847412</td>\n",
              "      <td>-0.693585</td>\n",
              "      <td>-0.769201</td>\n",
              "      <td>-0.553573</td>\n",
              "      <td>-0.209145</td>\n",
              "      <td>-0.644499</td>\n",
              "      <td>-0.534165</td>\n",
              "      <td>-0.763115</td>\n",
              "      <td>-0.407805</td>\n",
              "      <td>-0.649363</td>\n",
              "      <td>-0.424852</td>\n",
              "      <td>-0.583393</td>\n",
              "      <td>-0.468316</td>\n",
              "      <td>-0.483629</td>\n",
              "      <td>-0.499053</td>\n",
              "      <td>-0.456435</td>\n",
              "      <td>-0.211511</td>\n",
              "      <td>-0.228658</td>\n",
              "      <td>-0.543193</td>\n",
              "      <td>-0.161766</td>\n",
              "      <td>-0.354153</td>\n",
              "      <td>-0.316644</td>\n",
              "      <td>-0.327647</td>\n",
              "      <td>-0.070776</td>\n",
              "      <td>-0.052865</td>\n",
              "      <td>5.690000</td>\n",
              "      <td>0.000000</td>\n",
              "    </tr>\n",
              "    <tr>\n",
              "      <th>50%</th>\n",
              "      <td>0.021886</td>\n",
              "      <td>0.063972</td>\n",
              "      <td>0.177138</td>\n",
              "      <td>-0.017538</td>\n",
              "      <td>-0.055515</td>\n",
              "      <td>-0.274916</td>\n",
              "      <td>0.039988</td>\n",
              "      <td>0.021545</td>\n",
              "      <td>-0.050353</td>\n",
              "      <td>-0.091912</td>\n",
              "      <td>-0.033716</td>\n",
              "      <td>0.139185</td>\n",
              "      <td>-0.013345</td>\n",
              "      <td>0.050754</td>\n",
              "      <td>0.049506</td>\n",
              "      <td>0.066979</td>\n",
              "      <td>-0.065926</td>\n",
              "      <td>-0.004297</td>\n",
              "      <td>0.004283</td>\n",
              "      <td>-0.062430</td>\n",
              "      <td>-0.028974</td>\n",
              "      <td>0.006970</td>\n",
              "      <td>-0.010914</td>\n",
              "      <td>0.041164</td>\n",
              "      <td>0.017429</td>\n",
              "      <td>-0.052443</td>\n",
              "      <td>0.001091</td>\n",
              "      <td>0.011171</td>\n",
              "      <td>22.000000</td>\n",
              "      <td>0.000000</td>\n",
              "    </tr>\n",
              "    <tr>\n",
              "      <th>75%</th>\n",
              "      <td>1.316871</td>\n",
              "      <td>0.802516</td>\n",
              "      <td>1.026049</td>\n",
              "      <td>0.744471</td>\n",
              "      <td>0.610153</td>\n",
              "      <td>0.397215</td>\n",
              "      <td>0.569938</td>\n",
              "      <td>0.325849</td>\n",
              "      <td>0.597788</td>\n",
              "      <td>0.457121</td>\n",
              "      <td>0.739265</td>\n",
              "      <td>0.618081</td>\n",
              "      <td>0.664465</td>\n",
              "      <td>0.493876</td>\n",
              "      <td>0.649587</td>\n",
              "      <td>0.522822</td>\n",
              "      <td>0.400096</td>\n",
              "      <td>0.499689</td>\n",
              "      <td>0.459840</td>\n",
              "      <td>0.133394</td>\n",
              "      <td>0.187107</td>\n",
              "      <td>0.529867</td>\n",
              "      <td>0.147642</td>\n",
              "      <td>0.439916</td>\n",
              "      <td>0.350742</td>\n",
              "      <td>0.240840</td>\n",
              "      <td>0.090529</td>\n",
              "      <td>0.078142</td>\n",
              "      <td>77.600000</td>\n",
              "      <td>0.000000</td>\n",
              "    </tr>\n",
              "    <tr>\n",
              "      <th>max</th>\n",
              "      <td>2.451888</td>\n",
              "      <td>22.057729</td>\n",
              "      <td>9.382558</td>\n",
              "      <td>16.875344</td>\n",
              "      <td>34.099309</td>\n",
              "      <td>23.917837</td>\n",
              "      <td>44.054461</td>\n",
              "      <td>20.007208</td>\n",
              "      <td>15.594995</td>\n",
              "      <td>23.745136</td>\n",
              "      <td>12.018913</td>\n",
              "      <td>7.848392</td>\n",
              "      <td>4.569009</td>\n",
              "      <td>10.526766</td>\n",
              "      <td>5.825654</td>\n",
              "      <td>7.059132</td>\n",
              "      <td>9.207059</td>\n",
              "      <td>5.041069</td>\n",
              "      <td>5.572113</td>\n",
              "      <td>39.420904</td>\n",
              "      <td>27.202839</td>\n",
              "      <td>10.503090</td>\n",
              "      <td>22.528412</td>\n",
              "      <td>4.022866</td>\n",
              "      <td>7.519589</td>\n",
              "      <td>3.463246</td>\n",
              "      <td>12.152401</td>\n",
              "      <td>22.620072</td>\n",
              "      <td>19656.530000</td>\n",
              "      <td>1.000000</td>\n",
              "    </tr>\n",
              "  </tbody>\n",
              "</table>\n",
              "</div>"
            ],
            "text/plain": [
              "                  V1             V2  ...         Amount          Class\n",
              "count  227845.000000  227845.000000  ...  227845.000000  227845.000000\n",
              "mean        0.002930      -0.000877  ...      88.630203       0.001716\n",
              "std         1.955265       1.649672  ...     248.037789       0.041390\n",
              "min       -46.855047     -63.344698  ...       0.000000       0.000000\n",
              "25%        -0.919898      -0.599013  ...       5.690000       0.000000\n",
              "50%         0.021886       0.063972  ...      22.000000       0.000000\n",
              "75%         1.316871       0.802516  ...      77.600000       0.000000\n",
              "max         2.451888      22.057729  ...   19656.530000       1.000000\n",
              "\n",
              "[8 rows x 30 columns]"
            ]
          },
          "metadata": {
            "tags": []
          },
          "execution_count": 6
        }
      ]
    },
    {
      "cell_type": "code",
      "metadata": {
        "colab": {
          "base_uri": "https://localhost:8080/",
          "height": 317
        },
        "id": "1VR9euGZlQgg",
        "outputId": "70250a4e-bef2-4f3b-a531-98a426d7bde0"
      },
      "source": [
        "df_test.describe()"
      ],
      "execution_count": 7,
      "outputs": [
        {
          "output_type": "execute_result",
          "data": {
            "text/html": [
              "<div>\n",
              "<style scoped>\n",
              "    .dataframe tbody tr th:only-of-type {\n",
              "        vertical-align: middle;\n",
              "    }\n",
              "\n",
              "    .dataframe tbody tr th {\n",
              "        vertical-align: top;\n",
              "    }\n",
              "\n",
              "    .dataframe thead th {\n",
              "        text-align: right;\n",
              "    }\n",
              "</style>\n",
              "<table border=\"1\" class=\"dataframe\">\n",
              "  <thead>\n",
              "    <tr style=\"text-align: right;\">\n",
              "      <th></th>\n",
              "      <th>V1</th>\n",
              "      <th>V2</th>\n",
              "      <th>V3</th>\n",
              "      <th>V4</th>\n",
              "      <th>V5</th>\n",
              "      <th>V6</th>\n",
              "      <th>V7</th>\n",
              "      <th>V8</th>\n",
              "      <th>V9</th>\n",
              "      <th>V10</th>\n",
              "      <th>V11</th>\n",
              "      <th>V12</th>\n",
              "      <th>V13</th>\n",
              "      <th>V14</th>\n",
              "      <th>V15</th>\n",
              "      <th>V16</th>\n",
              "      <th>V17</th>\n",
              "      <th>V18</th>\n",
              "      <th>V19</th>\n",
              "      <th>V20</th>\n",
              "      <th>V21</th>\n",
              "      <th>V22</th>\n",
              "      <th>V23</th>\n",
              "      <th>V24</th>\n",
              "      <th>V25</th>\n",
              "      <th>V26</th>\n",
              "      <th>V27</th>\n",
              "      <th>V28</th>\n",
              "      <th>Amount</th>\n",
              "      <th>Class</th>\n",
              "    </tr>\n",
              "  </thead>\n",
              "  <tbody>\n",
              "    <tr>\n",
              "      <th>count</th>\n",
              "      <td>56962.000000</td>\n",
              "      <td>56962.000000</td>\n",
              "      <td>56962.000000</td>\n",
              "      <td>56962.000000</td>\n",
              "      <td>56962.000000</td>\n",
              "      <td>56962.000000</td>\n",
              "      <td>56962.000000</td>\n",
              "      <td>56962.000000</td>\n",
              "      <td>56962.000000</td>\n",
              "      <td>56962.000000</td>\n",
              "      <td>56962.000000</td>\n",
              "      <td>56962.000000</td>\n",
              "      <td>56962.000000</td>\n",
              "      <td>56962.000000</td>\n",
              "      <td>56962.000000</td>\n",
              "      <td>56962.000000</td>\n",
              "      <td>56962.000000</td>\n",
              "      <td>56962.000000</td>\n",
              "      <td>56962.000000</td>\n",
              "      <td>56962.000000</td>\n",
              "      <td>56962.000000</td>\n",
              "      <td>56962.000000</td>\n",
              "      <td>56962.000000</td>\n",
              "      <td>56962.000000</td>\n",
              "      <td>56962.000000</td>\n",
              "      <td>56962.000000</td>\n",
              "      <td>56962.000000</td>\n",
              "      <td>56962.000000</td>\n",
              "      <td>56962.000000</td>\n",
              "      <td>56962.000000</td>\n",
              "    </tr>\n",
              "    <tr>\n",
              "      <th>mean</th>\n",
              "      <td>-0.011720</td>\n",
              "      <td>0.003508</td>\n",
              "      <td>0.005881</td>\n",
              "      <td>-0.004524</td>\n",
              "      <td>0.006858</td>\n",
              "      <td>0.004139</td>\n",
              "      <td>0.001644</td>\n",
              "      <td>0.005440</td>\n",
              "      <td>0.000074</td>\n",
              "      <td>-0.005986</td>\n",
              "      <td>0.002927</td>\n",
              "      <td>0.003958</td>\n",
              "      <td>-0.003264</td>\n",
              "      <td>-0.003967</td>\n",
              "      <td>-0.002431</td>\n",
              "      <td>0.000523</td>\n",
              "      <td>-0.002629</td>\n",
              "      <td>0.002940</td>\n",
              "      <td>-0.001246</td>\n",
              "      <td>-0.007101</td>\n",
              "      <td>-0.001065</td>\n",
              "      <td>-0.001201</td>\n",
              "      <td>0.001104</td>\n",
              "      <td>-0.002750</td>\n",
              "      <td>-0.000767</td>\n",
              "      <td>0.002337</td>\n",
              "      <td>0.002295</td>\n",
              "      <td>0.000541</td>\n",
              "      <td>87.227297</td>\n",
              "      <td>0.001773</td>\n",
              "    </tr>\n",
              "    <tr>\n",
              "      <th>std</th>\n",
              "      <td>1.972334</td>\n",
              "      <td>1.657848</td>\n",
              "      <td>1.521044</td>\n",
              "      <td>1.413903</td>\n",
              "      <td>1.435957</td>\n",
              "      <td>1.355490</td>\n",
              "      <td>1.283130</td>\n",
              "      <td>1.148643</td>\n",
              "      <td>1.093268</td>\n",
              "      <td>1.079827</td>\n",
              "      <td>1.024805</td>\n",
              "      <td>1.004503</td>\n",
              "      <td>0.987058</td>\n",
              "      <td>0.967199</td>\n",
              "      <td>0.915292</td>\n",
              "      <td>0.877925</td>\n",
              "      <td>0.846048</td>\n",
              "      <td>0.840086</td>\n",
              "      <td>0.809937</td>\n",
              "      <td>0.794620</td>\n",
              "      <td>0.722125</td>\n",
              "      <td>0.721680</td>\n",
              "      <td>0.629978</td>\n",
              "      <td>0.607158</td>\n",
              "      <td>0.523049</td>\n",
              "      <td>0.483359</td>\n",
              "      <td>0.412459</td>\n",
              "      <td>0.365040</td>\n",
              "      <td>258.280642</td>\n",
              "      <td>0.042071</td>\n",
              "    </tr>\n",
              "    <tr>\n",
              "      <th>min</th>\n",
              "      <td>-56.407510</td>\n",
              "      <td>-72.715728</td>\n",
              "      <td>-48.325589</td>\n",
              "      <td>-5.600607</td>\n",
              "      <td>-113.743307</td>\n",
              "      <td>-26.160506</td>\n",
              "      <td>-23.189397</td>\n",
              "      <td>-50.943369</td>\n",
              "      <td>-8.630390</td>\n",
              "      <td>-17.141514</td>\n",
              "      <td>-4.568390</td>\n",
              "      <td>-18.683715</td>\n",
              "      <td>-3.835618</td>\n",
              "      <td>-18.049998</td>\n",
              "      <td>-4.391307</td>\n",
              "      <td>-13.303888</td>\n",
              "      <td>-22.883999</td>\n",
              "      <td>-9.287832</td>\n",
              "      <td>-4.353679</td>\n",
              "      <td>-54.497720</td>\n",
              "      <td>-22.665685</td>\n",
              "      <td>-8.483441</td>\n",
              "      <td>-32.828995</td>\n",
              "      <td>-2.836627</td>\n",
              "      <td>-8.696627</td>\n",
              "      <td>-1.855355</td>\n",
              "      <td>-8.878665</td>\n",
              "      <td>-15.430084</td>\n",
              "      <td>0.000000</td>\n",
              "      <td>0.000000</td>\n",
              "    </tr>\n",
              "    <tr>\n",
              "      <th>25%</th>\n",
              "      <td>-0.921972</td>\n",
              "      <td>-0.595792</td>\n",
              "      <td>-0.874649</td>\n",
              "      <td>-0.853267</td>\n",
              "      <td>-0.683487</td>\n",
              "      <td>-0.765653</td>\n",
              "      <td>-0.555542</td>\n",
              "      <td>-0.206208</td>\n",
              "      <td>-0.637058</td>\n",
              "      <td>-0.539031</td>\n",
              "      <td>-0.759576</td>\n",
              "      <td>-0.396268</td>\n",
              "      <td>-0.643496</td>\n",
              "      <td>-0.428579</td>\n",
              "      <td>-0.580244</td>\n",
              "      <td>-0.467537</td>\n",
              "      <td>-0.484584</td>\n",
              "      <td>-0.494712</td>\n",
              "      <td>-0.455365</td>\n",
              "      <td>-0.212744</td>\n",
              "      <td>-0.227182</td>\n",
              "      <td>-0.538917</td>\n",
              "      <td>-0.162292</td>\n",
              "      <td>-0.356309</td>\n",
              "      <td>-0.319498</td>\n",
              "      <td>-0.324004</td>\n",
              "      <td>-0.071012</td>\n",
              "      <td>-0.053511</td>\n",
              "      <td>5.460000</td>\n",
              "      <td>0.000000</td>\n",
              "    </tr>\n",
              "    <tr>\n",
              "      <th>50%</th>\n",
              "      <td>-0.002761</td>\n",
              "      <td>0.072712</td>\n",
              "      <td>0.191364</td>\n",
              "      <td>-0.028170</td>\n",
              "      <td>-0.050472</td>\n",
              "      <td>-0.271310</td>\n",
              "      <td>0.040576</td>\n",
              "      <td>0.025516</td>\n",
              "      <td>-0.053689</td>\n",
              "      <td>-0.097007</td>\n",
              "      <td>-0.028609</td>\n",
              "      <td>0.143534</td>\n",
              "      <td>-0.014759</td>\n",
              "      <td>0.049965</td>\n",
              "      <td>0.041602</td>\n",
              "      <td>0.063724</td>\n",
              "      <td>-0.064384</td>\n",
              "      <td>-0.001115</td>\n",
              "      <td>0.002028</td>\n",
              "      <td>-0.062617</td>\n",
              "      <td>-0.031747</td>\n",
              "      <td>0.006132</td>\n",
              "      <td>-0.012237</td>\n",
              "      <td>0.040072</td>\n",
              "      <td>0.013137</td>\n",
              "      <td>-0.050965</td>\n",
              "      <td>0.002251</td>\n",
              "      <td>0.011521</td>\n",
              "      <td>21.940000</td>\n",
              "      <td>0.000000</td>\n",
              "    </tr>\n",
              "    <tr>\n",
              "      <th>75%</th>\n",
              "      <td>1.309289</td>\n",
              "      <td>0.809015</td>\n",
              "      <td>1.031690</td>\n",
              "      <td>0.739049</td>\n",
              "      <td>0.619408</td>\n",
              "      <td>0.403661</td>\n",
              "      <td>0.572788</td>\n",
              "      <td>0.332808</td>\n",
              "      <td>0.594146</td>\n",
              "      <td>0.440694</td>\n",
              "      <td>0.741010</td>\n",
              "      <td>0.618570</td>\n",
              "      <td>0.652610</td>\n",
              "      <td>0.491192</td>\n",
              "      <td>0.645804</td>\n",
              "      <td>0.524908</td>\n",
              "      <td>0.397842</td>\n",
              "      <td>0.505740</td>\n",
              "      <td>0.454977</td>\n",
              "      <td>0.131808</td>\n",
              "      <td>0.183874</td>\n",
              "      <td>0.524395</td>\n",
              "      <td>0.147643</td>\n",
              "      <td>0.438394</td>\n",
              "      <td>0.350657</td>\n",
              "      <td>0.241285</td>\n",
              "      <td>0.093085</td>\n",
              "      <td>0.078844</td>\n",
              "      <td>76.000000</td>\n",
              "      <td>0.000000</td>\n",
              "    </tr>\n",
              "    <tr>\n",
              "      <th>max</th>\n",
              "      <td>2.454930</td>\n",
              "      <td>14.845545</td>\n",
              "      <td>4.079168</td>\n",
              "      <td>16.491217</td>\n",
              "      <td>34.801666</td>\n",
              "      <td>73.301626</td>\n",
              "      <td>120.589494</td>\n",
              "      <td>17.573712</td>\n",
              "      <td>9.272376</td>\n",
              "      <td>15.331742</td>\n",
              "      <td>11.228470</td>\n",
              "      <td>4.406338</td>\n",
              "      <td>7.126883</td>\n",
              "      <td>7.293226</td>\n",
              "      <td>8.877742</td>\n",
              "      <td>17.315112</td>\n",
              "      <td>9.253526</td>\n",
              "      <td>4.295648</td>\n",
              "      <td>5.591971</td>\n",
              "      <td>19.746453</td>\n",
              "      <td>22.579714</td>\n",
              "      <td>7.220158</td>\n",
              "      <td>19.002942</td>\n",
              "      <td>4.584549</td>\n",
              "      <td>5.521140</td>\n",
              "      <td>3.517346</td>\n",
              "      <td>31.612198</td>\n",
              "      <td>33.847808</td>\n",
              "      <td>25691.160000</td>\n",
              "      <td>1.000000</td>\n",
              "    </tr>\n",
              "  </tbody>\n",
              "</table>\n",
              "</div>"
            ],
            "text/plain": [
              "                 V1            V2  ...        Amount         Class\n",
              "count  56962.000000  56962.000000  ...  56962.000000  56962.000000\n",
              "mean      -0.011720      0.003508  ...     87.227297      0.001773\n",
              "std        1.972334      1.657848  ...    258.280642      0.042071\n",
              "min      -56.407510    -72.715728  ...      0.000000      0.000000\n",
              "25%       -0.921972     -0.595792  ...      5.460000      0.000000\n",
              "50%       -0.002761      0.072712  ...     21.940000      0.000000\n",
              "75%        1.309289      0.809015  ...     76.000000      0.000000\n",
              "max        2.454930     14.845545  ...  25691.160000      1.000000\n",
              "\n",
              "[8 rows x 30 columns]"
            ]
          },
          "metadata": {
            "tags": []
          },
          "execution_count": 7
        }
      ]
    },
    {
      "cell_type": "code",
      "metadata": {
        "colab": {
          "base_uri": "https://localhost:8080/"
        },
        "id": "RC10tOWjIU8t",
        "outputId": "8eece2c4-e234-4a32-f37c-5738f18c7db9"
      },
      "source": [
        "df_train['Class'].value_counts()"
      ],
      "execution_count": 8,
      "outputs": [
        {
          "output_type": "execute_result",
          "data": {
            "text/plain": [
              "0    227454\n",
              "1       391\n",
              "Name: Class, dtype: int64"
            ]
          },
          "metadata": {
            "tags": []
          },
          "execution_count": 8
        }
      ]
    },
    {
      "cell_type": "code",
      "metadata": {
        "colab": {
          "base_uri": "https://localhost:8080/"
        },
        "id": "Ho9sDYS_IZ88",
        "outputId": "b930449f-46e1-49ac-89a9-c0baf322f61c"
      },
      "source": [
        "df_test['Class'].value_counts()"
      ],
      "execution_count": 9,
      "outputs": [
        {
          "output_type": "execute_result",
          "data": {
            "text/plain": [
              "0    56861\n",
              "1      101\n",
              "Name: Class, dtype: int64"
            ]
          },
          "metadata": {
            "tags": []
          },
          "execution_count": 9
        }
      ]
    },
    {
      "cell_type": "code",
      "metadata": {
        "colab": {
          "base_uri": "https://localhost:8080/",
          "height": 279
        },
        "id": "2rsmquWsJUEb",
        "outputId": "0eb31bcd-d460-48f7-a621-bd9a68699608"
      },
      "source": [
        "ax = sns.countplot(x=\"Class\", data=df_train)"
      ],
      "execution_count": 10,
      "outputs": [
        {
          "output_type": "display_data",
          "data": {
            "image/png": "[encoded data removed]",
            "text/plain": [
              "<Figure size 432x288 with 1 Axes>"
            ]
          },
          "metadata": {
            "tags": [],
            "needs_background": "light"
          }
        }
      ]
    },
    {
      "cell_type": "code",
      "metadata": {
        "colab": {
          "base_uri": "https://localhost:8080/",
          "height": 279
        },
        "id": "-OJgW1w0Jk_-",
        "outputId": "542e6792-ffe6-4003-da2f-1e3ee2b97582"
      },
      "source": [
        "bx = sns.countplot(x=\"Class\", data=df_test)"
      ],
      "execution_count": 11,
      "outputs": [
        {
          "output_type": "display_data",
          "data": {
            "image/png": "[encoded data removed]",
            "text/plain": [
              "<Figure size 432x288 with 1 Axes>"
            ]
          },
          "metadata": {
            "tags": [],
            "needs_background": "light"
          }
        }
      ]
    },
    {
      "cell_type": "code",
      "metadata": {
        "colab": {
          "base_uri": "https://localhost:8080/"
        },
        "id": "tsoWBnd_GnzL",
        "outputId": "d520cdb3-de09-441c-b528-df27ac8ff585"
      },
      "source": [
        "n_fraudulent_transactions = df_train['Class'].value_counts()[1]\n",
        "print('Quantidade de transações fraudulentas no dataset de treino ({}) representando um total de ({})% do dataset'.format(n_fraudulent_transactions, (n_fraudulent_transactions/df_train.shape[0])*100))\n",
        "n_fraudulent_transactions = df_test['Class'].value_counts()[1]\n",
        "print('Quantidade de transações fraudulentas no dataset de teste ({}) representando um total de ({})% do dataset'.format(n_fraudulent_transactions, (n_fraudulent_transactions/df_test.shape[0])*100))"
      ],
      "execution_count": 12,
      "outputs": [
        {
          "output_type": "stream",
          "text": [
            "Quantidade de transações fraudulentas no dataset de treino (391) representando um total de (0.171607891329632)% do dataset\n",
            "Quantidade de transações fraudulentas no dataset de teste (101) representando um total de (0.1773111899160844)% do dataset\n"
          ],
          "name": "stdout"
        }
      ]
    },
    {
      "cell_type": "code",
      "metadata": {
        "colab": {
          "base_uri": "https://localhost:8080/"
        },
        "id": "UgGdYx7flG_D",
        "outputId": "e5c2a93a-1dc1-45a9-9f1c-aad034b5327c"
      },
      "source": [
        "mic = mutual_info_classif(x_train, y_train)\n",
        "mic"
      ],
      "execution_count": 13,
      "outputs": [
        {
          "output_type": "execute_result",
          "data": {
            "text/plain": [
              "array([0.00223417, 0.00324333, 0.0048859 , 0.00493872, 0.0024805 ,\n",
              "       0.00235812, 0.00385332, 0.00200889, 0.00420066, 0.00735391,\n",
              "       0.00683457, 0.00754913, 0.00048603, 0.00795956, 0.00033733,\n",
              "       0.00614541, 0.00819655, 0.00429184, 0.001477  , 0.00127442,\n",
              "       0.00256113, 0.0004726 , 0.00081558, 0.00072547, 0.0006311 ,\n",
              "       0.00054575, 0.00238648, 0.00180494, 0.00139858])"
            ]
          },
          "metadata": {
            "tags": []
          },
          "execution_count": 13
        }
      ]
    },
    {
      "cell_type": "code",
      "metadata": {
        "colab": {
          "base_uri": "https://localhost:8080/",
          "height": 638
        },
        "id": "l9fETRgXl-c8",
        "outputId": "b3a956be-5ba1-4564-f198-5170f0396080"
      },
      "source": [
        "mic = pd.Series(mic)\n",
        "mic.index = x_train.columns\n",
        "mic = mic.sort_values(ascending = True)\n",
        "mic.plot.bar(figsize=(22,10))"
      ],
      "execution_count": 14,
      "outputs": [
        {
          "output_type": "execute_result",
          "data": {
            "text/plain": [
              "<matplotlib.axes._subplots.AxesSubplot at 0x7f6237e372d0>"
            ]
          },
          "metadata": {
            "tags": []
          },
          "execution_count": 14
        },
        {
          "output_type": "display_data",
          "data": {
            "image/png": "[encoded data removed]",
            "text/plain": [
              "<Figure size 1584x720 with 1 Axes>"
            ]
          },
          "metadata": {
            "tags": [],
            "needs_background": "light"
          }
        }
      ]
    },
    {
      "cell_type": "code",
      "metadata": {
        "id": "NdBDaW-HnABb"
      },
      "source": [
        "selection = SelectKBest(mutual_info_classif, k= 20).fit(x_train, y_train)\n",
        "X_train = x_train[x_train.columns[selection.get_support()]]\n",
        "X_test = x_test[x_test.columns[selection.get_support()]]"
      ],
      "execution_count": 15,
      "outputs": []
    },
    {
      "cell_type": "code",
      "metadata": {
        "id": "pZWsc5L893EQ"
      },
      "source": [
        "def plot_Kfold_cross_validation_curves(x_data, y_data):\r\n",
        "  cv = StratifiedKFold(n_splits=5)\r\n",
        "\r\n",
        "  tprs = []\r\n",
        "  aucs = []\r\n",
        "  mean_fpr = np.linspace(0, 1, 100)\r\n",
        "\r\n",
        "  fig, ax = plt.subplots()\r\n",
        "  for i, (train, test) in enumerate(cv.split(x_data, y_data)):\r\n",
        "      rf.fit(x_data.iloc[train], y_data.iloc[train])\r\n",
        "      viz = plot_roc_curve(rf, x_data.iloc[test], y_data.iloc[test],\r\n",
        "                          name='ROC fold {}'.format(i),\r\n",
        "                          alpha=0.3, lw=1, ax=ax)\r\n",
        "      interp_tpr = np.interp(mean_fpr, viz.fpr, viz.tpr)\r\n",
        "      interp_tpr[0] = 0.0\r\n",
        "      tprs.append(interp_tpr)\r\n",
        "      aucs.append(viz.roc_auc)\r\n",
        "\r\n",
        "  ax.plot([0, 1], [0, 1], linestyle='--', lw=2, color='r',\r\n",
        "          label='Chance', alpha=.8)\r\n",
        "\r\n",
        "  mean_tpr = np.mean(tprs, axis=0)\r\n",
        "  mean_tpr[-1] = 1.0\r\n",
        "  mean_auc = auc(mean_fpr, mean_tpr)\r\n",
        "  std_auc = np.std(aucs)\r\n",
        "  ax.plot(mean_fpr, mean_tpr, color='b',\r\n",
        "          label=r'Mean ROC (AUC = %0.2f $\\pm$ %0.2f)' % (mean_auc, std_auc),\r\n",
        "          lw=2, alpha=.8)\r\n",
        "\r\n",
        "  std_tpr = np.std(tprs, axis=0)\r\n",
        "  tprs_upper = np.minimum(mean_tpr + std_tpr, 1)\r\n",
        "  tprs_lower = np.maximum(mean_tpr - std_tpr, 0)\r\n",
        "  ax.fill_between(mean_fpr, tprs_lower, tprs_upper, color='grey', alpha=.2,\r\n",
        "                  label=r'$\\pm$ 1 std. dev.')\r\n",
        "\r\n",
        "  ax.set(xlim=[-0.05, 1.05], ylim=[-0.05, 1.05],\r\n",
        "        title=\"ROC for K fold cross-validation curves\")\r\n",
        "  ax.legend(loc=\"lower right\")\r\n",
        "  plt.show()"
      ],
      "execution_count": 16,
      "outputs": []
    },
    {
      "cell_type": "markdown",
      "metadata": {
        "id": "owxa6ZjPOKhh"
      },
      "source": [
        "# Random Forest"
      ]
    },
    {
      "cell_type": "markdown",
      "metadata": {
        "id": "e1ixcAFfjL3S"
      },
      "source": [
        "- Treino com sample de treino"
      ]
    },
    {
      "cell_type": "code",
      "metadata": {
        "colab": {
          "base_uri": "https://localhost:8080/"
        },
        "id": "aFymemqQq2JH",
        "outputId": "9b97cdf3-17f2-4dc4-d763-0d02c141eb83"
      },
      "source": [
        "rf = RandomForestClassifier()\n",
        "rf.fit(X_train, y_train)"
      ],
      "execution_count": 17,
      "outputs": [
        {
          "output_type": "execute_result",
          "data": {
            "text/plain": [
              "RandomForestClassifier(bootstrap=True, ccp_alpha=0.0, class_weight=None,\n",
              "                       criterion='gini', max_depth=None, max_features='auto',\n",
              "                       max_leaf_nodes=None, max_samples=None,\n",
              "                       min_impurity_decrease=0.0, min_impurity_split=None,\n",
              "                       min_samples_leaf=1, min_samples_split=2,\n",
              "                       min_weight_fraction_leaf=0.0, n_estimators=100,\n",
              "                       n_jobs=None, oob_score=False, random_state=None,\n",
              "                       verbose=0, warm_start=False)"
            ]
          },
          "metadata": {
            "tags": []
          },
          "execution_count": 17
        }
      ]
    },
    {
      "cell_type": "markdown",
      "metadata": {
        "id": "5cCP7fsx5_58"
      },
      "source": [
        "## Treino"
      ]
    },
    {
      "cell_type": "markdown",
      "metadata": {
        "id": "lGL1A2ixjbRT"
      },
      "source": [
        "- Relatório de classificação da predição com o modelo Random forest com o sample de treino"
      ]
    },
    {
      "cell_type": "code",
      "metadata": {
        "colab": {
          "base_uri": "https://localhost:8080/"
        },
        "id": "5S5NGcYljXTS",
        "outputId": "950a23e4-6038-47b1-dfd0-7189ee6e548f"
      },
      "source": [
        "predictions = rf.predict(X_train)\n",
        "print(classification_report(y_train, predictions))"
      ],
      "execution_count": 18,
      "outputs": [
        {
          "output_type": "stream",
          "text": [
            "              precision    recall  f1-score   support\n",
            "\n",
            "           0       1.00      1.00      1.00    227454\n",
            "           1       1.00      1.00      1.00       391\n",
            "\n",
            "    accuracy                           1.00    227845\n",
            "   macro avg       1.00      1.00      1.00    227845\n",
            "weighted avg       1.00      1.00      1.00    227845\n",
            "\n"
          ],
          "name": "stdout"
        }
      ]
    },
    {
      "cell_type": "markdown",
      "metadata": {
        "id": "4Bi71KcCjn7r"
      },
      "source": [
        "- Matriz de confusão dos valores preditos com o conjunto de treino"
      ]
    },
    {
      "cell_type": "code",
      "metadata": {
        "id": "njyVMGnunwwp",
        "colab": {
          "base_uri": "https://localhost:8080/",
          "height": 173
        },
        "outputId": "73733681-b829-4229-a47f-ecf4a7ceabb2"
      },
      "source": [
        "pd.crosstab(y_train, predictions, rownames=['Real'],colnames=['Predito'],margins=True)"
      ],
      "execution_count": 19,
      "outputs": [
        {
          "output_type": "execute_result",
          "data": {
            "text/html": [
              "<div>\n",
              "<style scoped>\n",
              "    .dataframe tbody tr th:only-of-type {\n",
              "        vertical-align: middle;\n",
              "    }\n",
              "\n",
              "    .dataframe tbody tr th {\n",
              "        vertical-align: top;\n",
              "    }\n",
              "\n",
              "    .dataframe thead th {\n",
              "        text-align: right;\n",
              "    }\n",
              "</style>\n",
              "<table border=\"1\" class=\"dataframe\">\n",
              "  <thead>\n",
              "    <tr style=\"text-align: right;\">\n",
              "      <th>Predito</th>\n",
              "      <th>0</th>\n",
              "      <th>1</th>\n",
              "      <th>All</th>\n",
              "    </tr>\n",
              "    <tr>\n",
              "      <th>Real</th>\n",
              "      <th></th>\n",
              "      <th></th>\n",
              "      <th></th>\n",
              "    </tr>\n",
              "  </thead>\n",
              "  <tbody>\n",
              "    <tr>\n",
              "      <th>0</th>\n",
              "      <td>227454</td>\n",
              "      <td>0</td>\n",
              "      <td>227454</td>\n",
              "    </tr>\n",
              "    <tr>\n",
              "      <th>1</th>\n",
              "      <td>1</td>\n",
              "      <td>390</td>\n",
              "      <td>391</td>\n",
              "    </tr>\n",
              "    <tr>\n",
              "      <th>All</th>\n",
              "      <td>227455</td>\n",
              "      <td>390</td>\n",
              "      <td>227845</td>\n",
              "    </tr>\n",
              "  </tbody>\n",
              "</table>\n",
              "</div>"
            ],
            "text/plain": [
              "Predito       0    1     All\n",
              "Real                        \n",
              "0        227454    0  227454\n",
              "1             1  390     391\n",
              "All      227455  390  227845"
            ]
          },
          "metadata": {
            "tags": []
          },
          "execution_count": 19
        }
      ]
    },
    {
      "cell_type": "markdown",
      "metadata": {
        "id": "sE7DnFY-jzJv"
      },
      "source": [
        "- Validação cruzada utilizando 5 pastas"
      ]
    },
    {
      "cell_type": "code",
      "metadata": {
        "id": "0ct-yzB2fCPM",
        "colab": {
          "base_uri": "https://localhost:8080/"
        },
        "outputId": "ff282a52-8057-4455-fa65-7f78e1446de6"
      },
      "source": [
        "scores = cross_val_score(rf, X_train, y_train, cv=5, scoring='accuracy')\n",
        "scores"
      ],
      "execution_count": 20,
      "outputs": [
        {
          "output_type": "execute_result",
          "data": {
            "text/plain": [
              "array([0.99953916, 0.99942944, 0.99962694, 0.99953916, 0.99949527])"
            ]
          },
          "metadata": {
            "tags": []
          },
          "execution_count": 20
        }
      ]
    },
    {
      "cell_type": "markdown",
      "metadata": {
        "id": "eKTu5VKtj_Sa"
      },
      "source": [
        "- Media dos scores obtidos"
      ]
    },
    {
      "cell_type": "code",
      "metadata": {
        "colab": {
          "base_uri": "https://localhost:8080/"
        },
        "id": "-mUN-alkjv_k",
        "outputId": "78616a15-1916-44e7-9f8b-6596e0f93d35"
      },
      "source": [
        "scores.mean()"
      ],
      "execution_count": 21,
      "outputs": [
        {
          "output_type": "execute_result",
          "data": {
            "text/plain": [
              "0.9995259935482455"
            ]
          },
          "metadata": {
            "tags": []
          },
          "execution_count": 21
        }
      ]
    },
    {
      "cell_type": "markdown",
      "metadata": {
        "id": "knVoURIF9sWn"
      },
      "source": [
        "- Acurácia do modelo"
      ]
    },
    {
      "cell_type": "code",
      "metadata": {
        "colab": {
          "base_uri": "https://localhost:8080/"
        },
        "id": "1otoQtsp9rWH",
        "outputId": "3fe2b8ee-4759-46d3-8671-5b6f438dc860"
      },
      "source": [
        "accuracy_score(y_train, predictions)"
      ],
      "execution_count": 22,
      "outputs": [
        {
          "output_type": "execute_result",
          "data": {
            "text/plain": [
              "0.9999956110513727"
            ]
          },
          "metadata": {
            "tags": []
          },
          "execution_count": 22
        }
      ]
    },
    {
      "cell_type": "markdown",
      "metadata": {
        "id": "Vg6h_dD98MqW"
      },
      "source": [
        "- Root Mean Squared Error (RMSE) "
      ]
    },
    {
      "cell_type": "code",
      "metadata": {
        "colab": {
          "base_uri": "https://localhost:8080/"
        },
        "id": "hJQvPDMd8ItB",
        "outputId": "24e8ef05-52af-443d-9b89-d6d8366a5227"
      },
      "source": [
        "rmse = sqrt(mean_squared_error(y_train, predictions))\n",
        "rmse"
      ],
      "execution_count": 23,
      "outputs": [
        {
          "output_type": "execute_result",
          "data": {
            "text/plain": [
              "0.0020949817725594458"
            ]
          },
          "metadata": {
            "tags": []
          },
          "execution_count": 23
        }
      ]
    },
    {
      "cell_type": "markdown",
      "metadata": {
        "id": "mGAT9y95nCOj"
      },
      "source": [
        "- Curva ROC"
      ]
    },
    {
      "cell_type": "code",
      "metadata": {
        "colab": {
          "base_uri": "https://localhost:8080/",
          "height": 265
        },
        "id": "3KTJsdBMV2Ze",
        "outputId": "c5a17948-3dd5-4beb-fb15-98bcaf24b406"
      },
      "source": [
        "fpr, tpr, _ = roc_curve(y_train, predictions)\r\n",
        "roc_auc_scr =  roc_auc_score(y_train, predictions)\r\n",
        "plt.plot(fpr,tpr,label=\"data, auc=\"+str(roc_auc_scr))\r\n",
        "plt.legend(loc=4)\r\n",
        "plt.show()"
      ],
      "execution_count": 24,
      "outputs": [
        {
          "output_type": "display_data",
          "data": {
            "image/png": "[encoded data removed]",
            "text/plain": [
              "<Figure size 432x288 with 1 Axes>"
            ]
          },
          "metadata": {
            "tags": [],
            "needs_background": "light"
          }
        }
      ]
    },
    {
      "cell_type": "markdown",
      "metadata": {
        "id": "eg2wN52vVvGf"
      },
      "source": [
        " - Curvas da K fold cross-validation"
      ]
    },
    {
      "cell_type": "code",
      "metadata": {
        "colab": {
          "base_uri": "https://localhost:8080/",
          "height": 295
        },
        "id": "IpLo2KtjmIAK",
        "outputId": "284f75b5-1590-4d1a-b6ee-382282019cdc"
      },
      "source": [
        "plot_Kfold_cross_validation_curves(X_train, y_train)"
      ],
      "execution_count": 25,
      "outputs": [
        {
          "output_type": "display_data",
          "data": {
            "image/png": "[encoded data removed]",
            "text/plain": [
              "<Figure size 432x288 with 1 Axes>"
            ]
          },
          "metadata": {
            "tags": [],
            "needs_background": "light"
          }
        }
      ]
    },
    {
      "cell_type": "markdown",
      "metadata": {
        "id": "-4_DNbB_6Dp2"
      },
      "source": [
        "## Teste"
      ]
    },
    {
      "cell_type": "markdown",
      "metadata": {
        "id": "BLAB8P6AkG2L"
      },
      "source": [
        "- Predição do sample de teste"
      ]
    },
    {
      "cell_type": "code",
      "metadata": {
        "id": "2NP6MyeutU7D"
      },
      "source": [
        "predictions_test = rf.predict(X_test)"
      ],
      "execution_count": 26,
      "outputs": []
    },
    {
      "cell_type": "markdown",
      "metadata": {
        "id": "xyaMdfoAkUyW"
      },
      "source": [
        "- Relatório de classificação da predição com o modelo Random forest com o sample de teste"
      ]
    },
    {
      "cell_type": "code",
      "metadata": {
        "colab": {
          "base_uri": "https://localhost:8080/"
        },
        "id": "8dP_bcm5kQ3C",
        "outputId": "8f07c0d1-194e-4b14-8f6a-6fd2b8cf0a39"
      },
      "source": [
        "print(classification_report(y_test, predictions_test))"
      ],
      "execution_count": 27,
      "outputs": [
        {
          "output_type": "stream",
          "text": [
            "              precision    recall  f1-score   support\n",
            "\n",
            "           0       1.00      1.00      1.00     56861\n",
            "           1       0.93      0.76      0.84       101\n",
            "\n",
            "    accuracy                           1.00     56962\n",
            "   macro avg       0.96      0.88      0.92     56962\n",
            "weighted avg       1.00      1.00      1.00     56962\n",
            "\n"
          ],
          "name": "stdout"
        }
      ]
    },
    {
      "cell_type": "markdown",
      "metadata": {
        "id": "JQ6w9D7SkkMo"
      },
      "source": [
        "- Matriz de confusão dos valores preditos com o conjunto de teste"
      ]
    },
    {
      "cell_type": "code",
      "metadata": {
        "id": "uJIkYyI1oKzr",
        "colab": {
          "base_uri": "https://localhost:8080/",
          "height": 173
        },
        "outputId": "94aba7a7-d9f0-4b6b-bf47-d0794056984d"
      },
      "source": [
        "pd.crosstab(y_test, predictions_test, rownames=['Real'],colnames=['Predito'],margins=True) "
      ],
      "execution_count": 28,
      "outputs": [
        {
          "output_type": "execute_result",
          "data": {
            "text/html": [
              "<div>\n",
              "<style scoped>\n",
              "    .dataframe tbody tr th:only-of-type {\n",
              "        vertical-align: middle;\n",
              "    }\n",
              "\n",
              "    .dataframe tbody tr th {\n",
              "        vertical-align: top;\n",
              "    }\n",
              "\n",
              "    .dataframe thead th {\n",
              "        text-align: right;\n",
              "    }\n",
              "</style>\n",
              "<table border=\"1\" class=\"dataframe\">\n",
              "  <thead>\n",
              "    <tr style=\"text-align: right;\">\n",
              "      <th>Predito</th>\n",
              "      <th>0</th>\n",
              "      <th>1</th>\n",
              "      <th>All</th>\n",
              "    </tr>\n",
              "    <tr>\n",
              "      <th>Real</th>\n",
              "      <th></th>\n",
              "      <th></th>\n",
              "      <th></th>\n",
              "    </tr>\n",
              "  </thead>\n",
              "  <tbody>\n",
              "    <tr>\n",
              "      <th>0</th>\n",
              "      <td>56855</td>\n",
              "      <td>6</td>\n",
              "      <td>56861</td>\n",
              "    </tr>\n",
              "    <tr>\n",
              "      <th>1</th>\n",
              "      <td>24</td>\n",
              "      <td>77</td>\n",
              "      <td>101</td>\n",
              "    </tr>\n",
              "    <tr>\n",
              "      <th>All</th>\n",
              "      <td>56879</td>\n",
              "      <td>83</td>\n",
              "      <td>56962</td>\n",
              "    </tr>\n",
              "  </tbody>\n",
              "</table>\n",
              "</div>"
            ],
            "text/plain": [
              "Predito      0   1    All\n",
              "Real                     \n",
              "0        56855   6  56861\n",
              "1           24  77    101\n",
              "All      56879  83  56962"
            ]
          },
          "metadata": {
            "tags": []
          },
          "execution_count": 28
        }
      ]
    },
    {
      "cell_type": "markdown",
      "metadata": {
        "id": "nNenluCDksUE"
      },
      "source": [
        "- Validação cruzada utilizando 5 pastas com conjunto de teste"
      ]
    },
    {
      "cell_type": "code",
      "metadata": {
        "id": "7SyA2FdfnlJk",
        "colab": {
          "base_uri": "https://localhost:8080/"
        },
        "outputId": "74bf692c-0e64-4b1d-f7cb-6beac36117d5"
      },
      "source": [
        "scores = cross_val_score(rf, X_test, predictions_test, cv=5, scoring='accuracy')\n",
        "scores"
      ],
      "execution_count": 29,
      "outputs": [
        {
          "output_type": "execute_result",
          "data": {
            "text/plain": [
              "array([0.99973668, 0.99964891, 0.99982444, 0.9995611 , 0.99991222])"
            ]
          },
          "metadata": {
            "tags": []
          },
          "execution_count": 29
        }
      ]
    },
    {
      "cell_type": "markdown",
      "metadata": {
        "id": "54zV1n_mk1ma"
      },
      "source": [
        "- Media dos scores obtidos com o conjunto de teste"
      ]
    },
    {
      "cell_type": "code",
      "metadata": {
        "colab": {
          "base_uri": "https://localhost:8080/"
        },
        "id": "p__RCkAdkzPE",
        "outputId": "b471dec1-c232-4e0d-e4dd-fd675a22c3f9"
      },
      "source": [
        "scores.mean()"
      ],
      "execution_count": 30,
      "outputs": [
        {
          "output_type": "execute_result",
          "data": {
            "text/plain": [
              "0.9997366680901045"
            ]
          },
          "metadata": {
            "tags": []
          },
          "execution_count": 30
        }
      ]
    },
    {
      "cell_type": "markdown",
      "metadata": {
        "id": "4B5va7gw9-mR"
      },
      "source": [
        "- Acurácia do modelo"
      ]
    },
    {
      "cell_type": "code",
      "metadata": {
        "colab": {
          "base_uri": "https://localhost:8080/"
        },
        "id": "wePT4YrX9930",
        "outputId": "03f3dbcf-1778-4eed-84fb-bd9f05ac877e"
      },
      "source": [
        "accuracy_score(y_test, predictions_test)"
      ],
      "execution_count": 31,
      "outputs": [
        {
          "output_type": "execute_result",
          "data": {
            "text/plain": [
              "0.9994733330992591"
            ]
          },
          "metadata": {
            "tags": []
          },
          "execution_count": 31
        }
      ]
    },
    {
      "cell_type": "markdown",
      "metadata": {
        "id": "6-CjgM258h6e"
      },
      "source": [
        "- Root Mean Squared Error (RMSE)"
      ]
    },
    {
      "cell_type": "code",
      "metadata": {
        "colab": {
          "base_uri": "https://localhost:8080/"
        },
        "id": "0sdttlBo8hA7",
        "outputId": "141d84dc-1da1-4de7-d288-852d4d1cf89b"
      },
      "source": [
        "rmse = sqrt(mean_squared_error(y_test, predictions_test))\n",
        "rmse"
      ],
      "execution_count": 32,
      "outputs": [
        {
          "output_type": "execute_result",
          "data": {
            "text/plain": [
              "0.022949224403906218"
            ]
          },
          "metadata": {
            "tags": []
          },
          "execution_count": 32
        }
      ]
    },
    {
      "cell_type": "markdown",
      "metadata": {
        "id": "U42RdVNMtJ37"
      },
      "source": [
        "- Curva ROC, conjunto de teste"
      ]
    },
    {
      "cell_type": "code",
      "metadata": {
        "colab": {
          "base_uri": "https://localhost:8080/",
          "height": 265
        },
        "id": "3spn8Gf2mEt5",
        "outputId": "f6c97c69-ed25-4486-e438-795b8ed259a9"
      },
      "source": [
        "fpr, tpr, _ = roc_curve(y_test, predictions_test)\n",
        "roc_auc_scr =  roc_auc_score(y_test, predictions_test)\n",
        "plt.plot(fpr,tpr,label=\"data, auc=\"+str(roc_auc_scr))\n",
        "plt.legend(loc=4)\n",
        "plt.show()"
      ],
      "execution_count": 33,
      "outputs": [
        {
          "output_type": "display_data",
          "data": {
            "image/png": "[encoded data removed]",
            "text/plain": [
              "<Figure size 432x288 with 1 Axes>"
            ]
          },
          "metadata": {
            "tags": [],
            "needs_background": "light"
          }
        }
      ]
    },
    {
      "cell_type": "markdown",
      "metadata": {
        "id": "boChx6PpWFps"
      },
      "source": [
        "- Curvas da K fold cross-validation dados de teste"
      ]
    },
    {
      "cell_type": "code",
      "metadata": {
        "colab": {
          "base_uri": "https://localhost:8080/",
          "height": 295
        },
        "id": "eeo98JS4WL2e",
        "outputId": "393e19ef-2db4-4117-cb33-9d2e6e41045b"
      },
      "source": [
        "plot_Kfold_cross_validation_curves(X_test, y_test)"
      ],
      "execution_count": 34,
      "outputs": [
        {
          "output_type": "display_data",
          "data": {
            "image/png": "[encoded data removed]",
            "text/plain": [
              "<Figure size 432x288 with 1 Axes>"
            ]
          },
          "metadata": {
            "tags": [],
            "needs_background": "light"
          }
        }
      ]
    },
    {
      "cell_type": "markdown",
      "metadata": {
        "id": "1sZhJG0MOQw1"
      },
      "source": [
        "# KNN "
      ]
    },
    {
      "cell_type": "code",
      "metadata": {
        "colab": {
          "base_uri": "https://localhost:8080/"
        },
        "id": "Q7IW0wPwjux3",
        "outputId": "97ff8073-f5a6-4b68-a6a9-c73315fc7dcd"
      },
      "source": [
        "knn = KNeighborsClassifier(n_neighbors=1)\r\n",
        "knn.fit(X_train, y_train)"
      ],
      "execution_count": 35,
      "outputs": [
        {
          "output_type": "execute_result",
          "data": {
            "text/plain": [
              "KNeighborsClassifier(algorithm='auto', leaf_size=30, metric='minkowski',\n",
              "                     metric_params=None, n_jobs=None, n_neighbors=1, p=2,\n",
              "                     weights='uniform')"
            ]
          },
          "metadata": {
            "tags": []
          },
          "execution_count": 35
        }
      ]
    },
    {
      "cell_type": "markdown",
      "metadata": {
        "id": "Lv7zuKEW5xbu"
      },
      "source": [
        "## Treino"
      ]
    },
    {
      "cell_type": "code",
      "metadata": {
        "id": "l8Ja5V0sBwrB"
      },
      "source": [
        "y_pred = knn.predict(X_train)"
      ],
      "execution_count": 36,
      "outputs": []
    },
    {
      "cell_type": "code",
      "metadata": {
        "colab": {
          "base_uri": "https://localhost:8080/"
        },
        "id": "WCorvIcr3pT-",
        "outputId": "80075307-cb69-4365-aa69-f59f2c378f12"
      },
      "source": [
        "accuracy_score(y_train, y_pred)"
      ],
      "execution_count": 37,
      "outputs": [
        {
          "output_type": "execute_result",
          "data": {
            "text/plain": [
              "1.0"
            ]
          },
          "metadata": {
            "tags": []
          },
          "execution_count": 37
        }
      ]
    },
    {
      "cell_type": "code",
      "metadata": {
        "id": "WeXgWfnJwM7j",
        "colab": {
          "base_uri": "https://localhost:8080/"
        },
        "outputId": "e9bfeb0e-b374-4d89-e305-5a9f46bf209c"
      },
      "source": [
        "print(classification_report(y_train, y_pred))"
      ],
      "execution_count": 38,
      "outputs": [
        {
          "output_type": "stream",
          "text": [
            "              precision    recall  f1-score   support\n",
            "\n",
            "           0       1.00      1.00      1.00    227454\n",
            "           1       1.00      1.00      1.00       391\n",
            "\n",
            "    accuracy                           1.00    227845\n",
            "   macro avg       1.00      1.00      1.00    227845\n",
            "weighted avg       1.00      1.00      1.00    227845\n",
            "\n"
          ],
          "name": "stdout"
        }
      ]
    },
    {
      "cell_type": "code",
      "metadata": {
        "id": "O8LDjwVXxbv1",
        "colab": {
          "base_uri": "https://localhost:8080/",
          "height": 173
        },
        "outputId": "22c859b6-29fe-432c-cdef-4b2c617dbf5e"
      },
      "source": [
        "pd.crosstab(y_train, y_pred, rownames=['Real'],colnames=['Predito'],margins=True)"
      ],
      "execution_count": 39,
      "outputs": [
        {
          "output_type": "execute_result",
          "data": {
            "text/html": [
              "<div>\n",
              "<style scoped>\n",
              "    .dataframe tbody tr th:only-of-type {\n",
              "        vertical-align: middle;\n",
              "    }\n",
              "\n",
              "    .dataframe tbody tr th {\n",
              "        vertical-align: top;\n",
              "    }\n",
              "\n",
              "    .dataframe thead th {\n",
              "        text-align: right;\n",
              "    }\n",
              "</style>\n",
              "<table border=\"1\" class=\"dataframe\">\n",
              "  <thead>\n",
              "    <tr style=\"text-align: right;\">\n",
              "      <th>Predito</th>\n",
              "      <th>0</th>\n",
              "      <th>1</th>\n",
              "      <th>All</th>\n",
              "    </tr>\n",
              "    <tr>\n",
              "      <th>Real</th>\n",
              "      <th></th>\n",
              "      <th></th>\n",
              "      <th></th>\n",
              "    </tr>\n",
              "  </thead>\n",
              "  <tbody>\n",
              "    <tr>\n",
              "      <th>0</th>\n",
              "      <td>227454</td>\n",
              "      <td>0</td>\n",
              "      <td>227454</td>\n",
              "    </tr>\n",
              "    <tr>\n",
              "      <th>1</th>\n",
              "      <td>0</td>\n",
              "      <td>391</td>\n",
              "      <td>391</td>\n",
              "    </tr>\n",
              "    <tr>\n",
              "      <th>All</th>\n",
              "      <td>227454</td>\n",
              "      <td>391</td>\n",
              "      <td>227845</td>\n",
              "    </tr>\n",
              "  </tbody>\n",
              "</table>\n",
              "</div>"
            ],
            "text/plain": [
              "Predito       0    1     All\n",
              "Real                        \n",
              "0        227454    0  227454\n",
              "1             0  391     391\n",
              "All      227454  391  227845"
            ]
          },
          "metadata": {
            "tags": []
          },
          "execution_count": 39
        }
      ]
    },
    {
      "cell_type": "code",
      "metadata": {
        "id": "Nim0I8PMxvCO",
        "colab": {
          "base_uri": "https://localhost:8080/"
        },
        "outputId": "079f4523-f8a0-46ef-8e49-e50dc2b5fd3a"
      },
      "source": [
        "scores = cross_val_score(knn, X_train, y_train, cv=5, scoring='accuracy')\n",
        "scores"
      ],
      "execution_count": 40,
      "outputs": [
        {
          "output_type": "execute_result",
          "data": {
            "text/plain": [
              "array([0.99931971, 0.9993636 , 0.99958305, 0.99947333, 0.99938555])"
            ]
          },
          "metadata": {
            "tags": []
          },
          "execution_count": 40
        }
      ]
    },
    {
      "cell_type": "code",
      "metadata": {
        "id": "eDIZWLplxyRU",
        "colab": {
          "base_uri": "https://localhost:8080/"
        },
        "outputId": "4e03acb1-a8f1-466f-eff6-fb7a2e6d0354"
      },
      "source": [
        "scores.mean()"
      ],
      "execution_count": 41,
      "outputs": [
        {
          "output_type": "execute_result",
          "data": {
            "text/plain": [
              "0.9994250477298163"
            ]
          },
          "metadata": {
            "tags": []
          },
          "execution_count": 41
        }
      ]
    },
    {
      "cell_type": "code",
      "metadata": {
        "id": "kogl1nyfx3HQ",
        "colab": {
          "base_uri": "https://localhost:8080/"
        },
        "outputId": "e698b47c-c672-4abb-f1cd-bcf3a83b7a89"
      },
      "source": [
        "accuracy_score(y_train, y_pred)"
      ],
      "execution_count": 42,
      "outputs": [
        {
          "output_type": "execute_result",
          "data": {
            "text/plain": [
              "1.0"
            ]
          },
          "metadata": {
            "tags": []
          },
          "execution_count": 42
        }
      ]
    },
    {
      "cell_type": "code",
      "metadata": {
        "id": "4NqqkFI-yAkn",
        "colab": {
          "base_uri": "https://localhost:8080/"
        },
        "outputId": "bcd08fdc-9e27-4904-c62b-e8a64743d52e"
      },
      "source": [
        "rmse = sqrt(mean_squared_error(y_train, y_pred))\n",
        "rmse"
      ],
      "execution_count": 43,
      "outputs": [
        {
          "output_type": "execute_result",
          "data": {
            "text/plain": [
              "0.0"
            ]
          },
          "metadata": {
            "tags": []
          },
          "execution_count": 43
        }
      ]
    },
    {
      "cell_type": "code",
      "metadata": {
        "id": "hpsP9EKoz0f_",
        "colab": {
          "base_uri": "https://localhost:8080/",
          "height": 265
        },
        "outputId": "285fb8a5-0edf-4967-cbb0-6b3c2440b5b9"
      },
      "source": [
        "fpr, tpr, _ = roc_curve(y_train, y_pred)\n",
        "roc_auc_scr =  roc_auc_score(y_train, y_pred)\n",
        "plt.plot(fpr,tpr,label=\"data, auc=\"+str(roc_auc_scr))\n",
        "plt.legend(loc=4)\n",
        "plt.show()"
      ],
      "execution_count": 44,
      "outputs": [
        {
          "output_type": "display_data",
          "data": {
            "image/png": "[encoded data removed]",
            "text/plain": [
              "<Figure size 432x288 with 1 Axes>"
            ]
          },
          "metadata": {
            "tags": [],
            "needs_background": "light"
          }
        }
      ]
    },
    {
      "cell_type": "code",
      "metadata": {
        "colab": {
          "base_uri": "https://localhost:8080/",
          "height": 295
        },
        "id": "LcHPDaSYkQGH",
        "outputId": "e7d3de2d-271b-406b-d054-69b1cf83cdd6"
      },
      "source": [
        "plot_Kfold_cross_validation_curves(X_train, y_train)"
      ],
      "execution_count": 45,
      "outputs": [
        {
          "output_type": "display_data",
          "data": {
            "image/png": "[encoded data removed]",
            "text/plain": [
              "<Figure size 432x288 with 1 Axes>"
            ]
          },
          "metadata": {
            "tags": [],
            "needs_background": "light"
          }
        }
      ]
    },
    {
      "cell_type": "markdown",
      "metadata": {
        "id": "1e3GXDKx5sKD"
      },
      "source": [
        "## Teste"
      ]
    },
    {
      "cell_type": "code",
      "metadata": {
        "id": "D29TGihY3uM6"
      },
      "source": [
        "y_pred = knn.predict(X_test)"
      ],
      "execution_count": 46,
      "outputs": []
    },
    {
      "cell_type": "code",
      "metadata": {
        "colab": {
          "base_uri": "https://localhost:8080/"
        },
        "id": "01Hb5MHF33Tg",
        "outputId": "0e50daf5-5d4f-4967-b682-2c5b9de41a91"
      },
      "source": [
        "print(classification_report(y_test, y_pred))"
      ],
      "execution_count": 47,
      "outputs": [
        {
          "output_type": "stream",
          "text": [
            "              precision    recall  f1-score   support\n",
            "\n",
            "           0       1.00      1.00      1.00     56861\n",
            "           1       0.83      0.84      0.84       101\n",
            "\n",
            "    accuracy                           1.00     56962\n",
            "   macro avg       0.92      0.92      0.92     56962\n",
            "weighted avg       1.00      1.00      1.00     56962\n",
            "\n"
          ],
          "name": "stdout"
        }
      ]
    },
    {
      "cell_type": "code",
      "metadata": {
        "colab": {
          "base_uri": "https://localhost:8080/",
          "height": 173
        },
        "id": "tybBBEAh35Pv",
        "outputId": "acec6b5d-8b96-4a2f-d059-48ede751261e"
      },
      "source": [
        "pd.crosstab(y_test, y_pred, rownames=['Real'],colnames=['Predito'],margins=True)"
      ],
      "execution_count": 48,
      "outputs": [
        {
          "output_type": "execute_result",
          "data": {
            "text/html": [
              "<div>\n",
              "<style scoped>\n",
              "    .dataframe tbody tr th:only-of-type {\n",
              "        vertical-align: middle;\n",
              "    }\n",
              "\n",
              "    .dataframe tbody tr th {\n",
              "        vertical-align: top;\n",
              "    }\n",
              "\n",
              "    .dataframe thead th {\n",
              "        text-align: right;\n",
              "    }\n",
              "</style>\n",
              "<table border=\"1\" class=\"dataframe\">\n",
              "  <thead>\n",
              "    <tr style=\"text-align: right;\">\n",
              "      <th>Predito</th>\n",
              "      <th>0</th>\n",
              "      <th>1</th>\n",
              "      <th>All</th>\n",
              "    </tr>\n",
              "    <tr>\n",
              "      <th>Real</th>\n",
              "      <th></th>\n",
              "      <th></th>\n",
              "      <th></th>\n",
              "    </tr>\n",
              "  </thead>\n",
              "  <tbody>\n",
              "    <tr>\n",
              "      <th>0</th>\n",
              "      <td>56844</td>\n",
              "      <td>17</td>\n",
              "      <td>56861</td>\n",
              "    </tr>\n",
              "    <tr>\n",
              "      <th>1</th>\n",
              "      <td>16</td>\n",
              "      <td>85</td>\n",
              "      <td>101</td>\n",
              "    </tr>\n",
              "    <tr>\n",
              "      <th>All</th>\n",
              "      <td>56860</td>\n",
              "      <td>102</td>\n",
              "      <td>56962</td>\n",
              "    </tr>\n",
              "  </tbody>\n",
              "</table>\n",
              "</div>"
            ],
            "text/plain": [
              "Predito      0    1    All\n",
              "Real                      \n",
              "0        56844   17  56861\n",
              "1           16   85    101\n",
              "All      56860  102  56962"
            ]
          },
          "metadata": {
            "tags": []
          },
          "execution_count": 48
        }
      ]
    },
    {
      "cell_type": "code",
      "metadata": {
        "colab": {
          "base_uri": "https://localhost:8080/"
        },
        "id": "fMHYao9y39w4",
        "outputId": "25caa7e3-9d7c-4f59-8363-204e7f19fbae"
      },
      "source": [
        "scores = cross_val_score(knn, X_test, y_test, cv=5, scoring='accuracy')\r\n",
        "scores"
      ],
      "execution_count": 49,
      "outputs": [
        {
          "output_type": "execute_result",
          "data": {
            "text/plain": [
              "array([0.99921004, 0.99921004, 0.99947331, 0.99929775, 0.99938553])"
            ]
          },
          "metadata": {
            "tags": []
          },
          "execution_count": 49
        }
      ]
    },
    {
      "cell_type": "code",
      "metadata": {
        "colab": {
          "base_uri": "https://localhost:8080/"
        },
        "id": "UpaadsvS4DV2",
        "outputId": "b300bf28-ee5a-44c9-a2ab-bd2d827a5494"
      },
      "source": [
        "scores.mean()"
      ],
      "execution_count": 50,
      "outputs": [
        {
          "output_type": "execute_result",
          "data": {
            "text/plain": [
              "0.9993153367260795"
            ]
          },
          "metadata": {
            "tags": []
          },
          "execution_count": 50
        }
      ]
    },
    {
      "cell_type": "code",
      "metadata": {
        "colab": {
          "base_uri": "https://localhost:8080/"
        },
        "id": "FpRovKRa4ICh",
        "outputId": "d7931e5e-2e45-4291-a6a0-94751934e086"
      },
      "source": [
        "accuracy_score(y_test, y_pred)"
      ],
      "execution_count": 51,
      "outputs": [
        {
          "output_type": "execute_result",
          "data": {
            "text/plain": [
              "0.999420666409185"
            ]
          },
          "metadata": {
            "tags": []
          },
          "execution_count": 51
        }
      ]
    },
    {
      "cell_type": "code",
      "metadata": {
        "colab": {
          "base_uri": "https://localhost:8080/"
        },
        "id": "6q9YEHuO4KJX",
        "outputId": "312890ee-91ba-49f9-9771-3bb8b8e0be28"
      },
      "source": [
        "rmse = sqrt(mean_squared_error(y_test, y_pred))\r\n",
        "rmse"
      ],
      "execution_count": 52,
      "outputs": [
        {
          "output_type": "execute_result",
          "data": {
            "text/plain": [
              "0.024069349613459214"
            ]
          },
          "metadata": {
            "tags": []
          },
          "execution_count": 52
        }
      ]
    },
    {
      "cell_type": "code",
      "metadata": {
        "colab": {
          "base_uri": "https://localhost:8080/",
          "height": 265
        },
        "id": "_tk57NUV4LjN",
        "outputId": "2a98cb2b-ab17-4a5e-83e7-baddc3923ba6"
      },
      "source": [
        "fpr, tpr, _ = roc_curve(y_test, y_pred)\r\n",
        "roc_auc_scr =  roc_auc_score(y_test, y_pred)\r\n",
        "plt.plot(fpr,tpr,label=\"data, auc=\"+str(roc_auc_scr))\r\n",
        "plt.legend(loc=4)\r\n",
        "plt.show()"
      ],
      "execution_count": 53,
      "outputs": [
        {
          "output_type": "display_data",
          "data": {
            "image/png": "[encoded data removed]",
            "text/plain": [
              "<Figure size 432x288 with 1 Axes>"
            ]
          },
          "metadata": {
            "tags": [],
            "needs_background": "light"
          }
        }
      ]
    },
    {
      "cell_type": "code",
      "metadata": {
        "colab": {
          "base_uri": "https://localhost:8080/",
          "height": 295
        },
        "id": "yF24AvUS4QlH",
        "outputId": "27a112bb-789b-43c9-ddb4-d29561f343dd"
      },
      "source": [
        "plot_Kfold_cross_validation_curves(X_test, y_test)"
      ],
      "execution_count": 54,
      "outputs": [
        {
          "output_type": "display_data",
          "data": {
            "image/png": "[encoded data removed]",
            "text/plain": [
              "<Figure size 432x288 with 1 Axes>"
            ]
          },
          "metadata": {
            "tags": [],
            "needs_background": "light"
          }
        }
      ]
    },
    {
      "cell_type": "markdown",
      "metadata": {
        "id": "giZi9VFEPbfG"
      },
      "source": [
        "# MLPClassifier"
      ]
    },
    {
      "cell_type": "code",
      "metadata": {
        "id": "TCP1wGp0PdwJ"
      },
      "source": [
        "clf = MLPClassifier(hidden_layer_sizes=(100,100,100), max_iter=500, alpha=0.0001,\n",
        "                     solver='sgd', verbose=10,  random_state=21,tol=0.000000001)"
      ],
      "execution_count": 55,
      "outputs": []
    },
    {
      "cell_type": "markdown",
      "metadata": {
        "id": "cQ9wZSqs5fQw"
      },
      "source": [
        "## Treino"
      ]
    },
    {
      "cell_type": "code",
      "metadata": {
        "id": "9g-Gk6rq2FIT",
        "colab": {
          "base_uri": "https://localhost:8080/"
        },
        "outputId": "2800e2d1-5dc2-4d2b-ce6c-79d9a12f6e6e"
      },
      "source": [
        "clf.fit(X_train, y_train)\n",
        "y_pred = clf.predict(X_train)"
      ],
      "execution_count": 56,
      "outputs": [
        {
          "output_type": "stream",
          "text": [
            "Iteration 1, loss = 0.04244978\n",
            "Iteration 2, loss = 0.00829890\n",
            "Iteration 3, loss = 0.00563703\n",
            "Iteration 4, loss = 0.00479990\n",
            "Iteration 5, loss = 0.00429235\n",
            "Iteration 6, loss = 0.00395833\n",
            "Iteration 7, loss = 0.00375664\n",
            "Iteration 8, loss = 0.00362084\n",
            "Iteration 9, loss = 0.00351762\n",
            "Iteration 10, loss = 0.00343677\n",
            "Iteration 11, loss = 0.00337154\n",
            "Iteration 12, loss = 0.00331430\n",
            "Iteration 13, loss = 0.00326904\n",
            "Iteration 14, loss = 0.00322650\n",
            "Iteration 15, loss = 0.00318938\n",
            "Iteration 16, loss = 0.00315607\n",
            "Iteration 17, loss = 0.00312760\n",
            "Iteration 18, loss = 0.00309957\n",
            "Iteration 19, loss = 0.00307508\n",
            "Iteration 20, loss = 0.00305012\n",
            "Iteration 21, loss = 0.00303077\n",
            "Iteration 22, loss = 0.00301150\n",
            "Iteration 23, loss = 0.00299291\n",
            "Iteration 24, loss = 0.00297530\n",
            "Iteration 25, loss = 0.00295769\n",
            "Iteration 26, loss = 0.00294334\n",
            "Iteration 27, loss = 0.00292779\n",
            "Iteration 28, loss = 0.00290925\n",
            "Iteration 29, loss = 0.00290190\n",
            "Iteration 30, loss = 0.00288652\n",
            "Iteration 31, loss = 0.00287413\n",
            "Iteration 32, loss = 0.00286402\n",
            "Iteration 33, loss = 0.00285229\n",
            "Iteration 34, loss = 0.00284018\n",
            "Iteration 35, loss = 0.00282754\n",
            "Iteration 36, loss = 0.00282043\n",
            "Iteration 37, loss = 0.00280936\n",
            "Iteration 38, loss = 0.00279788\n",
            "Iteration 39, loss = 0.00279028\n",
            "Iteration 40, loss = 0.00277905\n",
            "Iteration 41, loss = 0.00277001\n",
            "Iteration 42, loss = 0.00276288\n",
            "Iteration 43, loss = 0.00275363\n",
            "Iteration 44, loss = 0.00274358\n",
            "Iteration 45, loss = 0.00273301\n",
            "Iteration 46, loss = 0.00272747\n",
            "Iteration 47, loss = 0.00271998\n",
            "Iteration 48, loss = 0.00271126\n",
            "Iteration 49, loss = 0.00270413\n",
            "Iteration 50, loss = 0.00269695\n",
            "Iteration 51, loss = 0.00268758\n",
            "Iteration 52, loss = 0.00267924\n",
            "Iteration 53, loss = 0.00267008\n",
            "Iteration 54, loss = 0.00266222\n",
            "Iteration 55, loss = 0.00265601\n",
            "Iteration 56, loss = 0.00264803\n",
            "Iteration 57, loss = 0.00263958\n",
            "Iteration 58, loss = 0.00263468\n",
            "Iteration 59, loss = 0.00262808\n",
            "Iteration 60, loss = 0.00261950\n",
            "Iteration 61, loss = 0.00261334\n",
            "Iteration 62, loss = 0.00260430\n",
            "Iteration 63, loss = 0.00259982\n",
            "Iteration 64, loss = 0.00259282\n",
            "Iteration 65, loss = 0.00258650\n",
            "Iteration 66, loss = 0.00258001\n",
            "Iteration 67, loss = 0.00257195\n",
            "Iteration 68, loss = 0.00257041\n",
            "Iteration 69, loss = 0.00256174\n",
            "Iteration 70, loss = 0.00255637\n",
            "Iteration 71, loss = 0.00254817\n",
            "Iteration 72, loss = 0.00254325\n",
            "Iteration 73, loss = 0.00253689\n",
            "Iteration 74, loss = 0.00253169\n",
            "Iteration 75, loss = 0.00252719\n",
            "Iteration 76, loss = 0.00252177\n",
            "Iteration 77, loss = 0.00251583\n",
            "Iteration 78, loss = 0.00250983\n",
            "Iteration 79, loss = 0.00250447\n",
            "Iteration 80, loss = 0.00249953\n",
            "Iteration 81, loss = 0.00249266\n",
            "Iteration 82, loss = 0.00248821\n",
            "Iteration 83, loss = 0.00248350\n",
            "Iteration 84, loss = 0.00247812\n",
            "Iteration 85, loss = 0.00247190\n",
            "Iteration 86, loss = 0.00246946\n",
            "Iteration 87, loss = 0.00246262\n",
            "Iteration 88, loss = 0.00245939\n",
            "Iteration 89, loss = 0.00245491\n",
            "Iteration 90, loss = 0.00244813\n",
            "Iteration 91, loss = 0.00244344\n",
            "Iteration 92, loss = 0.00243849\n",
            "Iteration 93, loss = 0.00243435\n",
            "Iteration 94, loss = 0.00242922\n",
            "Iteration 95, loss = 0.00242219\n",
            "Iteration 96, loss = 0.00242058\n",
            "Iteration 97, loss = 0.00241585\n",
            "Iteration 98, loss = 0.00241039\n",
            "Iteration 99, loss = 0.00240304\n",
            "Iteration 100, loss = 0.00240219\n",
            "Iteration 101, loss = 0.00239700\n",
            "Iteration 102, loss = 0.00239250\n",
            "Iteration 103, loss = 0.00238411\n",
            "Iteration 104, loss = 0.00238560\n",
            "Iteration 105, loss = 0.00238039\n",
            "Iteration 106, loss = 0.00237154\n",
            "Iteration 107, loss = 0.00237358\n",
            "Iteration 108, loss = 0.00236732\n",
            "Iteration 109, loss = 0.00236238\n",
            "Iteration 110, loss = 0.00235904\n",
            "Iteration 111, loss = 0.00235460\n",
            "Iteration 112, loss = 0.00235036\n",
            "Iteration 113, loss = 0.00234701\n",
            "Iteration 114, loss = 0.00234193\n",
            "Iteration 115, loss = 0.00233940\n",
            "Iteration 116, loss = 0.00233428\n",
            "Iteration 117, loss = 0.00232829\n",
            "Iteration 118, loss = 0.00232580\n",
            "Iteration 119, loss = 0.00232394\n",
            "Iteration 120, loss = 0.00231898\n",
            "Iteration 121, loss = 0.00231520\n",
            "Iteration 122, loss = 0.00231183\n",
            "Iteration 123, loss = 0.00230712\n",
            "Iteration 124, loss = 0.00230340\n",
            "Iteration 125, loss = 0.00230026\n",
            "Iteration 126, loss = 0.00229619\n",
            "Iteration 127, loss = 0.00229279\n",
            "Iteration 128, loss = 0.00228964\n",
            "Iteration 129, loss = 0.00228678\n",
            "Iteration 130, loss = 0.00228034\n",
            "Iteration 131, loss = 0.00227786\n",
            "Iteration 132, loss = 0.00227419\n",
            "Iteration 133, loss = 0.00227372\n",
            "Iteration 134, loss = 0.00226692\n",
            "Iteration 135, loss = 0.00226320\n",
            "Iteration 136, loss = 0.00225914\n",
            "Iteration 137, loss = 0.00225764\n",
            "Iteration 138, loss = 0.00225398\n",
            "Iteration 139, loss = 0.00224978\n",
            "Iteration 140, loss = 0.00224676\n",
            "Iteration 141, loss = 0.00224158\n",
            "Iteration 142, loss = 0.00223748\n",
            "Iteration 143, loss = 0.00223674\n",
            "Iteration 144, loss = 0.00222920\n",
            "Iteration 145, loss = 0.00222802\n",
            "Iteration 146, loss = 0.00222594\n",
            "Iteration 147, loss = 0.00222354\n",
            "Iteration 148, loss = 0.00222111\n",
            "Iteration 149, loss = 0.00221695\n",
            "Iteration 150, loss = 0.00221195\n",
            "Iteration 151, loss = 0.00221044\n",
            "Iteration 152, loss = 0.00220780\n",
            "Iteration 153, loss = 0.00220355\n",
            "Iteration 154, loss = 0.00220055\n",
            "Iteration 155, loss = 0.00219697\n",
            "Iteration 156, loss = 0.00219393\n",
            "Iteration 157, loss = 0.00219182\n",
            "Iteration 158, loss = 0.00218866\n",
            "Iteration 159, loss = 0.00218665\n",
            "Iteration 160, loss = 0.00218205\n",
            "Iteration 161, loss = 0.00218083\n",
            "Iteration 162, loss = 0.00217739\n",
            "Iteration 163, loss = 0.00217384\n",
            "Iteration 164, loss = 0.00217075\n",
            "Iteration 165, loss = 0.00216810\n",
            "Iteration 166, loss = 0.00216441\n",
            "Iteration 167, loss = 0.00215995\n",
            "Iteration 168, loss = 0.00215966\n",
            "Iteration 169, loss = 0.00215585\n",
            "Iteration 170, loss = 0.00215306\n",
            "Iteration 171, loss = 0.00214983\n",
            "Iteration 172, loss = 0.00214257\n",
            "Iteration 173, loss = 0.00214552\n",
            "Iteration 174, loss = 0.00214158\n",
            "Iteration 175, loss = 0.00213764\n",
            "Iteration 176, loss = 0.00213603\n",
            "Iteration 177, loss = 0.00213326\n",
            "Iteration 178, loss = 0.00212932\n",
            "Iteration 179, loss = 0.00212496\n",
            "Iteration 180, loss = 0.00212238\n",
            "Iteration 181, loss = 0.00212068\n",
            "Iteration 182, loss = 0.00211720\n",
            "Iteration 183, loss = 0.00211336\n",
            "Iteration 184, loss = 0.00211157\n",
            "Iteration 185, loss = 0.00210933\n",
            "Iteration 186, loss = 0.00210500\n",
            "Iteration 187, loss = 0.00210292\n",
            "Iteration 188, loss = 0.00210028\n",
            "Iteration 189, loss = 0.00209494\n",
            "Iteration 190, loss = 0.00209668\n",
            "Iteration 191, loss = 0.00209251\n",
            "Iteration 192, loss = 0.00208940\n",
            "Iteration 193, loss = 0.00208772\n",
            "Iteration 194, loss = 0.00208462\n",
            "Iteration 195, loss = 0.00207717\n",
            "Iteration 196, loss = 0.00207961\n",
            "Iteration 197, loss = 0.00207389\n",
            "Iteration 198, loss = 0.00207230\n",
            "Iteration 199, loss = 0.00207019\n",
            "Iteration 200, loss = 0.00206707\n",
            "Iteration 201, loss = 0.00206550\n",
            "Iteration 202, loss = 0.00206037\n",
            "Iteration 203, loss = 0.00205998\n",
            "Iteration 204, loss = 0.00205643\n",
            "Iteration 205, loss = 0.00205577\n",
            "Iteration 206, loss = 0.00205275\n",
            "Iteration 207, loss = 0.00204743\n",
            "Iteration 208, loss = 0.00204551\n",
            "Iteration 209, loss = 0.00204470\n",
            "Iteration 210, loss = 0.00204225\n",
            "Iteration 211, loss = 0.00203838\n",
            "Iteration 212, loss = 0.00203640\n",
            "Iteration 213, loss = 0.00203234\n",
            "Iteration 214, loss = 0.00203121\n",
            "Iteration 215, loss = 0.00202925\n",
            "Iteration 216, loss = 0.00202734\n",
            "Iteration 217, loss = 0.00202585\n",
            "Iteration 218, loss = 0.00202052\n",
            "Iteration 219, loss = 0.00201969\n",
            "Iteration 220, loss = 0.00201756\n",
            "Iteration 221, loss = 0.00201465\n",
            "Iteration 222, loss = 0.00201326\n",
            "Iteration 223, loss = 0.00200920\n",
            "Iteration 224, loss = 0.00200689\n",
            "Iteration 225, loss = 0.00200645\n",
            "Iteration 226, loss = 0.00200432\n",
            "Iteration 227, loss = 0.00200062\n",
            "Iteration 228, loss = 0.00199675\n",
            "Iteration 229, loss = 0.00199318\n",
            "Iteration 230, loss = 0.00199413\n",
            "Iteration 231, loss = 0.00199070\n",
            "Iteration 232, loss = 0.00198884\n",
            "Iteration 233, loss = 0.00198543\n",
            "Iteration 234, loss = 0.00198443\n",
            "Iteration 235, loss = 0.00198410\n",
            "Iteration 236, loss = 0.00197945\n",
            "Iteration 237, loss = 0.00197743\n",
            "Iteration 238, loss = 0.00197271\n",
            "Iteration 239, loss = 0.00197309\n",
            "Iteration 240, loss = 0.00197252\n",
            "Iteration 241, loss = 0.00196703\n",
            "Iteration 242, loss = 0.00196478\n",
            "Iteration 243, loss = 0.00196552\n",
            "Iteration 244, loss = 0.00196305\n",
            "Iteration 245, loss = 0.00196029\n",
            "Iteration 246, loss = 0.00195528\n",
            "Iteration 247, loss = 0.00195261\n",
            "Iteration 248, loss = 0.00195246\n",
            "Iteration 249, loss = 0.00194909\n",
            "Iteration 250, loss = 0.00194916\n",
            "Iteration 251, loss = 0.00194666\n",
            "Iteration 252, loss = 0.00194559\n",
            "Iteration 253, loss = 0.00194103\n",
            "Iteration 254, loss = 0.00194025\n",
            "Iteration 255, loss = 0.00193882\n",
            "Iteration 256, loss = 0.00193611\n",
            "Iteration 257, loss = 0.00193444\n",
            "Iteration 258, loss = 0.00193300\n",
            "Iteration 259, loss = 0.00192729\n",
            "Iteration 260, loss = 0.00192699\n",
            "Iteration 261, loss = 0.00192572\n",
            "Iteration 262, loss = 0.00192275\n",
            "Iteration 263, loss = 0.00191948\n",
            "Iteration 264, loss = 0.00191771\n",
            "Iteration 265, loss = 0.00191791\n",
            "Iteration 266, loss = 0.00191530\n",
            "Iteration 267, loss = 0.00191221\n",
            "Iteration 268, loss = 0.00191243\n",
            "Iteration 269, loss = 0.00190665\n",
            "Iteration 270, loss = 0.00190792\n",
            "Iteration 271, loss = 0.00190113\n",
            "Iteration 272, loss = 0.00190463\n",
            "Iteration 273, loss = 0.00190116\n",
            "Iteration 274, loss = 0.00189610\n",
            "Iteration 275, loss = 0.00189786\n",
            "Iteration 276, loss = 0.00189424\n",
            "Iteration 277, loss = 0.00189150\n",
            "Iteration 278, loss = 0.00188790\n",
            "Iteration 279, loss = 0.00188976\n",
            "Iteration 280, loss = 0.00188505\n",
            "Iteration 281, loss = 0.00188547\n",
            "Iteration 282, loss = 0.00188271\n",
            "Iteration 283, loss = 0.00188117\n",
            "Iteration 284, loss = 0.00187934\n",
            "Iteration 285, loss = 0.00187662\n",
            "Iteration 286, loss = 0.00187325\n",
            "Iteration 287, loss = 0.00187244\n",
            "Iteration 288, loss = 0.00187024\n",
            "Iteration 289, loss = 0.00186827\n",
            "Iteration 290, loss = 0.00186783\n",
            "Iteration 291, loss = 0.00186355\n",
            "Iteration 292, loss = 0.00186267\n",
            "Iteration 293, loss = 0.00186087\n",
            "Iteration 294, loss = 0.00185836\n",
            "Iteration 295, loss = 0.00185770\n",
            "Iteration 296, loss = 0.00185140\n",
            "Iteration 297, loss = 0.00185189\n",
            "Iteration 298, loss = 0.00184880\n",
            "Iteration 299, loss = 0.00184712\n",
            "Iteration 300, loss = 0.00184634\n",
            "Iteration 301, loss = 0.00184358\n",
            "Iteration 302, loss = 0.00184277\n",
            "Iteration 303, loss = 0.00184098\n",
            "Iteration 304, loss = 0.00183956\n",
            "Iteration 305, loss = 0.00183395\n",
            "Iteration 306, loss = 0.00183434\n",
            "Iteration 307, loss = 0.00183254\n",
            "Iteration 308, loss = 0.00183017\n",
            "Iteration 309, loss = 0.00182754\n",
            "Iteration 310, loss = 0.00182935\n",
            "Iteration 311, loss = 0.00182521\n",
            "Iteration 312, loss = 0.00182343\n",
            "Iteration 313, loss = 0.00182384\n",
            "Iteration 314, loss = 0.00181888\n",
            "Iteration 315, loss = 0.00181691\n",
            "Iteration 316, loss = 0.00181629\n",
            "Iteration 317, loss = 0.00181499\n",
            "Iteration 318, loss = 0.00181193\n",
            "Iteration 319, loss = 0.00181034\n",
            "Iteration 320, loss = 0.00180859\n",
            "Iteration 321, loss = 0.00180126\n",
            "Iteration 322, loss = 0.00180704\n",
            "Iteration 323, loss = 0.00179990\n",
            "Iteration 324, loss = 0.00180106\n",
            "Iteration 325, loss = 0.00179650\n",
            "Iteration 326, loss = 0.00179747\n",
            "Iteration 327, loss = 0.00179659\n",
            "Iteration 328, loss = 0.00179339\n",
            "Iteration 329, loss = 0.00179112\n",
            "Iteration 330, loss = 0.00179104\n",
            "Iteration 331, loss = 0.00178622\n",
            "Iteration 332, loss = 0.00178554\n",
            "Iteration 333, loss = 0.00178575\n",
            "Iteration 334, loss = 0.00178148\n",
            "Iteration 335, loss = 0.00178033\n",
            "Iteration 336, loss = 0.00177646\n",
            "Iteration 337, loss = 0.00177822\n",
            "Iteration 338, loss = 0.00177530\n",
            "Iteration 339, loss = 0.00177242\n",
            "Iteration 340, loss = 0.00177172\n",
            "Iteration 341, loss = 0.00176910\n",
            "Iteration 342, loss = 0.00176834\n",
            "Iteration 343, loss = 0.00176616\n",
            "Iteration 344, loss = 0.00176379\n",
            "Iteration 345, loss = 0.00176110\n",
            "Iteration 346, loss = 0.00176281\n",
            "Iteration 347, loss = 0.00175888\n",
            "Iteration 348, loss = 0.00175975\n",
            "Iteration 349, loss = 0.00175509\n",
            "Iteration 350, loss = 0.00175118\n",
            "Iteration 351, loss = 0.00175383\n",
            "Iteration 352, loss = 0.00174892\n",
            "Iteration 353, loss = 0.00174846\n",
            "Iteration 354, loss = 0.00174408\n",
            "Iteration 355, loss = 0.00174519\n",
            "Iteration 356, loss = 0.00174353\n",
            "Iteration 357, loss = 0.00174226\n",
            "Iteration 358, loss = 0.00174083\n",
            "Iteration 359, loss = 0.00173814\n",
            "Iteration 360, loss = 0.00173255\n",
            "Iteration 361, loss = 0.00173450\n",
            "Iteration 362, loss = 0.00173280\n",
            "Iteration 363, loss = 0.00172881\n",
            "Iteration 364, loss = 0.00172710\n",
            "Iteration 365, loss = 0.00172772\n",
            "Iteration 366, loss = 0.00172288\n",
            "Iteration 367, loss = 0.00172462\n",
            "Iteration 368, loss = 0.00171945\n",
            "Iteration 369, loss = 0.00171942\n",
            "Iteration 370, loss = 0.00171887\n",
            "Iteration 371, loss = 0.00171263\n",
            "Iteration 372, loss = 0.00171523\n",
            "Iteration 373, loss = 0.00171361\n",
            "Iteration 374, loss = 0.00170994\n",
            "Iteration 375, loss = 0.00170708\n",
            "Iteration 376, loss = 0.00170266\n",
            "Iteration 377, loss = 0.00170331\n",
            "Iteration 378, loss = 0.00170459\n",
            "Iteration 379, loss = 0.00170070\n",
            "Iteration 380, loss = 0.00169846\n",
            "Iteration 381, loss = 0.00169898\n",
            "Iteration 382, loss = 0.00169790\n",
            "Iteration 383, loss = 0.00169123\n",
            "Iteration 384, loss = 0.00169364\n",
            "Iteration 385, loss = 0.00169017\n",
            "Iteration 386, loss = 0.00168951\n",
            "Iteration 387, loss = 0.00168696\n",
            "Iteration 388, loss = 0.00168181\n",
            "Iteration 389, loss = 0.00168295\n",
            "Iteration 390, loss = 0.00168288\n",
            "Iteration 391, loss = 0.00167230\n",
            "Iteration 392, loss = 0.00167954\n",
            "Iteration 393, loss = 0.00167824\n",
            "Iteration 394, loss = 0.00167361\n",
            "Iteration 395, loss = 0.00167250\n",
            "Iteration 396, loss = 0.00167210\n",
            "Iteration 397, loss = 0.00167177\n",
            "Iteration 398, loss = 0.00166740\n",
            "Iteration 399, loss = 0.00166650\n",
            "Iteration 400, loss = 0.00166286\n",
            "Iteration 401, loss = 0.00166124\n",
            "Iteration 402, loss = 0.00166254\n",
            "Iteration 403, loss = 0.00165824\n",
            "Iteration 404, loss = 0.00165571\n",
            "Iteration 405, loss = 0.00165483\n",
            "Iteration 406, loss = 0.00165334\n",
            "Iteration 407, loss = 0.00165390\n",
            "Iteration 408, loss = 0.00164808\n",
            "Iteration 409, loss = 0.00164790\n",
            "Iteration 410, loss = 0.00164389\n",
            "Iteration 411, loss = 0.00164533\n",
            "Iteration 412, loss = 0.00164100\n",
            "Iteration 413, loss = 0.00164069\n",
            "Iteration 414, loss = 0.00163955\n",
            "Iteration 415, loss = 0.00163829\n",
            "Iteration 416, loss = 0.00163344\n",
            "Iteration 417, loss = 0.00163407\n",
            "Iteration 418, loss = 0.00163067\n",
            "Iteration 419, loss = 0.00162920\n",
            "Iteration 420, loss = 0.00162697\n",
            "Iteration 421, loss = 0.00162497\n",
            "Iteration 422, loss = 0.00162782\n",
            "Iteration 423, loss = 0.00162319\n",
            "Iteration 424, loss = 0.00162126\n",
            "Iteration 425, loss = 0.00161717\n",
            "Iteration 426, loss = 0.00161875\n",
            "Iteration 427, loss = 0.00161319\n",
            "Iteration 428, loss = 0.00161445\n",
            "Iteration 429, loss = 0.00161079\n",
            "Iteration 430, loss = 0.00160855\n",
            "Iteration 431, loss = 0.00160712\n",
            "Iteration 432, loss = 0.00160811\n",
            "Iteration 433, loss = 0.00160735\n",
            "Iteration 434, loss = 0.00160076\n",
            "Iteration 435, loss = 0.00160446\n",
            "Iteration 436, loss = 0.00159860\n",
            "Iteration 437, loss = 0.00159955\n",
            "Iteration 438, loss = 0.00159572\n",
            "Iteration 439, loss = 0.00159328\n",
            "Iteration 440, loss = 0.00158851\n",
            "Iteration 441, loss = 0.00159330\n",
            "Iteration 442, loss = 0.00159001\n",
            "Iteration 443, loss = 0.00158973\n",
            "Iteration 444, loss = 0.00158598\n",
            "Iteration 445, loss = 0.00158532\n",
            "Iteration 446, loss = 0.00158219\n",
            "Iteration 447, loss = 0.00158382\n",
            "Iteration 448, loss = 0.00157838\n",
            "Iteration 449, loss = 0.00157889\n",
            "Iteration 450, loss = 0.00157570\n",
            "Iteration 451, loss = 0.00157372\n",
            "Iteration 452, loss = 0.00157422\n",
            "Iteration 453, loss = 0.00156921\n",
            "Iteration 454, loss = 0.00157080\n",
            "Iteration 455, loss = 0.00156750\n",
            "Iteration 456, loss = 0.00156566\n",
            "Iteration 457, loss = 0.00156534\n",
            "Iteration 458, loss = 0.00156322\n",
            "Iteration 459, loss = 0.00155782\n",
            "Iteration 460, loss = 0.00155963\n",
            "Iteration 461, loss = 0.00155969\n",
            "Iteration 462, loss = 0.00155540\n",
            "Iteration 463, loss = 0.00155270\n",
            "Iteration 464, loss = 0.00155088\n",
            "Iteration 465, loss = 0.00155357\n",
            "Iteration 466, loss = 0.00154817\n",
            "Iteration 467, loss = 0.00154382\n",
            "Iteration 468, loss = 0.00154554\n",
            "Iteration 469, loss = 0.00154554\n",
            "Iteration 470, loss = 0.00153928\n",
            "Iteration 471, loss = 0.00154330\n",
            "Iteration 472, loss = 0.00153905\n",
            "Iteration 473, loss = 0.00153649\n",
            "Iteration 474, loss = 0.00153703\n",
            "Iteration 475, loss = 0.00153491\n",
            "Iteration 476, loss = 0.00153262\n",
            "Iteration 477, loss = 0.00152935\n",
            "Iteration 478, loss = 0.00152922\n",
            "Iteration 479, loss = 0.00152733\n",
            "Iteration 480, loss = 0.00152405\n",
            "Iteration 481, loss = 0.00152340\n",
            "Iteration 482, loss = 0.00151887\n",
            "Iteration 483, loss = 0.00152296\n",
            "Iteration 484, loss = 0.00151886\n",
            "Iteration 485, loss = 0.00151811\n",
            "Iteration 486, loss = 0.00151535\n",
            "Iteration 487, loss = 0.00151482\n",
            "Iteration 488, loss = 0.00151251\n",
            "Iteration 489, loss = 0.00150648\n",
            "Iteration 490, loss = 0.00150869\n",
            "Iteration 491, loss = 0.00150414\n",
            "Iteration 492, loss = 0.00150408\n",
            "Iteration 493, loss = 0.00149276\n",
            "Iteration 494, loss = 0.00150277\n",
            "Iteration 495, loss = 0.00149848\n",
            "Iteration 496, loss = 0.00149974\n",
            "Iteration 497, loss = 0.00149643\n",
            "Iteration 498, loss = 0.00149655\n",
            "Iteration 499, loss = 0.00149212\n",
            "Iteration 500, loss = 0.00148631\n"
          ],
          "name": "stdout"
        },
        {
          "output_type": "stream",
          "text": [
            "/usr/local/lib/python3.7/dist-packages/sklearn/neural_network/_multilayer_perceptron.py:571: ConvergenceWarning: Stochastic Optimizer: Maximum iterations (500) reached and the optimization hasn't converged yet.\n",
            "  % self.max_iter, ConvergenceWarning)\n"
          ],
          "name": "stderr"
        }
      ]
    },
    {
      "cell_type": "code",
      "metadata": {
        "id": "ZL0h0Lx32Nyt",
        "colab": {
          "base_uri": "https://localhost:8080/"
        },
        "outputId": "c4c9b906-7c6c-48cd-e14c-29f6a2e202ed"
      },
      "source": [
        " print(classification_report(y_train, y_pred))"
      ],
      "execution_count": 57,
      "outputs": [
        {
          "output_type": "stream",
          "text": [
            "              precision    recall  f1-score   support\n",
            "\n",
            "           0       1.00      1.00      1.00    227454\n",
            "           1       0.98      0.83      0.90       391\n",
            "\n",
            "    accuracy                           1.00    227845\n",
            "   macro avg       0.99      0.92      0.95    227845\n",
            "weighted avg       1.00      1.00      1.00    227845\n",
            "\n"
          ],
          "name": "stdout"
        }
      ]
    },
    {
      "cell_type": "code",
      "metadata": {
        "id": "AUGrMZhT2Srz",
        "colab": {
          "base_uri": "https://localhost:8080/",
          "height": 173
        },
        "outputId": "fe50787b-94d9-4bf2-b141-078638799da7"
      },
      "source": [
        "pd.crosstab(y_train, y_pred, rownames=['Real'],colnames=['Predito'],margins=True)"
      ],
      "execution_count": 58,
      "outputs": [
        {
          "output_type": "execute_result",
          "data": {
            "text/html": [
              "<div>\n",
              "<style scoped>\n",
              "    .dataframe tbody tr th:only-of-type {\n",
              "        vertical-align: middle;\n",
              "    }\n",
              "\n",
              "    .dataframe tbody tr th {\n",
              "        vertical-align: top;\n",
              "    }\n",
              "\n",
              "    .dataframe thead th {\n",
              "        text-align: right;\n",
              "    }\n",
              "</style>\n",
              "<table border=\"1\" class=\"dataframe\">\n",
              "  <thead>\n",
              "    <tr style=\"text-align: right;\">\n",
              "      <th>Predito</th>\n",
              "      <th>0</th>\n",
              "      <th>1</th>\n",
              "      <th>All</th>\n",
              "    </tr>\n",
              "    <tr>\n",
              "      <th>Real</th>\n",
              "      <th></th>\n",
              "      <th></th>\n",
              "      <th></th>\n",
              "    </tr>\n",
              "  </thead>\n",
              "  <tbody>\n",
              "    <tr>\n",
              "      <th>0</th>\n",
              "      <td>227449</td>\n",
              "      <td>5</td>\n",
              "      <td>227454</td>\n",
              "    </tr>\n",
              "    <tr>\n",
              "      <th>1</th>\n",
              "      <td>65</td>\n",
              "      <td>326</td>\n",
              "      <td>391</td>\n",
              "    </tr>\n",
              "    <tr>\n",
              "      <th>All</th>\n",
              "      <td>227514</td>\n",
              "      <td>331</td>\n",
              "      <td>227845</td>\n",
              "    </tr>\n",
              "  </tbody>\n",
              "</table>\n",
              "</div>"
            ],
            "text/plain": [
              "Predito       0    1     All\n",
              "Real                        \n",
              "0        227449    5  227454\n",
              "1            65  326     391\n",
              "All      227514  331  227845"
            ]
          },
          "metadata": {
            "tags": []
          },
          "execution_count": 58
        }
      ]
    },
    {
      "cell_type": "code",
      "metadata": {
        "id": "jJEpukK92ZED",
        "colab": {
          "base_uri": "https://localhost:8080/"
        },
        "outputId": "18f87569-d366-4726-a585-4845375e3736"
      },
      "source": [
        "scores = cross_val_score(clf, X_train, y_train, cv=5, scoring='accuracy')\n",
        "scores"
      ],
      "execution_count": null,
      "outputs": [
        {
          "output_type": "stream",
          "text": [
            "Iteration 1, loss = 0.04987033\n",
            "Iteration 2, loss = 0.01057886\n",
            "Iteration 3, loss = 0.00630915\n",
            "Iteration 4, loss = 0.00519143\n",
            "Iteration 5, loss = 0.00461956\n",
            "Iteration 6, loss = 0.00422056\n",
            "Iteration 7, loss = 0.00394277\n",
            "Iteration 8, loss = 0.00376162\n",
            "Iteration 9, loss = 0.00363344\n",
            "Iteration 10, loss = 0.00353383\n",
            "Iteration 11, loss = 0.00345542\n",
            "Iteration 12, loss = 0.00339440\n",
            "Iteration 13, loss = 0.00333952\n",
            "Iteration 14, loss = 0.00329475\n",
            "Iteration 15, loss = 0.00325247\n",
            "Iteration 16, loss = 0.00321732\n",
            "Iteration 17, loss = 0.00318400\n",
            "Iteration 18, loss = 0.00315636\n",
            "Iteration 19, loss = 0.00312826\n",
            "Iteration 20, loss = 0.00310421\n",
            "Iteration 21, loss = 0.00308048\n",
            "Iteration 22, loss = 0.00305846\n",
            "Iteration 23, loss = 0.00303751\n",
            "Iteration 24, loss = 0.00301834\n",
            "Iteration 25, loss = 0.00300158\n",
            "Iteration 26, loss = 0.00298458\n",
            "Iteration 27, loss = 0.00296686\n",
            "Iteration 28, loss = 0.00295328\n",
            "Iteration 29, loss = 0.00293816\n",
            "Iteration 30, loss = 0.00292335\n",
            "Iteration 31, loss = 0.00290950\n",
            "Iteration 32, loss = 0.00289730\n",
            "Iteration 33, loss = 0.00288551\n",
            "Iteration 34, loss = 0.00287171\n",
            "Iteration 35, loss = 0.00286060\n",
            "Iteration 36, loss = 0.00284928\n",
            "Iteration 37, loss = 0.00283892\n",
            "Iteration 38, loss = 0.00282791\n",
            "Iteration 39, loss = 0.00281827\n",
            "Iteration 40, loss = 0.00280669\n",
            "Iteration 41, loss = 0.00279901\n",
            "Iteration 42, loss = 0.00278723\n",
            "Iteration 43, loss = 0.00277953\n",
            "Iteration 44, loss = 0.00276806\n",
            "Iteration 45, loss = 0.00275988\n",
            "Iteration 46, loss = 0.00275128\n",
            "Iteration 47, loss = 0.00274281\n",
            "Iteration 48, loss = 0.00273323\n",
            "Iteration 49, loss = 0.00272740\n",
            "Iteration 50, loss = 0.00271939\n",
            "Iteration 51, loss = 0.00270960\n",
            "Iteration 52, loss = 0.00270339\n",
            "Iteration 53, loss = 0.00269095\n",
            "Iteration 54, loss = 0.00268780\n",
            "Iteration 55, loss = 0.00268015\n",
            "Iteration 56, loss = 0.00267259\n",
            "Iteration 57, loss = 0.00266678\n",
            "Iteration 58, loss = 0.00265997\n",
            "Iteration 59, loss = 0.00265256\n",
            "Iteration 60, loss = 0.00264661\n",
            "Iteration 61, loss = 0.00263985\n",
            "Iteration 62, loss = 0.00263158\n",
            "Iteration 63, loss = 0.00262650\n",
            "Iteration 64, loss = 0.00262011\n",
            "Iteration 65, loss = 0.00261307\n",
            "Iteration 66, loss = 0.00260817\n",
            "Iteration 67, loss = 0.00260101\n",
            "Iteration 68, loss = 0.00259610\n",
            "Iteration 69, loss = 0.00258916\n",
            "Iteration 70, loss = 0.00258289\n",
            "Iteration 71, loss = 0.00257714\n",
            "Iteration 72, loss = 0.00257094\n",
            "Iteration 73, loss = 0.00256472\n",
            "Iteration 74, loss = 0.00255895\n",
            "Iteration 75, loss = 0.00255453\n",
            "Iteration 76, loss = 0.00254888\n",
            "Iteration 77, loss = 0.00254180\n",
            "Iteration 78, loss = 0.00253546\n",
            "Iteration 79, loss = 0.00252952\n",
            "Iteration 80, loss = 0.00252391\n",
            "Iteration 81, loss = 0.00251927\n",
            "Iteration 82, loss = 0.00251282\n",
            "Iteration 83, loss = 0.00250858\n",
            "Iteration 84, loss = 0.00250443\n",
            "Iteration 85, loss = 0.00249823\n",
            "Iteration 86, loss = 0.00249256\n",
            "Iteration 87, loss = 0.00248485\n",
            "Iteration 88, loss = 0.00248320\n",
            "Iteration 89, loss = 0.00247570\n",
            "Iteration 90, loss = 0.00246985\n",
            "Iteration 91, loss = 0.00246533\n",
            "Iteration 92, loss = 0.00245762\n",
            "Iteration 93, loss = 0.00245531\n",
            "Iteration 94, loss = 0.00244877\n",
            "Iteration 95, loss = 0.00244546\n",
            "Iteration 96, loss = 0.00243802\n",
            "Iteration 97, loss = 0.00243405\n",
            "Iteration 98, loss = 0.00242753\n",
            "Iteration 99, loss = 0.00242734\n",
            "Iteration 100, loss = 0.00242098\n",
            "Iteration 101, loss = 0.00241570\n",
            "Iteration 102, loss = 0.00241145\n",
            "Iteration 103, loss = 0.00240340\n",
            "Iteration 104, loss = 0.00240150\n",
            "Iteration 105, loss = 0.00239562\n",
            "Iteration 106, loss = 0.00239313\n",
            "Iteration 107, loss = 0.00238733\n",
            "Iteration 108, loss = 0.00238286\n",
            "Iteration 109, loss = 0.00237763\n",
            "Iteration 110, loss = 0.00237338\n",
            "Iteration 111, loss = 0.00236958\n",
            "Iteration 112, loss = 0.00236674\n",
            "Iteration 113, loss = 0.00235992\n",
            "Iteration 114, loss = 0.00235799\n",
            "Iteration 115, loss = 0.00235332\n",
            "Iteration 116, loss = 0.00234925\n",
            "Iteration 117, loss = 0.00234448\n",
            "Iteration 118, loss = 0.00234030\n",
            "Iteration 119, loss = 0.00233489\n",
            "Iteration 120, loss = 0.00233408\n",
            "Iteration 121, loss = 0.00232940\n",
            "Iteration 122, loss = 0.00232413\n",
            "Iteration 123, loss = 0.00232038\n",
            "Iteration 124, loss = 0.00231558\n",
            "Iteration 125, loss = 0.00231218\n",
            "Iteration 126, loss = 0.00230568\n",
            "Iteration 127, loss = 0.00230502\n",
            "Iteration 128, loss = 0.00230066\n",
            "Iteration 129, loss = 0.00229696\n",
            "Iteration 130, loss = 0.00229300\n",
            "Iteration 131, loss = 0.00228649\n",
            "Iteration 132, loss = 0.00228577\n",
            "Iteration 133, loss = 0.00228255\n",
            "Iteration 134, loss = 0.00227745\n",
            "Iteration 135, loss = 0.00227279\n",
            "Iteration 136, loss = 0.00227039\n",
            "Iteration 137, loss = 0.00226643\n",
            "Iteration 138, loss = 0.00226375\n",
            "Iteration 139, loss = 0.00225929\n",
            "Iteration 140, loss = 0.00225682\n",
            "Iteration 141, loss = 0.00225211\n",
            "Iteration 142, loss = 0.00224875\n",
            "Iteration 143, loss = 0.00224554\n",
            "Iteration 144, loss = 0.00224254\n",
            "Iteration 145, loss = 0.00223868\n",
            "Iteration 146, loss = 0.00223587\n",
            "Iteration 147, loss = 0.00223046\n",
            "Iteration 148, loss = 0.00222842\n",
            "Iteration 149, loss = 0.00222346\n",
            "Iteration 150, loss = 0.00222081\n",
            "Iteration 151, loss = 0.00221784\n",
            "Iteration 152, loss = 0.00221524\n",
            "Iteration 153, loss = 0.00220947\n",
            "Iteration 154, loss = 0.00220947\n",
            "Iteration 155, loss = 0.00220364\n",
            "Iteration 156, loss = 0.00220078\n",
            "Iteration 157, loss = 0.00219756\n",
            "Iteration 158, loss = 0.00219523\n",
            "Iteration 159, loss = 0.00218942\n",
            "Iteration 160, loss = 0.00218997\n",
            "Iteration 161, loss = 0.00218644\n",
            "Iteration 162, loss = 0.00218210\n",
            "Iteration 163, loss = 0.00218155\n",
            "Iteration 164, loss = 0.00217733\n",
            "Iteration 165, loss = 0.00217455\n",
            "Iteration 166, loss = 0.00217150\n",
            "Iteration 167, loss = 0.00216870\n",
            "Iteration 168, loss = 0.00216459\n",
            "Iteration 169, loss = 0.00216249\n",
            "Iteration 170, loss = 0.00215866\n",
            "Iteration 171, loss = 0.00215511\n",
            "Iteration 172, loss = 0.00215094\n",
            "Iteration 173, loss = 0.00214980\n",
            "Iteration 174, loss = 0.00214643\n",
            "Iteration 175, loss = 0.00214347\n",
            "Iteration 176, loss = 0.00214053\n",
            "Iteration 177, loss = 0.00213736\n",
            "Iteration 178, loss = 0.00213537\n",
            "Iteration 179, loss = 0.00213150\n",
            "Iteration 180, loss = 0.00212921\n",
            "Iteration 181, loss = 0.00212552\n",
            "Iteration 182, loss = 0.00212255\n",
            "Iteration 183, loss = 0.00212035\n",
            "Iteration 184, loss = 0.00211910\n",
            "Iteration 185, loss = 0.00211495\n",
            "Iteration 186, loss = 0.00211196\n",
            "Iteration 187, loss = 0.00210892\n",
            "Iteration 188, loss = 0.00210661\n",
            "Iteration 189, loss = 0.00210483\n",
            "Iteration 190, loss = 0.00210060\n",
            "Iteration 191, loss = 0.00209899\n",
            "Iteration 192, loss = 0.00209720\n",
            "Iteration 193, loss = 0.00209354\n",
            "Iteration 194, loss = 0.00209002\n",
            "Iteration 195, loss = 0.00208706\n",
            "Iteration 196, loss = 0.00208529\n",
            "Iteration 197, loss = 0.00208027\n",
            "Iteration 198, loss = 0.00207912\n",
            "Iteration 199, loss = 0.00207870\n",
            "Iteration 200, loss = 0.00207467\n",
            "Iteration 201, loss = 0.00207383\n",
            "Iteration 202, loss = 0.00207016\n",
            "Iteration 203, loss = 0.00206716\n",
            "Iteration 204, loss = 0.00206432\n",
            "Iteration 205, loss = 0.00206223\n",
            "Iteration 206, loss = 0.00206119\n",
            "Iteration 207, loss = 0.00205810\n",
            "Iteration 208, loss = 0.00205339\n",
            "Iteration 209, loss = 0.00205102\n",
            "Iteration 210, loss = 0.00204966\n",
            "Iteration 211, loss = 0.00204513\n",
            "Iteration 212, loss = 0.00204402\n",
            "Iteration 213, loss = 0.00204198\n",
            "Iteration 214, loss = 0.00203843\n",
            "Iteration 215, loss = 0.00203853\n",
            "Iteration 216, loss = 0.00203422\n",
            "Iteration 217, loss = 0.00203199\n",
            "Iteration 218, loss = 0.00202743\n",
            "Iteration 219, loss = 0.00202718\n",
            "Iteration 220, loss = 0.00202161\n",
            "Iteration 221, loss = 0.00201695\n",
            "Iteration 222, loss = 0.00202076\n",
            "Iteration 223, loss = 0.00201067\n",
            "Iteration 224, loss = 0.00201638\n",
            "Iteration 225, loss = 0.00201044\n",
            "Iteration 226, loss = 0.00200912\n",
            "Iteration 227, loss = 0.00200475\n",
            "Iteration 228, loss = 0.00200575\n",
            "Iteration 229, loss = 0.00200251\n",
            "Iteration 230, loss = 0.00200107\n",
            "Iteration 231, loss = 0.00199618\n",
            "Iteration 232, loss = 0.00199466\n",
            "Iteration 233, loss = 0.00199293\n",
            "Iteration 234, loss = 0.00198909\n",
            "Iteration 235, loss = 0.00198769\n",
            "Iteration 236, loss = 0.00198750\n",
            "Iteration 237, loss = 0.00198355\n",
            "Iteration 238, loss = 0.00198057\n",
            "Iteration 239, loss = 0.00197807\n",
            "Iteration 240, loss = 0.00197738\n",
            "Iteration 241, loss = 0.00197433\n",
            "Iteration 242, loss = 0.00197220\n",
            "Iteration 243, loss = 0.00196841\n",
            "Iteration 244, loss = 0.00196948\n",
            "Iteration 245, loss = 0.00196545\n",
            "Iteration 246, loss = 0.00196266\n",
            "Iteration 247, loss = 0.00196047\n",
            "Iteration 248, loss = 0.00195828\n",
            "Iteration 249, loss = 0.00195598\n",
            "Iteration 250, loss = 0.00195516\n",
            "Iteration 251, loss = 0.00195165\n",
            "Iteration 252, loss = 0.00195000\n",
            "Iteration 253, loss = 0.00194544\n",
            "Iteration 254, loss = 0.00194439\n",
            "Iteration 255, loss = 0.00194453\n",
            "Iteration 256, loss = 0.00194046\n",
            "Iteration 257, loss = 0.00193869\n",
            "Iteration 258, loss = 0.00193705\n",
            "Iteration 259, loss = 0.00193525\n",
            "Iteration 260, loss = 0.00193158\n",
            "Iteration 261, loss = 0.00193035\n",
            "Iteration 262, loss = 0.00192932\n",
            "Iteration 263, loss = 0.00192557\n",
            "Iteration 264, loss = 0.00192416\n",
            "Iteration 265, loss = 0.00192277\n",
            "Iteration 266, loss = 0.00191975\n",
            "Iteration 267, loss = 0.00191841\n",
            "Iteration 268, loss = 0.00191678\n",
            "Iteration 269, loss = 0.00191254\n",
            "Iteration 270, loss = 0.00191245\n",
            "Iteration 271, loss = 0.00191014\n",
            "Iteration 272, loss = 0.00190517\n",
            "Iteration 273, loss = 0.00190582\n",
            "Iteration 274, loss = 0.00190362\n",
            "Iteration 275, loss = 0.00189932\n",
            "Iteration 276, loss = 0.00189933\n",
            "Iteration 277, loss = 0.00189706\n",
            "Iteration 278, loss = 0.00189486\n",
            "Iteration 279, loss = 0.00189185\n",
            "Iteration 280, loss = 0.00189092\n",
            "Iteration 281, loss = 0.00188528\n",
            "Iteration 282, loss = 0.00188839\n",
            "Iteration 283, loss = 0.00188523\n",
            "Iteration 284, loss = 0.00188345\n",
            "Iteration 285, loss = 0.00188179\n",
            "Iteration 286, loss = 0.00187935\n",
            "Iteration 287, loss = 0.00187744\n",
            "Iteration 288, loss = 0.00187513\n",
            "Iteration 289, loss = 0.00187376\n",
            "Iteration 290, loss = 0.00186954\n",
            "Iteration 291, loss = 0.00186442\n",
            "Iteration 292, loss = 0.00186672\n",
            "Iteration 293, loss = 0.00186638\n",
            "Iteration 294, loss = 0.00186284\n",
            "Iteration 295, loss = 0.00186248\n",
            "Iteration 296, loss = 0.00186150\n",
            "Iteration 297, loss = 0.00185518\n",
            "Iteration 298, loss = 0.00185506\n",
            "Iteration 299, loss = 0.00185260\n",
            "Iteration 300, loss = 0.00185099\n",
            "Iteration 301, loss = 0.00184810\n",
            "Iteration 302, loss = 0.00184786\n",
            "Iteration 303, loss = 0.00184493\n",
            "Iteration 304, loss = 0.00184322\n",
            "Iteration 305, loss = 0.00183965\n",
            "Iteration 306, loss = 0.00183937\n",
            "Iteration 307, loss = 0.00183574\n",
            "Iteration 308, loss = 0.00183279\n",
            "Iteration 309, loss = 0.00183345\n",
            "Iteration 310, loss = 0.00183276\n",
            "Iteration 311, loss = 0.00182730\n",
            "Iteration 312, loss = 0.00182902\n",
            "Iteration 313, loss = 0.00182322\n",
            "Iteration 314, loss = 0.00182378\n",
            "Iteration 315, loss = 0.00182033\n",
            "Iteration 316, loss = 0.00181909\n",
            "Iteration 317, loss = 0.00181495\n",
            "Iteration 318, loss = 0.00181533\n",
            "Iteration 319, loss = 0.00181176\n",
            "Iteration 320, loss = 0.00181189\n",
            "Iteration 321, loss = 0.00180951\n",
            "Iteration 322, loss = 0.00180928\n",
            "Iteration 323, loss = 0.00180554\n",
            "Iteration 324, loss = 0.00180543\n",
            "Iteration 325, loss = 0.00180179\n",
            "Iteration 326, loss = 0.00180273\n",
            "Iteration 327, loss = 0.00179750\n",
            "Iteration 328, loss = 0.00179726\n",
            "Iteration 329, loss = 0.00179605\n",
            "Iteration 330, loss = 0.00179368\n",
            "Iteration 331, loss = 0.00179148\n",
            "Iteration 332, loss = 0.00178806\n",
            "Iteration 333, loss = 0.00178728\n",
            "Iteration 334, loss = 0.00178611\n",
            "Iteration 335, loss = 0.00178526\n",
            "Iteration 336, loss = 0.00178096\n",
            "Iteration 337, loss = 0.00177877\n",
            "Iteration 338, loss = 0.00177766\n",
            "Iteration 339, loss = 0.00177708\n",
            "Iteration 340, loss = 0.00177513\n",
            "Iteration 341, loss = 0.00177266\n",
            "Iteration 342, loss = 0.00177160\n",
            "Iteration 343, loss = 0.00177019\n",
            "Iteration 344, loss = 0.00176687\n",
            "Iteration 345, loss = 0.00176504\n",
            "Iteration 346, loss = 0.00176206\n",
            "Iteration 347, loss = 0.00176237\n",
            "Iteration 348, loss = 0.00175795\n",
            "Iteration 349, loss = 0.00175725\n",
            "Iteration 350, loss = 0.00175561\n",
            "Iteration 351, loss = 0.00175512\n",
            "Iteration 352, loss = 0.00175375\n",
            "Iteration 353, loss = 0.00174896\n",
            "Iteration 354, loss = 0.00175176\n",
            "Iteration 355, loss = 0.00174730\n",
            "Iteration 356, loss = 0.00174575\n",
            "Iteration 357, loss = 0.00174432\n",
            "Iteration 358, loss = 0.00174123\n",
            "Iteration 359, loss = 0.00173979\n",
            "Iteration 360, loss = 0.00173972\n",
            "Iteration 361, loss = 0.00173664\n",
            "Iteration 362, loss = 0.00173478\n",
            "Iteration 363, loss = 0.00173024\n",
            "Iteration 364, loss = 0.00173157\n",
            "Iteration 365, loss = 0.00172944\n",
            "Iteration 366, loss = 0.00172821\n",
            "Iteration 367, loss = 0.00172546\n",
            "Iteration 368, loss = 0.00172712\n",
            "Iteration 369, loss = 0.00172294\n",
            "Iteration 370, loss = 0.00171911\n",
            "Iteration 371, loss = 0.00171995\n",
            "Iteration 372, loss = 0.00171818\n",
            "Iteration 373, loss = 0.00171542\n",
            "Iteration 374, loss = 0.00171499\n",
            "Iteration 375, loss = 0.00171244\n",
            "Iteration 376, loss = 0.00171064\n",
            "Iteration 377, loss = 0.00170732\n",
            "Iteration 378, loss = 0.00170632\n",
            "Iteration 379, loss = 0.00170488\n",
            "Iteration 380, loss = 0.00170161\n",
            "Iteration 381, loss = 0.00170184\n",
            "Iteration 382, loss = 0.00169734\n",
            "Iteration 383, loss = 0.00169859\n",
            "Iteration 384, loss = 0.00169857\n",
            "Iteration 385, loss = 0.00169462\n",
            "Iteration 386, loss = 0.00169388\n",
            "Iteration 387, loss = 0.00169068\n",
            "Iteration 388, loss = 0.00168844\n",
            "Iteration 389, loss = 0.00168751\n",
            "Iteration 390, loss = 0.00168597\n",
            "Iteration 391, loss = 0.00168153\n",
            "Iteration 392, loss = 0.00167916\n",
            "Iteration 393, loss = 0.00168180\n",
            "Iteration 394, loss = 0.00167821\n",
            "Iteration 395, loss = 0.00167563\n",
            "Iteration 396, loss = 0.00167370\n",
            "Iteration 397, loss = 0.00167259\n",
            "Iteration 398, loss = 0.00167148\n",
            "Iteration 399, loss = 0.00166996\n",
            "Iteration 400, loss = 0.00166931\n",
            "Iteration 401, loss = 0.00166559\n",
            "Iteration 402, loss = 0.00166418\n",
            "Iteration 403, loss = 0.00166402\n",
            "Iteration 404, loss = 0.00166075\n",
            "Iteration 405, loss = 0.00166063\n",
            "Iteration 406, loss = 0.00165678\n",
            "Iteration 407, loss = 0.00165683\n",
            "Iteration 408, loss = 0.00165459\n",
            "Iteration 409, loss = 0.00165269\n",
            "Iteration 410, loss = 0.00165226\n",
            "Iteration 411, loss = 0.00164897\n",
            "Iteration 412, loss = 0.00164764\n",
            "Iteration 413, loss = 0.00164538\n",
            "Iteration 414, loss = 0.00164523\n",
            "Iteration 415, loss = 0.00164226\n",
            "Iteration 416, loss = 0.00164121\n",
            "Iteration 417, loss = 0.00163956\n",
            "Iteration 418, loss = 0.00163565\n",
            "Iteration 419, loss = 0.00163785\n",
            "Iteration 420, loss = 0.00163451\n",
            "Iteration 421, loss = 0.00163110\n",
            "Iteration 422, loss = 0.00162884\n",
            "Iteration 423, loss = 0.00162967\n",
            "Iteration 424, loss = 0.00162791\n",
            "Iteration 425, loss = 0.00162405\n",
            "Iteration 426, loss = 0.00162100\n",
            "Iteration 427, loss = 0.00162222\n",
            "Iteration 428, loss = 0.00161769\n",
            "Iteration 429, loss = 0.00161604\n",
            "Iteration 430, loss = 0.00161826\n",
            "Iteration 431, loss = 0.00161482\n",
            "Iteration 432, loss = 0.00161352\n",
            "Iteration 433, loss = 0.00161078\n",
            "Iteration 434, loss = 0.00160961\n",
            "Iteration 435, loss = 0.00160521\n",
            "Iteration 436, loss = 0.00160645\n",
            "Iteration 437, loss = 0.00160419\n",
            "Iteration 438, loss = 0.00160321\n",
            "Iteration 439, loss = 0.00160127\n",
            "Iteration 440, loss = 0.00159900\n",
            "Iteration 441, loss = 0.00159790\n",
            "Iteration 442, loss = 0.00159582\n",
            "Iteration 443, loss = 0.00159445\n",
            "Iteration 444, loss = 0.00159428\n",
            "Iteration 445, loss = 0.00159080\n",
            "Iteration 446, loss = 0.00158972\n",
            "Iteration 447, loss = 0.00158874\n",
            "Iteration 448, loss = 0.00158442\n",
            "Iteration 449, loss = 0.00158446\n",
            "Iteration 450, loss = 0.00158039\n",
            "Iteration 451, loss = 0.00158233\n",
            "Iteration 452, loss = 0.00157957\n",
            "Iteration 453, loss = 0.00157507\n",
            "Iteration 454, loss = 0.00157654\n",
            "Iteration 455, loss = 0.00157426\n",
            "Iteration 456, loss = 0.00157265\n",
            "Iteration 457, loss = 0.00157189\n",
            "Iteration 458, loss = 0.00156642\n",
            "Iteration 459, loss = 0.00156780\n",
            "Iteration 460, loss = 0.00156598\n",
            "Iteration 461, loss = 0.00156405\n",
            "Iteration 462, loss = 0.00156222\n",
            "Iteration 463, loss = 0.00155963\n",
            "Iteration 464, loss = 0.00155996\n",
            "Iteration 465, loss = 0.00155925\n",
            "Iteration 466, loss = 0.00155682\n",
            "Iteration 467, loss = 0.00155331\n",
            "Iteration 468, loss = 0.00155324\n",
            "Iteration 469, loss = 0.00155284\n",
            "Iteration 470, loss = 0.00154916\n",
            "Iteration 471, loss = 0.00154714\n",
            "Iteration 472, loss = 0.00154552\n",
            "Iteration 473, loss = 0.00154425\n",
            "Iteration 474, loss = 0.00153928\n",
            "Iteration 475, loss = 0.00154202\n",
            "Iteration 476, loss = 0.00153773\n",
            "Iteration 477, loss = 0.00153885\n",
            "Iteration 478, loss = 0.00153522\n",
            "Iteration 479, loss = 0.00153579\n",
            "Iteration 480, loss = 0.00153380\n",
            "Iteration 481, loss = 0.00153283\n",
            "Iteration 482, loss = 0.00152941\n",
            "Iteration 483, loss = 0.00152621\n",
            "Iteration 484, loss = 0.00152861\n",
            "Iteration 485, loss = 0.00152426\n",
            "Iteration 486, loss = 0.00152432\n",
            "Iteration 487, loss = 0.00152261\n",
            "Iteration 488, loss = 0.00151980\n",
            "Iteration 489, loss = 0.00151997\n",
            "Iteration 490, loss = 0.00151756\n",
            "Iteration 491, loss = 0.00151347\n",
            "Iteration 492, loss = 0.00151566\n",
            "Iteration 493, loss = 0.00151235\n",
            "Iteration 494, loss = 0.00151008\n",
            "Iteration 495, loss = 0.00150996\n",
            "Iteration 496, loss = 0.00150471\n",
            "Iteration 497, loss = 0.00150779\n",
            "Iteration 498, loss = 0.00150223\n",
            "Iteration 499, loss = 0.00150337\n",
            "Iteration 500, loss = 0.00149865\n"
          ],
          "name": "stdout"
        },
        {
          "output_type": "stream",
          "text": [
            "/usr/local/lib/python3.7/dist-packages/sklearn/neural_network/_multilayer_perceptron.py:571: ConvergenceWarning: Stochastic Optimizer: Maximum iterations (500) reached and the optimization hasn't converged yet.\n",
            "  % self.max_iter, ConvergenceWarning)\n"
          ],
          "name": "stderr"
        },
        {
          "output_type": "stream",
          "text": [
            "Iteration 1, loss = 0.04966211\n",
            "Iteration 2, loss = 0.01061891\n",
            "Iteration 3, loss = 0.00635949\n",
            "Iteration 4, loss = 0.00524281\n",
            "Iteration 5, loss = 0.00466406\n",
            "Iteration 6, loss = 0.00426219\n",
            "Iteration 7, loss = 0.00398104\n",
            "Iteration 8, loss = 0.00379670\n",
            "Iteration 9, loss = 0.00366399\n",
            "Iteration 10, loss = 0.00356087\n",
            "Iteration 11, loss = 0.00347724\n",
            "Iteration 12, loss = 0.00340882\n",
            "Iteration 13, loss = 0.00334773\n",
            "Iteration 14, loss = 0.00329705\n",
            "Iteration 15, loss = 0.00325200\n",
            "Iteration 16, loss = 0.00321062\n",
            "Iteration 17, loss = 0.00317387\n",
            "Iteration 18, loss = 0.00314203\n",
            "Iteration 19, loss = 0.00311024\n",
            "Iteration 20, loss = 0.00308395\n",
            "Iteration 21, loss = 0.00305859\n",
            "Iteration 22, loss = 0.00303547\n",
            "Iteration 23, loss = 0.00301373\n",
            "Iteration 24, loss = 0.00299296\n",
            "Iteration 25, loss = 0.00297488\n",
            "Iteration 26, loss = 0.00295809\n",
            "Iteration 27, loss = 0.00293953\n",
            "Iteration 28, loss = 0.00292459\n",
            "Iteration 29, loss = 0.00290932\n",
            "Iteration 30, loss = 0.00289371\n",
            "Iteration 31, loss = 0.00287940\n",
            "Iteration 32, loss = 0.00286623\n",
            "Iteration 33, loss = 0.00285353\n",
            "Iteration 34, loss = 0.00283955\n",
            "Iteration 35, loss = 0.00282623\n",
            "Iteration 36, loss = 0.00281681\n",
            "Iteration 37, loss = 0.00280536\n",
            "Iteration 38, loss = 0.00279488\n",
            "Iteration 39, loss = 0.00278516\n",
            "Iteration 40, loss = 0.00277287\n",
            "Iteration 41, loss = 0.00276396\n",
            "Iteration 42, loss = 0.00275192\n",
            "Iteration 43, loss = 0.00274415\n",
            "Iteration 44, loss = 0.00273448\n",
            "Iteration 45, loss = 0.00272574\n",
            "Iteration 46, loss = 0.00271572\n",
            "Iteration 47, loss = 0.00270777\n",
            "Iteration 48, loss = 0.00269899\n",
            "Iteration 49, loss = 0.00269181\n",
            "Iteration 50, loss = 0.00268381\n",
            "Iteration 51, loss = 0.00267595\n",
            "Iteration 52, loss = 0.00266720\n",
            "Iteration 53, loss = 0.00265805\n",
            "Iteration 54, loss = 0.00265253\n",
            "Iteration 55, loss = 0.00264414\n",
            "Iteration 56, loss = 0.00263829\n",
            "Iteration 57, loss = 0.00263150\n",
            "Iteration 58, loss = 0.00262334\n",
            "Iteration 59, loss = 0.00261731\n",
            "Iteration 60, loss = 0.00260930\n",
            "Iteration 61, loss = 0.00260269\n",
            "Iteration 62, loss = 0.00259589\n",
            "Iteration 63, loss = 0.00258904\n",
            "Iteration 64, loss = 0.00258093\n",
            "Iteration 65, loss = 0.00257403\n",
            "Iteration 66, loss = 0.00256852\n",
            "Iteration 67, loss = 0.00256041\n",
            "Iteration 68, loss = 0.00255343\n",
            "Iteration 69, loss = 0.00254529\n",
            "Iteration 70, loss = 0.00253641\n",
            "Iteration 71, loss = 0.00253256\n",
            "Iteration 72, loss = 0.00252554\n",
            "Iteration 73, loss = 0.00252065\n",
            "Iteration 74, loss = 0.00251316\n",
            "Iteration 75, loss = 0.00250765\n",
            "Iteration 76, loss = 0.00250292\n",
            "Iteration 77, loss = 0.00249587\n",
            "Iteration 78, loss = 0.00248963\n",
            "Iteration 79, loss = 0.00248340\n",
            "Iteration 80, loss = 0.00247848\n",
            "Iteration 81, loss = 0.00247326\n",
            "Iteration 82, loss = 0.00246572\n",
            "Iteration 83, loss = 0.00246257\n",
            "Iteration 84, loss = 0.00245771\n",
            "Iteration 85, loss = 0.00245016\n",
            "Iteration 86, loss = 0.00244666\n",
            "Iteration 87, loss = 0.00243773\n",
            "Iteration 88, loss = 0.00243796\n",
            "Iteration 89, loss = 0.00243049\n",
            "Iteration 90, loss = 0.00242468\n",
            "Iteration 91, loss = 0.00241965\n",
            "Iteration 92, loss = 0.00241051\n",
            "Iteration 93, loss = 0.00241086\n",
            "Iteration 94, loss = 0.00240061\n",
            "Iteration 95, loss = 0.00240098\n",
            "Iteration 96, loss = 0.00239267\n",
            "Iteration 97, loss = 0.00238871\n",
            "Iteration 98, loss = 0.00238531\n",
            "Iteration 99, loss = 0.00237994\n",
            "Iteration 100, loss = 0.00237586\n",
            "Iteration 101, loss = 0.00237090\n",
            "Iteration 102, loss = 0.00236649\n",
            "Iteration 103, loss = 0.00235925\n",
            "Iteration 104, loss = 0.00235769\n",
            "Iteration 105, loss = 0.00235100\n",
            "Iteration 106, loss = 0.00234666\n",
            "Iteration 107, loss = 0.00234187\n",
            "Iteration 108, loss = 0.00233582\n",
            "Iteration 109, loss = 0.00233048\n",
            "Iteration 110, loss = 0.00232774\n",
            "Iteration 111, loss = 0.00232469\n",
            "Iteration 112, loss = 0.00231800\n",
            "Iteration 113, loss = 0.00231420\n",
            "Iteration 114, loss = 0.00231154\n",
            "Iteration 115, loss = 0.00230703\n",
            "Iteration 116, loss = 0.00230358\n",
            "Iteration 117, loss = 0.00229868\n",
            "Iteration 118, loss = 0.00229464\n",
            "Iteration 119, loss = 0.00228799\n",
            "Iteration 120, loss = 0.00228773\n",
            "Iteration 121, loss = 0.00228156\n",
            "Iteration 122, loss = 0.00227764\n",
            "Iteration 123, loss = 0.00227345\n",
            "Iteration 124, loss = 0.00227018\n",
            "Iteration 125, loss = 0.00226459\n",
            "Iteration 126, loss = 0.00226051\n",
            "Iteration 127, loss = 0.00225993\n",
            "Iteration 128, loss = 0.00225349\n",
            "Iteration 129, loss = 0.00225030\n",
            "Iteration 130, loss = 0.00224719\n",
            "Iteration 131, loss = 0.00224120\n",
            "Iteration 132, loss = 0.00223879\n",
            "Iteration 133, loss = 0.00223598\n",
            "Iteration 134, loss = 0.00223072\n",
            "Iteration 135, loss = 0.00222727\n",
            "Iteration 136, loss = 0.00222484\n",
            "Iteration 137, loss = 0.00221966\n",
            "Iteration 138, loss = 0.00221848\n",
            "Iteration 139, loss = 0.00221282\n",
            "Iteration 140, loss = 0.00221074\n",
            "Iteration 141, loss = 0.00220614\n",
            "Iteration 142, loss = 0.00220309\n",
            "Iteration 143, loss = 0.00219862\n",
            "Iteration 144, loss = 0.00219622\n",
            "Iteration 145, loss = 0.00219305\n",
            "Iteration 146, loss = 0.00218814\n",
            "Iteration 147, loss = 0.00218549\n",
            "Iteration 148, loss = 0.00218161\n",
            "Iteration 149, loss = 0.00217645\n",
            "Iteration 150, loss = 0.00217563\n",
            "Iteration 151, loss = 0.00217323\n",
            "Iteration 152, loss = 0.00216829\n",
            "Iteration 153, loss = 0.00216464\n",
            "Iteration 154, loss = 0.00216272\n",
            "Iteration 155, loss = 0.00215797\n",
            "Iteration 156, loss = 0.00215452\n",
            "Iteration 157, loss = 0.00215169\n",
            "Iteration 158, loss = 0.00214840\n",
            "Iteration 159, loss = 0.00214196\n",
            "Iteration 160, loss = 0.00214231\n",
            "Iteration 161, loss = 0.00214020\n",
            "Iteration 162, loss = 0.00213486\n",
            "Iteration 163, loss = 0.00213114\n",
            "Iteration 164, loss = 0.00212836\n",
            "Iteration 165, loss = 0.00212528\n",
            "Iteration 166, loss = 0.00212227\n",
            "Iteration 167, loss = 0.00211819\n",
            "Iteration 168, loss = 0.00211620\n",
            "Iteration 169, loss = 0.00211342\n",
            "Iteration 170, loss = 0.00210885\n",
            "Iteration 171, loss = 0.00210516\n",
            "Iteration 172, loss = 0.00210135\n",
            "Iteration 173, loss = 0.00209860\n",
            "Iteration 174, loss = 0.00209771\n",
            "Iteration 175, loss = 0.00209084\n",
            "Iteration 176, loss = 0.00209075\n",
            "Iteration 177, loss = 0.00208661\n",
            "Iteration 178, loss = 0.00208305\n",
            "Iteration 179, loss = 0.00207965\n",
            "Iteration 180, loss = 0.00207710\n",
            "Iteration 181, loss = 0.00207336\n",
            "Iteration 182, loss = 0.00207209\n",
            "Iteration 183, loss = 0.00206730\n",
            "Iteration 184, loss = 0.00206294\n",
            "Iteration 185, loss = 0.00206314\n",
            "Iteration 186, loss = 0.00205763\n",
            "Iteration 187, loss = 0.00205534\n",
            "Iteration 188, loss = 0.00205480\n",
            "Iteration 189, loss = 0.00205159\n",
            "Iteration 190, loss = 0.00204679\n",
            "Iteration 191, loss = 0.00204545\n",
            "Iteration 192, loss = 0.00204227\n",
            "Iteration 193, loss = 0.00203881\n",
            "Iteration 194, loss = 0.00203556\n",
            "Iteration 195, loss = 0.00203280\n",
            "Iteration 196, loss = 0.00203172\n",
            "Iteration 197, loss = 0.00202690\n",
            "Iteration 198, loss = 0.00202328\n",
            "Iteration 199, loss = 0.00202310\n",
            "Iteration 200, loss = 0.00202047\n",
            "Iteration 201, loss = 0.00201925\n",
            "Iteration 202, loss = 0.00201334\n",
            "Iteration 203, loss = 0.00201206\n",
            "Iteration 204, loss = 0.00200959\n",
            "Iteration 205, loss = 0.00200670\n",
            "Iteration 206, loss = 0.00200413\n",
            "Iteration 207, loss = 0.00200311\n",
            "Iteration 208, loss = 0.00199916\n",
            "Iteration 209, loss = 0.00199428\n",
            "Iteration 210, loss = 0.00199412\n",
            "Iteration 211, loss = 0.00198966\n",
            "Iteration 212, loss = 0.00198834\n",
            "Iteration 213, loss = 0.00198648\n",
            "Iteration 214, loss = 0.00198223\n",
            "Iteration 215, loss = 0.00198295\n",
            "Iteration 216, loss = 0.00197876\n",
            "Iteration 217, loss = 0.00197560\n",
            "Iteration 218, loss = 0.00197348\n",
            "Iteration 219, loss = 0.00197091\n",
            "Iteration 220, loss = 0.00196764\n",
            "Iteration 221, loss = 0.00196255\n",
            "Iteration 222, loss = 0.00196438\n",
            "Iteration 223, loss = 0.00195784\n",
            "Iteration 224, loss = 0.00195940\n",
            "Iteration 225, loss = 0.00195452\n",
            "Iteration 226, loss = 0.00195314\n",
            "Iteration 227, loss = 0.00194958\n",
            "Iteration 228, loss = 0.00194786\n",
            "Iteration 229, loss = 0.00194628\n",
            "Iteration 230, loss = 0.00194244\n",
            "Iteration 231, loss = 0.00193918\n",
            "Iteration 232, loss = 0.00193845\n",
            "Iteration 233, loss = 0.00193607\n",
            "Iteration 234, loss = 0.00193167\n",
            "Iteration 235, loss = 0.00192943\n",
            "Iteration 236, loss = 0.00192835\n",
            "Iteration 237, loss = 0.00192499\n",
            "Iteration 238, loss = 0.00192245\n",
            "Iteration 239, loss = 0.00192120\n",
            "Iteration 240, loss = 0.00191791\n",
            "Iteration 241, loss = 0.00191585\n",
            "Iteration 242, loss = 0.00191279\n",
            "Iteration 243, loss = 0.00190993\n",
            "Iteration 244, loss = 0.00190827\n",
            "Iteration 245, loss = 0.00190598\n",
            "Iteration 246, loss = 0.00190385\n",
            "Iteration 247, loss = 0.00189858\n",
            "Iteration 248, loss = 0.00189879\n",
            "Iteration 249, loss = 0.00189679\n",
            "Iteration 250, loss = 0.00189415\n",
            "Iteration 251, loss = 0.00189130\n",
            "Iteration 252, loss = 0.00188956\n",
            "Iteration 253, loss = 0.00188635\n",
            "Iteration 254, loss = 0.00188227\n",
            "Iteration 255, loss = 0.00188191\n",
            "Iteration 256, loss = 0.00187969\n",
            "Iteration 257, loss = 0.00187550\n",
            "Iteration 258, loss = 0.00187622\n",
            "Iteration 259, loss = 0.00187148\n",
            "Iteration 260, loss = 0.00186962\n",
            "Iteration 261, loss = 0.00186645\n",
            "Iteration 262, loss = 0.00186634\n",
            "Iteration 263, loss = 0.00186318\n",
            "Iteration 264, loss = 0.00186075\n",
            "Iteration 265, loss = 0.00185854\n",
            "Iteration 266, loss = 0.00185656\n",
            "Iteration 267, loss = 0.00185393\n",
            "Iteration 268, loss = 0.00185292\n",
            "Iteration 269, loss = 0.00184938\n",
            "Iteration 270, loss = 0.00184752\n",
            "Iteration 271, loss = 0.00184287\n",
            "Iteration 272, loss = 0.00184046\n",
            "Iteration 273, loss = 0.00184096\n",
            "Iteration 274, loss = 0.00183761\n",
            "Iteration 275, loss = 0.00183339\n",
            "Iteration 276, loss = 0.00183420\n",
            "Iteration 277, loss = 0.00183269\n",
            "Iteration 278, loss = 0.00182936\n",
            "Iteration 279, loss = 0.00182668\n",
            "Iteration 280, loss = 0.00182518\n",
            "Iteration 281, loss = 0.00182298\n",
            "Iteration 282, loss = 0.00182025\n",
            "Iteration 283, loss = 0.00181877\n",
            "Iteration 284, loss = 0.00181568\n",
            "Iteration 285, loss = 0.00181469\n",
            "Iteration 286, loss = 0.00181191\n",
            "Iteration 287, loss = 0.00181005\n",
            "Iteration 288, loss = 0.00180694\n",
            "Iteration 289, loss = 0.00180556\n",
            "Iteration 290, loss = 0.00180354\n",
            "Iteration 291, loss = 0.00179715\n",
            "Iteration 292, loss = 0.00180019\n",
            "Iteration 293, loss = 0.00179672\n",
            "Iteration 294, loss = 0.00179362\n",
            "Iteration 295, loss = 0.00179099\n",
            "Iteration 296, loss = 0.00179210\n",
            "Iteration 297, loss = 0.00178800\n",
            "Iteration 298, loss = 0.00178685\n",
            "Iteration 299, loss = 0.00178285\n",
            "Iteration 300, loss = 0.00178136\n",
            "Iteration 301, loss = 0.00177804\n",
            "Iteration 302, loss = 0.00177804\n",
            "Iteration 303, loss = 0.00177722\n",
            "Iteration 304, loss = 0.00177320\n",
            "Iteration 305, loss = 0.00177147\n",
            "Iteration 306, loss = 0.00176903\n",
            "Iteration 307, loss = 0.00176622\n",
            "Iteration 308, loss = 0.00176462\n",
            "Iteration 309, loss = 0.00176090\n",
            "Iteration 310, loss = 0.00176202\n",
            "Iteration 311, loss = 0.00175855\n",
            "Iteration 312, loss = 0.00175823\n",
            "Iteration 313, loss = 0.00175558\n",
            "Iteration 314, loss = 0.00175350\n",
            "Iteration 315, loss = 0.00175069\n",
            "Iteration 316, loss = 0.00175069\n",
            "Iteration 317, loss = 0.00174415\n",
            "Iteration 318, loss = 0.00174500\n",
            "Iteration 319, loss = 0.00174200\n",
            "Iteration 320, loss = 0.00174145\n",
            "Iteration 321, loss = 0.00174283\n",
            "Iteration 322, loss = 0.00173660\n",
            "Iteration 323, loss = 0.00173501\n",
            "Iteration 324, loss = 0.00173566\n",
            "Iteration 325, loss = 0.00173116\n",
            "Iteration 326, loss = 0.00173092\n",
            "Iteration 327, loss = 0.00172771\n",
            "Iteration 328, loss = 0.00172699\n",
            "Iteration 329, loss = 0.00172431\n",
            "Iteration 330, loss = 0.00172313\n",
            "Iteration 331, loss = 0.00172190\n",
            "Iteration 332, loss = 0.00171861\n",
            "Iteration 333, loss = 0.00171777\n",
            "Iteration 334, loss = 0.00171635\n",
            "Iteration 335, loss = 0.00171347\n",
            "Iteration 336, loss = 0.00171181\n",
            "Iteration 337, loss = 0.00170903\n",
            "Iteration 338, loss = 0.00170705\n",
            "Iteration 339, loss = 0.00170580\n",
            "Iteration 340, loss = 0.00170444\n",
            "Iteration 341, loss = 0.00170279\n",
            "Iteration 342, loss = 0.00170063\n",
            "Iteration 343, loss = 0.00169888\n",
            "Iteration 344, loss = 0.00169751\n",
            "Iteration 345, loss = 0.00169255\n",
            "Iteration 346, loss = 0.00169411\n",
            "Iteration 347, loss = 0.00169214\n",
            "Iteration 348, loss = 0.00168717\n",
            "Iteration 349, loss = 0.00168642\n",
            "Iteration 350, loss = 0.00168553\n",
            "Iteration 351, loss = 0.00168613\n",
            "Iteration 352, loss = 0.00168336\n",
            "Iteration 353, loss = 0.00167895\n",
            "Iteration 354, loss = 0.00168062\n",
            "Iteration 355, loss = 0.00167744\n",
            "Iteration 356, loss = 0.00167608\n",
            "Iteration 357, loss = 0.00167307\n",
            "Iteration 358, loss = 0.00167203\n",
            "Iteration 359, loss = 0.00166945\n",
            "Iteration 360, loss = 0.00166859\n",
            "Iteration 361, loss = 0.00166680\n",
            "Iteration 362, loss = 0.00166609\n",
            "Iteration 363, loss = 0.00166252\n",
            "Iteration 364, loss = 0.00166260\n",
            "Iteration 365, loss = 0.00165913\n",
            "Iteration 366, loss = 0.00165784\n",
            "Iteration 367, loss = 0.00165592\n",
            "Iteration 368, loss = 0.00165443\n",
            "Iteration 369, loss = 0.00165349\n",
            "Iteration 370, loss = 0.00164877\n",
            "Iteration 371, loss = 0.00165073\n",
            "Iteration 372, loss = 0.00164831\n",
            "Iteration 373, loss = 0.00164494\n",
            "Iteration 374, loss = 0.00164480\n",
            "Iteration 375, loss = 0.00164217\n",
            "Iteration 376, loss = 0.00164207\n",
            "Iteration 377, loss = 0.00163744\n",
            "Iteration 378, loss = 0.00163829\n",
            "Iteration 379, loss = 0.00163664\n",
            "Iteration 380, loss = 0.00163372\n",
            "Iteration 381, loss = 0.00163210\n",
            "Iteration 382, loss = 0.00163041\n",
            "Iteration 383, loss = 0.00162911\n",
            "Iteration 384, loss = 0.00162790\n",
            "Iteration 385, loss = 0.00162541\n",
            "Iteration 386, loss = 0.00162379\n",
            "Iteration 387, loss = 0.00162325\n",
            "Iteration 388, loss = 0.00162013\n",
            "Iteration 389, loss = 0.00161946\n",
            "Iteration 390, loss = 0.00161837\n",
            "Iteration 391, loss = 0.00161486\n",
            "Iteration 392, loss = 0.00161231\n",
            "Iteration 393, loss = 0.00161374\n",
            "Iteration 394, loss = 0.00160993\n",
            "Iteration 395, loss = 0.00160963\n",
            "Iteration 396, loss = 0.00160757\n",
            "Iteration 397, loss = 0.00160474\n",
            "Iteration 398, loss = 0.00160278\n",
            "Iteration 399, loss = 0.00160219\n",
            "Iteration 400, loss = 0.00160136\n",
            "Iteration 401, loss = 0.00159781\n",
            "Iteration 402, loss = 0.00159766\n",
            "Iteration 403, loss = 0.00159635\n",
            "Iteration 404, loss = 0.00159394\n",
            "Iteration 405, loss = 0.00159320\n",
            "Iteration 406, loss = 0.00158962\n",
            "Iteration 407, loss = 0.00158957\n",
            "Iteration 408, loss = 0.00158547\n",
            "Iteration 409, loss = 0.00158843\n",
            "Iteration 410, loss = 0.00158489\n",
            "Iteration 411, loss = 0.00158375\n",
            "Iteration 412, loss = 0.00158051\n",
            "Iteration 413, loss = 0.00158068\n",
            "Iteration 414, loss = 0.00157883\n",
            "Iteration 415, loss = 0.00157484\n",
            "Iteration 416, loss = 0.00157418\n",
            "Iteration 417, loss = 0.00157237\n",
            "Iteration 418, loss = 0.00157057\n",
            "Iteration 419, loss = 0.00156878\n",
            "Iteration 420, loss = 0.00156914\n",
            "Iteration 421, loss = 0.00156729\n",
            "Iteration 422, loss = 0.00156418\n",
            "Iteration 423, loss = 0.00156293\n",
            "Iteration 424, loss = 0.00156394\n",
            "Iteration 425, loss = 0.00155924\n",
            "Iteration 426, loss = 0.00155472\n",
            "Iteration 427, loss = 0.00155772\n",
            "Iteration 428, loss = 0.00155434\n",
            "Iteration 429, loss = 0.00155368\n",
            "Iteration 430, loss = 0.00155186\n",
            "Iteration 431, loss = 0.00155116\n",
            "Iteration 432, loss = 0.00154901\n",
            "Iteration 433, loss = 0.00154635\n",
            "Iteration 434, loss = 0.00154415\n",
            "Iteration 435, loss = 0.00154373\n",
            "Iteration 436, loss = 0.00154243\n",
            "Iteration 437, loss = 0.00154027\n",
            "Iteration 438, loss = 0.00153814\n",
            "Iteration 439, loss = 0.00153652\n",
            "Iteration 440, loss = 0.00153552\n",
            "Iteration 441, loss = 0.00153511\n",
            "Iteration 442, loss = 0.00153273\n",
            "Iteration 443, loss = 0.00153127\n",
            "Iteration 444, loss = 0.00152882\n",
            "Iteration 445, loss = 0.00152846\n",
            "Iteration 446, loss = 0.00152630\n",
            "Iteration 447, loss = 0.00152346\n",
            "Iteration 448, loss = 0.00151856\n",
            "Iteration 449, loss = 0.00152216\n",
            "Iteration 450, loss = 0.00151727\n",
            "Iteration 451, loss = 0.00151551\n",
            "Iteration 452, loss = 0.00151840\n",
            "Iteration 453, loss = 0.00151338\n",
            "Iteration 454, loss = 0.00151424\n",
            "Iteration 455, loss = 0.00151012\n",
            "Iteration 456, loss = 0.00151044\n",
            "Iteration 457, loss = 0.00150839\n",
            "Iteration 458, loss = 0.00150078\n",
            "Iteration 459, loss = 0.00150802\n",
            "Iteration 460, loss = 0.00150213\n",
            "Iteration 461, loss = 0.00150198\n",
            "Iteration 462, loss = 0.00149845\n",
            "Iteration 463, loss = 0.00149644\n",
            "Iteration 464, loss = 0.00149800\n",
            "Iteration 465, loss = 0.00149493\n",
            "Iteration 466, loss = 0.00149343\n",
            "Iteration 467, loss = 0.00148962\n",
            "Iteration 468, loss = 0.00148959\n",
            "Iteration 469, loss = 0.00149065\n",
            "Iteration 470, loss = 0.00148810\n",
            "Iteration 471, loss = 0.00148572\n",
            "Iteration 472, loss = 0.00148436\n",
            "Iteration 473, loss = 0.00148150\n",
            "Iteration 474, loss = 0.00148025\n",
            "Iteration 475, loss = 0.00148103\n",
            "Iteration 476, loss = 0.00147723\n",
            "Iteration 477, loss = 0.00147534\n",
            "Iteration 478, loss = 0.00147472\n",
            "Iteration 479, loss = 0.00147335\n",
            "Iteration 480, loss = 0.00147003\n",
            "Iteration 481, loss = 0.00147061\n",
            "Iteration 482, loss = 0.00146725\n",
            "Iteration 483, loss = 0.00146543\n",
            "Iteration 484, loss = 0.00146555\n",
            "Iteration 485, loss = 0.00146312\n",
            "Iteration 486, loss = 0.00146229\n",
            "Iteration 487, loss = 0.00146084\n",
            "Iteration 488, loss = 0.00145984\n",
            "Iteration 489, loss = 0.00145752\n",
            "Iteration 490, loss = 0.00145551\n",
            "Iteration 491, loss = 0.00145416\n",
            "Iteration 492, loss = 0.00145336\n",
            "Iteration 493, loss = 0.00145108\n",
            "Iteration 494, loss = 0.00144982\n",
            "Iteration 495, loss = 0.00144699\n",
            "Iteration 496, loss = 0.00144264\n",
            "Iteration 497, loss = 0.00144705\n",
            "Iteration 498, loss = 0.00144181\n",
            "Iteration 499, loss = 0.00144336\n",
            "Iteration 500, loss = 0.00143735\n"
          ],
          "name": "stdout"
        },
        {
          "output_type": "stream",
          "text": [
            "/usr/local/lib/python3.7/dist-packages/sklearn/neural_network/_multilayer_perceptron.py:571: ConvergenceWarning: Stochastic Optimizer: Maximum iterations (500) reached and the optimization hasn't converged yet.\n",
            "  % self.max_iter, ConvergenceWarning)\n"
          ],
          "name": "stderr"
        },
        {
          "output_type": "stream",
          "text": [
            "Iteration 1, loss = 0.04950052\n",
            "Iteration 2, loss = 0.01072154\n",
            "Iteration 3, loss = 0.00642264\n",
            "Iteration 4, loss = 0.00530931\n",
            "Iteration 5, loss = 0.00474779\n",
            "Iteration 6, loss = 0.00438534\n",
            "Iteration 7, loss = 0.00411292\n",
            "Iteration 8, loss = 0.00390840\n",
            "Iteration 9, loss = 0.00376181\n",
            "Iteration 10, loss = 0.00365218\n",
            "Iteration 11, loss = 0.00356497\n",
            "Iteration 12, loss = 0.00349253\n",
            "Iteration 13, loss = 0.00343027\n",
            "Iteration 14, loss = 0.00337830\n",
            "Iteration 15, loss = 0.00333255\n",
            "Iteration 16, loss = 0.00329169\n",
            "Iteration 17, loss = 0.00325485\n",
            "Iteration 18, loss = 0.00322044\n",
            "Iteration 19, loss = 0.00318997\n",
            "Iteration 20, loss = 0.00316283\n",
            "Iteration 21, loss = 0.00313717\n",
            "Iteration 22, loss = 0.00311363\n",
            "Iteration 23, loss = 0.00309097\n",
            "Iteration 24, loss = 0.00306989\n",
            "Iteration 25, loss = 0.00305164\n",
            "Iteration 26, loss = 0.00303265\n",
            "Iteration 27, loss = 0.00301581\n",
            "Iteration 28, loss = 0.00299868\n",
            "Iteration 29, loss = 0.00298391\n",
            "Iteration 30, loss = 0.00296858\n",
            "Iteration 31, loss = 0.00295432\n",
            "Iteration 32, loss = 0.00294222\n",
            "Iteration 33, loss = 0.00292896\n",
            "Iteration 34, loss = 0.00291676\n",
            "Iteration 35, loss = 0.00290427\n",
            "Iteration 36, loss = 0.00289280\n",
            "Iteration 37, loss = 0.00288289\n",
            "Iteration 38, loss = 0.00287182\n",
            "Iteration 39, loss = 0.00286138\n",
            "Iteration 40, loss = 0.00285095\n",
            "Iteration 41, loss = 0.00284093\n",
            "Iteration 42, loss = 0.00282955\n",
            "Iteration 43, loss = 0.00282248\n",
            "Iteration 44, loss = 0.00281277\n",
            "Iteration 45, loss = 0.00280481\n",
            "Iteration 46, loss = 0.00279459\n",
            "Iteration 47, loss = 0.00278901\n",
            "Iteration 48, loss = 0.00277913\n",
            "Iteration 49, loss = 0.00277321\n",
            "Iteration 50, loss = 0.00276312\n",
            "Iteration 51, loss = 0.00275651\n",
            "Iteration 52, loss = 0.00274815\n",
            "Iteration 53, loss = 0.00274057\n",
            "Iteration 54, loss = 0.00273323\n",
            "Iteration 55, loss = 0.00272710\n",
            "Iteration 56, loss = 0.00271970\n",
            "Iteration 57, loss = 0.00271261\n",
            "Iteration 58, loss = 0.00270552\n",
            "Iteration 59, loss = 0.00269862\n",
            "Iteration 60, loss = 0.00269239\n",
            "Iteration 61, loss = 0.00268554\n",
            "Iteration 62, loss = 0.00267885\n",
            "Iteration 63, loss = 0.00267195\n",
            "Iteration 64, loss = 0.00266567\n",
            "Iteration 65, loss = 0.00265891\n",
            "Iteration 66, loss = 0.00265251\n",
            "Iteration 67, loss = 0.00264690\n",
            "Iteration 68, loss = 0.00264128\n",
            "Iteration 69, loss = 0.00263395\n",
            "Iteration 70, loss = 0.00262824\n",
            "Iteration 71, loss = 0.00262247\n",
            "Iteration 72, loss = 0.00261640\n",
            "Iteration 73, loss = 0.00261189\n",
            "Iteration 74, loss = 0.00260703\n",
            "Iteration 75, loss = 0.00260093\n",
            "Iteration 76, loss = 0.00259626\n",
            "Iteration 77, loss = 0.00259041\n",
            "Iteration 78, loss = 0.00258453\n",
            "Iteration 79, loss = 0.00257868\n",
            "Iteration 80, loss = 0.00257315\n",
            "Iteration 81, loss = 0.00256883\n",
            "Iteration 82, loss = 0.00256240\n",
            "Iteration 83, loss = 0.00255778\n",
            "Iteration 84, loss = 0.00255211\n",
            "Iteration 85, loss = 0.00254857\n",
            "Iteration 86, loss = 0.00254142\n",
            "Iteration 87, loss = 0.00253615\n",
            "Iteration 88, loss = 0.00253197\n",
            "Iteration 89, loss = 0.00252802\n",
            "Iteration 90, loss = 0.00252170\n",
            "Iteration 91, loss = 0.00251754\n",
            "Iteration 92, loss = 0.00251214\n",
            "Iteration 93, loss = 0.00250792\n",
            "Iteration 94, loss = 0.00250092\n",
            "Iteration 95, loss = 0.00249948\n",
            "Iteration 96, loss = 0.00249251\n",
            "Iteration 97, loss = 0.00248730\n",
            "Iteration 98, loss = 0.00248406\n",
            "Iteration 99, loss = 0.00247804\n",
            "Iteration 100, loss = 0.00247465\n",
            "Iteration 101, loss = 0.00247054\n",
            "Iteration 102, loss = 0.00246227\n",
            "Iteration 103, loss = 0.00246080\n",
            "Iteration 104, loss = 0.00245653\n",
            "Iteration 105, loss = 0.00245018\n",
            "Iteration 106, loss = 0.00244638\n",
            "Iteration 107, loss = 0.00244082\n",
            "Iteration 108, loss = 0.00243872\n",
            "Iteration 109, loss = 0.00243126\n",
            "Iteration 110, loss = 0.00242891\n",
            "Iteration 111, loss = 0.00242622\n",
            "Iteration 112, loss = 0.00242000\n",
            "Iteration 113, loss = 0.00241577\n",
            "Iteration 114, loss = 0.00241305\n",
            "Iteration 115, loss = 0.00240811\n",
            "Iteration 116, loss = 0.00240406\n",
            "Iteration 117, loss = 0.00239960\n",
            "Iteration 118, loss = 0.00239815\n",
            "Iteration 119, loss = 0.00239186\n",
            "Iteration 120, loss = 0.00238964\n",
            "Iteration 121, loss = 0.00238561\n",
            "Iteration 122, loss = 0.00238290\n",
            "Iteration 123, loss = 0.00237590\n",
            "Iteration 124, loss = 0.00237421\n",
            "Iteration 125, loss = 0.00236896\n",
            "Iteration 126, loss = 0.00236409\n",
            "Iteration 127, loss = 0.00236380\n",
            "Iteration 128, loss = 0.00235652\n",
            "Iteration 129, loss = 0.00235562\n",
            "Iteration 130, loss = 0.00235012\n",
            "Iteration 131, loss = 0.00234608\n",
            "Iteration 132, loss = 0.00234417\n",
            "Iteration 133, loss = 0.00233916\n",
            "Iteration 134, loss = 0.00233453\n",
            "Iteration 135, loss = 0.00233172\n",
            "Iteration 136, loss = 0.00232828\n",
            "Iteration 137, loss = 0.00232308\n",
            "Iteration 138, loss = 0.00232309\n",
            "Iteration 139, loss = 0.00231864\n",
            "Iteration 140, loss = 0.00231380\n",
            "Iteration 141, loss = 0.00231019\n",
            "Iteration 142, loss = 0.00230709\n",
            "Iteration 143, loss = 0.00230302\n",
            "Iteration 144, loss = 0.00230013\n",
            "Iteration 145, loss = 0.00229720\n",
            "Iteration 146, loss = 0.00229346\n",
            "Iteration 147, loss = 0.00228912\n",
            "Iteration 148, loss = 0.00228593\n",
            "Iteration 149, loss = 0.00228135\n",
            "Iteration 150, loss = 0.00227889\n",
            "Iteration 151, loss = 0.00227652\n",
            "Iteration 152, loss = 0.00227113\n",
            "Iteration 153, loss = 0.00226688\n",
            "Iteration 154, loss = 0.00226523\n",
            "Iteration 155, loss = 0.00226175\n",
            "Iteration 156, loss = 0.00225949\n",
            "Iteration 157, loss = 0.00225584\n",
            "Iteration 158, loss = 0.00225253\n",
            "Iteration 159, loss = 0.00224588\n",
            "Iteration 160, loss = 0.00224625\n",
            "Iteration 161, loss = 0.00224260\n",
            "Iteration 162, loss = 0.00223899\n",
            "Iteration 163, loss = 0.00223602\n",
            "Iteration 164, loss = 0.00223083\n",
            "Iteration 165, loss = 0.00223056\n",
            "Iteration 166, loss = 0.00222609\n",
            "Iteration 167, loss = 0.00222313\n",
            "Iteration 168, loss = 0.00222029\n",
            "Iteration 169, loss = 0.00221651\n",
            "Iteration 170, loss = 0.00221294\n",
            "Iteration 171, loss = 0.00221105\n",
            "Iteration 172, loss = 0.00220587\n",
            "Iteration 173, loss = 0.00220548\n",
            "Iteration 174, loss = 0.00220237\n",
            "Iteration 175, loss = 0.00219569\n",
            "Iteration 176, loss = 0.00219647\n",
            "Iteration 177, loss = 0.00219159\n",
            "Iteration 178, loss = 0.00218888\n",
            "Iteration 179, loss = 0.00218532\n",
            "Iteration 180, loss = 0.00218089\n",
            "Iteration 181, loss = 0.00217923\n",
            "Iteration 182, loss = 0.00217500\n",
            "Iteration 183, loss = 0.00217490\n",
            "Iteration 184, loss = 0.00216983\n",
            "Iteration 185, loss = 0.00216788\n",
            "Iteration 186, loss = 0.00216395\n",
            "Iteration 187, loss = 0.00215970\n",
            "Iteration 188, loss = 0.00215870\n",
            "Iteration 189, loss = 0.00215426\n",
            "Iteration 190, loss = 0.00215199\n",
            "Iteration 191, loss = 0.00214899\n",
            "Iteration 192, loss = 0.00214607\n",
            "Iteration 193, loss = 0.00214227\n",
            "Iteration 194, loss = 0.00213876\n",
            "Iteration 195, loss = 0.00213896\n",
            "Iteration 196, loss = 0.00213546\n",
            "Iteration 197, loss = 0.00213298\n",
            "Iteration 198, loss = 0.00212726\n",
            "Iteration 199, loss = 0.00212447\n",
            "Iteration 200, loss = 0.00212312\n",
            "Iteration 201, loss = 0.00212467\n",
            "Iteration 202, loss = 0.00211721\n",
            "Iteration 203, loss = 0.00211346\n",
            "Iteration 204, loss = 0.00211030\n",
            "Iteration 205, loss = 0.00211050\n",
            "Iteration 206, loss = 0.00210597\n",
            "Iteration 207, loss = 0.00210400\n",
            "Iteration 208, loss = 0.00210191\n",
            "Iteration 209, loss = 0.00209882\n",
            "Iteration 210, loss = 0.00209462\n",
            "Iteration 211, loss = 0.00209144\n",
            "Iteration 212, loss = 0.00208717\n",
            "Iteration 213, loss = 0.00208687\n",
            "Iteration 214, loss = 0.00208361\n",
            "Iteration 215, loss = 0.00208281\n",
            "Iteration 216, loss = 0.00207857\n",
            "Iteration 217, loss = 0.00207769\n",
            "Iteration 218, loss = 0.00207305\n",
            "Iteration 219, loss = 0.00206776\n",
            "Iteration 220, loss = 0.00207070\n",
            "Iteration 221, loss = 0.00206217\n",
            "Iteration 222, loss = 0.00206410\n",
            "Iteration 223, loss = 0.00205882\n",
            "Iteration 224, loss = 0.00205903\n",
            "Iteration 225, loss = 0.00205322\n",
            "Iteration 226, loss = 0.00205261\n",
            "Iteration 227, loss = 0.00204921\n",
            "Iteration 228, loss = 0.00204595\n",
            "Iteration 229, loss = 0.00204542\n",
            "Iteration 230, loss = 0.00204162\n",
            "Iteration 231, loss = 0.00204053\n",
            "Iteration 232, loss = 0.00203767\n",
            "Iteration 233, loss = 0.00203416\n",
            "Iteration 234, loss = 0.00202957\n",
            "Iteration 235, loss = 0.00203013\n",
            "Iteration 236, loss = 0.00202503\n",
            "Iteration 237, loss = 0.00202542\n",
            "Iteration 238, loss = 0.00202360\n",
            "Iteration 239, loss = 0.00202104\n",
            "Iteration 240, loss = 0.00201814\n",
            "Iteration 241, loss = 0.00201497\n",
            "Iteration 242, loss = 0.00201301\n",
            "Iteration 243, loss = 0.00200582\n",
            "Iteration 244, loss = 0.00201176\n",
            "Iteration 245, loss = 0.00200635\n",
            "Iteration 246, loss = 0.00200593\n",
            "Iteration 247, loss = 0.00200168\n",
            "Iteration 248, loss = 0.00200069\n",
            "Iteration 249, loss = 0.00199762\n",
            "Iteration 250, loss = 0.00199628\n",
            "Iteration 251, loss = 0.00199291\n",
            "Iteration 252, loss = 0.00198980\n",
            "Iteration 253, loss = 0.00198825\n",
            "Iteration 254, loss = 0.00198393\n",
            "Iteration 255, loss = 0.00198269\n",
            "Iteration 256, loss = 0.00198207\n",
            "Iteration 257, loss = 0.00197453\n",
            "Iteration 258, loss = 0.00197811\n",
            "Iteration 259, loss = 0.00197324\n",
            "Iteration 260, loss = 0.00196993\n",
            "Iteration 261, loss = 0.00196742\n",
            "Iteration 262, loss = 0.00196775\n",
            "Iteration 263, loss = 0.00196506\n",
            "Iteration 264, loss = 0.00196337\n",
            "Iteration 265, loss = 0.00196031\n",
            "Iteration 266, loss = 0.00195706\n",
            "Iteration 267, loss = 0.00195751\n",
            "Iteration 268, loss = 0.00195549\n",
            "Iteration 269, loss = 0.00195186\n",
            "Iteration 270, loss = 0.00194949\n",
            "Iteration 271, loss = 0.00194709\n",
            "Iteration 272, loss = 0.00194520\n",
            "Iteration 273, loss = 0.00194240\n",
            "Iteration 274, loss = 0.00193774\n",
            "Iteration 275, loss = 0.00194056\n",
            "Iteration 276, loss = 0.00193621\n",
            "Iteration 277, loss = 0.00193471\n",
            "Iteration 278, loss = 0.00193389\n",
            "Iteration 279, loss = 0.00193078\n",
            "Iteration 280, loss = 0.00192839\n",
            "Iteration 281, loss = 0.00192465\n",
            "Iteration 282, loss = 0.00192269\n",
            "Iteration 283, loss = 0.00192345\n",
            "Iteration 284, loss = 0.00192137\n",
            "Iteration 285, loss = 0.00191866\n",
            "Iteration 286, loss = 0.00191570\n",
            "Iteration 287, loss = 0.00191474\n",
            "Iteration 288, loss = 0.00191187\n",
            "Iteration 289, loss = 0.00190995\n",
            "Iteration 290, loss = 0.00190839\n",
            "Iteration 291, loss = 0.00190165\n",
            "Iteration 292, loss = 0.00190520\n",
            "Iteration 293, loss = 0.00190338\n",
            "Iteration 294, loss = 0.00189996\n",
            "Iteration 295, loss = 0.00189762\n",
            "Iteration 296, loss = 0.00189693\n",
            "Iteration 297, loss = 0.00189486\n",
            "Iteration 298, loss = 0.00189348\n",
            "Iteration 299, loss = 0.00188969\n",
            "Iteration 300, loss = 0.00188858\n",
            "Iteration 301, loss = 0.00188147\n",
            "Iteration 302, loss = 0.00188523\n",
            "Iteration 303, loss = 0.00188531\n",
            "Iteration 304, loss = 0.00188140\n",
            "Iteration 305, loss = 0.00187779\n",
            "Iteration 306, loss = 0.00187450\n",
            "Iteration 307, loss = 0.00187303\n",
            "Iteration 308, loss = 0.00187178\n",
            "Iteration 309, loss = 0.00186713\n",
            "Iteration 310, loss = 0.00187029\n",
            "Iteration 311, loss = 0.00186589\n",
            "Iteration 312, loss = 0.00186624\n",
            "Iteration 313, loss = 0.00186356\n",
            "Iteration 314, loss = 0.00186302\n",
            "Iteration 315, loss = 0.00185889\n",
            "Iteration 316, loss = 0.00185775\n",
            "Iteration 317, loss = 0.00185347\n",
            "Iteration 318, loss = 0.00185146\n",
            "Iteration 319, loss = 0.00184944\n",
            "Iteration 320, loss = 0.00185515\n",
            "Iteration 321, loss = 0.00185042\n",
            "Iteration 322, loss = 0.00184640\n",
            "Iteration 323, loss = 0.00184285\n",
            "Iteration 324, loss = 0.00184287\n",
            "Iteration 325, loss = 0.00184057\n",
            "Iteration 326, loss = 0.00183685\n",
            "Iteration 327, loss = 0.00183652\n",
            "Iteration 328, loss = 0.00183359\n",
            "Iteration 329, loss = 0.00183291\n",
            "Iteration 330, loss = 0.00182976\n",
            "Iteration 331, loss = 0.00182881\n",
            "Iteration 332, loss = 0.00182648\n",
            "Iteration 333, loss = 0.00182367\n",
            "Iteration 334, loss = 0.00182168\n",
            "Iteration 335, loss = 0.00182013\n",
            "Iteration 336, loss = 0.00181789\n",
            "Iteration 337, loss = 0.00181950\n",
            "Iteration 338, loss = 0.00181410\n",
            "Iteration 339, loss = 0.00181070\n",
            "Iteration 340, loss = 0.00181131\n",
            "Iteration 341, loss = 0.00180761\n",
            "Iteration 342, loss = 0.00180844\n",
            "Iteration 343, loss = 0.00180460\n",
            "Iteration 344, loss = 0.00180404\n",
            "Iteration 345, loss = 0.00180103\n",
            "Iteration 346, loss = 0.00180178\n",
            "Iteration 347, loss = 0.00179776\n",
            "Iteration 348, loss = 0.00179613\n",
            "Iteration 349, loss = 0.00179250\n",
            "Iteration 350, loss = 0.00179301\n",
            "Iteration 351, loss = 0.00179178\n",
            "Iteration 352, loss = 0.00178777\n",
            "Iteration 353, loss = 0.00178411\n",
            "Iteration 354, loss = 0.00178447\n",
            "Iteration 355, loss = 0.00178206\n",
            "Iteration 356, loss = 0.00178103\n",
            "Iteration 357, loss = 0.00177845\n",
            "Iteration 358, loss = 0.00177610\n",
            "Iteration 359, loss = 0.00177422\n",
            "Iteration 360, loss = 0.00177332\n",
            "Iteration 361, loss = 0.00177171\n",
            "Iteration 362, loss = 0.00177208\n",
            "Iteration 363, loss = 0.00176613\n",
            "Iteration 364, loss = 0.00176899\n",
            "Iteration 365, loss = 0.00176416\n",
            "Iteration 366, loss = 0.00176192\n",
            "Iteration 367, loss = 0.00176032\n",
            "Iteration 368, loss = 0.00175941\n",
            "Iteration 369, loss = 0.00175679\n",
            "Iteration 370, loss = 0.00175496\n",
            "Iteration 371, loss = 0.00175582\n",
            "Iteration 372, loss = 0.00175305\n",
            "Iteration 373, loss = 0.00174912\n",
            "Iteration 374, loss = 0.00174959\n",
            "Iteration 375, loss = 0.00174546\n",
            "Iteration 376, loss = 0.00174133\n",
            "Iteration 377, loss = 0.00174095\n",
            "Iteration 378, loss = 0.00174092\n",
            "Iteration 379, loss = 0.00173978\n",
            "Iteration 380, loss = 0.00173754\n",
            "Iteration 381, loss = 0.00173489\n",
            "Iteration 382, loss = 0.00173255\n",
            "Iteration 383, loss = 0.00173190\n",
            "Iteration 384, loss = 0.00173244\n",
            "Iteration 385, loss = 0.00172750\n",
            "Iteration 386, loss = 0.00172180\n",
            "Iteration 387, loss = 0.00172738\n",
            "Iteration 388, loss = 0.00171858\n",
            "Iteration 389, loss = 0.00171998\n",
            "Iteration 390, loss = 0.00171680\n",
            "Iteration 391, loss = 0.00171824\n",
            "Iteration 392, loss = 0.00171591\n",
            "Iteration 393, loss = 0.00171392\n",
            "Iteration 394, loss = 0.00171284\n",
            "Iteration 395, loss = 0.00171239\n",
            "Iteration 396, loss = 0.00170787\n",
            "Iteration 397, loss = 0.00170466\n",
            "Iteration 398, loss = 0.00170331\n",
            "Iteration 399, loss = 0.00170378\n",
            "Iteration 400, loss = 0.00170180\n",
            "Iteration 401, loss = 0.00169769\n",
            "Iteration 402, loss = 0.00169917\n",
            "Iteration 403, loss = 0.00169645\n",
            "Iteration 404, loss = 0.00169547\n",
            "Iteration 405, loss = 0.00169418\n",
            "Iteration 406, loss = 0.00169061\n",
            "Iteration 407, loss = 0.00168983\n",
            "Iteration 408, loss = 0.00168861\n",
            "Iteration 409, loss = 0.00168699\n",
            "Iteration 410, loss = 0.00168239\n",
            "Iteration 411, loss = 0.00168479\n",
            "Iteration 412, loss = 0.00167526\n",
            "Iteration 413, loss = 0.00168064\n",
            "Iteration 414, loss = 0.00167718\n",
            "Iteration 415, loss = 0.00167612\n",
            "Iteration 416, loss = 0.00167362\n",
            "Iteration 417, loss = 0.00166949\n",
            "Iteration 418, loss = 0.00166701\n",
            "Iteration 419, loss = 0.00166779\n",
            "Iteration 420, loss = 0.00166556\n",
            "Iteration 421, loss = 0.00166277\n",
            "Iteration 422, loss = 0.00166214\n",
            "Iteration 423, loss = 0.00166004\n",
            "Iteration 424, loss = 0.00166316\n",
            "Iteration 425, loss = 0.00165545\n",
            "Iteration 426, loss = 0.00165565\n",
            "Iteration 427, loss = 0.00165748\n",
            "Iteration 428, loss = 0.00165082\n",
            "Iteration 429, loss = 0.00165449\n",
            "Iteration 430, loss = 0.00164762\n",
            "Iteration 431, loss = 0.00164786\n",
            "Iteration 432, loss = 0.00164587\n",
            "Iteration 433, loss = 0.00164082\n",
            "Iteration 434, loss = 0.00164382\n",
            "Iteration 435, loss = 0.00163911\n",
            "Iteration 436, loss = 0.00164005\n",
            "Iteration 437, loss = 0.00163781\n",
            "Iteration 438, loss = 0.00163566\n",
            "Iteration 439, loss = 0.00163415\n",
            "Iteration 440, loss = 0.00163298\n",
            "Iteration 441, loss = 0.00163191\n",
            "Iteration 442, loss = 0.00162694\n",
            "Iteration 443, loss = 0.00162974\n",
            "Iteration 444, loss = 0.00162877\n",
            "Iteration 445, loss = 0.00162387\n",
            "Iteration 446, loss = 0.00162194\n",
            "Iteration 447, loss = 0.00161915\n",
            "Iteration 448, loss = 0.00161625\n",
            "Iteration 449, loss = 0.00161925\n",
            "Iteration 450, loss = 0.00161595\n",
            "Iteration 451, loss = 0.00161318\n",
            "Iteration 452, loss = 0.00161359\n",
            "Iteration 453, loss = 0.00160672\n",
            "Iteration 454, loss = 0.00160729\n",
            "Iteration 455, loss = 0.00160686\n",
            "Iteration 456, loss = 0.00160735\n",
            "Iteration 457, loss = 0.00160206\n",
            "Iteration 458, loss = 0.00160100\n",
            "Iteration 459, loss = 0.00160379\n",
            "Iteration 460, loss = 0.00159786\n",
            "Iteration 461, loss = 0.00159407\n",
            "Iteration 462, loss = 0.00159385\n",
            "Iteration 463, loss = 0.00159107\n",
            "Iteration 464, loss = 0.00159698\n",
            "Iteration 465, loss = 0.00159185\n",
            "Iteration 466, loss = 0.00158764\n",
            "Iteration 467, loss = 0.00157901\n",
            "Iteration 468, loss = 0.00158964\n",
            "Iteration 469, loss = 0.00158629\n",
            "Iteration 470, loss = 0.00158239\n",
            "Iteration 471, loss = 0.00158053\n",
            "Iteration 472, loss = 0.00157758\n",
            "Iteration 473, loss = 0.00157367\n",
            "Iteration 474, loss = 0.00157780\n",
            "Iteration 475, loss = 0.00157431\n",
            "Iteration 476, loss = 0.00157051\n",
            "Iteration 477, loss = 0.00157070\n",
            "Iteration 478, loss = 0.00156878\n",
            "Iteration 479, loss = 0.00156843\n",
            "Iteration 480, loss = 0.00156537\n",
            "Iteration 481, loss = 0.00156317\n",
            "Iteration 482, loss = 0.00156437\n",
            "Iteration 483, loss = 0.00156131\n",
            "Iteration 484, loss = 0.00156271\n",
            "Iteration 485, loss = 0.00155601\n",
            "Iteration 486, loss = 0.00155742\n",
            "Iteration 487, loss = 0.00155604\n",
            "Iteration 488, loss = 0.00155234\n",
            "Iteration 489, loss = 0.00155211\n",
            "Iteration 490, loss = 0.00154936\n",
            "Iteration 491, loss = 0.00154876\n",
            "Iteration 492, loss = 0.00154611\n",
            "Iteration 493, loss = 0.00154595\n",
            "Iteration 494, loss = 0.00154255\n",
            "Iteration 495, loss = 0.00154173\n",
            "Iteration 496, loss = 0.00154066\n",
            "Iteration 497, loss = 0.00153963\n",
            "Iteration 498, loss = 0.00153206\n",
            "Iteration 499, loss = 0.00153663\n",
            "Iteration 500, loss = 0.00153391\n"
          ],
          "name": "stdout"
        },
        {
          "output_type": "stream",
          "text": [
            "/usr/local/lib/python3.7/dist-packages/sklearn/neural_network/_multilayer_perceptron.py:571: ConvergenceWarning: Stochastic Optimizer: Maximum iterations (500) reached and the optimization hasn't converged yet.\n",
            "  % self.max_iter, ConvergenceWarning)\n"
          ],
          "name": "stderr"
        },
        {
          "output_type": "stream",
          "text": [
            "Iteration 1, loss = 0.04954796\n",
            "Iteration 2, loss = 0.01080026\n",
            "Iteration 3, loss = 0.00645720\n",
            "Iteration 4, loss = 0.00536167\n",
            "Iteration 5, loss = 0.00476824\n",
            "Iteration 6, loss = 0.00436350\n",
            "Iteration 7, loss = 0.00406046\n",
            "Iteration 8, loss = 0.00385032\n",
            "Iteration 9, loss = 0.00370278\n",
            "Iteration 10, loss = 0.00359190\n",
            "Iteration 11, loss = 0.00350706\n",
            "Iteration 12, loss = 0.00343516\n",
            "Iteration 13, loss = 0.00337599\n",
            "Iteration 14, loss = 0.00332510\n",
            "Iteration 15, loss = 0.00327955\n",
            "Iteration 16, loss = 0.00324178\n",
            "Iteration 17, loss = 0.00320684\n",
            "Iteration 18, loss = 0.00317582\n",
            "Iteration 19, loss = 0.00314617\n",
            "Iteration 20, loss = 0.00312182\n",
            "Iteration 21, loss = 0.00309660\n",
            "Iteration 22, loss = 0.00307547\n",
            "Iteration 23, loss = 0.00305454\n",
            "Iteration 24, loss = 0.00303561\n",
            "Iteration 25, loss = 0.00301940\n",
            "Iteration 26, loss = 0.00300141\n",
            "Iteration 27, loss = 0.00298659\n",
            "Iteration 28, loss = 0.00297198\n",
            "Iteration 29, loss = 0.00295600\n",
            "Iteration 30, loss = 0.00294556\n",
            "Iteration 31, loss = 0.00293099\n",
            "Iteration 32, loss = 0.00291944\n",
            "Iteration 33, loss = 0.00290753\n",
            "Iteration 34, loss = 0.00289665\n",
            "Iteration 35, loss = 0.00288419\n",
            "Iteration 36, loss = 0.00287537\n",
            "Iteration 37, loss = 0.00286496\n",
            "Iteration 38, loss = 0.00285451\n",
            "Iteration 39, loss = 0.00284383\n",
            "Iteration 40, loss = 0.00283376\n",
            "Iteration 41, loss = 0.00282481\n",
            "Iteration 42, loss = 0.00281471\n",
            "Iteration 43, loss = 0.00280641\n",
            "Iteration 44, loss = 0.00279840\n",
            "Iteration 45, loss = 0.00278986\n",
            "Iteration 46, loss = 0.00278132\n",
            "Iteration 47, loss = 0.00277386\n",
            "Iteration 48, loss = 0.00276329\n",
            "Iteration 49, loss = 0.00275949\n",
            "Iteration 50, loss = 0.00274900\n",
            "Iteration 51, loss = 0.00274294\n",
            "Iteration 52, loss = 0.00273149\n",
            "Iteration 53, loss = 0.00272860\n",
            "Iteration 54, loss = 0.00272050\n",
            "Iteration 55, loss = 0.00271232\n",
            "Iteration 56, loss = 0.00270670\n",
            "Iteration 57, loss = 0.00269952\n",
            "Iteration 58, loss = 0.00269331\n",
            "Iteration 59, loss = 0.00268370\n",
            "Iteration 60, loss = 0.00267882\n",
            "Iteration 61, loss = 0.00267195\n",
            "Iteration 62, loss = 0.00266535\n",
            "Iteration 63, loss = 0.00265893\n",
            "Iteration 64, loss = 0.00265379\n",
            "Iteration 65, loss = 0.00264638\n",
            "Iteration 66, loss = 0.00264053\n",
            "Iteration 67, loss = 0.00263345\n",
            "Iteration 68, loss = 0.00262883\n",
            "Iteration 69, loss = 0.00262082\n",
            "Iteration 70, loss = 0.00261520\n",
            "Iteration 71, loss = 0.00260766\n",
            "Iteration 72, loss = 0.00260151\n",
            "Iteration 73, loss = 0.00259640\n",
            "Iteration 74, loss = 0.00259094\n",
            "Iteration 75, loss = 0.00258322\n",
            "Iteration 76, loss = 0.00258101\n",
            "Iteration 77, loss = 0.00257190\n",
            "Iteration 78, loss = 0.00256695\n",
            "Iteration 79, loss = 0.00256005\n",
            "Iteration 80, loss = 0.00255480\n",
            "Iteration 81, loss = 0.00254830\n",
            "Iteration 82, loss = 0.00254448\n",
            "Iteration 83, loss = 0.00253752\n",
            "Iteration 84, loss = 0.00253117\n",
            "Iteration 85, loss = 0.00252663\n",
            "Iteration 86, loss = 0.00251967\n",
            "Iteration 87, loss = 0.00251443\n",
            "Iteration 88, loss = 0.00251018\n",
            "Iteration 89, loss = 0.00250523\n",
            "Iteration 90, loss = 0.00249967\n",
            "Iteration 91, loss = 0.00249503\n",
            "Iteration 92, loss = 0.00248875\n",
            "Iteration 93, loss = 0.00248430\n",
            "Iteration 94, loss = 0.00248095\n",
            "Iteration 95, loss = 0.00247416\n",
            "Iteration 96, loss = 0.00247189\n",
            "Iteration 97, loss = 0.00246409\n",
            "Iteration 98, loss = 0.00245977\n",
            "Iteration 99, loss = 0.00245678\n",
            "Iteration 100, loss = 0.00245212\n",
            "Iteration 101, loss = 0.00244774\n",
            "Iteration 102, loss = 0.00244273\n",
            "Iteration 103, loss = 0.00243965\n",
            "Iteration 104, loss = 0.00243368\n",
            "Iteration 105, loss = 0.00242883\n",
            "Iteration 106, loss = 0.00242455\n",
            "Iteration 107, loss = 0.00241851\n",
            "Iteration 108, loss = 0.00241575\n",
            "Iteration 109, loss = 0.00241106\n",
            "Iteration 110, loss = 0.00240588\n",
            "Iteration 111, loss = 0.00240431\n",
            "Iteration 112, loss = 0.00239863\n",
            "Iteration 113, loss = 0.00239126\n",
            "Iteration 114, loss = 0.00238906\n",
            "Iteration 115, loss = 0.00238483\n",
            "Iteration 116, loss = 0.00238208\n",
            "Iteration 117, loss = 0.00237530\n",
            "Iteration 118, loss = 0.00237400\n",
            "Iteration 119, loss = 0.00236764\n",
            "Iteration 120, loss = 0.00236462\n",
            "Iteration 121, loss = 0.00236168\n",
            "Iteration 122, loss = 0.00235755\n",
            "Iteration 123, loss = 0.00235294\n",
            "Iteration 124, loss = 0.00234901\n",
            "Iteration 125, loss = 0.00234498\n",
            "Iteration 126, loss = 0.00234032\n",
            "Iteration 127, loss = 0.00233912\n",
            "Iteration 128, loss = 0.00233041\n",
            "Iteration 129, loss = 0.00233096\n",
            "Iteration 130, loss = 0.00232463\n",
            "Iteration 131, loss = 0.00232402\n",
            "Iteration 132, loss = 0.00231992\n",
            "Iteration 133, loss = 0.00231596\n",
            "Iteration 134, loss = 0.00231218\n",
            "Iteration 135, loss = 0.00230834\n",
            "Iteration 136, loss = 0.00230297\n",
            "Iteration 137, loss = 0.00229936\n",
            "Iteration 138, loss = 0.00229951\n",
            "Iteration 139, loss = 0.00229526\n",
            "Iteration 140, loss = 0.00229195\n",
            "Iteration 141, loss = 0.00228679\n",
            "Iteration 142, loss = 0.00228449\n",
            "Iteration 143, loss = 0.00227996\n",
            "Iteration 144, loss = 0.00227737\n",
            "Iteration 145, loss = 0.00227322\n",
            "Iteration 146, loss = 0.00227138\n",
            "Iteration 147, loss = 0.00226865\n",
            "Iteration 148, loss = 0.00226351\n",
            "Iteration 149, loss = 0.00226153\n",
            "Iteration 150, loss = 0.00225748\n",
            "Iteration 151, loss = 0.00225569\n",
            "Iteration 152, loss = 0.00225147\n",
            "Iteration 153, loss = 0.00224720\n",
            "Iteration 154, loss = 0.00224448\n",
            "Iteration 155, loss = 0.00224211\n",
            "Iteration 156, loss = 0.00223873\n",
            "Iteration 157, loss = 0.00223539\n",
            "Iteration 158, loss = 0.00223284\n",
            "Iteration 159, loss = 0.00222700\n",
            "Iteration 160, loss = 0.00222827\n",
            "Iteration 161, loss = 0.00222343\n",
            "Iteration 162, loss = 0.00222037\n",
            "Iteration 163, loss = 0.00221858\n",
            "Iteration 164, loss = 0.00221345\n",
            "Iteration 165, loss = 0.00221234\n",
            "Iteration 166, loss = 0.00220837\n",
            "Iteration 167, loss = 0.00220355\n",
            "Iteration 168, loss = 0.00220285\n",
            "Iteration 169, loss = 0.00219956\n",
            "Iteration 170, loss = 0.00219644\n",
            "Iteration 171, loss = 0.00219221\n",
            "Iteration 172, loss = 0.00218921\n",
            "Iteration 173, loss = 0.00218721\n",
            "Iteration 174, loss = 0.00218454\n",
            "Iteration 175, loss = 0.00217985\n",
            "Iteration 176, loss = 0.00217849\n",
            "Iteration 177, loss = 0.00217454\n",
            "Iteration 178, loss = 0.00217285\n",
            "Iteration 179, loss = 0.00216880\n",
            "Iteration 180, loss = 0.00216461\n",
            "Iteration 181, loss = 0.00215999\n",
            "Iteration 182, loss = 0.00215759\n",
            "Iteration 183, loss = 0.00215566\n",
            "Iteration 184, loss = 0.00215396\n",
            "Iteration 185, loss = 0.00215147\n",
            "Iteration 186, loss = 0.00214896\n",
            "Iteration 187, loss = 0.00214301\n",
            "Iteration 188, loss = 0.00214246\n",
            "Iteration 189, loss = 0.00213772\n",
            "Iteration 190, loss = 0.00213830\n",
            "Iteration 191, loss = 0.00213451\n",
            "Iteration 192, loss = 0.00213057\n",
            "Iteration 193, loss = 0.00212831\n",
            "Iteration 194, loss = 0.00212393\n",
            "Iteration 195, loss = 0.00212572\n",
            "Iteration 196, loss = 0.00212041\n",
            "Iteration 197, loss = 0.00211924\n",
            "Iteration 198, loss = 0.00211465\n",
            "Iteration 199, loss = 0.00211231\n",
            "Iteration 200, loss = 0.00211141\n",
            "Iteration 201, loss = 0.00210857\n",
            "Iteration 202, loss = 0.00210480\n",
            "Iteration 203, loss = 0.00210162\n",
            "Iteration 204, loss = 0.00209785\n",
            "Iteration 205, loss = 0.00209752\n",
            "Iteration 206, loss = 0.00209444\n",
            "Iteration 207, loss = 0.00209282\n",
            "Iteration 208, loss = 0.00209065\n",
            "Iteration 209, loss = 0.00208776\n",
            "Iteration 210, loss = 0.00208502\n",
            "Iteration 211, loss = 0.00208166\n",
            "Iteration 212, loss = 0.00207862\n",
            "Iteration 213, loss = 0.00207803\n",
            "Iteration 214, loss = 0.00207439\n",
            "Iteration 215, loss = 0.00207209\n",
            "Iteration 216, loss = 0.00207087\n",
            "Iteration 217, loss = 0.00206879\n",
            "Iteration 218, loss = 0.00206454\n",
            "Iteration 219, loss = 0.00205860\n",
            "Iteration 220, loss = 0.00206187\n",
            "Iteration 221, loss = 0.00205256\n",
            "Iteration 222, loss = 0.00205623\n",
            "Iteration 223, loss = 0.00204881\n",
            "Iteration 224, loss = 0.00205118\n",
            "Iteration 225, loss = 0.00204653\n",
            "Iteration 226, loss = 0.00204544\n",
            "Iteration 227, loss = 0.00204269\n",
            "Iteration 228, loss = 0.00203809\n",
            "Iteration 229, loss = 0.00203655\n",
            "Iteration 230, loss = 0.00203396\n",
            "Iteration 231, loss = 0.00203235\n",
            "Iteration 232, loss = 0.00203246\n",
            "Iteration 233, loss = 0.00202751\n",
            "Iteration 234, loss = 0.00202370\n",
            "Iteration 235, loss = 0.00202240\n",
            "Iteration 236, loss = 0.00201971\n",
            "Iteration 237, loss = 0.00201762\n",
            "Iteration 238, loss = 0.00201560\n",
            "Iteration 239, loss = 0.00201313\n",
            "Iteration 240, loss = 0.00201085\n",
            "Iteration 241, loss = 0.00200707\n",
            "Iteration 242, loss = 0.00200690\n",
            "Iteration 243, loss = 0.00200241\n",
            "Iteration 244, loss = 0.00200256\n",
            "Iteration 245, loss = 0.00199904\n",
            "Iteration 246, loss = 0.00199897\n",
            "Iteration 247, loss = 0.00199552\n",
            "Iteration 248, loss = 0.00199325\n",
            "Iteration 249, loss = 0.00199088\n",
            "Iteration 250, loss = 0.00198950\n",
            "Iteration 251, loss = 0.00198515\n",
            "Iteration 252, loss = 0.00198363\n",
            "Iteration 253, loss = 0.00198190\n",
            "Iteration 254, loss = 0.00197661\n",
            "Iteration 255, loss = 0.00197478\n",
            "Iteration 256, loss = 0.00197419\n",
            "Iteration 257, loss = 0.00196825\n",
            "Iteration 258, loss = 0.00196907\n",
            "Iteration 259, loss = 0.00196830\n",
            "Iteration 260, loss = 0.00196373\n",
            "Iteration 261, loss = 0.00196123\n",
            "Iteration 262, loss = 0.00195974\n",
            "Iteration 263, loss = 0.00195618\n",
            "Iteration 264, loss = 0.00195613\n",
            "Iteration 265, loss = 0.00195401\n",
            "Iteration 266, loss = 0.00194454\n",
            "Iteration 267, loss = 0.00195081\n",
            "Iteration 268, loss = 0.00194687\n",
            "Iteration 269, loss = 0.00194511\n",
            "Iteration 270, loss = 0.00194246\n",
            "Iteration 271, loss = 0.00193962\n",
            "Iteration 272, loss = 0.00193763\n",
            "Iteration 273, loss = 0.00193491\n",
            "Iteration 274, loss = 0.00193276\n",
            "Iteration 275, loss = 0.00193167\n",
            "Iteration 276, loss = 0.00192884\n",
            "Iteration 277, loss = 0.00192861\n",
            "Iteration 278, loss = 0.00192423\n",
            "Iteration 279, loss = 0.00192122\n",
            "Iteration 280, loss = 0.00192064\n",
            "Iteration 281, loss = 0.00191872\n",
            "Iteration 282, loss = 0.00191597\n",
            "Iteration 283, loss = 0.00191242\n",
            "Iteration 284, loss = 0.00191293\n",
            "Iteration 285, loss = 0.00190941\n",
            "Iteration 286, loss = 0.00190572\n",
            "Iteration 287, loss = 0.00190601\n",
            "Iteration 288, loss = 0.00190497\n",
            "Iteration 289, loss = 0.00190157\n",
            "Iteration 290, loss = 0.00189964\n",
            "Iteration 291, loss = 0.00189623\n",
            "Iteration 292, loss = 0.00189613\n",
            "Iteration 293, loss = 0.00189503\n",
            "Iteration 294, loss = 0.00188915\n",
            "Iteration 295, loss = 0.00188736\n",
            "Iteration 296, loss = 0.00188879\n",
            "Iteration 297, loss = 0.00188714\n",
            "Iteration 298, loss = 0.00188395\n",
            "Iteration 299, loss = 0.00188091\n",
            "Iteration 300, loss = 0.00187789\n",
            "Iteration 301, loss = 0.00187372\n",
            "Iteration 302, loss = 0.00187463\n",
            "Iteration 303, loss = 0.00187492\n",
            "Iteration 304, loss = 0.00187117\n",
            "Iteration 305, loss = 0.00186928\n",
            "Iteration 306, loss = 0.00186699\n",
            "Iteration 307, loss = 0.00186606\n",
            "Iteration 308, loss = 0.00186395\n",
            "Iteration 309, loss = 0.00185888\n",
            "Iteration 310, loss = 0.00186040\n",
            "Iteration 311, loss = 0.00185582\n",
            "Iteration 312, loss = 0.00185587\n",
            "Iteration 313, loss = 0.00185405\n",
            "Iteration 314, loss = 0.00185244\n",
            "Iteration 315, loss = 0.00184885\n",
            "Iteration 316, loss = 0.00184693\n",
            "Iteration 317, loss = 0.00184495\n",
            "Iteration 318, loss = 0.00184235\n",
            "Iteration 319, loss = 0.00184052\n",
            "Iteration 320, loss = 0.00184173\n",
            "Iteration 321, loss = 0.00183747\n",
            "Iteration 322, loss = 0.00183659\n",
            "Iteration 323, loss = 0.00183409\n",
            "Iteration 324, loss = 0.00183231\n",
            "Iteration 325, loss = 0.00183117\n",
            "Iteration 326, loss = 0.00182740\n",
            "Iteration 327, loss = 0.00182612\n",
            "Iteration 328, loss = 0.00182434\n",
            "Iteration 329, loss = 0.00182195\n",
            "Iteration 330, loss = 0.00182079\n",
            "Iteration 331, loss = 0.00181995\n",
            "Iteration 332, loss = 0.00181689\n",
            "Iteration 333, loss = 0.00181317\n",
            "Iteration 334, loss = 0.00181167\n",
            "Iteration 335, loss = 0.00181020\n",
            "Iteration 336, loss = 0.00180952\n",
            "Iteration 337, loss = 0.00180905\n",
            "Iteration 338, loss = 0.00180487\n",
            "Iteration 339, loss = 0.00180126\n",
            "Iteration 340, loss = 0.00180038\n",
            "Iteration 341, loss = 0.00179881\n",
            "Iteration 342, loss = 0.00179821\n",
            "Iteration 343, loss = 0.00179552\n",
            "Iteration 344, loss = 0.00179131\n",
            "Iteration 345, loss = 0.00179227\n",
            "Iteration 346, loss = 0.00179108\n",
            "Iteration 347, loss = 0.00178793\n",
            "Iteration 348, loss = 0.00178655\n",
            "Iteration 349, loss = 0.00178076\n",
            "Iteration 350, loss = 0.00178313\n",
            "Iteration 351, loss = 0.00177993\n",
            "Iteration 352, loss = 0.00177891\n",
            "Iteration 353, loss = 0.00177402\n",
            "Iteration 354, loss = 0.00177283\n",
            "Iteration 355, loss = 0.00177412\n",
            "Iteration 356, loss = 0.00176972\n",
            "Iteration 357, loss = 0.00176862\n",
            "Iteration 358, loss = 0.00176544\n",
            "Iteration 359, loss = 0.00176499\n",
            "Iteration 360, loss = 0.00176324\n",
            "Iteration 361, loss = 0.00176184\n",
            "Iteration 362, loss = 0.00175893\n",
            "Iteration 363, loss = 0.00175406\n",
            "Iteration 364, loss = 0.00175758\n",
            "Iteration 365, loss = 0.00175431\n",
            "Iteration 366, loss = 0.00175102\n",
            "Iteration 367, loss = 0.00174926\n",
            "Iteration 368, loss = 0.00174682\n",
            "Iteration 369, loss = 0.00174663\n",
            "Iteration 370, loss = 0.00174108\n",
            "Iteration 371, loss = 0.00174588\n",
            "Iteration 372, loss = 0.00174181\n",
            "Iteration 373, loss = 0.00173943\n",
            "Iteration 374, loss = 0.00173812\n",
            "Iteration 375, loss = 0.00173452\n",
            "Iteration 376, loss = 0.00173189\n",
            "Iteration 377, loss = 0.00173127\n",
            "Iteration 378, loss = 0.00173082\n",
            "Iteration 379, loss = 0.00172906\n",
            "Iteration 380, loss = 0.00172643\n",
            "Iteration 381, loss = 0.00172170\n",
            "Iteration 382, loss = 0.00172330\n",
            "Iteration 383, loss = 0.00172055\n",
            "Iteration 384, loss = 0.00172121\n",
            "Iteration 385, loss = 0.00171561\n",
            "Iteration 386, loss = 0.00171221\n",
            "Iteration 387, loss = 0.00171499\n",
            "Iteration 388, loss = 0.00170845\n",
            "Iteration 389, loss = 0.00171076\n",
            "Iteration 390, loss = 0.00170809\n",
            "Iteration 391, loss = 0.00170692\n",
            "Iteration 392, loss = 0.00170418\n",
            "Iteration 393, loss = 0.00170456\n",
            "Iteration 394, loss = 0.00170089\n",
            "Iteration 395, loss = 0.00169943\n",
            "Iteration 396, loss = 0.00169853\n",
            "Iteration 397, loss = 0.00169655\n",
            "Iteration 398, loss = 0.00169396\n",
            "Iteration 399, loss = 0.00169308\n",
            "Iteration 400, loss = 0.00168617\n",
            "Iteration 401, loss = 0.00169018\n",
            "Iteration 402, loss = 0.00168758\n",
            "Iteration 403, loss = 0.00168481\n",
            "Iteration 404, loss = 0.00168358\n",
            "Iteration 405, loss = 0.00168098\n",
            "Iteration 406, loss = 0.00168192\n",
            "Iteration 407, loss = 0.00167796\n",
            "Iteration 408, loss = 0.00167868\n",
            "Iteration 409, loss = 0.00167255\n",
            "Iteration 410, loss = 0.00167474\n",
            "Iteration 411, loss = 0.00167238\n",
            "Iteration 412, loss = 0.00166629\n",
            "Iteration 413, loss = 0.00166916\n",
            "Iteration 414, loss = 0.00166601\n",
            "Iteration 415, loss = 0.00166563\n",
            "Iteration 416, loss = 0.00166247\n",
            "Iteration 417, loss = 0.00165847\n",
            "Iteration 418, loss = 0.00165897\n",
            "Iteration 419, loss = 0.00165749\n",
            "Iteration 420, loss = 0.00165597\n",
            "Iteration 421, loss = 0.00165461\n",
            "Iteration 422, loss = 0.00165230\n",
            "Iteration 423, loss = 0.00165124\n",
            "Iteration 424, loss = 0.00164980\n",
            "Iteration 425, loss = 0.00164734\n",
            "Iteration 426, loss = 0.00164620\n",
            "Iteration 427, loss = 0.00164549\n",
            "Iteration 428, loss = 0.00164175\n",
            "Iteration 429, loss = 0.00164250\n",
            "Iteration 430, loss = 0.00163776\n",
            "Iteration 431, loss = 0.00163836\n",
            "Iteration 432, loss = 0.00163643\n",
            "Iteration 433, loss = 0.00163351\n",
            "Iteration 434, loss = 0.00163273\n",
            "Iteration 435, loss = 0.00162796\n",
            "Iteration 436, loss = 0.00162938\n",
            "Iteration 437, loss = 0.00162721\n",
            "Iteration 438, loss = 0.00162472\n",
            "Iteration 439, loss = 0.00162308\n",
            "Iteration 440, loss = 0.00162262\n",
            "Iteration 441, loss = 0.00162080\n",
            "Iteration 442, loss = 0.00161629\n",
            "Iteration 443, loss = 0.00161848\n",
            "Iteration 444, loss = 0.00161615\n",
            "Iteration 445, loss = 0.00161321\n",
            "Iteration 446, loss = 0.00161087\n",
            "Iteration 447, loss = 0.00160818\n",
            "Iteration 448, loss = 0.00160575\n",
            "Iteration 449, loss = 0.00161013\n",
            "Iteration 450, loss = 0.00160623\n",
            "Iteration 451, loss = 0.00160176\n",
            "Iteration 452, loss = 0.00160384\n",
            "Iteration 453, loss = 0.00159892\n",
            "Iteration 454, loss = 0.00159795\n",
            "Iteration 455, loss = 0.00159697\n",
            "Iteration 456, loss = 0.00159558\n",
            "Iteration 457, loss = 0.00159364\n",
            "Iteration 458, loss = 0.00159101\n",
            "Iteration 459, loss = 0.00159315\n",
            "Iteration 460, loss = 0.00158591\n",
            "Iteration 461, loss = 0.00158829\n",
            "Iteration 462, loss = 0.00158450\n",
            "Iteration 463, loss = 0.00158173\n",
            "Iteration 464, loss = 0.00158274\n",
            "Iteration 465, loss = 0.00158023\n",
            "Iteration 466, loss = 0.00157717\n",
            "Iteration 467, loss = 0.00157435\n",
            "Iteration 468, loss = 0.00157676\n",
            "Iteration 469, loss = 0.00157315\n",
            "Iteration 470, loss = 0.00157098\n",
            "Iteration 471, loss = 0.00156562\n",
            "Iteration 472, loss = 0.00157033\n",
            "Iteration 473, loss = 0.00156556\n",
            "Iteration 474, loss = 0.00156599\n",
            "Iteration 475, loss = 0.00156373\n",
            "Iteration 476, loss = 0.00156131\n",
            "Iteration 477, loss = 0.00155981\n",
            "Iteration 478, loss = 0.00155655\n",
            "Iteration 479, loss = 0.00155838\n",
            "Iteration 480, loss = 0.00155371\n",
            "Iteration 481, loss = 0.00155184\n",
            "Iteration 482, loss = 0.00155353\n",
            "Iteration 483, loss = 0.00154913\n",
            "Iteration 484, loss = 0.00154998\n",
            "Iteration 485, loss = 0.00154539\n",
            "Iteration 486, loss = 0.00154379\n",
            "Iteration 487, loss = 0.00154290\n",
            "Iteration 488, loss = 0.00154208\n",
            "Iteration 489, loss = 0.00153868\n",
            "Iteration 490, loss = 0.00153716\n",
            "Iteration 491, loss = 0.00153583\n",
            "Iteration 492, loss = 0.00153650\n",
            "Iteration 493, loss = 0.00153189\n",
            "Iteration 494, loss = 0.00153107\n",
            "Iteration 495, loss = 0.00152652\n",
            "Iteration 496, loss = 0.00152841\n",
            "Iteration 497, loss = 0.00152400\n",
            "Iteration 498, loss = 0.00151744\n",
            "Iteration 499, loss = 0.00152252\n",
            "Iteration 500, loss = 0.00152201\n"
          ],
          "name": "stdout"
        },
        {
          "output_type": "stream",
          "text": [
            "/usr/local/lib/python3.7/dist-packages/sklearn/neural_network/_multilayer_perceptron.py:571: ConvergenceWarning: Stochastic Optimizer: Maximum iterations (500) reached and the optimization hasn't converged yet.\n",
            "  % self.max_iter, ConvergenceWarning)\n"
          ],
          "name": "stderr"
        },
        {
          "output_type": "stream",
          "text": [
            "Iteration 1, loss = 0.04995278\n",
            "Iteration 2, loss = 0.01049265\n",
            "Iteration 3, loss = 0.00641410\n",
            "Iteration 4, loss = 0.00533048\n",
            "Iteration 5, loss = 0.00472529\n",
            "Iteration 6, loss = 0.00430991\n",
            "Iteration 7, loss = 0.00404708\n",
            "Iteration 8, loss = 0.00388009\n",
            "Iteration 9, loss = 0.00375875\n",
            "Iteration 10, loss = 0.00366153\n",
            "Iteration 11, loss = 0.00358169\n",
            "Iteration 12, loss = 0.00351625\n",
            "Iteration 13, loss = 0.00346014\n",
            "Iteration 14, loss = 0.00340968\n",
            "Iteration 15, loss = 0.00336502\n",
            "Iteration 16, loss = 0.00332822\n",
            "Iteration 17, loss = 0.00329254\n",
            "Iteration 18, loss = 0.00326331\n",
            "Iteration 19, loss = 0.00323278\n",
            "Iteration 20, loss = 0.00320852\n",
            "Iteration 21, loss = 0.00318440\n",
            "Iteration 22, loss = 0.00316198\n",
            "Iteration 23, loss = 0.00314074\n",
            "Iteration 24, loss = 0.00312179\n",
            "Iteration 25, loss = 0.00310352\n",
            "Iteration 26, loss = 0.00308405\n",
            "Iteration 27, loss = 0.00306821\n",
            "Iteration 28, loss = 0.00305112\n",
            "Iteration 29, loss = 0.00303626\n",
            "Iteration 30, loss = 0.00302156\n",
            "Iteration 31, loss = 0.00300543\n",
            "Iteration 32, loss = 0.00299102\n",
            "Iteration 33, loss = 0.00297707\n",
            "Iteration 34, loss = 0.00296480\n",
            "Iteration 35, loss = 0.00295162\n",
            "Iteration 36, loss = 0.00294061\n",
            "Iteration 37, loss = 0.00292814\n",
            "Iteration 38, loss = 0.00291719\n",
            "Iteration 39, loss = 0.00290638\n"
          ],
          "name": "stdout"
        }
      ]
    },
    {
      "cell_type": "code",
      "metadata": {
        "id": "xKIgmpAo2bpy"
      },
      "source": [
        "scores.mean()"
      ],
      "execution_count": null,
      "outputs": []
    },
    {
      "cell_type": "code",
      "metadata": {
        "id": "9CObHkwe2NEz"
      },
      "source": [
        "accuracy_score(y_train, y_pred)"
      ],
      "execution_count": null,
      "outputs": []
    },
    {
      "cell_type": "code",
      "metadata": {
        "id": "V-7innmQ2d0F"
      },
      "source": [
        "rmse = sqrt(mean_squared_error(y_train, y_pred))\n",
        "rmse"
      ],
      "execution_count": null,
      "outputs": []
    },
    {
      "cell_type": "code",
      "metadata": {
        "id": "e7VLXhbi3XCI"
      },
      "source": [
        "fpr, tpr, _ = roc_curve(y_train, y_pred)\n",
        "roc_auc_scr =  roc_auc_score(y_train, y_pred)\n",
        "plt.plot(fpr,tpr,label=\"data, auc=\"+str(roc_auc_scr))\n",
        "plt.legend(loc=4)\n",
        "plt.show()"
      ],
      "execution_count": null,
      "outputs": []
    },
    {
      "cell_type": "code",
      "metadata": {
        "id": "ZW6DtnbJ4hw9"
      },
      "source": [
        "plot_Kfold_cross_validation_curves(X_train, y_train)"
      ],
      "execution_count": null,
      "outputs": []
    },
    {
      "cell_type": "markdown",
      "metadata": {
        "id": "Wnv9olx35m6Q"
      },
      "source": [
        "## Teste"
      ]
    },
    {
      "cell_type": "code",
      "metadata": {
        "id": "bB7rrxM241Yr"
      },
      "source": [
        "y_pred = clf.predict(X_test)"
      ],
      "execution_count": null,
      "outputs": []
    },
    {
      "cell_type": "code",
      "metadata": {
        "id": "RUVaLQc746WR"
      },
      "source": [
        " print(classification_report(y_test, y_pred))"
      ],
      "execution_count": null,
      "outputs": []
    },
    {
      "cell_type": "code",
      "metadata": {
        "id": "bDmSabqj4-YW"
      },
      "source": [
        "pd.crosstab(y_test, y_pred, rownames=['Real'],colnames=['Predito'],margins=True)"
      ],
      "execution_count": null,
      "outputs": []
    },
    {
      "cell_type": "code",
      "metadata": {
        "id": "bgp98eI55Cgl"
      },
      "source": [
        "scores = cross_val_score(clf, X_test, y_test, cv=5, scoring='accuracy')\r\n",
        "scores"
      ],
      "execution_count": null,
      "outputs": []
    },
    {
      "cell_type": "code",
      "metadata": {
        "id": "3duu5Rxy5F3a"
      },
      "source": [
        "scores.mean()"
      ],
      "execution_count": null,
      "outputs": []
    },
    {
      "cell_type": "code",
      "metadata": {
        "id": "KQYudM9b5H38"
      },
      "source": [
        "accuracy_score(y_test, y_pred)"
      ],
      "execution_count": null,
      "outputs": []
    },
    {
      "cell_type": "code",
      "metadata": {
        "id": "SRvKrjsK5ObE"
      },
      "source": [
        "rmse = sqrt(mean_squared_error(y_test, y_pred))\r\n",
        "rmse"
      ],
      "execution_count": null,
      "outputs": []
    },
    {
      "cell_type": "code",
      "metadata": {
        "id": "uCOF_vtk5RPb"
      },
      "source": [
        "fpr, tpr, _ = roc_curve(y_test, y_pred)\r\n",
        "roc_auc_scr =  roc_auc_score(y_test, y_pred)\r\n",
        "plt.plot(fpr,tpr,label=\"data, auc=\"+str(roc_auc_scr))\r\n",
        "plt.legend(loc=4)\r\n",
        "plt.show()"
      ],
      "execution_count": null,
      "outputs": []
    },
    {
      "cell_type": "code",
      "metadata": {
        "id": "NUMi0WOV5UAM"
      },
      "source": [
        "plot_Kfold_cross_validation_curves(X_test, y_test)"
      ],
      "execution_count": null,
      "outputs": []
    }
  ]
}