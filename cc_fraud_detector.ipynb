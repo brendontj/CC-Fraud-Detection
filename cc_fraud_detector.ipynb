{
  "nbformat": 4,
  "nbformat_minor": 0,
  "metadata": {
    "colab": {
      "name": "cc_fraud_detector.ipynb",
      "provenance": [],
      "collapsed_sections": [],
      "toc_visible": true,
      "include_colab_link": true
    },
    "kernelspec": {
      "name": "python3",
      "display_name": "Python 3"
    }
  },
  "cells": [
    {
      "cell_type": "markdown",
      "metadata": {
        "id": "view-in-github",
        "colab_type": "text"
      },
      "source": [
        "<a href=\"https://colab.research.google.com/github/brendontj/CC-Fraud-Detection/blob/master/cc_fraud_detector.ipynb\" target=\"_parent\"><img src=\"https://colab.research.google.com/assets/colab-badge.svg\" alt=\"Open In Colab\"/></a>"
      ]
    },
    {
      "cell_type": "code",
      "metadata": {
        "id": "yNc2f7lJTRQn"
      },
      "source": [
        "import pandas as pd\n",
        "import numpy as np\n",
        "import seaborn as sns\n",
        "import matplotlib.pyplot as plt\n",
        "\n",
        "from sklearn.model_selection import train_test_split, cross_val_score, StratifiedKFold\n",
        "from sklearn.feature_selection import mutual_info_classif, SelectKBest\n",
        "from sklearn.ensemble import RandomForestClassifier\n",
        "from sklearn.metrics import classification_report, roc_curve, roc_auc_score, mean_squared_error, accuracy_score, plot_roc_curve, auc\n",
        "from sklearn.neighbors import KNeighborsClassifier\n",
        "from math import sqrt"
      ],
      "execution_count": 49,
      "outputs": []
    },
    {
      "cell_type": "code",
      "metadata": {
        "colab": {
          "base_uri": "https://localhost:8080/",
          "height": 241
        },
        "id": "eZUVuwvxffVP",
        "outputId": "a4aed84d-3cbf-4c7d-dfef-9c219e03a461"
      },
      "source": [
        "data = pd.read_csv('creditcard.csv')\n",
        "print('Quantidade de linhas do dataset {}'.format(data.shape[0]))\n",
        "data.head()"
      ],
      "execution_count": 2,
      "outputs": [
        {
          "output_type": "stream",
          "text": [
            "Quantidade de linhas do dataset 23858\n"
          ],
          "name": "stdout"
        },
        {
          "output_type": "execute_result",
          "data": {
            "text/html": [
              "<div>\n",
              "<style scoped>\n",
              "    .dataframe tbody tr th:only-of-type {\n",
              "        vertical-align: middle;\n",
              "    }\n",
              "\n",
              "    .dataframe tbody tr th {\n",
              "        vertical-align: top;\n",
              "    }\n",
              "\n",
              "    .dataframe thead th {\n",
              "        text-align: right;\n",
              "    }\n",
              "</style>\n",
              "<table border=\"1\" class=\"dataframe\">\n",
              "  <thead>\n",
              "    <tr style=\"text-align: right;\">\n",
              "      <th></th>\n",
              "      <th>Time</th>\n",
              "      <th>V1</th>\n",
              "      <th>V2</th>\n",
              "      <th>V3</th>\n",
              "      <th>V4</th>\n",
              "      <th>V5</th>\n",
              "      <th>V6</th>\n",
              "      <th>V7</th>\n",
              "      <th>V8</th>\n",
              "      <th>V9</th>\n",
              "      <th>V10</th>\n",
              "      <th>V11</th>\n",
              "      <th>V12</th>\n",
              "      <th>V13</th>\n",
              "      <th>V14</th>\n",
              "      <th>V15</th>\n",
              "      <th>V16</th>\n",
              "      <th>V17</th>\n",
              "      <th>V18</th>\n",
              "      <th>V19</th>\n",
              "      <th>V20</th>\n",
              "      <th>V21</th>\n",
              "      <th>V22</th>\n",
              "      <th>V23</th>\n",
              "      <th>V24</th>\n",
              "      <th>V25</th>\n",
              "      <th>V26</th>\n",
              "      <th>V27</th>\n",
              "      <th>V28</th>\n",
              "      <th>Amount</th>\n",
              "      <th>Class</th>\n",
              "    </tr>\n",
              "  </thead>\n",
              "  <tbody>\n",
              "    <tr>\n",
              "      <th>0</th>\n",
              "      <td>0</td>\n",
              "      <td>-1.359807</td>\n",
              "      <td>-0.072781</td>\n",
              "      <td>2.536347</td>\n",
              "      <td>1.378155</td>\n",
              "      <td>-0.338321</td>\n",
              "      <td>0.462388</td>\n",
              "      <td>0.239599</td>\n",
              "      <td>0.098698</td>\n",
              "      <td>0.363787</td>\n",
              "      <td>0.090794</td>\n",
              "      <td>-0.551600</td>\n",
              "      <td>-0.617801</td>\n",
              "      <td>-0.991390</td>\n",
              "      <td>-0.311169</td>\n",
              "      <td>1.468177</td>\n",
              "      <td>-0.470401</td>\n",
              "      <td>0.207971</td>\n",
              "      <td>0.025791</td>\n",
              "      <td>0.403993</td>\n",
              "      <td>0.251412</td>\n",
              "      <td>-0.018307</td>\n",
              "      <td>0.277838</td>\n",
              "      <td>-0.110474</td>\n",
              "      <td>0.066928</td>\n",
              "      <td>0.128539</td>\n",
              "      <td>-0.189115</td>\n",
              "      <td>0.133558</td>\n",
              "      <td>-0.021053</td>\n",
              "      <td>149.62</td>\n",
              "      <td>0.0</td>\n",
              "    </tr>\n",
              "    <tr>\n",
              "      <th>1</th>\n",
              "      <td>0</td>\n",
              "      <td>1.191857</td>\n",
              "      <td>0.266151</td>\n",
              "      <td>0.166480</td>\n",
              "      <td>0.448154</td>\n",
              "      <td>0.060018</td>\n",
              "      <td>-0.082361</td>\n",
              "      <td>-0.078803</td>\n",
              "      <td>0.085102</td>\n",
              "      <td>-0.255425</td>\n",
              "      <td>-0.166974</td>\n",
              "      <td>1.612727</td>\n",
              "      <td>1.065235</td>\n",
              "      <td>0.489095</td>\n",
              "      <td>-0.143772</td>\n",
              "      <td>0.635558</td>\n",
              "      <td>0.463917</td>\n",
              "      <td>-0.114805</td>\n",
              "      <td>-0.183361</td>\n",
              "      <td>-0.145783</td>\n",
              "      <td>-0.069083</td>\n",
              "      <td>-0.225775</td>\n",
              "      <td>-0.638672</td>\n",
              "      <td>0.101288</td>\n",
              "      <td>-0.339846</td>\n",
              "      <td>0.167170</td>\n",
              "      <td>0.125895</td>\n",
              "      <td>-0.008983</td>\n",
              "      <td>0.014724</td>\n",
              "      <td>2.69</td>\n",
              "      <td>0.0</td>\n",
              "    </tr>\n",
              "    <tr>\n",
              "      <th>2</th>\n",
              "      <td>1</td>\n",
              "      <td>-1.358354</td>\n",
              "      <td>-1.340163</td>\n",
              "      <td>1.773209</td>\n",
              "      <td>0.379780</td>\n",
              "      <td>-0.503198</td>\n",
              "      <td>1.800499</td>\n",
              "      <td>0.791461</td>\n",
              "      <td>0.247676</td>\n",
              "      <td>-1.514654</td>\n",
              "      <td>0.207643</td>\n",
              "      <td>0.624501</td>\n",
              "      <td>0.066084</td>\n",
              "      <td>0.717293</td>\n",
              "      <td>-0.165946</td>\n",
              "      <td>2.345865</td>\n",
              "      <td>-2.890083</td>\n",
              "      <td>1.109969</td>\n",
              "      <td>-0.121359</td>\n",
              "      <td>-2.261857</td>\n",
              "      <td>0.524980</td>\n",
              "      <td>0.247998</td>\n",
              "      <td>0.771679</td>\n",
              "      <td>0.909412</td>\n",
              "      <td>-0.689281</td>\n",
              "      <td>-0.327642</td>\n",
              "      <td>-0.139097</td>\n",
              "      <td>-0.055353</td>\n",
              "      <td>-0.059752</td>\n",
              "      <td>378.66</td>\n",
              "      <td>0.0</td>\n",
              "    </tr>\n",
              "    <tr>\n",
              "      <th>3</th>\n",
              "      <td>1</td>\n",
              "      <td>-0.966272</td>\n",
              "      <td>-0.185226</td>\n",
              "      <td>1.792993</td>\n",
              "      <td>-0.863291</td>\n",
              "      <td>-0.010309</td>\n",
              "      <td>1.247203</td>\n",
              "      <td>0.237609</td>\n",
              "      <td>0.377436</td>\n",
              "      <td>-1.387024</td>\n",
              "      <td>-0.054952</td>\n",
              "      <td>-0.226487</td>\n",
              "      <td>0.178228</td>\n",
              "      <td>0.507757</td>\n",
              "      <td>-0.287924</td>\n",
              "      <td>-0.631418</td>\n",
              "      <td>-1.059647</td>\n",
              "      <td>-0.684093</td>\n",
              "      <td>1.965775</td>\n",
              "      <td>-1.232622</td>\n",
              "      <td>-0.208038</td>\n",
              "      <td>-0.108300</td>\n",
              "      <td>0.005274</td>\n",
              "      <td>-0.190321</td>\n",
              "      <td>-1.175575</td>\n",
              "      <td>0.647376</td>\n",
              "      <td>-0.221929</td>\n",
              "      <td>0.062723</td>\n",
              "      <td>0.061458</td>\n",
              "      <td>123.50</td>\n",
              "      <td>0.0</td>\n",
              "    </tr>\n",
              "    <tr>\n",
              "      <th>4</th>\n",
              "      <td>2</td>\n",
              "      <td>-1.158233</td>\n",
              "      <td>0.877737</td>\n",
              "      <td>1.548718</td>\n",
              "      <td>0.403034</td>\n",
              "      <td>-0.407193</td>\n",
              "      <td>0.095921</td>\n",
              "      <td>0.592941</td>\n",
              "      <td>-0.270533</td>\n",
              "      <td>0.817739</td>\n",
              "      <td>0.753074</td>\n",
              "      <td>-0.822843</td>\n",
              "      <td>0.538196</td>\n",
              "      <td>1.345852</td>\n",
              "      <td>-1.119670</td>\n",
              "      <td>0.175121</td>\n",
              "      <td>-0.451449</td>\n",
              "      <td>-0.237033</td>\n",
              "      <td>-0.038195</td>\n",
              "      <td>0.803487</td>\n",
              "      <td>0.408542</td>\n",
              "      <td>-0.009431</td>\n",
              "      <td>0.798278</td>\n",
              "      <td>-0.137458</td>\n",
              "      <td>0.141267</td>\n",
              "      <td>-0.206010</td>\n",
              "      <td>0.502292</td>\n",
              "      <td>0.219422</td>\n",
              "      <td>0.215153</td>\n",
              "      <td>69.99</td>\n",
              "      <td>0.0</td>\n",
              "    </tr>\n",
              "  </tbody>\n",
              "</table>\n",
              "</div>"
            ],
            "text/plain": [
              "   Time        V1        V2        V3  ...       V27       V28  Amount  Class\n",
              "0     0 -1.359807 -0.072781  2.536347  ...  0.133558 -0.021053  149.62    0.0\n",
              "1     0  1.191857  0.266151  0.166480  ... -0.008983  0.014724    2.69    0.0\n",
              "2     1 -1.358354 -1.340163  1.773209  ... -0.055353 -0.059752  378.66    0.0\n",
              "3     1 -0.966272 -0.185226  1.792993  ...  0.062723  0.061458  123.50    0.0\n",
              "4     2 -1.158233  0.877737  1.548718  ...  0.219422  0.215153   69.99    0.0\n",
              "\n",
              "[5 rows x 31 columns]"
            ]
          },
          "metadata": {
            "tags": []
          },
          "execution_count": 2
        }
      ]
    },
    {
      "cell_type": "code",
      "metadata": {
        "colab": {
          "base_uri": "https://localhost:8080/",
          "height": 241
        },
        "id": "CfTeMAhsg_MW",
        "outputId": "6c39fe04-ce02-465d-da9c-6c5c0479a47b"
      },
      "source": [
        "df = data.dropna()\n",
        "df = df.drop(columns=\"Time\") # Removing column time, because is not relevant\n",
        "df['ID']= np.arange(1,len(df.Class)+1)\n",
        "print('Quantidade de linhas do dataset sem valor Null/NaN/NaT {}'.format(df.shape[0]))\n",
        "df.head()"
      ],
      "execution_count": 3,
      "outputs": [
        {
          "output_type": "stream",
          "text": [
            "Quantidade de linhas do dataset sem valor Null/NaN/NaT 23857\n"
          ],
          "name": "stdout"
        },
        {
          "output_type": "execute_result",
          "data": {
            "text/html": [
              "<div>\n",
              "<style scoped>\n",
              "    .dataframe tbody tr th:only-of-type {\n",
              "        vertical-align: middle;\n",
              "    }\n",
              "\n",
              "    .dataframe tbody tr th {\n",
              "        vertical-align: top;\n",
              "    }\n",
              "\n",
              "    .dataframe thead th {\n",
              "        text-align: right;\n",
              "    }\n",
              "</style>\n",
              "<table border=\"1\" class=\"dataframe\">\n",
              "  <thead>\n",
              "    <tr style=\"text-align: right;\">\n",
              "      <th></th>\n",
              "      <th>V1</th>\n",
              "      <th>V2</th>\n",
              "      <th>V3</th>\n",
              "      <th>V4</th>\n",
              "      <th>V5</th>\n",
              "      <th>V6</th>\n",
              "      <th>V7</th>\n",
              "      <th>V8</th>\n",
              "      <th>V9</th>\n",
              "      <th>V10</th>\n",
              "      <th>V11</th>\n",
              "      <th>V12</th>\n",
              "      <th>V13</th>\n",
              "      <th>V14</th>\n",
              "      <th>V15</th>\n",
              "      <th>V16</th>\n",
              "      <th>V17</th>\n",
              "      <th>V18</th>\n",
              "      <th>V19</th>\n",
              "      <th>V20</th>\n",
              "      <th>V21</th>\n",
              "      <th>V22</th>\n",
              "      <th>V23</th>\n",
              "      <th>V24</th>\n",
              "      <th>V25</th>\n",
              "      <th>V26</th>\n",
              "      <th>V27</th>\n",
              "      <th>V28</th>\n",
              "      <th>Amount</th>\n",
              "      <th>Class</th>\n",
              "      <th>ID</th>\n",
              "    </tr>\n",
              "  </thead>\n",
              "  <tbody>\n",
              "    <tr>\n",
              "      <th>0</th>\n",
              "      <td>-1.359807</td>\n",
              "      <td>-0.072781</td>\n",
              "      <td>2.536347</td>\n",
              "      <td>1.378155</td>\n",
              "      <td>-0.338321</td>\n",
              "      <td>0.462388</td>\n",
              "      <td>0.239599</td>\n",
              "      <td>0.098698</td>\n",
              "      <td>0.363787</td>\n",
              "      <td>0.090794</td>\n",
              "      <td>-0.551600</td>\n",
              "      <td>-0.617801</td>\n",
              "      <td>-0.991390</td>\n",
              "      <td>-0.311169</td>\n",
              "      <td>1.468177</td>\n",
              "      <td>-0.470401</td>\n",
              "      <td>0.207971</td>\n",
              "      <td>0.025791</td>\n",
              "      <td>0.403993</td>\n",
              "      <td>0.251412</td>\n",
              "      <td>-0.018307</td>\n",
              "      <td>0.277838</td>\n",
              "      <td>-0.110474</td>\n",
              "      <td>0.066928</td>\n",
              "      <td>0.128539</td>\n",
              "      <td>-0.189115</td>\n",
              "      <td>0.133558</td>\n",
              "      <td>-0.021053</td>\n",
              "      <td>149.62</td>\n",
              "      <td>0.0</td>\n",
              "      <td>1</td>\n",
              "    </tr>\n",
              "    <tr>\n",
              "      <th>1</th>\n",
              "      <td>1.191857</td>\n",
              "      <td>0.266151</td>\n",
              "      <td>0.166480</td>\n",
              "      <td>0.448154</td>\n",
              "      <td>0.060018</td>\n",
              "      <td>-0.082361</td>\n",
              "      <td>-0.078803</td>\n",
              "      <td>0.085102</td>\n",
              "      <td>-0.255425</td>\n",
              "      <td>-0.166974</td>\n",
              "      <td>1.612727</td>\n",
              "      <td>1.065235</td>\n",
              "      <td>0.489095</td>\n",
              "      <td>-0.143772</td>\n",
              "      <td>0.635558</td>\n",
              "      <td>0.463917</td>\n",
              "      <td>-0.114805</td>\n",
              "      <td>-0.183361</td>\n",
              "      <td>-0.145783</td>\n",
              "      <td>-0.069083</td>\n",
              "      <td>-0.225775</td>\n",
              "      <td>-0.638672</td>\n",
              "      <td>0.101288</td>\n",
              "      <td>-0.339846</td>\n",
              "      <td>0.167170</td>\n",
              "      <td>0.125895</td>\n",
              "      <td>-0.008983</td>\n",
              "      <td>0.014724</td>\n",
              "      <td>2.69</td>\n",
              "      <td>0.0</td>\n",
              "      <td>2</td>\n",
              "    </tr>\n",
              "    <tr>\n",
              "      <th>2</th>\n",
              "      <td>-1.358354</td>\n",
              "      <td>-1.340163</td>\n",
              "      <td>1.773209</td>\n",
              "      <td>0.379780</td>\n",
              "      <td>-0.503198</td>\n",
              "      <td>1.800499</td>\n",
              "      <td>0.791461</td>\n",
              "      <td>0.247676</td>\n",
              "      <td>-1.514654</td>\n",
              "      <td>0.207643</td>\n",
              "      <td>0.624501</td>\n",
              "      <td>0.066084</td>\n",
              "      <td>0.717293</td>\n",
              "      <td>-0.165946</td>\n",
              "      <td>2.345865</td>\n",
              "      <td>-2.890083</td>\n",
              "      <td>1.109969</td>\n",
              "      <td>-0.121359</td>\n",
              "      <td>-2.261857</td>\n",
              "      <td>0.524980</td>\n",
              "      <td>0.247998</td>\n",
              "      <td>0.771679</td>\n",
              "      <td>0.909412</td>\n",
              "      <td>-0.689281</td>\n",
              "      <td>-0.327642</td>\n",
              "      <td>-0.139097</td>\n",
              "      <td>-0.055353</td>\n",
              "      <td>-0.059752</td>\n",
              "      <td>378.66</td>\n",
              "      <td>0.0</td>\n",
              "      <td>3</td>\n",
              "    </tr>\n",
              "    <tr>\n",
              "      <th>3</th>\n",
              "      <td>-0.966272</td>\n",
              "      <td>-0.185226</td>\n",
              "      <td>1.792993</td>\n",
              "      <td>-0.863291</td>\n",
              "      <td>-0.010309</td>\n",
              "      <td>1.247203</td>\n",
              "      <td>0.237609</td>\n",
              "      <td>0.377436</td>\n",
              "      <td>-1.387024</td>\n",
              "      <td>-0.054952</td>\n",
              "      <td>-0.226487</td>\n",
              "      <td>0.178228</td>\n",
              "      <td>0.507757</td>\n",
              "      <td>-0.287924</td>\n",
              "      <td>-0.631418</td>\n",
              "      <td>-1.059647</td>\n",
              "      <td>-0.684093</td>\n",
              "      <td>1.965775</td>\n",
              "      <td>-1.232622</td>\n",
              "      <td>-0.208038</td>\n",
              "      <td>-0.108300</td>\n",
              "      <td>0.005274</td>\n",
              "      <td>-0.190321</td>\n",
              "      <td>-1.175575</td>\n",
              "      <td>0.647376</td>\n",
              "      <td>-0.221929</td>\n",
              "      <td>0.062723</td>\n",
              "      <td>0.061458</td>\n",
              "      <td>123.50</td>\n",
              "      <td>0.0</td>\n",
              "      <td>4</td>\n",
              "    </tr>\n",
              "    <tr>\n",
              "      <th>4</th>\n",
              "      <td>-1.158233</td>\n",
              "      <td>0.877737</td>\n",
              "      <td>1.548718</td>\n",
              "      <td>0.403034</td>\n",
              "      <td>-0.407193</td>\n",
              "      <td>0.095921</td>\n",
              "      <td>0.592941</td>\n",
              "      <td>-0.270533</td>\n",
              "      <td>0.817739</td>\n",
              "      <td>0.753074</td>\n",
              "      <td>-0.822843</td>\n",
              "      <td>0.538196</td>\n",
              "      <td>1.345852</td>\n",
              "      <td>-1.119670</td>\n",
              "      <td>0.175121</td>\n",
              "      <td>-0.451449</td>\n",
              "      <td>-0.237033</td>\n",
              "      <td>-0.038195</td>\n",
              "      <td>0.803487</td>\n",
              "      <td>0.408542</td>\n",
              "      <td>-0.009431</td>\n",
              "      <td>0.798278</td>\n",
              "      <td>-0.137458</td>\n",
              "      <td>0.141267</td>\n",
              "      <td>-0.206010</td>\n",
              "      <td>0.502292</td>\n",
              "      <td>0.219422</td>\n",
              "      <td>0.215153</td>\n",
              "      <td>69.99</td>\n",
              "      <td>0.0</td>\n",
              "      <td>5</td>\n",
              "    </tr>\n",
              "  </tbody>\n",
              "</table>\n",
              "</div>"
            ],
            "text/plain": [
              "         V1        V2        V3        V4  ...       V28  Amount  Class  ID\n",
              "0 -1.359807 -0.072781  2.536347  1.378155  ... -0.021053  149.62    0.0   1\n",
              "1  1.191857  0.266151  0.166480  0.448154  ...  0.014724    2.69    0.0   2\n",
              "2 -1.358354 -1.340163  1.773209  0.379780  ... -0.059752  378.66    0.0   3\n",
              "3 -0.966272 -0.185226  1.792993 -0.863291  ...  0.061458  123.50    0.0   4\n",
              "4 -1.158233  0.877737  1.548718  0.403034  ...  0.215153   69.99    0.0   5\n",
              "\n",
              "[5 rows x 31 columns]"
            ]
          },
          "metadata": {
            "tags": []
          },
          "execution_count": 3
        }
      ]
    },
    {
      "cell_type": "code",
      "metadata": {
        "colab": {
          "base_uri": "https://localhost:8080/"
        },
        "id": "GcqF7KN6igzQ",
        "outputId": "77d76c48-3639-4a4c-b760-884bb092a0fe"
      },
      "source": [
        "x_train,  x_test, y_train, y_test = train_test_split(df.drop(['ID', 'Class'], axis=1), df['Class'], test_size=0.20, random_state = 0)\n",
        "print('Dados de treino {}\\n'.format(x_train.shape))\n",
        "print('Dados de teste  {}\\n'.format(x_test.shape))"
      ],
      "execution_count": 4,
      "outputs": [
        {
          "output_type": "stream",
          "text": [
            "Dados de treino (19085, 29)\n",
            "\n",
            "Dados de teste  (4772, 29)\n",
            "\n"
          ],
          "name": "stdout"
        }
      ]
    },
    {
      "cell_type": "code",
      "metadata": {
        "id": "OLscTbRRBcLL"
      },
      "source": [
        "df_train = x_train.copy()\n",
        "df_train['Class'] = y_train\n",
        "df_test = x_test.copy()\n",
        "df_test['Class'] = y_test"
      ],
      "execution_count": 5,
      "outputs": []
    },
    {
      "cell_type": "code",
      "metadata": {
        "colab": {
          "base_uri": "https://localhost:8080/",
          "height": 317
        },
        "id": "1gaKurr2lN-V",
        "outputId": "9250433e-af61-4aef-f115-055b8622c9dd"
      },
      "source": [
        "df_train.describe()"
      ],
      "execution_count": 6,
      "outputs": [
        {
          "output_type": "execute_result",
          "data": {
            "text/html": [
              "<div>\n",
              "<style scoped>\n",
              "    .dataframe tbody tr th:only-of-type {\n",
              "        vertical-align: middle;\n",
              "    }\n",
              "\n",
              "    .dataframe tbody tr th {\n",
              "        vertical-align: top;\n",
              "    }\n",
              "\n",
              "    .dataframe thead th {\n",
              "        text-align: right;\n",
              "    }\n",
              "</style>\n",
              "<table border=\"1\" class=\"dataframe\">\n",
              "  <thead>\n",
              "    <tr style=\"text-align: right;\">\n",
              "      <th></th>\n",
              "      <th>V1</th>\n",
              "      <th>V2</th>\n",
              "      <th>V3</th>\n",
              "      <th>V4</th>\n",
              "      <th>V5</th>\n",
              "      <th>V6</th>\n",
              "      <th>V7</th>\n",
              "      <th>V8</th>\n",
              "      <th>V9</th>\n",
              "      <th>V10</th>\n",
              "      <th>V11</th>\n",
              "      <th>V12</th>\n",
              "      <th>V13</th>\n",
              "      <th>V14</th>\n",
              "      <th>V15</th>\n",
              "      <th>V16</th>\n",
              "      <th>V17</th>\n",
              "      <th>V18</th>\n",
              "      <th>V19</th>\n",
              "      <th>V20</th>\n",
              "      <th>V21</th>\n",
              "      <th>V22</th>\n",
              "      <th>V23</th>\n",
              "      <th>V24</th>\n",
              "      <th>V25</th>\n",
              "      <th>V26</th>\n",
              "      <th>V27</th>\n",
              "      <th>V28</th>\n",
              "      <th>Amount</th>\n",
              "      <th>Class</th>\n",
              "    </tr>\n",
              "  </thead>\n",
              "  <tbody>\n",
              "    <tr>\n",
              "      <th>count</th>\n",
              "      <td>19085.000000</td>\n",
              "      <td>19085.000000</td>\n",
              "      <td>19085.000000</td>\n",
              "      <td>19085.000000</td>\n",
              "      <td>19085.000000</td>\n",
              "      <td>19085.000000</td>\n",
              "      <td>19085.000000</td>\n",
              "      <td>19085.000000</td>\n",
              "      <td>19085.000000</td>\n",
              "      <td>19085.000000</td>\n",
              "      <td>19085.000000</td>\n",
              "      <td>19085.000000</td>\n",
              "      <td>19085.000000</td>\n",
              "      <td>19085.000000</td>\n",
              "      <td>19085.000000</td>\n",
              "      <td>19085.000000</td>\n",
              "      <td>19085.000000</td>\n",
              "      <td>19085.000000</td>\n",
              "      <td>19085.000000</td>\n",
              "      <td>19085.000000</td>\n",
              "      <td>19085.000000</td>\n",
              "      <td>19085.000000</td>\n",
              "      <td>19085.000000</td>\n",
              "      <td>19085.000000</td>\n",
              "      <td>19085.000000</td>\n",
              "      <td>19085.000000</td>\n",
              "      <td>19085.000000</td>\n",
              "      <td>19085.000000</td>\n",
              "      <td>19085.000000</td>\n",
              "      <td>19085.000000</td>\n",
              "    </tr>\n",
              "    <tr>\n",
              "      <th>mean</th>\n",
              "      <td>-0.236772</td>\n",
              "      <td>0.198382</td>\n",
              "      <td>0.726499</td>\n",
              "      <td>0.239917</td>\n",
              "      <td>-0.188034</td>\n",
              "      <td>0.079633</td>\n",
              "      <td>-0.130309</td>\n",
              "      <td>0.015287</td>\n",
              "      <td>0.497788</td>\n",
              "      <td>-0.165021</td>\n",
              "      <td>0.597453</td>\n",
              "      <td>-0.877309</td>\n",
              "      <td>0.532985</td>\n",
              "      <td>0.444761</td>\n",
              "      <td>0.013757</td>\n",
              "      <td>0.001147</td>\n",
              "      <td>0.251971</td>\n",
              "      <td>-0.057363</td>\n",
              "      <td>-0.053124</td>\n",
              "      <td>0.040892</td>\n",
              "      <td>-0.044070</td>\n",
              "      <td>-0.140559</td>\n",
              "      <td>-0.038644</td>\n",
              "      <td>0.015030</td>\n",
              "      <td>0.127107</td>\n",
              "      <td>0.027766</td>\n",
              "      <td>0.014103</td>\n",
              "      <td>0.003428</td>\n",
              "      <td>73.909619</td>\n",
              "      <td>0.003563</td>\n",
              "    </tr>\n",
              "    <tr>\n",
              "      <th>std</th>\n",
              "      <td>1.895541</td>\n",
              "      <td>1.540977</td>\n",
              "      <td>1.711270</td>\n",
              "      <td>1.439334</td>\n",
              "      <td>1.455422</td>\n",
              "      <td>1.339294</td>\n",
              "      <td>1.349176</td>\n",
              "      <td>1.403008</td>\n",
              "      <td>1.271955</td>\n",
              "      <td>1.194679</td>\n",
              "      <td>1.175176</td>\n",
              "      <td>1.535478</td>\n",
              "      <td>1.199786</td>\n",
              "      <td>1.287788</td>\n",
              "      <td>0.964141</td>\n",
              "      <td>0.948546</td>\n",
              "      <td>1.172971</td>\n",
              "      <td>0.850662</td>\n",
              "      <td>0.811300</td>\n",
              "      <td>0.653393</td>\n",
              "      <td>0.844311</td>\n",
              "      <td>0.647233</td>\n",
              "      <td>0.546102</td>\n",
              "      <td>0.585942</td>\n",
              "      <td>0.436505</td>\n",
              "      <td>0.521057</td>\n",
              "      <td>0.403077</td>\n",
              "      <td>0.264091</td>\n",
              "      <td>217.257371</td>\n",
              "      <td>0.059586</td>\n",
              "    </tr>\n",
              "    <tr>\n",
              "      <th>min</th>\n",
              "      <td>-30.552380</td>\n",
              "      <td>-40.978852</td>\n",
              "      <td>-31.103685</td>\n",
              "      <td>-5.172595</td>\n",
              "      <td>-42.147898</td>\n",
              "      <td>-23.496714</td>\n",
              "      <td>-26.548144</td>\n",
              "      <td>-41.484823</td>\n",
              "      <td>-7.175097</td>\n",
              "      <td>-14.166795</td>\n",
              "      <td>-2.767470</td>\n",
              "      <td>-17.631606</td>\n",
              "      <td>-3.588761</td>\n",
              "      <td>-18.822087</td>\n",
              "      <td>-3.875765</td>\n",
              "      <td>-12.227189</td>\n",
              "      <td>-18.587366</td>\n",
              "      <td>-8.061208</td>\n",
              "      <td>-4.932733</td>\n",
              "      <td>-13.694584</td>\n",
              "      <td>-20.262054</td>\n",
              "      <td>-8.593642</td>\n",
              "      <td>-26.751119</td>\n",
              "      <td>-2.836627</td>\n",
              "      <td>-7.495741</td>\n",
              "      <td>-1.338556</td>\n",
              "      <td>-8.567638</td>\n",
              "      <td>-9.617915</td>\n",
              "      <td>0.000000</td>\n",
              "      <td>0.000000</td>\n",
              "    </tr>\n",
              "    <tr>\n",
              "      <th>25%</th>\n",
              "      <td>-0.960634</td>\n",
              "      <td>-0.381711</td>\n",
              "      <td>0.289253</td>\n",
              "      <td>-0.666421</td>\n",
              "      <td>-0.770681</td>\n",
              "      <td>-0.667905</td>\n",
              "      <td>-0.592600</td>\n",
              "      <td>-0.168153</td>\n",
              "      <td>-0.330014</td>\n",
              "      <td>-0.637077</td>\n",
              "      <td>-0.232257</td>\n",
              "      <td>-2.069387</td>\n",
              "      <td>-0.301502</td>\n",
              "      <td>-0.148169</td>\n",
              "      <td>-0.544873</td>\n",
              "      <td>-0.484661</td>\n",
              "      <td>-0.253007</td>\n",
              "      <td>-0.523257</td>\n",
              "      <td>-0.541910</td>\n",
              "      <td>-0.157963</td>\n",
              "      <td>-0.255861</td>\n",
              "      <td>-0.566933</td>\n",
              "      <td>-0.173207</td>\n",
              "      <td>-0.325527</td>\n",
              "      <td>-0.136217</td>\n",
              "      <td>-0.338633</td>\n",
              "      <td>-0.066346</td>\n",
              "      <td>-0.009699</td>\n",
              "      <td>5.990000</td>\n",
              "      <td>0.000000</td>\n",
              "    </tr>\n",
              "    <tr>\n",
              "      <th>50%</th>\n",
              "      <td>-0.286741</td>\n",
              "      <td>0.191124</td>\n",
              "      <td>0.874180</td>\n",
              "      <td>0.213919</td>\n",
              "      <td>-0.220605</td>\n",
              "      <td>-0.184323</td>\n",
              "      <td>-0.066333</td>\n",
              "      <td>0.026670</td>\n",
              "      <td>0.423484</td>\n",
              "      <td>-0.218745</td>\n",
              "      <td>0.576382</td>\n",
              "      <td>-0.572361</td>\n",
              "      <td>0.486708</td>\n",
              "      <td>0.423255</td>\n",
              "      <td>0.144244</td>\n",
              "      <td>0.065916</td>\n",
              "      <td>0.212266</td>\n",
              "      <td>-0.035591</td>\n",
              "      <td>-0.055549</td>\n",
              "      <td>-0.026094</td>\n",
              "      <td>-0.107095</td>\n",
              "      <td>-0.113489</td>\n",
              "      <td>-0.048366</td>\n",
              "      <td>0.065368</td>\n",
              "      <td>0.165206</td>\n",
              "      <td>-0.046154</td>\n",
              "      <td>0.006596</td>\n",
              "      <td>0.019929</td>\n",
              "      <td>18.000000</td>\n",
              "      <td>0.000000</td>\n",
              "    </tr>\n",
              "    <tr>\n",
              "      <th>75%</th>\n",
              "      <td>1.165972</td>\n",
              "      <td>0.843582</td>\n",
              "      <td>1.506235</td>\n",
              "      <td>1.117499</td>\n",
              "      <td>0.325554</td>\n",
              "      <td>0.467060</td>\n",
              "      <td>0.452101</td>\n",
              "      <td>0.280656</td>\n",
              "      <td>1.260377</td>\n",
              "      <td>0.274353</td>\n",
              "      <td>1.367061</td>\n",
              "      <td>0.310342</td>\n",
              "      <td>1.424268</td>\n",
              "      <td>1.297493</td>\n",
              "      <td>0.691338</td>\n",
              "      <td>0.555747</td>\n",
              "      <td>0.712864</td>\n",
              "      <td>0.441016</td>\n",
              "      <td>0.455801</td>\n",
              "      <td>0.156880</td>\n",
              "      <td>0.065076</td>\n",
              "      <td>0.269320</td>\n",
              "      <td>0.075171</td>\n",
              "      <td>0.400936</td>\n",
              "      <td>0.407601</td>\n",
              "      <td>0.316337</td>\n",
              "      <td>0.096208</td>\n",
              "      <td>0.077180</td>\n",
              "      <td>65.850000</td>\n",
              "      <td>0.000000</td>\n",
              "    </tr>\n",
              "    <tr>\n",
              "      <th>max</th>\n",
              "      <td>1.960497</td>\n",
              "      <td>16.713389</td>\n",
              "      <td>4.101716</td>\n",
              "      <td>11.927512</td>\n",
              "      <td>34.099309</td>\n",
              "      <td>22.529298</td>\n",
              "      <td>36.677268</td>\n",
              "      <td>20.007208</td>\n",
              "      <td>10.392889</td>\n",
              "      <td>12.701539</td>\n",
              "      <td>11.669205</td>\n",
              "      <td>4.846452</td>\n",
              "      <td>4.465413</td>\n",
              "      <td>7.692209</td>\n",
              "      <td>3.635042</td>\n",
              "      <td>6.098529</td>\n",
              "      <td>9.253526</td>\n",
              "      <td>4.295648</td>\n",
              "      <td>4.555359</td>\n",
              "      <td>15.815051</td>\n",
              "      <td>22.614889</td>\n",
              "      <td>5.805795</td>\n",
              "      <td>13.876221</td>\n",
              "      <td>3.695503</td>\n",
              "      <td>5.525093</td>\n",
              "      <td>3.517346</td>\n",
              "      <td>11.135740</td>\n",
              "      <td>4.783772</td>\n",
              "      <td>7879.420000</td>\n",
              "      <td>1.000000</td>\n",
              "    </tr>\n",
              "  </tbody>\n",
              "</table>\n",
              "</div>"
            ],
            "text/plain": [
              "                 V1            V2  ...        Amount         Class\n",
              "count  19085.000000  19085.000000  ...  19085.000000  19085.000000\n",
              "mean      -0.236772      0.198382  ...     73.909619      0.003563\n",
              "std        1.895541      1.540977  ...    217.257371      0.059586\n",
              "min      -30.552380    -40.978852  ...      0.000000      0.000000\n",
              "25%       -0.960634     -0.381711  ...      5.990000      0.000000\n",
              "50%       -0.286741      0.191124  ...     18.000000      0.000000\n",
              "75%        1.165972      0.843582  ...     65.850000      0.000000\n",
              "max        1.960497     16.713389  ...   7879.420000      1.000000\n",
              "\n",
              "[8 rows x 30 columns]"
            ]
          },
          "metadata": {
            "tags": []
          },
          "execution_count": 6
        }
      ]
    },
    {
      "cell_type": "code",
      "metadata": {
        "colab": {
          "base_uri": "https://localhost:8080/",
          "height": 317
        },
        "id": "1VR9euGZlQgg",
        "outputId": "c0e55249-9887-44b3-f6a5-2dea64e8277b"
      },
      "source": [
        "df_test.describe()"
      ],
      "execution_count": 7,
      "outputs": [
        {
          "output_type": "execute_result",
          "data": {
            "text/html": [
              "<div>\n",
              "<style scoped>\n",
              "    .dataframe tbody tr th:only-of-type {\n",
              "        vertical-align: middle;\n",
              "    }\n",
              "\n",
              "    .dataframe tbody tr th {\n",
              "        vertical-align: top;\n",
              "    }\n",
              "\n",
              "    .dataframe thead th {\n",
              "        text-align: right;\n",
              "    }\n",
              "</style>\n",
              "<table border=\"1\" class=\"dataframe\">\n",
              "  <thead>\n",
              "    <tr style=\"text-align: right;\">\n",
              "      <th></th>\n",
              "      <th>V1</th>\n",
              "      <th>V2</th>\n",
              "      <th>V3</th>\n",
              "      <th>V4</th>\n",
              "      <th>V5</th>\n",
              "      <th>V6</th>\n",
              "      <th>V7</th>\n",
              "      <th>V8</th>\n",
              "      <th>V9</th>\n",
              "      <th>V10</th>\n",
              "      <th>V11</th>\n",
              "      <th>V12</th>\n",
              "      <th>V13</th>\n",
              "      <th>V14</th>\n",
              "      <th>V15</th>\n",
              "      <th>V16</th>\n",
              "      <th>V17</th>\n",
              "      <th>V18</th>\n",
              "      <th>V19</th>\n",
              "      <th>V20</th>\n",
              "      <th>V21</th>\n",
              "      <th>V22</th>\n",
              "      <th>V23</th>\n",
              "      <th>V24</th>\n",
              "      <th>V25</th>\n",
              "      <th>V26</th>\n",
              "      <th>V27</th>\n",
              "      <th>V28</th>\n",
              "      <th>Amount</th>\n",
              "      <th>Class</th>\n",
              "    </tr>\n",
              "  </thead>\n",
              "  <tbody>\n",
              "    <tr>\n",
              "      <th>count</th>\n",
              "      <td>4772.000000</td>\n",
              "      <td>4772.000000</td>\n",
              "      <td>4772.000000</td>\n",
              "      <td>4772.000000</td>\n",
              "      <td>4772.000000</td>\n",
              "      <td>4772.000000</td>\n",
              "      <td>4772.000000</td>\n",
              "      <td>4772.000000</td>\n",
              "      <td>4772.000000</td>\n",
              "      <td>4772.000000</td>\n",
              "      <td>4772.000000</td>\n",
              "      <td>4772.000000</td>\n",
              "      <td>4772.000000</td>\n",
              "      <td>4772.000000</td>\n",
              "      <td>4772.000000</td>\n",
              "      <td>4772.000000</td>\n",
              "      <td>4772.000000</td>\n",
              "      <td>4772.000000</td>\n",
              "      <td>4772.000000</td>\n",
              "      <td>4772.000000</td>\n",
              "      <td>4772.000000</td>\n",
              "      <td>4772.000000</td>\n",
              "      <td>4772.000000</td>\n",
              "      <td>4772.000000</td>\n",
              "      <td>4772.000000</td>\n",
              "      <td>4772.000000</td>\n",
              "      <td>4772.000000</td>\n",
              "      <td>4772.000000</td>\n",
              "      <td>4772.000000</td>\n",
              "      <td>4772.000000</td>\n",
              "    </tr>\n",
              "    <tr>\n",
              "      <th>mean</th>\n",
              "      <td>-0.248609</td>\n",
              "      <td>0.200738</td>\n",
              "      <td>0.729062</td>\n",
              "      <td>0.283403</td>\n",
              "      <td>-0.190276</td>\n",
              "      <td>0.095414</td>\n",
              "      <td>-0.139463</td>\n",
              "      <td>0.053503</td>\n",
              "      <td>0.505833</td>\n",
              "      <td>-0.174354</td>\n",
              "      <td>0.591471</td>\n",
              "      <td>-0.906341</td>\n",
              "      <td>0.548777</td>\n",
              "      <td>0.465202</td>\n",
              "      <td>0.002135</td>\n",
              "      <td>-0.003268</td>\n",
              "      <td>0.233208</td>\n",
              "      <td>-0.060014</td>\n",
              "      <td>-0.059905</td>\n",
              "      <td>0.040452</td>\n",
              "      <td>-0.029657</td>\n",
              "      <td>-0.124201</td>\n",
              "      <td>-0.037601</td>\n",
              "      <td>0.008012</td>\n",
              "      <td>0.131180</td>\n",
              "      <td>0.026458</td>\n",
              "      <td>0.009751</td>\n",
              "      <td>0.010949</td>\n",
              "      <td>74.244399</td>\n",
              "      <td>0.004191</td>\n",
              "    </tr>\n",
              "    <tr>\n",
              "      <th>std</th>\n",
              "      <td>1.889290</td>\n",
              "      <td>1.501310</td>\n",
              "      <td>1.778657</td>\n",
              "      <td>1.447111</td>\n",
              "      <td>1.376215</td>\n",
              "      <td>1.282864</td>\n",
              "      <td>1.275205</td>\n",
              "      <td>1.274942</td>\n",
              "      <td>1.283376</td>\n",
              "      <td>1.204665</td>\n",
              "      <td>1.188061</td>\n",
              "      <td>1.566577</td>\n",
              "      <td>1.205301</td>\n",
              "      <td>1.291981</td>\n",
              "      <td>0.984165</td>\n",
              "      <td>0.962841</td>\n",
              "      <td>1.218721</td>\n",
              "      <td>0.863192</td>\n",
              "      <td>0.827145</td>\n",
              "      <td>0.610516</td>\n",
              "      <td>0.808246</td>\n",
              "      <td>0.634471</td>\n",
              "      <td>0.438287</td>\n",
              "      <td>0.599009</td>\n",
              "      <td>0.433479</td>\n",
              "      <td>0.516876</td>\n",
              "      <td>0.392911</td>\n",
              "      <td>0.282046</td>\n",
              "      <td>193.760529</td>\n",
              "      <td>0.064610</td>\n",
              "    </tr>\n",
              "    <tr>\n",
              "      <th>min</th>\n",
              "      <td>-29.876366</td>\n",
              "      <td>-15.732974</td>\n",
              "      <td>-30.558697</td>\n",
              "      <td>-4.449606</td>\n",
              "      <td>-21.665654</td>\n",
              "      <td>-7.574798</td>\n",
              "      <td>-20.081391</td>\n",
              "      <td>-27.156906</td>\n",
              "      <td>-6.333685</td>\n",
              "      <td>-13.175198</td>\n",
              "      <td>-2.621346</td>\n",
              "      <td>-17.769143</td>\n",
              "      <td>-3.315213</td>\n",
              "      <td>-19.214325</td>\n",
              "      <td>-4.152532</td>\n",
              "      <td>-10.266609</td>\n",
              "      <td>-17.542030</td>\n",
              "      <td>-6.792638</td>\n",
              "      <td>-4.192616</td>\n",
              "      <td>-7.157627</td>\n",
              "      <td>-14.031579</td>\n",
              "      <td>-8.555808</td>\n",
              "      <td>-10.477978</td>\n",
              "      <td>-2.512377</td>\n",
              "      <td>-2.224853</td>\n",
              "      <td>-1.203625</td>\n",
              "      <td>-8.260909</td>\n",
              "      <td>-4.455921</td>\n",
              "      <td>0.000000</td>\n",
              "      <td>0.000000</td>\n",
              "    </tr>\n",
              "    <tr>\n",
              "      <th>25%</th>\n",
              "      <td>-0.952104</td>\n",
              "      <td>-0.352859</td>\n",
              "      <td>0.279740</td>\n",
              "      <td>-0.628712</td>\n",
              "      <td>-0.755823</td>\n",
              "      <td>-0.650286</td>\n",
              "      <td>-0.608143</td>\n",
              "      <td>-0.164326</td>\n",
              "      <td>-0.334011</td>\n",
              "      <td>-0.637452</td>\n",
              "      <td>-0.242808</td>\n",
              "      <td>-2.075831</td>\n",
              "      <td>-0.294996</td>\n",
              "      <td>-0.101651</td>\n",
              "      <td>-0.566825</td>\n",
              "      <td>-0.476516</td>\n",
              "      <td>-0.270396</td>\n",
              "      <td>-0.518608</td>\n",
              "      <td>-0.542483</td>\n",
              "      <td>-0.159377</td>\n",
              "      <td>-0.245446</td>\n",
              "      <td>-0.540064</td>\n",
              "      <td>-0.178554</td>\n",
              "      <td>-0.328346</td>\n",
              "      <td>-0.125063</td>\n",
              "      <td>-0.332381</td>\n",
              "      <td>-0.065848</td>\n",
              "      <td>-0.008770</td>\n",
              "      <td>6.470000</td>\n",
              "      <td>0.000000</td>\n",
              "    </tr>\n",
              "    <tr>\n",
              "      <th>50%</th>\n",
              "      <td>-0.299251</td>\n",
              "      <td>0.197995</td>\n",
              "      <td>0.875875</td>\n",
              "      <td>0.224234</td>\n",
              "      <td>-0.210457</td>\n",
              "      <td>-0.167510</td>\n",
              "      <td>-0.066597</td>\n",
              "      <td>0.028763</td>\n",
              "      <td>0.416136</td>\n",
              "      <td>-0.215604</td>\n",
              "      <td>0.584070</td>\n",
              "      <td>-0.623424</td>\n",
              "      <td>0.498204</td>\n",
              "      <td>0.444267</td>\n",
              "      <td>0.119002</td>\n",
              "      <td>0.070257</td>\n",
              "      <td>0.192126</td>\n",
              "      <td>-0.027814</td>\n",
              "      <td>-0.060834</td>\n",
              "      <td>-0.022354</td>\n",
              "      <td>-0.098326</td>\n",
              "      <td>-0.100655</td>\n",
              "      <td>-0.049845</td>\n",
              "      <td>0.057763</td>\n",
              "      <td>0.163670</td>\n",
              "      <td>-0.047838</td>\n",
              "      <td>0.006072</td>\n",
              "      <td>0.020211</td>\n",
              "      <td>18.520000</td>\n",
              "      <td>0.000000</td>\n",
              "    </tr>\n",
              "    <tr>\n",
              "      <th>75%</th>\n",
              "      <td>1.160535</td>\n",
              "      <td>0.838362</td>\n",
              "      <td>1.504448</td>\n",
              "      <td>1.140604</td>\n",
              "      <td>0.321085</td>\n",
              "      <td>0.508027</td>\n",
              "      <td>0.446035</td>\n",
              "      <td>0.308202</td>\n",
              "      <td>1.269972</td>\n",
              "      <td>0.269180</td>\n",
              "      <td>1.336552</td>\n",
              "      <td>0.305042</td>\n",
              "      <td>1.428051</td>\n",
              "      <td>1.291256</td>\n",
              "      <td>0.704521</td>\n",
              "      <td>0.553721</td>\n",
              "      <td>0.710449</td>\n",
              "      <td>0.432755</td>\n",
              "      <td>0.443481</td>\n",
              "      <td>0.158220</td>\n",
              "      <td>0.074755</td>\n",
              "      <td>0.281486</td>\n",
              "      <td>0.070651</td>\n",
              "      <td>0.399357</td>\n",
              "      <td>0.408429</td>\n",
              "      <td>0.308516</td>\n",
              "      <td>0.089213</td>\n",
              "      <td>0.077907</td>\n",
              "      <td>66.985000</td>\n",
              "      <td>0.000000</td>\n",
              "    </tr>\n",
              "    <tr>\n",
              "      <th>max</th>\n",
              "      <td>1.628532</td>\n",
              "      <td>16.434525</td>\n",
              "      <td>3.934998</td>\n",
              "      <td>11.885313</td>\n",
              "      <td>11.974269</td>\n",
              "      <td>7.074414</td>\n",
              "      <td>10.602036</td>\n",
              "      <td>19.587773</td>\n",
              "      <td>10.370658</td>\n",
              "      <td>12.174400</td>\n",
              "      <td>12.018913</td>\n",
              "      <td>3.408259</td>\n",
              "      <td>3.842704</td>\n",
              "      <td>6.940484</td>\n",
              "      <td>2.740343</td>\n",
              "      <td>3.764085</td>\n",
              "      <td>7.893393</td>\n",
              "      <td>4.115560</td>\n",
              "      <td>3.365632</td>\n",
              "      <td>7.207552</td>\n",
              "      <td>22.599543</td>\n",
              "      <td>3.635997</td>\n",
              "      <td>6.681144</td>\n",
              "      <td>3.658746</td>\n",
              "      <td>2.156042</td>\n",
              "      <td>3.087444</td>\n",
              "      <td>4.173387</td>\n",
              "      <td>4.860769</td>\n",
              "      <td>3588.640000</td>\n",
              "      <td>1.000000</td>\n",
              "    </tr>\n",
              "  </tbody>\n",
              "</table>\n",
              "</div>"
            ],
            "text/plain": [
              "                V1           V2  ...       Amount        Class\n",
              "count  4772.000000  4772.000000  ...  4772.000000  4772.000000\n",
              "mean     -0.248609     0.200738  ...    74.244399     0.004191\n",
              "std       1.889290     1.501310  ...   193.760529     0.064610\n",
              "min     -29.876366   -15.732974  ...     0.000000     0.000000\n",
              "25%      -0.952104    -0.352859  ...     6.470000     0.000000\n",
              "50%      -0.299251     0.197995  ...    18.520000     0.000000\n",
              "75%       1.160535     0.838362  ...    66.985000     0.000000\n",
              "max       1.628532    16.434525  ...  3588.640000     1.000000\n",
              "\n",
              "[8 rows x 30 columns]"
            ]
          },
          "metadata": {
            "tags": []
          },
          "execution_count": 7
        }
      ]
    },
    {
      "cell_type": "code",
      "metadata": {
        "colab": {
          "base_uri": "https://localhost:8080/"
        },
        "id": "RC10tOWjIU8t",
        "outputId": "95d8c20e-9c4e-46c7-9677-17e1d0f6affa"
      },
      "source": [
        "df_train['Class'].value_counts()"
      ],
      "execution_count": 8,
      "outputs": [
        {
          "output_type": "execute_result",
          "data": {
            "text/plain": [
              "0.0    19017\n",
              "1.0       68\n",
              "Name: Class, dtype: int64"
            ]
          },
          "metadata": {
            "tags": []
          },
          "execution_count": 8
        }
      ]
    },
    {
      "cell_type": "code",
      "metadata": {
        "colab": {
          "base_uri": "https://localhost:8080/"
        },
        "id": "Ho9sDYS_IZ88",
        "outputId": "2ac768b8-7a45-46ab-ca3e-6f00ab2d0d6e"
      },
      "source": [
        "df_test['Class'].value_counts()"
      ],
      "execution_count": 9,
      "outputs": [
        {
          "output_type": "execute_result",
          "data": {
            "text/plain": [
              "0.0    4752\n",
              "1.0      20\n",
              "Name: Class, dtype: int64"
            ]
          },
          "metadata": {
            "tags": []
          },
          "execution_count": 9
        }
      ]
    },
    {
      "cell_type": "code",
      "metadata": {
        "colab": {
          "base_uri": "https://localhost:8080/",
          "height": 279
        },
        "id": "2rsmquWsJUEb",
        "outputId": "d4e4ef15-faa6-49f9-a509-3605a6505336"
      },
      "source": [
        "ax = sns.countplot(x=\"Class\", data=df_train)"
      ],
      "execution_count": 10,
      "outputs": [
        {
          "output_type": "display_data",
          "data": {
            "image/png": "[encoded data removed]",
            "text/plain": [
              "<Figure size 432x288 with 1 Axes>"
            ]
          },
          "metadata": {
            "tags": [],
            "needs_background": "light"
          }
        }
      ]
    },
    {
      "cell_type": "code",
      "metadata": {
        "colab": {
          "base_uri": "https://localhost:8080/",
          "height": 279
        },
        "id": "-OJgW1w0Jk_-",
        "outputId": "b684e8ad-04d8-46af-d592-d7da808f5832"
      },
      "source": [
        "bx = sns.countplot(x=\"Class\", data=df_test)"
      ],
      "execution_count": 11,
      "outputs": [
        {
          "output_type": "display_data",
          "data": {
            "image/png": "[encoded data removed]",
            "text/plain": [
              "<Figure size 432x288 with 1 Axes>"
            ]
          },
          "metadata": {
            "tags": [],
            "needs_background": "light"
          }
        }
      ]
    },
    {
      "cell_type": "code",
      "metadata": {
        "colab": {
          "base_uri": "https://localhost:8080/"
        },
        "id": "tsoWBnd_GnzL",
        "outputId": "5e29f0d1-33f6-4971-ac3f-3ea8f57bd8fd"
      },
      "source": [
        "n_fraudulent_transactions = df_train['Class'].value_counts()[1]\n",
        "print('Quantidade de transações fraudulentas no dataset de treino ({}) representando um total de ({})% do dataset'.format(n_fraudulent_transactions, (n_fraudulent_transactions/df_train.shape[0])*100))\n",
        "n_fraudulent_transactions = df_test['Class'].value_counts()[1]\n",
        "print('Quantidade de transações fraudulentas no dataset de teste ({}) representando um total de ({})% do dataset'.format(n_fraudulent_transactions, (n_fraudulent_transactions/df_test.shape[0])*100))"
      ],
      "execution_count": 12,
      "outputs": [
        {
          "output_type": "stream",
          "text": [
            "Quantidade de transações fraudulentas no dataset de treino (68) representando um total de (0.356300759758973)% do dataset\n",
            "Quantidade de transações fraudulentas no dataset de teste (20) representando um total de (0.4191114836546521)% do dataset\n"
          ],
          "name": "stdout"
        }
      ]
    },
    {
      "cell_type": "code",
      "metadata": {
        "colab": {
          "base_uri": "https://localhost:8080/"
        },
        "id": "UgGdYx7flG_D",
        "outputId": "d6e40657-7ce6-4cab-8e3d-7c9dc6c48a5e"
      },
      "source": [
        "mic = mutual_info_classif(x_train, y_train)\n",
        "mic"
      ],
      "execution_count": 13,
      "outputs": [
        {
          "output_type": "execute_result",
          "data": {
            "text/plain": [
              "array([0.0079244 , 0.01103538, 0.01298734, 0.0154607 , 0.00776974,\n",
              "       0.0104176 , 0.0108529 , 0.00642284, 0.01304414, 0.01546621,\n",
              "       0.01551707, 0.01643671, 0.00091408, 0.01626348, 0.00092921,\n",
              "       0.01240332, 0.01585787, 0.01003825, 0.00227247, 0.00570593,\n",
              "       0.0097629 , 0.0008971 , 0.0043584 , 0.00278652, 0.00617967,\n",
              "       0.00427311, 0.00782176, 0.00798014, 0.00719303])"
            ]
          },
          "metadata": {
            "tags": []
          },
          "execution_count": 13
        }
      ]
    },
    {
      "cell_type": "code",
      "metadata": {
        "colab": {
          "base_uri": "https://localhost:8080/",
          "height": 638
        },
        "id": "l9fETRgXl-c8",
        "outputId": "5821aecb-fca7-4f98-d534-ca85af69207d"
      },
      "source": [
        "mic = pd.Series(mic)\n",
        "mic.index = x_train.columns\n",
        "mic = mic.sort_values(ascending = True)\n",
        "mic.plot.bar(figsize=(22,10))"
      ],
      "execution_count": 14,
      "outputs": [
        {
          "output_type": "execute_result",
          "data": {
            "text/plain": [
              "<matplotlib.axes._subplots.AxesSubplot at 0x7efc2f834fd0>"
            ]
          },
          "metadata": {
            "tags": []
          },
          "execution_count": 14
        },
        {
          "output_type": "display_data",
          "data": {
            "image/png": "[encoded data removed]",
            "text/plain": [
              "<Figure size 1584x720 with 1 Axes>"
            ]
          },
          "metadata": {
            "tags": [],
            "needs_background": "light"
          }
        }
      ]
    },
    {
      "cell_type": "code",
      "metadata": {
        "id": "NdBDaW-HnABb"
      },
      "source": [
        "selection = SelectKBest(mutual_info_classif, k= 20).fit(x_train, y_train)\n",
        "X_train = x_train[x_train.columns[selection.get_support()]]\n",
        "X_test = x_test[x_test.columns[selection.get_support()]]"
      ],
      "execution_count": 15,
      "outputs": []
    },
    {
      "cell_type": "code",
      "metadata": {
        "id": "pZWsc5L893EQ"
      },
      "source": [
        "def plot_Kfold_cross_validation_curves(x_data, y_data):\r\n",
        "  cv = StratifiedKFold(n_splits=5)\r\n",
        "\r\n",
        "  tprs = []\r\n",
        "  aucs = []\r\n",
        "  mean_fpr = np.linspace(0, 1, 100)\r\n",
        "\r\n",
        "  fig, ax = plt.subplots()\r\n",
        "  for i, (train, test) in enumerate(cv.split(x_data, y_data)):\r\n",
        "      rf.fit(x_data.iloc[train], y_data.iloc[train])\r\n",
        "      viz = plot_roc_curve(rf, x_data.iloc[test], y_data.iloc[test],\r\n",
        "                          name='ROC fold {}'.format(i),\r\n",
        "                          alpha=0.3, lw=1, ax=ax)\r\n",
        "      interp_tpr = np.interp(mean_fpr, viz.fpr, viz.tpr)\r\n",
        "      interp_tpr[0] = 0.0\r\n",
        "      tprs.append(interp_tpr)\r\n",
        "      aucs.append(viz.roc_auc)\r\n",
        "\r\n",
        "  ax.plot([0, 1], [0, 1], linestyle='--', lw=2, color='r',\r\n",
        "          label='Chance', alpha=.8)\r\n",
        "\r\n",
        "  mean_tpr = np.mean(tprs, axis=0)\r\n",
        "  mean_tpr[-1] = 1.0\r\n",
        "  mean_auc = auc(mean_fpr, mean_tpr)\r\n",
        "  std_auc = np.std(aucs)\r\n",
        "  ax.plot(mean_fpr, mean_tpr, color='b',\r\n",
        "          label=r'Mean ROC (AUC = %0.2f $\\pm$ %0.2f)' % (mean_auc, std_auc),\r\n",
        "          lw=2, alpha=.8)\r\n",
        "\r\n",
        "  std_tpr = np.std(tprs, axis=0)\r\n",
        "  tprs_upper = np.minimum(mean_tpr + std_tpr, 1)\r\n",
        "  tprs_lower = np.maximum(mean_tpr - std_tpr, 0)\r\n",
        "  ax.fill_between(mean_fpr, tprs_lower, tprs_upper, color='grey', alpha=.2,\r\n",
        "                  label=r'$\\pm$ 1 std. dev.')\r\n",
        "\r\n",
        "  ax.set(xlim=[-0.05, 1.05], ylim=[-0.05, 1.05],\r\n",
        "        title=\"ROC for K fold cross-validation curves\")\r\n",
        "  ax.legend(loc=\"lower right\")\r\n",
        "  plt.show()"
      ],
      "execution_count": 46,
      "outputs": []
    },
    {
      "cell_type": "markdown",
      "metadata": {
        "id": "owxa6ZjPOKhh"
      },
      "source": [
        "# Random Forest"
      ]
    },
    {
      "cell_type": "markdown",
      "metadata": {
        "id": "e1ixcAFfjL3S"
      },
      "source": [
        "- Treino com sample de treino"
      ]
    },
    {
      "cell_type": "code",
      "metadata": {
        "colab": {
          "base_uri": "https://localhost:8080/"
        },
        "id": "aFymemqQq2JH",
        "outputId": "bba9d5db-3633-401d-ee38-d1b66385526f"
      },
      "source": [
        "rf = RandomForestClassifier()\n",
        "rf.fit(X_train, y_train)"
      ],
      "execution_count": 16,
      "outputs": [
        {
          "output_type": "execute_result",
          "data": {
            "text/plain": [
              "RandomForestClassifier(bootstrap=True, ccp_alpha=0.0, class_weight=None,\n",
              "                       criterion='gini', max_depth=None, max_features='auto',\n",
              "                       max_leaf_nodes=None, max_samples=None,\n",
              "                       min_impurity_decrease=0.0, min_impurity_split=None,\n",
              "                       min_samples_leaf=1, min_samples_split=2,\n",
              "                       min_weight_fraction_leaf=0.0, n_estimators=100,\n",
              "                       n_jobs=None, oob_score=False, random_state=None,\n",
              "                       verbose=0, warm_start=False)"
            ]
          },
          "metadata": {
            "tags": []
          },
          "execution_count": 16
        }
      ]
    },
    {
      "cell_type": "markdown",
      "metadata": {
        "id": "5cCP7fsx5_58"
      },
      "source": [
        "## Treino"
      ]
    },
    {
      "cell_type": "markdown",
      "metadata": {
        "id": "lGL1A2ixjbRT"
      },
      "source": [
        "- Relatório de classificação da predição com o modelo Random forest com o sample de treino"
      ]
    },
    {
      "cell_type": "code",
      "metadata": {
        "colab": {
          "base_uri": "https://localhost:8080/"
        },
        "id": "5S5NGcYljXTS",
        "outputId": "84e50482-7b50-4d18-ce95-5f81a3e542b9"
      },
      "source": [
        "predictions = rf.predict(X_train)\n",
        "print(classification_report(y_train, predictions))"
      ],
      "execution_count": 17,
      "outputs": [
        {
          "output_type": "stream",
          "text": [
            "              precision    recall  f1-score   support\n",
            "\n",
            "         0.0       1.00      1.00      1.00     19017\n",
            "         1.0       1.00      1.00      1.00        68\n",
            "\n",
            "    accuracy                           1.00     19085\n",
            "   macro avg       1.00      1.00      1.00     19085\n",
            "weighted avg       1.00      1.00      1.00     19085\n",
            "\n"
          ],
          "name": "stdout"
        }
      ]
    },
    {
      "cell_type": "markdown",
      "metadata": {
        "id": "4Bi71KcCjn7r"
      },
      "source": [
        "- Matriz de confusão dos valores preditos com o conjunto de treino"
      ]
    },
    {
      "cell_type": "code",
      "metadata": {
        "id": "njyVMGnunwwp",
        "colab": {
          "base_uri": "https://localhost:8080/",
          "height": 173
        },
        "outputId": "a906afea-73cb-4d5b-8e27-1c976fe320af"
      },
      "source": [
        "pd.crosstab(y_train, predictions, rownames=['Real'],colnames=['Predito'],margins=True)"
      ],
      "execution_count": 18,
      "outputs": [
        {
          "output_type": "execute_result",
          "data": {
            "text/html": [
              "<div>\n",
              "<style scoped>\n",
              "    .dataframe tbody tr th:only-of-type {\n",
              "        vertical-align: middle;\n",
              "    }\n",
              "\n",
              "    .dataframe tbody tr th {\n",
              "        vertical-align: top;\n",
              "    }\n",
              "\n",
              "    .dataframe thead th {\n",
              "        text-align: right;\n",
              "    }\n",
              "</style>\n",
              "<table border=\"1\" class=\"dataframe\">\n",
              "  <thead>\n",
              "    <tr style=\"text-align: right;\">\n",
              "      <th>Predito</th>\n",
              "      <th>0.0</th>\n",
              "      <th>1.0</th>\n",
              "      <th>All</th>\n",
              "    </tr>\n",
              "    <tr>\n",
              "      <th>Real</th>\n",
              "      <th></th>\n",
              "      <th></th>\n",
              "      <th></th>\n",
              "    </tr>\n",
              "  </thead>\n",
              "  <tbody>\n",
              "    <tr>\n",
              "      <th>0.0</th>\n",
              "      <td>19017</td>\n",
              "      <td>0</td>\n",
              "      <td>19017</td>\n",
              "    </tr>\n",
              "    <tr>\n",
              "      <th>1.0</th>\n",
              "      <td>0</td>\n",
              "      <td>68</td>\n",
              "      <td>68</td>\n",
              "    </tr>\n",
              "    <tr>\n",
              "      <th>All</th>\n",
              "      <td>19017</td>\n",
              "      <td>68</td>\n",
              "      <td>19085</td>\n",
              "    </tr>\n",
              "  </tbody>\n",
              "</table>\n",
              "</div>"
            ],
            "text/plain": [
              "Predito    0.0  1.0    All\n",
              "Real                      \n",
              "0.0      19017    0  19017\n",
              "1.0          0   68     68\n",
              "All      19017   68  19085"
            ]
          },
          "metadata": {
            "tags": []
          },
          "execution_count": 18
        }
      ]
    },
    {
      "cell_type": "markdown",
      "metadata": {
        "id": "sE7DnFY-jzJv"
      },
      "source": [
        "- Validação cruzada utilizando 5 pastas"
      ]
    },
    {
      "cell_type": "code",
      "metadata": {
        "id": "0ct-yzB2fCPM",
        "colab": {
          "base_uri": "https://localhost:8080/"
        },
        "outputId": "e502886b-f804-4d3c-b028-7ea7a06e849a"
      },
      "source": [
        "scores = cross_val_score(rf, X_train, y_train, cv=5, scoring='accuracy')\n",
        "scores"
      ],
      "execution_count": 19,
      "outputs": [
        {
          "output_type": "execute_result",
          "data": {
            "text/plain": [
              "array([0.99921404, 0.99869007, 0.99973801, 0.99895206, 0.99842808])"
            ]
          },
          "metadata": {
            "tags": []
          },
          "execution_count": 19
        }
      ]
    },
    {
      "cell_type": "markdown",
      "metadata": {
        "id": "eKTu5VKtj_Sa"
      },
      "source": [
        "- Media dos scores obtidos"
      ]
    },
    {
      "cell_type": "code",
      "metadata": {
        "colab": {
          "base_uri": "https://localhost:8080/"
        },
        "id": "-mUN-alkjv_k",
        "outputId": "04621d63-91ae-4350-f224-2cf9d740e902"
      },
      "source": [
        "scores.mean()"
      ],
      "execution_count": 20,
      "outputs": [
        {
          "output_type": "execute_result",
          "data": {
            "text/plain": [
              "0.9990044537594971"
            ]
          },
          "metadata": {
            "tags": []
          },
          "execution_count": 20
        }
      ]
    },
    {
      "cell_type": "markdown",
      "metadata": {
        "id": "knVoURIF9sWn"
      },
      "source": [
        "- Acurácia do modelo"
      ]
    },
    {
      "cell_type": "code",
      "metadata": {
        "colab": {
          "base_uri": "https://localhost:8080/"
        },
        "id": "1otoQtsp9rWH",
        "outputId": "89cb2d5d-6ef3-4b2d-809b-91abf265ce13"
      },
      "source": [
        "accuracy_score(y_train, predictions)"
      ],
      "execution_count": 21,
      "outputs": [
        {
          "output_type": "execute_result",
          "data": {
            "text/plain": [
              "1.0"
            ]
          },
          "metadata": {
            "tags": []
          },
          "execution_count": 21
        }
      ]
    },
    {
      "cell_type": "markdown",
      "metadata": {
        "id": "Vg6h_dD98MqW"
      },
      "source": [
        "- Root Mean Squared Error (RMSE) "
      ]
    },
    {
      "cell_type": "code",
      "metadata": {
        "colab": {
          "base_uri": "https://localhost:8080/"
        },
        "id": "hJQvPDMd8ItB",
        "outputId": "8df86a64-3188-4ad3-e6e4-87f76eb9d159"
      },
      "source": [
        "rmse = sqrt(mean_squared_error(y_train, predictions))\n",
        "rmse"
      ],
      "execution_count": 22,
      "outputs": [
        {
          "output_type": "execute_result",
          "data": {
            "text/plain": [
              "0.0"
            ]
          },
          "metadata": {
            "tags": []
          },
          "execution_count": 22
        }
      ]
    },
    {
      "cell_type": "markdown",
      "metadata": {
        "id": "mGAT9y95nCOj"
      },
      "source": [
        "- Curva ROC"
      ]
    },
    {
      "cell_type": "code",
      "metadata": {
        "colab": {
          "base_uri": "https://localhost:8080/",
          "height": 265
        },
        "id": "3KTJsdBMV2Ze",
        "outputId": "cfd125b4-56df-4f1f-a142-fb9b43808018"
      },
      "source": [
        "fpr, tpr, _ = roc_curve(y_train, predictions)\r\n",
        "roc_auc_scr =  roc_auc_score(y_train, predictions)\r\n",
        "plt.plot(fpr,tpr,label=\"data, auc=\"+str(roc_auc_scr))\r\n",
        "plt.legend(loc=4)\r\n",
        "plt.show()"
      ],
      "execution_count": 47,
      "outputs": [
        {
          "output_type": "display_data",
          "data": {
            "image/png": "[encoded data removed]",
            "text/plain": [
              "<Figure size 432x288 with 1 Axes>"
            ]
          },
          "metadata": {
            "tags": [],
            "needs_background": "light"
          }
        }
      ]
    },
    {
      "cell_type": "markdown",
      "metadata": {
        "id": "eg2wN52vVvGf"
      },
      "source": [
        " - Curvas da K fold cross-validation"
      ]
    },
    {
      "cell_type": "code",
      "metadata": {
        "colab": {
          "base_uri": "https://localhost:8080/",
          "height": 295
        },
        "id": "IpLo2KtjmIAK",
        "outputId": "24588bb3-7b01-4c54-f66e-48b4d7b4deb9"
      },
      "source": [
        "plot_Kfold_cross_validation_curves(X_train, y_train)"
      ],
      "execution_count": 50,
      "outputs": [
        {
          "output_type": "display_data",
          "data": {
            "image/png": "[encoded data removed]",
            "text/plain": [
              "<Figure size 432x288 with 1 Axes>"
            ]
          },
          "metadata": {
            "tags": [],
            "needs_background": "light"
          }
        }
      ]
    },
    {
      "cell_type": "markdown",
      "metadata": {
        "id": "-4_DNbB_6Dp2"
      },
      "source": [
        "## Teste"
      ]
    },
    {
      "cell_type": "markdown",
      "metadata": {
        "id": "BLAB8P6AkG2L"
      },
      "source": [
        "- Predição do sample de teste"
      ]
    },
    {
      "cell_type": "code",
      "metadata": {
        "id": "2NP6MyeutU7D"
      },
      "source": [
        "predictions_test = rf.predict(X_test)"
      ],
      "execution_count": null,
      "outputs": []
    },
    {
      "cell_type": "markdown",
      "metadata": {
        "id": "xyaMdfoAkUyW"
      },
      "source": [
        "- Relatório de classificação da predição com o modelo Random forest com o sample de teste"
      ]
    },
    {
      "cell_type": "code",
      "metadata": {
        "colab": {
          "base_uri": "https://localhost:8080/"
        },
        "id": "8dP_bcm5kQ3C",
        "outputId": "017f339c-b38c-41c3-f1ca-cc649d1a8bc5"
      },
      "source": [
        "print(classification_report(y_test, predictions_test))"
      ],
      "execution_count": null,
      "outputs": [
        {
          "output_type": "stream",
          "text": [
            "              precision    recall  f1-score   support\n",
            "\n",
            "           0       1.00      1.00      1.00     56861\n",
            "           1       0.93      0.79      0.86       101\n",
            "\n",
            "    accuracy                           1.00     56962\n",
            "   macro avg       0.96      0.90      0.93     56962\n",
            "weighted avg       1.00      1.00      1.00     56962\n",
            "\n"
          ],
          "name": "stdout"
        }
      ]
    },
    {
      "cell_type": "markdown",
      "metadata": {
        "id": "JQ6w9D7SkkMo"
      },
      "source": [
        "- Matriz de confusão dos valores preditos com o conjunto de teste"
      ]
    },
    {
      "cell_type": "code",
      "metadata": {
        "id": "uJIkYyI1oKzr",
        "colab": {
          "base_uri": "https://localhost:8080/",
          "height": 173
        },
        "outputId": "22bae1f4-2846-4c2c-f447-d23634d94377"
      },
      "source": [
        "pd.crosstab(y_test, predictions_test, rownames=['Real'],colnames=['Predito'],margins=True) "
      ],
      "execution_count": null,
      "outputs": [
        {
          "output_type": "execute_result",
          "data": {
            "text/html": [
              "<div>\n",
              "<style scoped>\n",
              "    .dataframe tbody tr th:only-of-type {\n",
              "        vertical-align: middle;\n",
              "    }\n",
              "\n",
              "    .dataframe tbody tr th {\n",
              "        vertical-align: top;\n",
              "    }\n",
              "\n",
              "    .dataframe thead th {\n",
              "        text-align: right;\n",
              "    }\n",
              "</style>\n",
              "<table border=\"1\" class=\"dataframe\">\n",
              "  <thead>\n",
              "    <tr style=\"text-align: right;\">\n",
              "      <th>Predito</th>\n",
              "      <th>0</th>\n",
              "      <th>1</th>\n",
              "      <th>All</th>\n",
              "    </tr>\n",
              "    <tr>\n",
              "      <th>Real</th>\n",
              "      <th></th>\n",
              "      <th></th>\n",
              "      <th></th>\n",
              "    </tr>\n",
              "  </thead>\n",
              "  <tbody>\n",
              "    <tr>\n",
              "      <th>0</th>\n",
              "      <td>56855</td>\n",
              "      <td>6</td>\n",
              "      <td>56861</td>\n",
              "    </tr>\n",
              "    <tr>\n",
              "      <th>1</th>\n",
              "      <td>21</td>\n",
              "      <td>80</td>\n",
              "      <td>101</td>\n",
              "    </tr>\n",
              "    <tr>\n",
              "      <th>All</th>\n",
              "      <td>56876</td>\n",
              "      <td>86</td>\n",
              "      <td>56962</td>\n",
              "    </tr>\n",
              "  </tbody>\n",
              "</table>\n",
              "</div>"
            ],
            "text/plain": [
              "Predito      0   1    All\n",
              "Real                     \n",
              "0        56855   6  56861\n",
              "1           21  80    101\n",
              "All      56876  86  56962"
            ]
          },
          "metadata": {
            "tags": []
          },
          "execution_count": 50
        }
      ]
    },
    {
      "cell_type": "markdown",
      "metadata": {
        "id": "nNenluCDksUE"
      },
      "source": [
        "- Validação cruzada utilizando 5 pastas com conjunto de teste"
      ]
    },
    {
      "cell_type": "code",
      "metadata": {
        "id": "7SyA2FdfnlJk",
        "colab": {
          "base_uri": "https://localhost:8080/"
        },
        "outputId": "33bda518-2ca6-4108-9ee7-a3d7446c0b9c"
      },
      "source": [
        "scores = cross_val_score(rf, X_test, predictions_test, cv=5, scoring='accuracy')\n",
        "scores"
      ],
      "execution_count": null,
      "outputs": [
        {
          "output_type": "execute_result",
          "data": {
            "text/plain": [
              "array([0.99973668, 0.99964891, 0.99982444, 0.9995611 , 0.99991222])"
            ]
          },
          "metadata": {
            "tags": []
          },
          "execution_count": 55
        }
      ]
    },
    {
      "cell_type": "markdown",
      "metadata": {
        "id": "54zV1n_mk1ma"
      },
      "source": [
        "- Media dos scores obtidos com o conjunto de teste"
      ]
    },
    {
      "cell_type": "code",
      "metadata": {
        "colab": {
          "base_uri": "https://localhost:8080/"
        },
        "id": "p__RCkAdkzPE",
        "outputId": "bae05333-5fe7-413a-945e-d014c46f2554"
      },
      "source": [
        "scores.mean()"
      ],
      "execution_count": null,
      "outputs": [
        {
          "output_type": "execute_result",
          "data": {
            "text/plain": [
              "0.9996839995507788"
            ]
          },
          "metadata": {
            "tags": []
          },
          "execution_count": 52
        }
      ]
    },
    {
      "cell_type": "markdown",
      "metadata": {
        "id": "4B5va7gw9-mR"
      },
      "source": [
        "- Acurácia do modelo"
      ]
    },
    {
      "cell_type": "code",
      "metadata": {
        "colab": {
          "base_uri": "https://localhost:8080/"
        },
        "id": "wePT4YrX9930",
        "outputId": "5f32da00-189a-4ce2-9b0a-ab77e6bad60a"
      },
      "source": [
        "accuracy_score(y_test, predictions_test)"
      ],
      "execution_count": null,
      "outputs": [
        {
          "output_type": "execute_result",
          "data": {
            "text/plain": [
              "0.9995259997893332"
            ]
          },
          "metadata": {
            "tags": []
          },
          "execution_count": 68
        }
      ]
    },
    {
      "cell_type": "markdown",
      "metadata": {
        "id": "6-CjgM258h6e"
      },
      "source": [
        "- Root Mean Squared Error (RMSE)"
      ]
    },
    {
      "cell_type": "code",
      "metadata": {
        "colab": {
          "base_uri": "https://localhost:8080/"
        },
        "id": "0sdttlBo8hA7",
        "outputId": "f451969f-b793-4f40-c7aa-4f266557c52b"
      },
      "source": [
        "rmse = sqrt(mean_squared_error(y_test, predictions_test))\n",
        "rmse"
      ],
      "execution_count": null,
      "outputs": [
        {
          "output_type": "execute_result",
          "data": {
            "text/plain": [
              "0.021771545895199088"
            ]
          },
          "metadata": {
            "tags": []
          },
          "execution_count": 69
        }
      ]
    },
    {
      "cell_type": "markdown",
      "metadata": {
        "id": "U42RdVNMtJ37"
      },
      "source": [
        "- Curva ROC, conjunto de teste"
      ]
    },
    {
      "cell_type": "code",
      "metadata": {
        "colab": {
          "base_uri": "https://localhost:8080/",
          "height": 231
        },
        "id": "3spn8Gf2mEt5",
        "outputId": "0ced756a-2862-429a-8f60-e56b6f803191"
      },
      "source": [
        "fpr, tpr, _ = roc_curve(y_test, predictions_test)\n",
        "roc_auc_scr =  roc_auc_score(y_test, predictions_test)\n",
        "plt.plot(fpr,tpr,label=\"data, auc=\"+str(roc_auc_scr))\n",
        "plt.legend(loc=4)\n",
        "plt.show()"
      ],
      "execution_count": 44,
      "outputs": [
        {
          "output_type": "error",
          "ename": "NameError",
          "evalue": "ignored",
          "traceback": [
            "\u001b[0;31m---------------------------------------------------------------------------\u001b[0m",
            "\u001b[0;31mNameError\u001b[0m                                 Traceback (most recent call last)",
            "\u001b[0;32m<ipython-input-44-15e7f4bb3446>\u001b[0m in \u001b[0;36m<module>\u001b[0;34m()\u001b[0m\n\u001b[0;32m----> 1\u001b[0;31m \u001b[0mfpr\u001b[0m\u001b[0;34m,\u001b[0m \u001b[0mtpr\u001b[0m\u001b[0;34m,\u001b[0m \u001b[0m_\u001b[0m \u001b[0;34m=\u001b[0m \u001b[0mroc_curve\u001b[0m\u001b[0;34m(\u001b[0m\u001b[0my_test\u001b[0m\u001b[0;34m,\u001b[0m \u001b[0mpredictions_test\u001b[0m\u001b[0;34m)\u001b[0m\u001b[0;34m\u001b[0m\u001b[0;34m\u001b[0m\u001b[0m\n\u001b[0m\u001b[1;32m      2\u001b[0m \u001b[0mauc\u001b[0m \u001b[0;34m=\u001b[0m  \u001b[0mroc_auc_score\u001b[0m\u001b[0;34m(\u001b[0m\u001b[0my_test\u001b[0m\u001b[0;34m,\u001b[0m \u001b[0mpredictions_test\u001b[0m\u001b[0;34m)\u001b[0m\u001b[0;34m\u001b[0m\u001b[0;34m\u001b[0m\u001b[0m\n\u001b[1;32m      3\u001b[0m \u001b[0mplt\u001b[0m\u001b[0;34m.\u001b[0m\u001b[0mplot\u001b[0m\u001b[0;34m(\u001b[0m\u001b[0mfpr\u001b[0m\u001b[0;34m,\u001b[0m\u001b[0mtpr\u001b[0m\u001b[0;34m,\u001b[0m\u001b[0mlabel\u001b[0m\u001b[0;34m=\u001b[0m\u001b[0;34m\"data, auc=\"\u001b[0m\u001b[0;34m+\u001b[0m\u001b[0mstr\u001b[0m\u001b[0;34m(\u001b[0m\u001b[0mauc\u001b[0m\u001b[0;34m)\u001b[0m\u001b[0;34m)\u001b[0m\u001b[0;34m\u001b[0m\u001b[0;34m\u001b[0m\u001b[0m\n\u001b[1;32m      4\u001b[0m \u001b[0mplt\u001b[0m\u001b[0;34m.\u001b[0m\u001b[0mlegend\u001b[0m\u001b[0;34m(\u001b[0m\u001b[0mloc\u001b[0m\u001b[0;34m=\u001b[0m\u001b[0;36m4\u001b[0m\u001b[0;34m)\u001b[0m\u001b[0;34m\u001b[0m\u001b[0;34m\u001b[0m\u001b[0m\n\u001b[1;32m      5\u001b[0m \u001b[0mplt\u001b[0m\u001b[0;34m.\u001b[0m\u001b[0mshow\u001b[0m\u001b[0;34m(\u001b[0m\u001b[0;34m)\u001b[0m\u001b[0;34m\u001b[0m\u001b[0;34m\u001b[0m\u001b[0m\n",
            "\u001b[0;31mNameError\u001b[0m: name 'predictions_test' is not defined"
          ]
        }
      ]
    },
    {
      "cell_type": "markdown",
      "metadata": {
        "id": "boChx6PpWFps"
      },
      "source": [
        "- Curvas da K fold cross-validation dados de teste"
      ]
    },
    {
      "cell_type": "code",
      "metadata": {
        "colab": {
          "base_uri": "https://localhost:8080/",
          "height": 295
        },
        "id": "eeo98JS4WL2e",
        "outputId": "0417addb-91fe-440f-ee27-86f8bfb45866"
      },
      "source": [
        "plot_Kfold_cross_validation_curves(X_test, y_test)"
      ],
      "execution_count": 51,
      "outputs": [
        {
          "output_type": "display_data",
          "data": {
            "image/png": "[encoded data removed]",
            "text/plain": [
              "<Figure size 432x288 with 1 Axes>"
            ]
          },
          "metadata": {
            "tags": [],
            "needs_background": "light"
          }
        }
      ]
    },
    {
      "cell_type": "markdown",
      "metadata": {
        "id": "1sZhJG0MOQw1"
      },
      "source": [
        "# KNN "
      ]
    },
    {
      "cell_type": "code",
      "metadata": {
        "colab": {
          "base_uri": "https://localhost:8080/"
        },
        "id": "Q7IW0wPwjux3",
        "outputId": "bdd62b8d-0e23-48d5-c66f-35862b6155df"
      },
      "source": [
        "knn = KNeighborsClassifier(n_neighbors=1)\r\n",
        "knn.fit(X_train, y_train)"
      ],
      "execution_count": 59,
      "outputs": [
        {
          "output_type": "execute_result",
          "data": {
            "text/plain": [
              "KNeighborsClassifier(algorithm='auto', leaf_size=30, metric='minkowski',\n",
              "                     metric_params=None, n_jobs=None, n_neighbors=1, p=2,\n",
              "                     weights='uniform')"
            ]
          },
          "metadata": {
            "tags": []
          },
          "execution_count": 59
        }
      ]
    },
    {
      "cell_type": "markdown",
      "metadata": {
        "id": "Lv7zuKEW5xbu"
      },
      "source": [
        "## Treino"
      ]
    },
    {
      "cell_type": "code",
      "metadata": {
        "id": "l8Ja5V0sBwrB",
        "colab": {
          "base_uri": "https://localhost:8080/"
        },
        "outputId": "965f100b-a2d6-4dbe-9d15-84213a6b7d8a"
      },
      "source": [
        "y_pred = knn.predict(X_train)"
      ],
      "execution_count": 60,
      "outputs": [
        {
          "output_type": "execute_result",
          "data": {
            "text/plain": [
              "1.0"
            ]
          },
          "metadata": {
            "tags": []
          },
          "execution_count": 60
        }
      ]
    },
    {
      "cell_type": "code",
      "metadata": {
        "id": "WCorvIcr3pT-"
      },
      "source": [
        "accuracy_score(y_train, y_pred)"
      ],
      "execution_count": null,
      "outputs": []
    },
    {
      "cell_type": "code",
      "metadata": {
        "id": "WeXgWfnJwM7j",
        "colab": {
          "base_uri": "https://localhost:8080/"
        },
        "outputId": "cb57b902-e6c0-4599-b661-f487dbd0ef64"
      },
      "source": [
        "print(classification_report(y_train, y_pred))"
      ],
      "execution_count": 61,
      "outputs": [
        {
          "output_type": "stream",
          "text": [
            "              precision    recall  f1-score   support\n",
            "\n",
            "         0.0       1.00      1.00      1.00     19017\n",
            "         1.0       1.00      1.00      1.00        68\n",
            "\n",
            "    accuracy                           1.00     19085\n",
            "   macro avg       1.00      1.00      1.00     19085\n",
            "weighted avg       1.00      1.00      1.00     19085\n",
            "\n"
          ],
          "name": "stdout"
        }
      ]
    },
    {
      "cell_type": "code",
      "metadata": {
        "id": "O8LDjwVXxbv1",
        "colab": {
          "base_uri": "https://localhost:8080/",
          "height": 173
        },
        "outputId": "e75f6c49-7568-42fd-fe53-afbffe347e6f"
      },
      "source": [
        "pd.crosstab(y_train, y_pred, rownames=['Real'],colnames=['Predito'],margins=True)"
      ],
      "execution_count": 62,
      "outputs": [
        {
          "output_type": "execute_result",
          "data": {
            "text/html": [
              "<div>\n",
              "<style scoped>\n",
              "    .dataframe tbody tr th:only-of-type {\n",
              "        vertical-align: middle;\n",
              "    }\n",
              "\n",
              "    .dataframe tbody tr th {\n",
              "        vertical-align: top;\n",
              "    }\n",
              "\n",
              "    .dataframe thead th {\n",
              "        text-align: right;\n",
              "    }\n",
              "</style>\n",
              "<table border=\"1\" class=\"dataframe\">\n",
              "  <thead>\n",
              "    <tr style=\"text-align: right;\">\n",
              "      <th>Predito</th>\n",
              "      <th>0.0</th>\n",
              "      <th>1.0</th>\n",
              "      <th>All</th>\n",
              "    </tr>\n",
              "    <tr>\n",
              "      <th>Real</th>\n",
              "      <th></th>\n",
              "      <th></th>\n",
              "      <th></th>\n",
              "    </tr>\n",
              "  </thead>\n",
              "  <tbody>\n",
              "    <tr>\n",
              "      <th>0.0</th>\n",
              "      <td>19017</td>\n",
              "      <td>0</td>\n",
              "      <td>19017</td>\n",
              "    </tr>\n",
              "    <tr>\n",
              "      <th>1.0</th>\n",
              "      <td>0</td>\n",
              "      <td>68</td>\n",
              "      <td>68</td>\n",
              "    </tr>\n",
              "    <tr>\n",
              "      <th>All</th>\n",
              "      <td>19017</td>\n",
              "      <td>68</td>\n",
              "      <td>19085</td>\n",
              "    </tr>\n",
              "  </tbody>\n",
              "</table>\n",
              "</div>"
            ],
            "text/plain": [
              "Predito    0.0  1.0    All\n",
              "Real                      \n",
              "0.0      19017    0  19017\n",
              "1.0          0   68     68\n",
              "All      19017   68  19085"
            ]
          },
          "metadata": {
            "tags": []
          },
          "execution_count": 62
        }
      ]
    },
    {
      "cell_type": "code",
      "metadata": {
        "id": "Nim0I8PMxvCO",
        "colab": {
          "base_uri": "https://localhost:8080/"
        },
        "outputId": "a7336a9c-1845-43a9-afa7-625d9b5f8b3c"
      },
      "source": [
        "scores = cross_val_score(knn, X_train, y_train, cv=5, scoring='accuracy')\n",
        "scores"
      ],
      "execution_count": 64,
      "outputs": [
        {
          "output_type": "execute_result",
          "data": {
            "text/plain": [
              "array([0.99895206, 0.99921404, 0.99921404, 0.99921404, 0.99842808])"
            ]
          },
          "metadata": {
            "tags": []
          },
          "execution_count": 64
        }
      ]
    },
    {
      "cell_type": "code",
      "metadata": {
        "id": "eDIZWLplxyRU",
        "colab": {
          "base_uri": "https://localhost:8080/"
        },
        "outputId": "9fc91f00-19dd-4b9e-d562-19b547dca914"
      },
      "source": [
        "scores.mean()"
      ],
      "execution_count": 65,
      "outputs": [
        {
          "output_type": "execute_result",
          "data": {
            "text/plain": [
              "0.9990044537594971"
            ]
          },
          "metadata": {
            "tags": []
          },
          "execution_count": 65
        }
      ]
    },
    {
      "cell_type": "code",
      "metadata": {
        "id": "kogl1nyfx3HQ",
        "colab": {
          "base_uri": "https://localhost:8080/"
        },
        "outputId": "44c48a73-7f98-49be-8f9d-fb7d1abc065a"
      },
      "source": [
        "accuracy_score(y_train, y_pred)"
      ],
      "execution_count": 66,
      "outputs": [
        {
          "output_type": "execute_result",
          "data": {
            "text/plain": [
              "1.0"
            ]
          },
          "metadata": {
            "tags": []
          },
          "execution_count": 66
        }
      ]
    },
    {
      "cell_type": "code",
      "metadata": {
        "id": "4NqqkFI-yAkn",
        "colab": {
          "base_uri": "https://localhost:8080/"
        },
        "outputId": "1fc5a389-0e60-49e1-df69-cbfbfc7d5914"
      },
      "source": [
        "rmse = sqrt(mean_squared_error(y_train, y_pred))\n",
        "rmse"
      ],
      "execution_count": 67,
      "outputs": [
        {
          "output_type": "execute_result",
          "data": {
            "text/plain": [
              "0.0"
            ]
          },
          "metadata": {
            "tags": []
          },
          "execution_count": 67
        }
      ]
    },
    {
      "cell_type": "code",
      "metadata": {
        "id": "hpsP9EKoz0f_",
        "colab": {
          "base_uri": "https://localhost:8080/",
          "height": 265
        },
        "outputId": "82d8b6cd-ef02-49b2-bc58-7e499bfbbb30"
      },
      "source": [
        "fpr, tpr, _ = roc_curve(y_train, y_pred)\n",
        "roc_auc_scr =  roc_auc_score(y_train, y_pred)\n",
        "plt.plot(fpr,tpr,label=\"data, auc=\"+str(roc_auc_scr))\n",
        "plt.legend(loc=4)\n",
        "plt.show()"
      ],
      "execution_count": 68,
      "outputs": [
        {
          "output_type": "display_data",
          "data": {
            "image/png": "[encoded data removed]",
            "text/plain": [
              "<Figure size 432x288 with 1 Axes>"
            ]
          },
          "metadata": {
            "tags": [],
            "needs_background": "light"
          }
        }
      ]
    },
    {
      "cell_type": "code",
      "metadata": {
        "colab": {
          "base_uri": "https://localhost:8080/",
          "height": 295
        },
        "id": "LcHPDaSYkQGH",
        "outputId": "289a4278-c54f-4c5b-f184-fe393593bb66"
      },
      "source": [
        "plot_Kfold_cross_validation_curves(X_train, y_train)"
      ],
      "execution_count": 69,
      "outputs": [
        {
          "output_type": "display_data",
          "data": {
            "image/png": "[encoded data removed]",
            "text/plain": [
              "<Figure size 432x288 with 1 Axes>"
            ]
          },
          "metadata": {
            "tags": [],
            "needs_background": "light"
          }
        }
      ]
    },
    {
      "cell_type": "markdown",
      "metadata": {
        "id": "1e3GXDKx5sKD"
      },
      "source": [
        "## Teste"
      ]
    },
    {
      "cell_type": "code",
      "metadata": {
        "id": "D29TGihY3uM6"
      },
      "source": [
        "y_pred = knn.predict(X_test)"
      ],
      "execution_count": null,
      "outputs": []
    },
    {
      "cell_type": "code",
      "metadata": {
        "id": "01Hb5MHF33Tg"
      },
      "source": [
        "print(classification_report(y_test, y_pred))"
      ],
      "execution_count": null,
      "outputs": []
    },
    {
      "cell_type": "code",
      "metadata": {
        "id": "tybBBEAh35Pv"
      },
      "source": [
        "pd.crosstab(y_test, y_pred, rownames=['Real'],colnames=['Predito'],margins=True)"
      ],
      "execution_count": null,
      "outputs": []
    },
    {
      "cell_type": "code",
      "metadata": {
        "id": "fMHYao9y39w4"
      },
      "source": [
        "scores = cross_val_score(knn, X_test, y_test, cv=5, scoring='accuracy')\r\n",
        "scores"
      ],
      "execution_count": null,
      "outputs": []
    },
    {
      "cell_type": "code",
      "metadata": {
        "id": "UpaadsvS4DV2"
      },
      "source": [
        "scores.mean()"
      ],
      "execution_count": null,
      "outputs": []
    },
    {
      "cell_type": "code",
      "metadata": {
        "id": "FpRovKRa4ICh"
      },
      "source": [
        "accuracy_score(y_test, y_pred)"
      ],
      "execution_count": null,
      "outputs": []
    },
    {
      "cell_type": "code",
      "metadata": {
        "id": "6q9YEHuO4KJX"
      },
      "source": [
        "rmse = sqrt(mean_squared_error(y_test, y_pred))\r\n",
        "rmse"
      ],
      "execution_count": null,
      "outputs": []
    },
    {
      "cell_type": "code",
      "metadata": {
        "id": "_tk57NUV4LjN"
      },
      "source": [
        "fpr, tpr, _ = roc_curve(y_test, y_pred)\r\n",
        "roc_auc_scr =  roc_auc_score(y_test, y_pred)\r\n",
        "plt.plot(fpr,tpr,label=\"data, auc=\"+str(roc_auc_scr))\r\n",
        "plt.legend(loc=4)\r\n",
        "plt.show()"
      ],
      "execution_count": null,
      "outputs": []
    },
    {
      "cell_type": "code",
      "metadata": {
        "id": "yF24AvUS4QlH"
      },
      "source": [
        "plot_Kfold_cross_validation_curves(X_test, y_test)"
      ],
      "execution_count": null,
      "outputs": []
    },
    {
      "cell_type": "markdown",
      "metadata": {
        "id": "giZi9VFEPbfG"
      },
      "source": [
        "# MLPClassifier"
      ]
    },
    {
      "cell_type": "code",
      "metadata": {
        "id": "TCP1wGp0PdwJ"
      },
      "source": [
        "clf = MLPClassifier(hidden_layer_sizes=(100,100,100), max_iter=500, alpha=0.0001,\n",
        "                     solver='sgd', verbose=10,  random_state=21,tol=0.000000001)"
      ],
      "execution_count": null,
      "outputs": []
    },
    {
      "cell_type": "markdown",
      "metadata": {
        "id": "cQ9wZSqs5fQw"
      },
      "source": [
        "## Treino"
      ]
    },
    {
      "cell_type": "code",
      "metadata": {
        "id": "9g-Gk6rq2FIT"
      },
      "source": [
        "clf.fit(X_train, y_train)\n",
        "y_pred = clf.predict(X_train)"
      ],
      "execution_count": null,
      "outputs": []
    },
    {
      "cell_type": "code",
      "metadata": {
        "id": "ZL0h0Lx32Nyt"
      },
      "source": [
        " print(classification_report(y_train, y_pred))"
      ],
      "execution_count": null,
      "outputs": []
    },
    {
      "cell_type": "code",
      "metadata": {
        "id": "AUGrMZhT2Srz"
      },
      "source": [
        "pd.crosstab(y_train, y_pred, rownames=['Real'],colnames=['Predito'],margins=True)"
      ],
      "execution_count": null,
      "outputs": []
    },
    {
      "cell_type": "code",
      "metadata": {
        "id": "jJEpukK92ZED"
      },
      "source": [
        "scores = cross_val_score(clf, X_train, y_train, cv=5, scoring='accuracy')\n",
        "scores"
      ],
      "execution_count": null,
      "outputs": []
    },
    {
      "cell_type": "code",
      "metadata": {
        "id": "xKIgmpAo2bpy"
      },
      "source": [
        "scores.mean()"
      ],
      "execution_count": null,
      "outputs": []
    },
    {
      "cell_type": "code",
      "metadata": {
        "id": "9CObHkwe2NEz"
      },
      "source": [
        "accuracy_score(y_train, y_pred)"
      ],
      "execution_count": null,
      "outputs": []
    },
    {
      "cell_type": "code",
      "metadata": {
        "id": "V-7innmQ2d0F"
      },
      "source": [
        "rmse = sqrt(mean_squared_error(y_train, y_pred))\n",
        "rmse"
      ],
      "execution_count": null,
      "outputs": []
    },
    {
      "cell_type": "code",
      "metadata": {
        "id": "e7VLXhbi3XCI"
      },
      "source": [
        "fpr, tpr, _ = roc_curve(y_train, y_pred)\n",
        "roc_auc_scr =  roc_auc_score(y_train, y_pred)\n",
        "plt.plot(fpr,tpr,label=\"data, auc=\"+str(roc_auc_scr))\n",
        "plt.legend(loc=4)\n",
        "plt.show()"
      ],
      "execution_count": null,
      "outputs": []
    },
    {
      "cell_type": "code",
      "metadata": {
        "id": "ZW6DtnbJ4hw9"
      },
      "source": [
        "plot_Kfold_cross_validation_curves(X_train, y_train)"
      ],
      "execution_count": null,
      "outputs": []
    },
    {
      "cell_type": "markdown",
      "metadata": {
        "id": "Wnv9olx35m6Q"
      },
      "source": [
        "## Teste"
      ]
    },
    {
      "cell_type": "code",
      "metadata": {
        "id": "bB7rrxM241Yr"
      },
      "source": [
        "y_pred = clf.predict(X_test)"
      ],
      "execution_count": null,
      "outputs": []
    },
    {
      "cell_type": "code",
      "metadata": {
        "id": "RUVaLQc746WR"
      },
      "source": [
        " print(classification_report(y_test, y_pred))"
      ],
      "execution_count": null,
      "outputs": []
    },
    {
      "cell_type": "code",
      "metadata": {
        "id": "bDmSabqj4-YW"
      },
      "source": [
        "pd.crosstab(y_test, y_pred, rownames=['Real'],colnames=['Predito'],margins=True)"
      ],
      "execution_count": null,
      "outputs": []
    },
    {
      "cell_type": "code",
      "metadata": {
        "id": "bgp98eI55Cgl"
      },
      "source": [
        "scores = cross_val_score(clf, X_test, y_test, cv=5, scoring='accuracy')\r\n",
        "scores"
      ],
      "execution_count": null,
      "outputs": []
    },
    {
      "cell_type": "code",
      "metadata": {
        "id": "3duu5Rxy5F3a"
      },
      "source": [
        "scores.mean()"
      ],
      "execution_count": null,
      "outputs": []
    },
    {
      "cell_type": "code",
      "metadata": {
        "id": "KQYudM9b5H38"
      },
      "source": [
        "accuracy_score(y_test, y_pred)"
      ],
      "execution_count": null,
      "outputs": []
    },
    {
      "cell_type": "code",
      "metadata": {
        "id": "SRvKrjsK5ObE"
      },
      "source": [
        "rmse = sqrt(mean_squared_error(y_test, y_pred))\r\n",
        "rmse"
      ],
      "execution_count": null,
      "outputs": []
    },
    {
      "cell_type": "code",
      "metadata": {
        "id": "uCOF_vtk5RPb"
      },
      "source": [
        "fpr, tpr, _ = roc_curve(y_test, y_pred)\r\n",
        "roc_auc_scr =  roc_auc_score(y_test, y_pred)\r\n",
        "plt.plot(fpr,tpr,label=\"data, auc=\"+str(roc_auc_scr))\r\n",
        "plt.legend(loc=4)\r\n",
        "plt.show()"
      ],
      "execution_count": null,
      "outputs": []
    },
    {
      "cell_type": "code",
      "metadata": {
        "id": "NUMi0WOV5UAM"
      },
      "source": [
        "plot_Kfold_cross_validation_curves(X_test, y_test)"
      ],
      "execution_count": null,
      "outputs": []
    }
  ]
}