{
  "nbformat": 4,
  "nbformat_minor": 0,
  "metadata": {
    "colab": {
      "name": "cc_fraud_detector.ipynb",
      "provenance": [],
      "collapsed_sections": [],
      "toc_visible": true,
      "include_colab_link": true
    },
    "kernelspec": {
      "name": "python3",
      "display_name": "Python 3"
    }
  },
  "cells": [
    {
      "cell_type": "markdown",
      "metadata": {
        "id": "view-in-github",
        "colab_type": "text"
      },
      "source": [
        "<a href=\"https://colab.research.google.com/github/brendontj/CC-Fraud-Detection/blob/master/cc_fraud_detector.ipynb\" target=\"_parent\"><img src=\"https://colab.research.google.com/assets/colab-badge.svg\" alt=\"Open In Colab\"/></a>"
      ]
    },
    {
      "cell_type": "code",
      "metadata": {
        "id": "yNc2f7lJTRQn"
      },
      "source": [
        "import pandas as pd\n",
        "import numpy as np\n",
        "import seaborn as sns\n",
        "import matplotlib.pyplot as plt\n",
        "\n",
        "from sklearn.model_selection import train_test_split, cross_val_score\n",
        "from sklearn.feature_selection import mutual_info_classif, SelectKBest\n",
        "from sklearn.ensemble import RandomForestClassifier\n",
        "from sklearn.metrics import classification_report, roc_curve, roc_auc_score, mean_squared_error, accuracy_score\n",
        "from sklearn.neighbors import KNeighborsClassifier\n",
        "from math import sqrt"
      ],
      "execution_count": null,
      "outputs": []
    },
    {
      "cell_type": "code",
      "metadata": {
        "colab": {
          "base_uri": "https://localhost:8080/",
          "height": 241
        },
        "id": "eZUVuwvxffVP",
        "outputId": "f7971a5f-09cb-432a-c467-91a8530c0f6e"
      },
      "source": [
        "data = pd.read_csv('creditcard.csv')\n",
        "print('Quantidade de linhas do dataset {}'.format(data.shape[0]))\n",
        "data.head()"
      ],
      "execution_count": null,
      "outputs": [
        {
          "output_type": "stream",
          "text": [
            "Quantidade de linhas do dataset 284807\n"
          ],
          "name": "stdout"
        },
        {
          "output_type": "execute_result",
          "data": {
            "text/html": [
              "<div>\n",
              "<style scoped>\n",
              "    .dataframe tbody tr th:only-of-type {\n",
              "        vertical-align: middle;\n",
              "    }\n",
              "\n",
              "    .dataframe tbody tr th {\n",
              "        vertical-align: top;\n",
              "    }\n",
              "\n",
              "    .dataframe thead th {\n",
              "        text-align: right;\n",
              "    }\n",
              "</style>\n",
              "<table border=\"1\" class=\"dataframe\">\n",
              "  <thead>\n",
              "    <tr style=\"text-align: right;\">\n",
              "      <th></th>\n",
              "      <th>Time</th>\n",
              "      <th>V1</th>\n",
              "      <th>V2</th>\n",
              "      <th>V3</th>\n",
              "      <th>V4</th>\n",
              "      <th>V5</th>\n",
              "      <th>V6</th>\n",
              "      <th>V7</th>\n",
              "      <th>V8</th>\n",
              "      <th>V9</th>\n",
              "      <th>V10</th>\n",
              "      <th>V11</th>\n",
              "      <th>V12</th>\n",
              "      <th>V13</th>\n",
              "      <th>V14</th>\n",
              "      <th>V15</th>\n",
              "      <th>V16</th>\n",
              "      <th>V17</th>\n",
              "      <th>V18</th>\n",
              "      <th>V19</th>\n",
              "      <th>V20</th>\n",
              "      <th>V21</th>\n",
              "      <th>V22</th>\n",
              "      <th>V23</th>\n",
              "      <th>V24</th>\n",
              "      <th>V25</th>\n",
              "      <th>V26</th>\n",
              "      <th>V27</th>\n",
              "      <th>V28</th>\n",
              "      <th>Amount</th>\n",
              "      <th>Class</th>\n",
              "    </tr>\n",
              "  </thead>\n",
              "  <tbody>\n",
              "    <tr>\n",
              "      <th>0</th>\n",
              "      <td>0.0</td>\n",
              "      <td>-1.359807</td>\n",
              "      <td>-0.072781</td>\n",
              "      <td>2.536347</td>\n",
              "      <td>1.378155</td>\n",
              "      <td>-0.338321</td>\n",
              "      <td>0.462388</td>\n",
              "      <td>0.239599</td>\n",
              "      <td>0.098698</td>\n",
              "      <td>0.363787</td>\n",
              "      <td>0.090794</td>\n",
              "      <td>-0.551600</td>\n",
              "      <td>-0.617801</td>\n",
              "      <td>-0.991390</td>\n",
              "      <td>-0.311169</td>\n",
              "      <td>1.468177</td>\n",
              "      <td>-0.470401</td>\n",
              "      <td>0.207971</td>\n",
              "      <td>0.025791</td>\n",
              "      <td>0.403993</td>\n",
              "      <td>0.251412</td>\n",
              "      <td>-0.018307</td>\n",
              "      <td>0.277838</td>\n",
              "      <td>-0.110474</td>\n",
              "      <td>0.066928</td>\n",
              "      <td>0.128539</td>\n",
              "      <td>-0.189115</td>\n",
              "      <td>0.133558</td>\n",
              "      <td>-0.021053</td>\n",
              "      <td>149.62</td>\n",
              "      <td>0</td>\n",
              "    </tr>\n",
              "    <tr>\n",
              "      <th>1</th>\n",
              "      <td>0.0</td>\n",
              "      <td>1.191857</td>\n",
              "      <td>0.266151</td>\n",
              "      <td>0.166480</td>\n",
              "      <td>0.448154</td>\n",
              "      <td>0.060018</td>\n",
              "      <td>-0.082361</td>\n",
              "      <td>-0.078803</td>\n",
              "      <td>0.085102</td>\n",
              "      <td>-0.255425</td>\n",
              "      <td>-0.166974</td>\n",
              "      <td>1.612727</td>\n",
              "      <td>1.065235</td>\n",
              "      <td>0.489095</td>\n",
              "      <td>-0.143772</td>\n",
              "      <td>0.635558</td>\n",
              "      <td>0.463917</td>\n",
              "      <td>-0.114805</td>\n",
              "      <td>-0.183361</td>\n",
              "      <td>-0.145783</td>\n",
              "      <td>-0.069083</td>\n",
              "      <td>-0.225775</td>\n",
              "      <td>-0.638672</td>\n",
              "      <td>0.101288</td>\n",
              "      <td>-0.339846</td>\n",
              "      <td>0.167170</td>\n",
              "      <td>0.125895</td>\n",
              "      <td>-0.008983</td>\n",
              "      <td>0.014724</td>\n",
              "      <td>2.69</td>\n",
              "      <td>0</td>\n",
              "    </tr>\n",
              "    <tr>\n",
              "      <th>2</th>\n",
              "      <td>1.0</td>\n",
              "      <td>-1.358354</td>\n",
              "      <td>-1.340163</td>\n",
              "      <td>1.773209</td>\n",
              "      <td>0.379780</td>\n",
              "      <td>-0.503198</td>\n",
              "      <td>1.800499</td>\n",
              "      <td>0.791461</td>\n",
              "      <td>0.247676</td>\n",
              "      <td>-1.514654</td>\n",
              "      <td>0.207643</td>\n",
              "      <td>0.624501</td>\n",
              "      <td>0.066084</td>\n",
              "      <td>0.717293</td>\n",
              "      <td>-0.165946</td>\n",
              "      <td>2.345865</td>\n",
              "      <td>-2.890083</td>\n",
              "      <td>1.109969</td>\n",
              "      <td>-0.121359</td>\n",
              "      <td>-2.261857</td>\n",
              "      <td>0.524980</td>\n",
              "      <td>0.247998</td>\n",
              "      <td>0.771679</td>\n",
              "      <td>0.909412</td>\n",
              "      <td>-0.689281</td>\n",
              "      <td>-0.327642</td>\n",
              "      <td>-0.139097</td>\n",
              "      <td>-0.055353</td>\n",
              "      <td>-0.059752</td>\n",
              "      <td>378.66</td>\n",
              "      <td>0</td>\n",
              "    </tr>\n",
              "    <tr>\n",
              "      <th>3</th>\n",
              "      <td>1.0</td>\n",
              "      <td>-0.966272</td>\n",
              "      <td>-0.185226</td>\n",
              "      <td>1.792993</td>\n",
              "      <td>-0.863291</td>\n",
              "      <td>-0.010309</td>\n",
              "      <td>1.247203</td>\n",
              "      <td>0.237609</td>\n",
              "      <td>0.377436</td>\n",
              "      <td>-1.387024</td>\n",
              "      <td>-0.054952</td>\n",
              "      <td>-0.226487</td>\n",
              "      <td>0.178228</td>\n",
              "      <td>0.507757</td>\n",
              "      <td>-0.287924</td>\n",
              "      <td>-0.631418</td>\n",
              "      <td>-1.059647</td>\n",
              "      <td>-0.684093</td>\n",
              "      <td>1.965775</td>\n",
              "      <td>-1.232622</td>\n",
              "      <td>-0.208038</td>\n",
              "      <td>-0.108300</td>\n",
              "      <td>0.005274</td>\n",
              "      <td>-0.190321</td>\n",
              "      <td>-1.175575</td>\n",
              "      <td>0.647376</td>\n",
              "      <td>-0.221929</td>\n",
              "      <td>0.062723</td>\n",
              "      <td>0.061458</td>\n",
              "      <td>123.50</td>\n",
              "      <td>0</td>\n",
              "    </tr>\n",
              "    <tr>\n",
              "      <th>4</th>\n",
              "      <td>2.0</td>\n",
              "      <td>-1.158233</td>\n",
              "      <td>0.877737</td>\n",
              "      <td>1.548718</td>\n",
              "      <td>0.403034</td>\n",
              "      <td>-0.407193</td>\n",
              "      <td>0.095921</td>\n",
              "      <td>0.592941</td>\n",
              "      <td>-0.270533</td>\n",
              "      <td>0.817739</td>\n",
              "      <td>0.753074</td>\n",
              "      <td>-0.822843</td>\n",
              "      <td>0.538196</td>\n",
              "      <td>1.345852</td>\n",
              "      <td>-1.119670</td>\n",
              "      <td>0.175121</td>\n",
              "      <td>-0.451449</td>\n",
              "      <td>-0.237033</td>\n",
              "      <td>-0.038195</td>\n",
              "      <td>0.803487</td>\n",
              "      <td>0.408542</td>\n",
              "      <td>-0.009431</td>\n",
              "      <td>0.798278</td>\n",
              "      <td>-0.137458</td>\n",
              "      <td>0.141267</td>\n",
              "      <td>-0.206010</td>\n",
              "      <td>0.502292</td>\n",
              "      <td>0.219422</td>\n",
              "      <td>0.215153</td>\n",
              "      <td>69.99</td>\n",
              "      <td>0</td>\n",
              "    </tr>\n",
              "  </tbody>\n",
              "</table>\n",
              "</div>"
            ],
            "text/plain": [
              "   Time        V1        V2        V3  ...       V27       V28  Amount  Class\n",
              "0   0.0 -1.359807 -0.072781  2.536347  ...  0.133558 -0.021053  149.62      0\n",
              "1   0.0  1.191857  0.266151  0.166480  ... -0.008983  0.014724    2.69      0\n",
              "2   1.0 -1.358354 -1.340163  1.773209  ... -0.055353 -0.059752  378.66      0\n",
              "3   1.0 -0.966272 -0.185226  1.792993  ...  0.062723  0.061458  123.50      0\n",
              "4   2.0 -1.158233  0.877737  1.548718  ...  0.219422  0.215153   69.99      0\n",
              "\n",
              "[5 rows x 31 columns]"
            ]
          },
          "metadata": {
            "tags": []
          },
          "execution_count": 16
        }
      ]
    },
    {
      "cell_type": "code",
      "metadata": {
        "colab": {
          "base_uri": "https://localhost:8080/",
          "height": 241
        },
        "id": "CfTeMAhsg_MW",
        "outputId": "f2811f33-fd44-4c74-d9be-5383ea1d1ae9"
      },
      "source": [
        "df = data.dropna()\n",
        "df = df.drop(columns=\"Time\") # Removing column time, because is not relevant\n",
        "df['ID']= np.arange(1,len(df.Class)+1)\n",
        "print('Quantidade de linhas do dataset sem valor Null/NaN/NaT {}'.format(df.shape[0]))\n",
        "df.head()"
      ],
      "execution_count": null,
      "outputs": [
        {
          "output_type": "stream",
          "text": [
            "Quantidade de linhas do dataset sem valor Null/NaN/NaT 284807\n"
          ],
          "name": "stdout"
        },
        {
          "output_type": "execute_result",
          "data": {
            "text/html": [
              "<div>\n",
              "<style scoped>\n",
              "    .dataframe tbody tr th:only-of-type {\n",
              "        vertical-align: middle;\n",
              "    }\n",
              "\n",
              "    .dataframe tbody tr th {\n",
              "        vertical-align: top;\n",
              "    }\n",
              "\n",
              "    .dataframe thead th {\n",
              "        text-align: right;\n",
              "    }\n",
              "</style>\n",
              "<table border=\"1\" class=\"dataframe\">\n",
              "  <thead>\n",
              "    <tr style=\"text-align: right;\">\n",
              "      <th></th>\n",
              "      <th>V1</th>\n",
              "      <th>V2</th>\n",
              "      <th>V3</th>\n",
              "      <th>V4</th>\n",
              "      <th>V5</th>\n",
              "      <th>V6</th>\n",
              "      <th>V7</th>\n",
              "      <th>V8</th>\n",
              "      <th>V9</th>\n",
              "      <th>V10</th>\n",
              "      <th>V11</th>\n",
              "      <th>V12</th>\n",
              "      <th>V13</th>\n",
              "      <th>V14</th>\n",
              "      <th>V15</th>\n",
              "      <th>V16</th>\n",
              "      <th>V17</th>\n",
              "      <th>V18</th>\n",
              "      <th>V19</th>\n",
              "      <th>V20</th>\n",
              "      <th>V21</th>\n",
              "      <th>V22</th>\n",
              "      <th>V23</th>\n",
              "      <th>V24</th>\n",
              "      <th>V25</th>\n",
              "      <th>V26</th>\n",
              "      <th>V27</th>\n",
              "      <th>V28</th>\n",
              "      <th>Amount</th>\n",
              "      <th>Class</th>\n",
              "      <th>ID</th>\n",
              "    </tr>\n",
              "  </thead>\n",
              "  <tbody>\n",
              "    <tr>\n",
              "      <th>0</th>\n",
              "      <td>-1.359807</td>\n",
              "      <td>-0.072781</td>\n",
              "      <td>2.536347</td>\n",
              "      <td>1.378155</td>\n",
              "      <td>-0.338321</td>\n",
              "      <td>0.462388</td>\n",
              "      <td>0.239599</td>\n",
              "      <td>0.098698</td>\n",
              "      <td>0.363787</td>\n",
              "      <td>0.090794</td>\n",
              "      <td>-0.551600</td>\n",
              "      <td>-0.617801</td>\n",
              "      <td>-0.991390</td>\n",
              "      <td>-0.311169</td>\n",
              "      <td>1.468177</td>\n",
              "      <td>-0.470401</td>\n",
              "      <td>0.207971</td>\n",
              "      <td>0.025791</td>\n",
              "      <td>0.403993</td>\n",
              "      <td>0.251412</td>\n",
              "      <td>-0.018307</td>\n",
              "      <td>0.277838</td>\n",
              "      <td>-0.110474</td>\n",
              "      <td>0.066928</td>\n",
              "      <td>0.128539</td>\n",
              "      <td>-0.189115</td>\n",
              "      <td>0.133558</td>\n",
              "      <td>-0.021053</td>\n",
              "      <td>149.62</td>\n",
              "      <td>0</td>\n",
              "      <td>1</td>\n",
              "    </tr>\n",
              "    <tr>\n",
              "      <th>1</th>\n",
              "      <td>1.191857</td>\n",
              "      <td>0.266151</td>\n",
              "      <td>0.166480</td>\n",
              "      <td>0.448154</td>\n",
              "      <td>0.060018</td>\n",
              "      <td>-0.082361</td>\n",
              "      <td>-0.078803</td>\n",
              "      <td>0.085102</td>\n",
              "      <td>-0.255425</td>\n",
              "      <td>-0.166974</td>\n",
              "      <td>1.612727</td>\n",
              "      <td>1.065235</td>\n",
              "      <td>0.489095</td>\n",
              "      <td>-0.143772</td>\n",
              "      <td>0.635558</td>\n",
              "      <td>0.463917</td>\n",
              "      <td>-0.114805</td>\n",
              "      <td>-0.183361</td>\n",
              "      <td>-0.145783</td>\n",
              "      <td>-0.069083</td>\n",
              "      <td>-0.225775</td>\n",
              "      <td>-0.638672</td>\n",
              "      <td>0.101288</td>\n",
              "      <td>-0.339846</td>\n",
              "      <td>0.167170</td>\n",
              "      <td>0.125895</td>\n",
              "      <td>-0.008983</td>\n",
              "      <td>0.014724</td>\n",
              "      <td>2.69</td>\n",
              "      <td>0</td>\n",
              "      <td>2</td>\n",
              "    </tr>\n",
              "    <tr>\n",
              "      <th>2</th>\n",
              "      <td>-1.358354</td>\n",
              "      <td>-1.340163</td>\n",
              "      <td>1.773209</td>\n",
              "      <td>0.379780</td>\n",
              "      <td>-0.503198</td>\n",
              "      <td>1.800499</td>\n",
              "      <td>0.791461</td>\n",
              "      <td>0.247676</td>\n",
              "      <td>-1.514654</td>\n",
              "      <td>0.207643</td>\n",
              "      <td>0.624501</td>\n",
              "      <td>0.066084</td>\n",
              "      <td>0.717293</td>\n",
              "      <td>-0.165946</td>\n",
              "      <td>2.345865</td>\n",
              "      <td>-2.890083</td>\n",
              "      <td>1.109969</td>\n",
              "      <td>-0.121359</td>\n",
              "      <td>-2.261857</td>\n",
              "      <td>0.524980</td>\n",
              "      <td>0.247998</td>\n",
              "      <td>0.771679</td>\n",
              "      <td>0.909412</td>\n",
              "      <td>-0.689281</td>\n",
              "      <td>-0.327642</td>\n",
              "      <td>-0.139097</td>\n",
              "      <td>-0.055353</td>\n",
              "      <td>-0.059752</td>\n",
              "      <td>378.66</td>\n",
              "      <td>0</td>\n",
              "      <td>3</td>\n",
              "    </tr>\n",
              "    <tr>\n",
              "      <th>3</th>\n",
              "      <td>-0.966272</td>\n",
              "      <td>-0.185226</td>\n",
              "      <td>1.792993</td>\n",
              "      <td>-0.863291</td>\n",
              "      <td>-0.010309</td>\n",
              "      <td>1.247203</td>\n",
              "      <td>0.237609</td>\n",
              "      <td>0.377436</td>\n",
              "      <td>-1.387024</td>\n",
              "      <td>-0.054952</td>\n",
              "      <td>-0.226487</td>\n",
              "      <td>0.178228</td>\n",
              "      <td>0.507757</td>\n",
              "      <td>-0.287924</td>\n",
              "      <td>-0.631418</td>\n",
              "      <td>-1.059647</td>\n",
              "      <td>-0.684093</td>\n",
              "      <td>1.965775</td>\n",
              "      <td>-1.232622</td>\n",
              "      <td>-0.208038</td>\n",
              "      <td>-0.108300</td>\n",
              "      <td>0.005274</td>\n",
              "      <td>-0.190321</td>\n",
              "      <td>-1.175575</td>\n",
              "      <td>0.647376</td>\n",
              "      <td>-0.221929</td>\n",
              "      <td>0.062723</td>\n",
              "      <td>0.061458</td>\n",
              "      <td>123.50</td>\n",
              "      <td>0</td>\n",
              "      <td>4</td>\n",
              "    </tr>\n",
              "    <tr>\n",
              "      <th>4</th>\n",
              "      <td>-1.158233</td>\n",
              "      <td>0.877737</td>\n",
              "      <td>1.548718</td>\n",
              "      <td>0.403034</td>\n",
              "      <td>-0.407193</td>\n",
              "      <td>0.095921</td>\n",
              "      <td>0.592941</td>\n",
              "      <td>-0.270533</td>\n",
              "      <td>0.817739</td>\n",
              "      <td>0.753074</td>\n",
              "      <td>-0.822843</td>\n",
              "      <td>0.538196</td>\n",
              "      <td>1.345852</td>\n",
              "      <td>-1.119670</td>\n",
              "      <td>0.175121</td>\n",
              "      <td>-0.451449</td>\n",
              "      <td>-0.237033</td>\n",
              "      <td>-0.038195</td>\n",
              "      <td>0.803487</td>\n",
              "      <td>0.408542</td>\n",
              "      <td>-0.009431</td>\n",
              "      <td>0.798278</td>\n",
              "      <td>-0.137458</td>\n",
              "      <td>0.141267</td>\n",
              "      <td>-0.206010</td>\n",
              "      <td>0.502292</td>\n",
              "      <td>0.219422</td>\n",
              "      <td>0.215153</td>\n",
              "      <td>69.99</td>\n",
              "      <td>0</td>\n",
              "      <td>5</td>\n",
              "    </tr>\n",
              "  </tbody>\n",
              "</table>\n",
              "</div>"
            ],
            "text/plain": [
              "         V1        V2        V3        V4  ...       V28  Amount  Class  ID\n",
              "0 -1.359807 -0.072781  2.536347  1.378155  ... -0.021053  149.62      0   1\n",
              "1  1.191857  0.266151  0.166480  0.448154  ...  0.014724    2.69      0   2\n",
              "2 -1.358354 -1.340163  1.773209  0.379780  ... -0.059752  378.66      0   3\n",
              "3 -0.966272 -0.185226  1.792993 -0.863291  ...  0.061458  123.50      0   4\n",
              "4 -1.158233  0.877737  1.548718  0.403034  ...  0.215153   69.99      0   5\n",
              "\n",
              "[5 rows x 31 columns]"
            ]
          },
          "metadata": {
            "tags": []
          },
          "execution_count": 17
        }
      ]
    },
    {
      "cell_type": "code",
      "metadata": {
        "colab": {
          "base_uri": "https://localhost:8080/"
        },
        "id": "GcqF7KN6igzQ",
        "outputId": "5ce4dd19-c351-4d1a-fd8b-f0c830dbf3a5"
      },
      "source": [
        "x_train,  x_test, y_train, y_test = train_test_split(df.drop(['ID', 'Class'], axis=1), df['Class'], test_size=0.20, random_state = 0)\n",
        "print('Dados de treino {}\\n'.format(x_train.shape))\n",
        "print('Dados de teste  {}\\n'.format(x_test.shape))"
      ],
      "execution_count": null,
      "outputs": [
        {
          "output_type": "stream",
          "text": [
            "Dados de treino (227845, 29)\n",
            "\n",
            "Dados de teste  (56962, 29)\n",
            "\n"
          ],
          "name": "stdout"
        }
      ]
    },
    {
      "cell_type": "code",
      "metadata": {
        "id": "OLscTbRRBcLL"
      },
      "source": [
        "df_train = x_train.copy()\n",
        "df_train['Class'] = y_train\n",
        "df_test = x_test.copy()\n",
        "df_test['Class'] = y_test"
      ],
      "execution_count": null,
      "outputs": []
    },
    {
      "cell_type": "code",
      "metadata": {
        "colab": {
          "base_uri": "https://localhost:8080/",
          "height": 317
        },
        "id": "1gaKurr2lN-V",
        "outputId": "565b0019-8457-44ff-d1ea-c1523de711bc"
      },
      "source": [
        "df_train.describe()"
      ],
      "execution_count": null,
      "outputs": [
        {
          "output_type": "execute_result",
          "data": {
            "text/html": [
              "<div>\n",
              "<style scoped>\n",
              "    .dataframe tbody tr th:only-of-type {\n",
              "        vertical-align: middle;\n",
              "    }\n",
              "\n",
              "    .dataframe tbody tr th {\n",
              "        vertical-align: top;\n",
              "    }\n",
              "\n",
              "    .dataframe thead th {\n",
              "        text-align: right;\n",
              "    }\n",
              "</style>\n",
              "<table border=\"1\" class=\"dataframe\">\n",
              "  <thead>\n",
              "    <tr style=\"text-align: right;\">\n",
              "      <th></th>\n",
              "      <th>V1</th>\n",
              "      <th>V2</th>\n",
              "      <th>V3</th>\n",
              "      <th>V4</th>\n",
              "      <th>V5</th>\n",
              "      <th>V6</th>\n",
              "      <th>V7</th>\n",
              "      <th>V8</th>\n",
              "      <th>V9</th>\n",
              "      <th>V10</th>\n",
              "      <th>V11</th>\n",
              "      <th>V12</th>\n",
              "      <th>V13</th>\n",
              "      <th>V14</th>\n",
              "      <th>V15</th>\n",
              "      <th>V16</th>\n",
              "      <th>V17</th>\n",
              "      <th>V18</th>\n",
              "      <th>V19</th>\n",
              "      <th>V20</th>\n",
              "      <th>V21</th>\n",
              "      <th>V22</th>\n",
              "      <th>V23</th>\n",
              "      <th>V24</th>\n",
              "      <th>V25</th>\n",
              "      <th>V26</th>\n",
              "      <th>V27</th>\n",
              "      <th>V28</th>\n",
              "      <th>Amount</th>\n",
              "      <th>Class</th>\n",
              "    </tr>\n",
              "  </thead>\n",
              "  <tbody>\n",
              "    <tr>\n",
              "      <th>count</th>\n",
              "      <td>227845.000000</td>\n",
              "      <td>227845.000000</td>\n",
              "      <td>227845.000000</td>\n",
              "      <td>227845.000000</td>\n",
              "      <td>227845.000000</td>\n",
              "      <td>227845.000000</td>\n",
              "      <td>227845.000000</td>\n",
              "      <td>227845.000000</td>\n",
              "      <td>227845.000000</td>\n",
              "      <td>227845.000000</td>\n",
              "      <td>227845.000000</td>\n",
              "      <td>227845.000000</td>\n",
              "      <td>227845.000000</td>\n",
              "      <td>227845.000000</td>\n",
              "      <td>227845.000000</td>\n",
              "      <td>227845.000000</td>\n",
              "      <td>227845.000000</td>\n",
              "      <td>227845.000000</td>\n",
              "      <td>227845.000000</td>\n",
              "      <td>227845.000000</td>\n",
              "      <td>227845.000000</td>\n",
              "      <td>227845.000000</td>\n",
              "      <td>227845.000000</td>\n",
              "      <td>227845.000000</td>\n",
              "      <td>227845.000000</td>\n",
              "      <td>227845.000000</td>\n",
              "      <td>227845.000000</td>\n",
              "      <td>227845.000000</td>\n",
              "      <td>227845.000000</td>\n",
              "      <td>227845.000000</td>\n",
              "    </tr>\n",
              "    <tr>\n",
              "      <th>mean</th>\n",
              "      <td>0.002930</td>\n",
              "      <td>-0.000877</td>\n",
              "      <td>-0.001470</td>\n",
              "      <td>0.001131</td>\n",
              "      <td>-0.001714</td>\n",
              "      <td>-0.001035</td>\n",
              "      <td>-0.000411</td>\n",
              "      <td>-0.001360</td>\n",
              "      <td>-0.000018</td>\n",
              "      <td>0.001496</td>\n",
              "      <td>-0.000732</td>\n",
              "      <td>-0.000990</td>\n",
              "      <td>0.000816</td>\n",
              "      <td>0.000992</td>\n",
              "      <td>0.000608</td>\n",
              "      <td>-0.000131</td>\n",
              "      <td>0.000657</td>\n",
              "      <td>-0.000735</td>\n",
              "      <td>0.000312</td>\n",
              "      <td>0.001775</td>\n",
              "      <td>0.000266</td>\n",
              "      <td>0.000300</td>\n",
              "      <td>-0.000276</td>\n",
              "      <td>0.000687</td>\n",
              "      <td>0.000192</td>\n",
              "      <td>-0.000584</td>\n",
              "      <td>-0.000574</td>\n",
              "      <td>-0.000135</td>\n",
              "      <td>88.630203</td>\n",
              "      <td>0.001716</td>\n",
              "    </tr>\n",
              "    <tr>\n",
              "      <th>std</th>\n",
              "      <td>1.955265</td>\n",
              "      <td>1.649672</td>\n",
              "      <td>1.515055</td>\n",
              "      <td>1.416360</td>\n",
              "      <td>1.365962</td>\n",
              "      <td>1.326404</td>\n",
              "      <td>1.225317</td>\n",
              "      <td>1.205508</td>\n",
              "      <td>1.099972</td>\n",
              "      <td>1.091091</td>\n",
              "      <td>1.019688</td>\n",
              "      <td>0.997871</td>\n",
              "      <td>0.997318</td>\n",
              "      <td>0.956432</td>\n",
              "      <td>0.915323</td>\n",
              "      <td>0.875836</td>\n",
              "      <td>0.850158</td>\n",
              "      <td>0.837698</td>\n",
              "      <td>0.815065</td>\n",
              "      <td>0.764878</td>\n",
              "      <td>0.737593</td>\n",
              "      <td>0.726705</td>\n",
              "      <td>0.623074</td>\n",
              "      <td>0.605268</td>\n",
              "      <td>0.520835</td>\n",
              "      <td>0.481943</td>\n",
              "      <td>0.401394</td>\n",
              "      <td>0.320750</td>\n",
              "      <td>248.037789</td>\n",
              "      <td>0.041390</td>\n",
              "    </tr>\n",
              "    <tr>\n",
              "      <th>min</th>\n",
              "      <td>-46.855047</td>\n",
              "      <td>-63.344698</td>\n",
              "      <td>-33.680984</td>\n",
              "      <td>-5.683171</td>\n",
              "      <td>-42.147898</td>\n",
              "      <td>-23.496714</td>\n",
              "      <td>-43.557242</td>\n",
              "      <td>-73.216718</td>\n",
              "      <td>-13.434066</td>\n",
              "      <td>-24.588262</td>\n",
              "      <td>-4.797473</td>\n",
              "      <td>-18.553697</td>\n",
              "      <td>-5.791881</td>\n",
              "      <td>-19.214325</td>\n",
              "      <td>-4.498945</td>\n",
              "      <td>-14.129855</td>\n",
              "      <td>-25.162799</td>\n",
              "      <td>-9.498746</td>\n",
              "      <td>-7.213527</td>\n",
              "      <td>-23.646890</td>\n",
              "      <td>-34.830382</td>\n",
              "      <td>-10.933144</td>\n",
              "      <td>-44.807735</td>\n",
              "      <td>-2.822684</td>\n",
              "      <td>-10.295397</td>\n",
              "      <td>-2.604551</td>\n",
              "      <td>-22.565679</td>\n",
              "      <td>-11.710896</td>\n",
              "      <td>0.000000</td>\n",
              "      <td>0.000000</td>\n",
              "    </tr>\n",
              "    <tr>\n",
              "      <th>25%</th>\n",
              "      <td>-0.919898</td>\n",
              "      <td>-0.599013</td>\n",
              "      <td>-0.894424</td>\n",
              "      <td>-0.847412</td>\n",
              "      <td>-0.693585</td>\n",
              "      <td>-0.769201</td>\n",
              "      <td>-0.553573</td>\n",
              "      <td>-0.209145</td>\n",
              "      <td>-0.644499</td>\n",
              "      <td>-0.534165</td>\n",
              "      <td>-0.763115</td>\n",
              "      <td>-0.407805</td>\n",
              "      <td>-0.649363</td>\n",
              "      <td>-0.424852</td>\n",
              "      <td>-0.583393</td>\n",
              "      <td>-0.468316</td>\n",
              "      <td>-0.483629</td>\n",
              "      <td>-0.499053</td>\n",
              "      <td>-0.456435</td>\n",
              "      <td>-0.211511</td>\n",
              "      <td>-0.228658</td>\n",
              "      <td>-0.543193</td>\n",
              "      <td>-0.161766</td>\n",
              "      <td>-0.354153</td>\n",
              "      <td>-0.316644</td>\n",
              "      <td>-0.327647</td>\n",
              "      <td>-0.070776</td>\n",
              "      <td>-0.052865</td>\n",
              "      <td>5.690000</td>\n",
              "      <td>0.000000</td>\n",
              "    </tr>\n",
              "    <tr>\n",
              "      <th>50%</th>\n",
              "      <td>0.021886</td>\n",
              "      <td>0.063972</td>\n",
              "      <td>0.177138</td>\n",
              "      <td>-0.017538</td>\n",
              "      <td>-0.055515</td>\n",
              "      <td>-0.274916</td>\n",
              "      <td>0.039988</td>\n",
              "      <td>0.021545</td>\n",
              "      <td>-0.050353</td>\n",
              "      <td>-0.091912</td>\n",
              "      <td>-0.033716</td>\n",
              "      <td>0.139185</td>\n",
              "      <td>-0.013345</td>\n",
              "      <td>0.050754</td>\n",
              "      <td>0.049506</td>\n",
              "      <td>0.066979</td>\n",
              "      <td>-0.065926</td>\n",
              "      <td>-0.004297</td>\n",
              "      <td>0.004283</td>\n",
              "      <td>-0.062430</td>\n",
              "      <td>-0.028974</td>\n",
              "      <td>0.006970</td>\n",
              "      <td>-0.010914</td>\n",
              "      <td>0.041164</td>\n",
              "      <td>0.017429</td>\n",
              "      <td>-0.052443</td>\n",
              "      <td>0.001091</td>\n",
              "      <td>0.011171</td>\n",
              "      <td>22.000000</td>\n",
              "      <td>0.000000</td>\n",
              "    </tr>\n",
              "    <tr>\n",
              "      <th>75%</th>\n",
              "      <td>1.316871</td>\n",
              "      <td>0.802516</td>\n",
              "      <td>1.026049</td>\n",
              "      <td>0.744471</td>\n",
              "      <td>0.610153</td>\n",
              "      <td>0.397215</td>\n",
              "      <td>0.569938</td>\n",
              "      <td>0.325849</td>\n",
              "      <td>0.597788</td>\n",
              "      <td>0.457121</td>\n",
              "      <td>0.739265</td>\n",
              "      <td>0.618081</td>\n",
              "      <td>0.664465</td>\n",
              "      <td>0.493876</td>\n",
              "      <td>0.649587</td>\n",
              "      <td>0.522822</td>\n",
              "      <td>0.400096</td>\n",
              "      <td>0.499689</td>\n",
              "      <td>0.459840</td>\n",
              "      <td>0.133394</td>\n",
              "      <td>0.187107</td>\n",
              "      <td>0.529867</td>\n",
              "      <td>0.147642</td>\n",
              "      <td>0.439916</td>\n",
              "      <td>0.350742</td>\n",
              "      <td>0.240840</td>\n",
              "      <td>0.090529</td>\n",
              "      <td>0.078142</td>\n",
              "      <td>77.600000</td>\n",
              "      <td>0.000000</td>\n",
              "    </tr>\n",
              "    <tr>\n",
              "      <th>max</th>\n",
              "      <td>2.451888</td>\n",
              "      <td>22.057729</td>\n",
              "      <td>9.382558</td>\n",
              "      <td>16.875344</td>\n",
              "      <td>34.099309</td>\n",
              "      <td>23.917837</td>\n",
              "      <td>44.054461</td>\n",
              "      <td>20.007208</td>\n",
              "      <td>15.594995</td>\n",
              "      <td>23.745136</td>\n",
              "      <td>12.018913</td>\n",
              "      <td>7.848392</td>\n",
              "      <td>4.569009</td>\n",
              "      <td>10.526766</td>\n",
              "      <td>5.825654</td>\n",
              "      <td>7.059132</td>\n",
              "      <td>9.207059</td>\n",
              "      <td>5.041069</td>\n",
              "      <td>5.572113</td>\n",
              "      <td>39.420904</td>\n",
              "      <td>27.202839</td>\n",
              "      <td>10.503090</td>\n",
              "      <td>22.528412</td>\n",
              "      <td>4.022866</td>\n",
              "      <td>7.519589</td>\n",
              "      <td>3.463246</td>\n",
              "      <td>12.152401</td>\n",
              "      <td>22.620072</td>\n",
              "      <td>19656.530000</td>\n",
              "      <td>1.000000</td>\n",
              "    </tr>\n",
              "  </tbody>\n",
              "</table>\n",
              "</div>"
            ],
            "text/plain": [
              "                  V1             V2  ...         Amount          Class\n",
              "count  227845.000000  227845.000000  ...  227845.000000  227845.000000\n",
              "mean        0.002930      -0.000877  ...      88.630203       0.001716\n",
              "std         1.955265       1.649672  ...     248.037789       0.041390\n",
              "min       -46.855047     -63.344698  ...       0.000000       0.000000\n",
              "25%        -0.919898      -0.599013  ...       5.690000       0.000000\n",
              "50%         0.021886       0.063972  ...      22.000000       0.000000\n",
              "75%         1.316871       0.802516  ...      77.600000       0.000000\n",
              "max         2.451888      22.057729  ...   19656.530000       1.000000\n",
              "\n",
              "[8 rows x 30 columns]"
            ]
          },
          "metadata": {
            "tags": []
          },
          "execution_count": 20
        }
      ]
    },
    {
      "cell_type": "code",
      "metadata": {
        "colab": {
          "base_uri": "https://localhost:8080/",
          "height": 317
        },
        "id": "1VR9euGZlQgg",
        "outputId": "ce7c4334-5453-4ca0-89a8-b9b297a34f27"
      },
      "source": [
        "df_test.describe()"
      ],
      "execution_count": null,
      "outputs": [
        {
          "output_type": "execute_result",
          "data": {
            "text/html": [
              "<div>\n",
              "<style scoped>\n",
              "    .dataframe tbody tr th:only-of-type {\n",
              "        vertical-align: middle;\n",
              "    }\n",
              "\n",
              "    .dataframe tbody tr th {\n",
              "        vertical-align: top;\n",
              "    }\n",
              "\n",
              "    .dataframe thead th {\n",
              "        text-align: right;\n",
              "    }\n",
              "</style>\n",
              "<table border=\"1\" class=\"dataframe\">\n",
              "  <thead>\n",
              "    <tr style=\"text-align: right;\">\n",
              "      <th></th>\n",
              "      <th>V1</th>\n",
              "      <th>V2</th>\n",
              "      <th>V3</th>\n",
              "      <th>V4</th>\n",
              "      <th>V5</th>\n",
              "      <th>V6</th>\n",
              "      <th>V7</th>\n",
              "      <th>V8</th>\n",
              "      <th>V9</th>\n",
              "      <th>V10</th>\n",
              "      <th>V11</th>\n",
              "      <th>V12</th>\n",
              "      <th>V13</th>\n",
              "      <th>V14</th>\n",
              "      <th>V15</th>\n",
              "      <th>V16</th>\n",
              "      <th>V17</th>\n",
              "      <th>V18</th>\n",
              "      <th>V19</th>\n",
              "      <th>V20</th>\n",
              "      <th>V21</th>\n",
              "      <th>V22</th>\n",
              "      <th>V23</th>\n",
              "      <th>V24</th>\n",
              "      <th>V25</th>\n",
              "      <th>V26</th>\n",
              "      <th>V27</th>\n",
              "      <th>V28</th>\n",
              "      <th>Amount</th>\n",
              "      <th>Class</th>\n",
              "    </tr>\n",
              "  </thead>\n",
              "  <tbody>\n",
              "    <tr>\n",
              "      <th>count</th>\n",
              "      <td>56962.000000</td>\n",
              "      <td>56962.000000</td>\n",
              "      <td>56962.000000</td>\n",
              "      <td>56962.000000</td>\n",
              "      <td>56962.000000</td>\n",
              "      <td>56962.000000</td>\n",
              "      <td>56962.000000</td>\n",
              "      <td>56962.000000</td>\n",
              "      <td>56962.000000</td>\n",
              "      <td>56962.000000</td>\n",
              "      <td>56962.000000</td>\n",
              "      <td>56962.000000</td>\n",
              "      <td>56962.000000</td>\n",
              "      <td>56962.000000</td>\n",
              "      <td>56962.000000</td>\n",
              "      <td>56962.000000</td>\n",
              "      <td>56962.000000</td>\n",
              "      <td>56962.000000</td>\n",
              "      <td>56962.000000</td>\n",
              "      <td>56962.000000</td>\n",
              "      <td>56962.000000</td>\n",
              "      <td>56962.000000</td>\n",
              "      <td>56962.000000</td>\n",
              "      <td>56962.000000</td>\n",
              "      <td>56962.000000</td>\n",
              "      <td>56962.000000</td>\n",
              "      <td>56962.000000</td>\n",
              "      <td>56962.000000</td>\n",
              "      <td>56962.000000</td>\n",
              "      <td>56962.000000</td>\n",
              "    </tr>\n",
              "    <tr>\n",
              "      <th>mean</th>\n",
              "      <td>-0.011720</td>\n",
              "      <td>0.003508</td>\n",
              "      <td>0.005881</td>\n",
              "      <td>-0.004524</td>\n",
              "      <td>0.006858</td>\n",
              "      <td>0.004139</td>\n",
              "      <td>0.001644</td>\n",
              "      <td>0.005440</td>\n",
              "      <td>0.000074</td>\n",
              "      <td>-0.005986</td>\n",
              "      <td>0.002927</td>\n",
              "      <td>0.003958</td>\n",
              "      <td>-0.003264</td>\n",
              "      <td>-0.003967</td>\n",
              "      <td>-0.002431</td>\n",
              "      <td>0.000523</td>\n",
              "      <td>-0.002629</td>\n",
              "      <td>0.002940</td>\n",
              "      <td>-0.001246</td>\n",
              "      <td>-0.007101</td>\n",
              "      <td>-0.001065</td>\n",
              "      <td>-0.001201</td>\n",
              "      <td>0.001104</td>\n",
              "      <td>-0.002750</td>\n",
              "      <td>-0.000767</td>\n",
              "      <td>0.002337</td>\n",
              "      <td>0.002295</td>\n",
              "      <td>0.000541</td>\n",
              "      <td>87.227297</td>\n",
              "      <td>0.001773</td>\n",
              "    </tr>\n",
              "    <tr>\n",
              "      <th>std</th>\n",
              "      <td>1.972334</td>\n",
              "      <td>1.657848</td>\n",
              "      <td>1.521044</td>\n",
              "      <td>1.413903</td>\n",
              "      <td>1.435957</td>\n",
              "      <td>1.355490</td>\n",
              "      <td>1.283130</td>\n",
              "      <td>1.148643</td>\n",
              "      <td>1.093268</td>\n",
              "      <td>1.079827</td>\n",
              "      <td>1.024805</td>\n",
              "      <td>1.004503</td>\n",
              "      <td>0.987058</td>\n",
              "      <td>0.967199</td>\n",
              "      <td>0.915292</td>\n",
              "      <td>0.877925</td>\n",
              "      <td>0.846048</td>\n",
              "      <td>0.840086</td>\n",
              "      <td>0.809937</td>\n",
              "      <td>0.794620</td>\n",
              "      <td>0.722125</td>\n",
              "      <td>0.721680</td>\n",
              "      <td>0.629978</td>\n",
              "      <td>0.607158</td>\n",
              "      <td>0.523049</td>\n",
              "      <td>0.483359</td>\n",
              "      <td>0.412459</td>\n",
              "      <td>0.365040</td>\n",
              "      <td>258.280642</td>\n",
              "      <td>0.042071</td>\n",
              "    </tr>\n",
              "    <tr>\n",
              "      <th>min</th>\n",
              "      <td>-56.407510</td>\n",
              "      <td>-72.715728</td>\n",
              "      <td>-48.325589</td>\n",
              "      <td>-5.600607</td>\n",
              "      <td>-113.743307</td>\n",
              "      <td>-26.160506</td>\n",
              "      <td>-23.189397</td>\n",
              "      <td>-50.943369</td>\n",
              "      <td>-8.630390</td>\n",
              "      <td>-17.141514</td>\n",
              "      <td>-4.568390</td>\n",
              "      <td>-18.683715</td>\n",
              "      <td>-3.835618</td>\n",
              "      <td>-18.049998</td>\n",
              "      <td>-4.391307</td>\n",
              "      <td>-13.303888</td>\n",
              "      <td>-22.883999</td>\n",
              "      <td>-9.287832</td>\n",
              "      <td>-4.353679</td>\n",
              "      <td>-54.497720</td>\n",
              "      <td>-22.665685</td>\n",
              "      <td>-8.483441</td>\n",
              "      <td>-32.828995</td>\n",
              "      <td>-2.836627</td>\n",
              "      <td>-8.696627</td>\n",
              "      <td>-1.855355</td>\n",
              "      <td>-8.878665</td>\n",
              "      <td>-15.430084</td>\n",
              "      <td>0.000000</td>\n",
              "      <td>0.000000</td>\n",
              "    </tr>\n",
              "    <tr>\n",
              "      <th>25%</th>\n",
              "      <td>-0.921972</td>\n",
              "      <td>-0.595792</td>\n",
              "      <td>-0.874649</td>\n",
              "      <td>-0.853267</td>\n",
              "      <td>-0.683487</td>\n",
              "      <td>-0.765653</td>\n",
              "      <td>-0.555542</td>\n",
              "      <td>-0.206208</td>\n",
              "      <td>-0.637058</td>\n",
              "      <td>-0.539031</td>\n",
              "      <td>-0.759576</td>\n",
              "      <td>-0.396268</td>\n",
              "      <td>-0.643496</td>\n",
              "      <td>-0.428579</td>\n",
              "      <td>-0.580244</td>\n",
              "      <td>-0.467537</td>\n",
              "      <td>-0.484584</td>\n",
              "      <td>-0.494712</td>\n",
              "      <td>-0.455365</td>\n",
              "      <td>-0.212744</td>\n",
              "      <td>-0.227182</td>\n",
              "      <td>-0.538917</td>\n",
              "      <td>-0.162292</td>\n",
              "      <td>-0.356309</td>\n",
              "      <td>-0.319498</td>\n",
              "      <td>-0.324004</td>\n",
              "      <td>-0.071012</td>\n",
              "      <td>-0.053511</td>\n",
              "      <td>5.460000</td>\n",
              "      <td>0.000000</td>\n",
              "    </tr>\n",
              "    <tr>\n",
              "      <th>50%</th>\n",
              "      <td>-0.002761</td>\n",
              "      <td>0.072712</td>\n",
              "      <td>0.191364</td>\n",
              "      <td>-0.028170</td>\n",
              "      <td>-0.050472</td>\n",
              "      <td>-0.271310</td>\n",
              "      <td>0.040576</td>\n",
              "      <td>0.025516</td>\n",
              "      <td>-0.053689</td>\n",
              "      <td>-0.097007</td>\n",
              "      <td>-0.028609</td>\n",
              "      <td>0.143534</td>\n",
              "      <td>-0.014759</td>\n",
              "      <td>0.049965</td>\n",
              "      <td>0.041602</td>\n",
              "      <td>0.063724</td>\n",
              "      <td>-0.064384</td>\n",
              "      <td>-0.001115</td>\n",
              "      <td>0.002028</td>\n",
              "      <td>-0.062617</td>\n",
              "      <td>-0.031747</td>\n",
              "      <td>0.006132</td>\n",
              "      <td>-0.012237</td>\n",
              "      <td>0.040072</td>\n",
              "      <td>0.013137</td>\n",
              "      <td>-0.050965</td>\n",
              "      <td>0.002251</td>\n",
              "      <td>0.011521</td>\n",
              "      <td>21.940000</td>\n",
              "      <td>0.000000</td>\n",
              "    </tr>\n",
              "    <tr>\n",
              "      <th>75%</th>\n",
              "      <td>1.309289</td>\n",
              "      <td>0.809015</td>\n",
              "      <td>1.031690</td>\n",
              "      <td>0.739049</td>\n",
              "      <td>0.619408</td>\n",
              "      <td>0.403661</td>\n",
              "      <td>0.572788</td>\n",
              "      <td>0.332808</td>\n",
              "      <td>0.594146</td>\n",
              "      <td>0.440694</td>\n",
              "      <td>0.741010</td>\n",
              "      <td>0.618570</td>\n",
              "      <td>0.652610</td>\n",
              "      <td>0.491192</td>\n",
              "      <td>0.645804</td>\n",
              "      <td>0.524908</td>\n",
              "      <td>0.397842</td>\n",
              "      <td>0.505740</td>\n",
              "      <td>0.454977</td>\n",
              "      <td>0.131808</td>\n",
              "      <td>0.183874</td>\n",
              "      <td>0.524395</td>\n",
              "      <td>0.147643</td>\n",
              "      <td>0.438394</td>\n",
              "      <td>0.350657</td>\n",
              "      <td>0.241285</td>\n",
              "      <td>0.093085</td>\n",
              "      <td>0.078844</td>\n",
              "      <td>76.000000</td>\n",
              "      <td>0.000000</td>\n",
              "    </tr>\n",
              "    <tr>\n",
              "      <th>max</th>\n",
              "      <td>2.454930</td>\n",
              "      <td>14.845545</td>\n",
              "      <td>4.079168</td>\n",
              "      <td>16.491217</td>\n",
              "      <td>34.801666</td>\n",
              "      <td>73.301626</td>\n",
              "      <td>120.589494</td>\n",
              "      <td>17.573712</td>\n",
              "      <td>9.272376</td>\n",
              "      <td>15.331742</td>\n",
              "      <td>11.228470</td>\n",
              "      <td>4.406338</td>\n",
              "      <td>7.126883</td>\n",
              "      <td>7.293226</td>\n",
              "      <td>8.877742</td>\n",
              "      <td>17.315112</td>\n",
              "      <td>9.253526</td>\n",
              "      <td>4.295648</td>\n",
              "      <td>5.591971</td>\n",
              "      <td>19.746453</td>\n",
              "      <td>22.579714</td>\n",
              "      <td>7.220158</td>\n",
              "      <td>19.002942</td>\n",
              "      <td>4.584549</td>\n",
              "      <td>5.521140</td>\n",
              "      <td>3.517346</td>\n",
              "      <td>31.612198</td>\n",
              "      <td>33.847808</td>\n",
              "      <td>25691.160000</td>\n",
              "      <td>1.000000</td>\n",
              "    </tr>\n",
              "  </tbody>\n",
              "</table>\n",
              "</div>"
            ],
            "text/plain": [
              "                 V1            V2  ...        Amount         Class\n",
              "count  56962.000000  56962.000000  ...  56962.000000  56962.000000\n",
              "mean      -0.011720      0.003508  ...     87.227297      0.001773\n",
              "std        1.972334      1.657848  ...    258.280642      0.042071\n",
              "min      -56.407510    -72.715728  ...      0.000000      0.000000\n",
              "25%       -0.921972     -0.595792  ...      5.460000      0.000000\n",
              "50%       -0.002761      0.072712  ...     21.940000      0.000000\n",
              "75%        1.309289      0.809015  ...     76.000000      0.000000\n",
              "max        2.454930     14.845545  ...  25691.160000      1.000000\n",
              "\n",
              "[8 rows x 30 columns]"
            ]
          },
          "metadata": {
            "tags": []
          },
          "execution_count": 21
        }
      ]
    },
    {
      "cell_type": "code",
      "metadata": {
        "colab": {
          "base_uri": "https://localhost:8080/"
        },
        "id": "RC10tOWjIU8t",
        "outputId": "b45dc948-0288-427c-9322-828f6b38ba24"
      },
      "source": [
        "df_train['Class'].value_counts()"
      ],
      "execution_count": null,
      "outputs": [
        {
          "output_type": "execute_result",
          "data": {
            "text/plain": [
              "0    227454\n",
              "1       391\n",
              "Name: Class, dtype: int64"
            ]
          },
          "metadata": {
            "tags": []
          },
          "execution_count": 22
        }
      ]
    },
    {
      "cell_type": "code",
      "metadata": {
        "colab": {
          "base_uri": "https://localhost:8080/"
        },
        "id": "Ho9sDYS_IZ88",
        "outputId": "b4810bf7-f91d-40ef-85aa-689b5e08ad07"
      },
      "source": [
        "df_test['Class'].value_counts()"
      ],
      "execution_count": null,
      "outputs": [
        {
          "output_type": "execute_result",
          "data": {
            "text/plain": [
              "0    56861\n",
              "1      101\n",
              "Name: Class, dtype: int64"
            ]
          },
          "metadata": {
            "tags": []
          },
          "execution_count": 23
        }
      ]
    },
    {
      "cell_type": "code",
      "metadata": {
        "colab": {
          "base_uri": "https://localhost:8080/",
          "height": 279
        },
        "id": "2rsmquWsJUEb",
        "outputId": "033b8cfa-91ed-4ee1-edf3-0ebc3a22ad64"
      },
      "source": [
        "ax = sns.countplot(x=\"Class\", data=df_train)"
      ],
      "execution_count": null,
      "outputs": [
        {
          "output_type": "display_data",
          "data": {
            "image/png": "[encoded data removed]",
            "text/plain": [
              "<Figure size 432x288 with 1 Axes>"
            ]
          },
          "metadata": {
            "tags": [],
            "needs_background": "light"
          }
        }
      ]
    },
    {
      "cell_type": "code",
      "metadata": {
        "colab": {
          "base_uri": "https://localhost:8080/",
          "height": 279
        },
        "id": "-OJgW1w0Jk_-",
        "outputId": "f94c15d4-b551-4245-fb30-defb5e106b8f"
      },
      "source": [
        "bx = sns.countplot(x=\"Class\", data=df_test)"
      ],
      "execution_count": null,
      "outputs": [
        {
          "output_type": "display_data",
          "data": {
            "image/png": "[encoded data removed]",
            "text/plain": [
              "<Figure size 432x288 with 1 Axes>"
            ]
          },
          "metadata": {
            "tags": [],
            "needs_background": "light"
          }
        }
      ]
    },
    {
      "cell_type": "code",
      "metadata": {
        "colab": {
          "base_uri": "https://localhost:8080/"
        },
        "id": "tsoWBnd_GnzL",
        "outputId": "e4521dc0-25c2-473e-9775-7d9eb0d9ba9d"
      },
      "source": [
        "n_fraudulent_transactions = df_train['Class'].value_counts()[1]\n",
        "print('Quantidade de transações fraudulentas no dataset de treino ({}) representando um total de ({})% do dataset'.format(n_fraudulent_transactions, (n_fraudulent_transactions/df_train.shape[0])*100))\n",
        "n_fraudulent_transactions = df_test['Class'].value_counts()[1]\n",
        "print('Quantidade de transações fraudulentas no dataset de teste ({}) representando um total de ({})% do dataset'.format(n_fraudulent_transactions, (n_fraudulent_transactions/df_test.shape[0])*100))"
      ],
      "execution_count": null,
      "outputs": [
        {
          "output_type": "stream",
          "text": [
            "Quantidade de transações fraudulentas no dataset de treino (391) representando um total de (0.171607891329632)% do dataset\n",
            "Quantidade de transações fraudulentas no dataset de teste (101) representando um total de (0.1773111899160844)% do dataset\n"
          ],
          "name": "stdout"
        }
      ]
    },
    {
      "cell_type": "code",
      "metadata": {
        "colab": {
          "base_uri": "https://localhost:8080/"
        },
        "id": "UgGdYx7flG_D",
        "outputId": "af034201-acb7-478b-fde4-9c89b1d2abc2"
      },
      "source": [
        "mic = mutual_info_classif(x_train, y_train)\n",
        "mic"
      ],
      "execution_count": null,
      "outputs": [
        {
          "output_type": "execute_result",
          "data": {
            "text/plain": [
              "array([0.00223417, 0.00324333, 0.0048859 , 0.00493872, 0.0024805 ,\n",
              "       0.00235812, 0.00385478, 0.00200889, 0.00420066, 0.00735391,\n",
              "       0.00683457, 0.00754913, 0.00048603, 0.00795956, 0.00033733,\n",
              "       0.00614541, 0.00819216, 0.00429184, 0.00147992, 0.00127442,\n",
              "       0.00256113, 0.0004726 , 0.00081558, 0.00072547, 0.0006311 ,\n",
              "       0.00054575, 0.00238648, 0.00180494, 0.00139201])"
            ]
          },
          "metadata": {
            "tags": []
          },
          "execution_count": 27
        }
      ]
    },
    {
      "cell_type": "code",
      "metadata": {
        "colab": {
          "base_uri": "https://localhost:8080/",
          "height": 638
        },
        "id": "l9fETRgXl-c8",
        "outputId": "a65dbc2e-d257-4b3a-dfd7-f4d5012d4b27"
      },
      "source": [
        "mic = pd.Series(mic)\n",
        "mic.index = x_train.columns\n",
        "mic = mic.sort_values(ascending = True)\n",
        "mic.plot.bar(figsize=(22,10))"
      ],
      "execution_count": null,
      "outputs": [
        {
          "output_type": "execute_result",
          "data": {
            "text/plain": [
              "<matplotlib.axes._subplots.AxesSubplot at 0x7fb42d52be10>"
            ]
          },
          "metadata": {
            "tags": []
          },
          "execution_count": 28
        },
        {
          "output_type": "display_data",
          "data": {
            "image/png": "[encoded data removed]",
            "text/plain": [
              "<Figure size 1584x720 with 1 Axes>"
            ]
          },
          "metadata": {
            "tags": [],
            "needs_background": "light"
          }
        }
      ]
    },
    {
      "cell_type": "code",
      "metadata": {
        "id": "NdBDaW-HnABb"
      },
      "source": [
        "selection = SelectKBest(mutual_info_classif, k= 20).fit(x_train, y_train)\n",
        "X_train = x_train[x_train.columns[selection.get_support()]]\n",
        "X_test = x_test[x_test.columns[selection.get_support()]]"
      ],
      "execution_count": null,
      "outputs": []
    },
    {
      "cell_type": "markdown",
      "metadata": {
        "id": "owxa6ZjPOKhh"
      },
      "source": [
        "# Random Forest"
      ]
    },
    {
      "cell_type": "markdown",
      "metadata": {
        "id": "e1ixcAFfjL3S"
      },
      "source": [
        "- Treino com sample de treino"
      ]
    },
    {
      "cell_type": "code",
      "metadata": {
        "colab": {
          "base_uri": "https://localhost:8080/"
        },
        "id": "aFymemqQq2JH",
        "outputId": "c743e921-da55-4b10-d7ab-03114001f3fb"
      },
      "source": [
        "rf = RandomForestClassifier()\n",
        "rf.fit(X_train, y_train)"
      ],
      "execution_count": null,
      "outputs": [
        {
          "output_type": "execute_result",
          "data": {
            "text/plain": [
              "RandomForestClassifier(bootstrap=True, ccp_alpha=0.0, class_weight=None,\n",
              "                       criterion='gini', max_depth=None, max_features='auto',\n",
              "                       max_leaf_nodes=None, max_samples=None,\n",
              "                       min_impurity_decrease=0.0, min_impurity_split=None,\n",
              "                       min_samples_leaf=1, min_samples_split=2,\n",
              "                       min_weight_fraction_leaf=0.0, n_estimators=100,\n",
              "                       n_jobs=None, oob_score=False, random_state=None,\n",
              "                       verbose=0, warm_start=False)"
            ]
          },
          "metadata": {
            "tags": []
          },
          "execution_count": 30
        }
      ]
    },
    {
      "cell_type": "markdown",
      "metadata": {
        "id": "lGL1A2ixjbRT"
      },
      "source": [
        "- Relatório de classificação da predição com o modelo Random forest com o sample de treino"
      ]
    },
    {
      "cell_type": "code",
      "metadata": {
        "colab": {
          "base_uri": "https://localhost:8080/"
        },
        "id": "5S5NGcYljXTS",
        "outputId": "23ac60a9-8601-4447-b298-b558d0096660"
      },
      "source": [
        "predictions = rf.predict(X_train)\n",
        "print(classification_report(y_train, predictions))"
      ],
      "execution_count": null,
      "outputs": [
        {
          "output_type": "stream",
          "text": [
            "              precision    recall  f1-score   support\n",
            "\n",
            "           0       1.00      1.00      1.00    227454\n",
            "           1       1.00      1.00      1.00       391\n",
            "\n",
            "    accuracy                           1.00    227845\n",
            "   macro avg       1.00      1.00      1.00    227845\n",
            "weighted avg       1.00      1.00      1.00    227845\n",
            "\n"
          ],
          "name": "stdout"
        }
      ]
    },
    {
      "cell_type": "markdown",
      "metadata": {
        "id": "4Bi71KcCjn7r"
      },
      "source": [
        "- Matriz de confusão dos valores preditos com o conjunto de treino"
      ]
    },
    {
      "cell_type": "code",
      "metadata": {
        "id": "njyVMGnunwwp",
        "colab": {
          "base_uri": "https://localhost:8080/",
          "height": 173
        },
        "outputId": "3e72b78d-380e-48e5-c58e-ebe0720fe294"
      },
      "source": [
        "pd.crosstab(y_train, predictions, rownames=['Real'],colnames=['Predito'],margins=True)"
      ],
      "execution_count": null,
      "outputs": [
        {
          "output_type": "execute_result",
          "data": {
            "text/html": [
              "<div>\n",
              "<style scoped>\n",
              "    .dataframe tbody tr th:only-of-type {\n",
              "        vertical-align: middle;\n",
              "    }\n",
              "\n",
              "    .dataframe tbody tr th {\n",
              "        vertical-align: top;\n",
              "    }\n",
              "\n",
              "    .dataframe thead th {\n",
              "        text-align: right;\n",
              "    }\n",
              "</style>\n",
              "<table border=\"1\" class=\"dataframe\">\n",
              "  <thead>\n",
              "    <tr style=\"text-align: right;\">\n",
              "      <th>Predito</th>\n",
              "      <th>0</th>\n",
              "      <th>1</th>\n",
              "      <th>All</th>\n",
              "    </tr>\n",
              "    <tr>\n",
              "      <th>Real</th>\n",
              "      <th></th>\n",
              "      <th></th>\n",
              "      <th></th>\n",
              "    </tr>\n",
              "  </thead>\n",
              "  <tbody>\n",
              "    <tr>\n",
              "      <th>0</th>\n",
              "      <td>227454</td>\n",
              "      <td>0</td>\n",
              "      <td>227454</td>\n",
              "    </tr>\n",
              "    <tr>\n",
              "      <th>1</th>\n",
              "      <td>0</td>\n",
              "      <td>391</td>\n",
              "      <td>391</td>\n",
              "    </tr>\n",
              "    <tr>\n",
              "      <th>All</th>\n",
              "      <td>227454</td>\n",
              "      <td>391</td>\n",
              "      <td>227845</td>\n",
              "    </tr>\n",
              "  </tbody>\n",
              "</table>\n",
              "</div>"
            ],
            "text/plain": [
              "Predito       0    1     All\n",
              "Real                        \n",
              "0        227454    0  227454\n",
              "1             0  391     391\n",
              "All      227454  391  227845"
            ]
          },
          "metadata": {
            "tags": []
          },
          "execution_count": 33
        }
      ]
    },
    {
      "cell_type": "markdown",
      "metadata": {
        "id": "sE7DnFY-jzJv"
      },
      "source": [
        "- Validação cruzada utilizando 5 pastas"
      ]
    },
    {
      "cell_type": "code",
      "metadata": {
        "id": "0ct-yzB2fCPM",
        "colab": {
          "base_uri": "https://localhost:8080/"
        },
        "outputId": "2d4b501a-27cd-4bb2-def5-f9f079e84929"
      },
      "source": [
        "scores = cross_val_score(rf, X_train, y_train, cv=5, scoring='accuracy')\n",
        "scores"
      ],
      "execution_count": null,
      "outputs": [
        {
          "output_type": "execute_result",
          "data": {
            "text/plain": [
              "array([0.99960499, 0.99940749, 0.99964888, 0.99951722, 0.99949527])"
            ]
          },
          "metadata": {
            "tags": []
          },
          "execution_count": 34
        }
      ]
    },
    {
      "cell_type": "markdown",
      "metadata": {
        "id": "eKTu5VKtj_Sa"
      },
      "source": [
        "- Media dos scores obtidos"
      ]
    },
    {
      "cell_type": "code",
      "metadata": {
        "colab": {
          "base_uri": "https://localhost:8080/"
        },
        "id": "-mUN-alkjv_k",
        "outputId": "3f9212c0-3ae6-4b54-af4c-f96b82121979"
      },
      "source": [
        "scores.mean()"
      ],
      "execution_count": null,
      "outputs": [
        {
          "output_type": "execute_result",
          "data": {
            "text/plain": [
              "0.9995347714455003"
            ]
          },
          "metadata": {
            "tags": []
          },
          "execution_count": 35
        }
      ]
    },
    {
      "cell_type": "markdown",
      "metadata": {
        "id": "knVoURIF9sWn"
      },
      "source": [
        "- Acurácia do modelo"
      ]
    },
    {
      "cell_type": "code",
      "metadata": {
        "colab": {
          "base_uri": "https://localhost:8080/"
        },
        "id": "1otoQtsp9rWH",
        "outputId": "3d3fc8f9-b2b1-4904-bf49-e385818443a0"
      },
      "source": [
        "accuracy_score(y_train, predictions)"
      ],
      "execution_count": null,
      "outputs": [
        {
          "output_type": "execute_result",
          "data": {
            "text/plain": [
              "1.0"
            ]
          },
          "metadata": {
            "tags": []
          },
          "execution_count": 67
        }
      ]
    },
    {
      "cell_type": "markdown",
      "metadata": {
        "id": "Vg6h_dD98MqW"
      },
      "source": [
        "- Root Mean Squared Error (RMSE) "
      ]
    },
    {
      "cell_type": "code",
      "metadata": {
        "colab": {
          "base_uri": "https://localhost:8080/"
        },
        "id": "hJQvPDMd8ItB",
        "outputId": "52f15086-c4df-4c24-e2a4-84e13f0c7ab1"
      },
      "source": [
        "rmse = sqrt(mean_squared_error(y_train, predictions))\n",
        "rmse"
      ],
      "execution_count": null,
      "outputs": [
        {
          "output_type": "execute_result",
          "data": {
            "text/plain": [
              "0.0"
            ]
          },
          "metadata": {
            "tags": []
          },
          "execution_count": 63
        }
      ]
    },
    {
      "cell_type": "markdown",
      "metadata": {
        "id": "mGAT9y95nCOj"
      },
      "source": [
        "- Curva ROC"
      ]
    },
    {
      "cell_type": "code",
      "metadata": {
        "colab": {
          "base_uri": "https://localhost:8080/",
          "height": 265
        },
        "id": "IpLo2KtjmIAK",
        "outputId": "b67fbaa6-fa39-4ad2-b727-eac6bea03659"
      },
      "source": [
        "cv = StratifiedKFold(n_splits=5)\n",
        "\n",
        "tprs = []\n",
        "aucs = []\n",
        "mean_fpr = np.linspace(0, 1, 100)\n",
        "\n",
        "fig, ax = plt.subplots()\n",
        "for i, (train, test) in enumerate(cv.split(X, y)):\n",
        "    rf.fit(X[train], y[train])\n",
        "    viz = plot_roc_curve(rf, X[test], y[test],\n",
        "                         name='ROC fold {}'.format(i),\n",
        "                         alpha=0.3, lw=1, ax=ax)\n",
        "    interp_tpr = np.interp(mean_fpr, viz.fpr, viz.tpr)\n",
        "    interp_tpr[0] = 0.0\n",
        "    tprs.append(interp_tpr)\n",
        "    aucs.append(viz.roc_auc)\n",
        "\n",
        "ax.plot([0, 1], [0, 1], linestyle='--', lw=2, color='r',\n",
        "        label='Chance', alpha=.8)\n",
        "\n",
        "mean_tpr = np.mean(tprs, axis=0)\n",
        "mean_tpr[-1] = 1.0\n",
        "mean_auc = auc(mean_fpr, mean_tpr)\n",
        "std_auc = np.std(aucs)\n",
        "ax.plot(mean_fpr, mean_tpr, color='b',\n",
        "        label=r'Mean ROC (AUC = %0.2f $\\pm$ %0.2f)' % (mean_auc, std_auc),\n",
        "        lw=2, alpha=.8)\n",
        "\n",
        "std_tpr = np.std(tprs, axis=0)\n",
        "tprs_upper = np.minimum(mean_tpr + std_tpr, 1)\n",
        "tprs_lower = np.maximum(mean_tpr - std_tpr, 0)\n",
        "ax.fill_between(mean_fpr, tprs_lower, tprs_upper, color='grey', alpha=.2,\n",
        "                label=r'$\\pm$ 1 std. dev.')\n",
        "\n",
        "ax.set(xlim=[-0.05, 1.05], ylim=[-0.05, 1.05],\n",
        "       title=\"Receiver operating characteristic example\")\n",
        "ax.legend(loc=\"lower right\")\n",
        "plt.show()"
      ],
      "execution_count": null,
      "outputs": [
        {
          "output_type": "display_data",
          "data": {
            "image/png": "[encoded data removed]",
            "text/plain": [
              "<Figure size 432x288 with 1 Axes>"
            ]
          },
          "metadata": {
            "tags": [],
            "needs_background": "light"
          }
        }
      ]
    },
    {
      "cell_type": "markdown",
      "metadata": {
        "id": "BLAB8P6AkG2L"
      },
      "source": [
        "- Predição do sample de teste"
      ]
    },
    {
      "cell_type": "code",
      "metadata": {
        "id": "2NP6MyeutU7D"
      },
      "source": [
        "predictions_test = rf.predict(X_test)"
      ],
      "execution_count": null,
      "outputs": []
    },
    {
      "cell_type": "markdown",
      "metadata": {
        "id": "xyaMdfoAkUyW"
      },
      "source": [
        "- Relatório de classificação da predição com o modelo Random forest com o sample de teste"
      ]
    },
    {
      "cell_type": "code",
      "metadata": {
        "colab": {
          "base_uri": "https://localhost:8080/"
        },
        "id": "8dP_bcm5kQ3C",
        "outputId": "017f339c-b38c-41c3-f1ca-cc649d1a8bc5"
      },
      "source": [
        "print(classification_report(y_test, predictions_test))"
      ],
      "execution_count": null,
      "outputs": [
        {
          "output_type": "stream",
          "text": [
            "              precision    recall  f1-score   support\n",
            "\n",
            "           0       1.00      1.00      1.00     56861\n",
            "           1       0.93      0.79      0.86       101\n",
            "\n",
            "    accuracy                           1.00     56962\n",
            "   macro avg       0.96      0.90      0.93     56962\n",
            "weighted avg       1.00      1.00      1.00     56962\n",
            "\n"
          ],
          "name": "stdout"
        }
      ]
    },
    {
      "cell_type": "markdown",
      "metadata": {
        "id": "JQ6w9D7SkkMo"
      },
      "source": [
        "- Matriz de confusão dos valores preditos com o conjunto de teste"
      ]
    },
    {
      "cell_type": "code",
      "metadata": {
        "id": "uJIkYyI1oKzr",
        "colab": {
          "base_uri": "https://localhost:8080/",
          "height": 173
        },
        "outputId": "22bae1f4-2846-4c2c-f447-d23634d94377"
      },
      "source": [
        "pd.crosstab(y_test, predictions_test, rownames=['Real'],colnames=['Predito'],margins=True) "
      ],
      "execution_count": null,
      "outputs": [
        {
          "output_type": "execute_result",
          "data": {
            "text/html": [
              "<div>\n",
              "<style scoped>\n",
              "    .dataframe tbody tr th:only-of-type {\n",
              "        vertical-align: middle;\n",
              "    }\n",
              "\n",
              "    .dataframe tbody tr th {\n",
              "        vertical-align: top;\n",
              "    }\n",
              "\n",
              "    .dataframe thead th {\n",
              "        text-align: right;\n",
              "    }\n",
              "</style>\n",
              "<table border=\"1\" class=\"dataframe\">\n",
              "  <thead>\n",
              "    <tr style=\"text-align: right;\">\n",
              "      <th>Predito</th>\n",
              "      <th>0</th>\n",
              "      <th>1</th>\n",
              "      <th>All</th>\n",
              "    </tr>\n",
              "    <tr>\n",
              "      <th>Real</th>\n",
              "      <th></th>\n",
              "      <th></th>\n",
              "      <th></th>\n",
              "    </tr>\n",
              "  </thead>\n",
              "  <tbody>\n",
              "    <tr>\n",
              "      <th>0</th>\n",
              "      <td>56855</td>\n",
              "      <td>6</td>\n",
              "      <td>56861</td>\n",
              "    </tr>\n",
              "    <tr>\n",
              "      <th>1</th>\n",
              "      <td>21</td>\n",
              "      <td>80</td>\n",
              "      <td>101</td>\n",
              "    </tr>\n",
              "    <tr>\n",
              "      <th>All</th>\n",
              "      <td>56876</td>\n",
              "      <td>86</td>\n",
              "      <td>56962</td>\n",
              "    </tr>\n",
              "  </tbody>\n",
              "</table>\n",
              "</div>"
            ],
            "text/plain": [
              "Predito      0   1    All\n",
              "Real                     \n",
              "0        56855   6  56861\n",
              "1           21  80    101\n",
              "All      56876  86  56962"
            ]
          },
          "metadata": {
            "tags": []
          },
          "execution_count": 50
        }
      ]
    },
    {
      "cell_type": "markdown",
      "metadata": {
        "id": "nNenluCDksUE"
      },
      "source": [
        "- Validação cruzada utilizando 5 pastas com conjunto de teste"
      ]
    },
    {
      "cell_type": "code",
      "metadata": {
        "id": "7SyA2FdfnlJk",
        "colab": {
          "base_uri": "https://localhost:8080/"
        },
        "outputId": "33bda518-2ca6-4108-9ee7-a3d7446c0b9c"
      },
      "source": [
        "scores = cross_val_score(rf, X_test, predictions_test, cv=5, scoring='accuracy')\n",
        "scores"
      ],
      "execution_count": null,
      "outputs": [
        {
          "output_type": "execute_result",
          "data": {
            "text/plain": [
              "array([0.99973668, 0.99964891, 0.99982444, 0.9995611 , 0.99991222])"
            ]
          },
          "metadata": {
            "tags": []
          },
          "execution_count": 55
        }
      ]
    },
    {
      "cell_type": "markdown",
      "metadata": {
        "id": "54zV1n_mk1ma"
      },
      "source": [
        "- Media dos scores obtidos com o conjunto de teste"
      ]
    },
    {
      "cell_type": "code",
      "metadata": {
        "colab": {
          "base_uri": "https://localhost:8080/"
        },
        "id": "p__RCkAdkzPE",
        "outputId": "bae05333-5fe7-413a-945e-d014c46f2554"
      },
      "source": [
        "scores.mean()"
      ],
      "execution_count": null,
      "outputs": [
        {
          "output_type": "execute_result",
          "data": {
            "text/plain": [
              "0.9996839995507788"
            ]
          },
          "metadata": {
            "tags": []
          },
          "execution_count": 52
        }
      ]
    },
    {
      "cell_type": "markdown",
      "metadata": {
        "id": "4B5va7gw9-mR"
      },
      "source": [
        "- Acurácia do modelo"
      ]
    },
    {
      "cell_type": "code",
      "metadata": {
        "colab": {
          "base_uri": "https://localhost:8080/"
        },
        "id": "wePT4YrX9930",
        "outputId": "5f32da00-189a-4ce2-9b0a-ab77e6bad60a"
      },
      "source": [
        "accuracy_score(y_test, predictions_test)"
      ],
      "execution_count": null,
      "outputs": [
        {
          "output_type": "execute_result",
          "data": {
            "text/plain": [
              "0.9995259997893332"
            ]
          },
          "metadata": {
            "tags": []
          },
          "execution_count": 68
        }
      ]
    },
    {
      "cell_type": "markdown",
      "metadata": {
        "id": "6-CjgM258h6e"
      },
      "source": [
        "- Root Mean Squared Error (RMSE)"
      ]
    },
    {
      "cell_type": "code",
      "metadata": {
        "colab": {
          "base_uri": "https://localhost:8080/"
        },
        "id": "0sdttlBo8hA7",
        "outputId": "f451969f-b793-4f40-c7aa-4f266557c52b"
      },
      "source": [
        "rmse = sqrt(mean_squared_error(y_test, predictions_test))\n",
        "rmse"
      ],
      "execution_count": null,
      "outputs": [
        {
          "output_type": "execute_result",
          "data": {
            "text/plain": [
              "0.021771545895199088"
            ]
          },
          "metadata": {
            "tags": []
          },
          "execution_count": 69
        }
      ]
    },
    {
      "cell_type": "markdown",
      "metadata": {
        "id": "U42RdVNMtJ37"
      },
      "source": [
        "- Curva ROC, conjunto de teste"
      ]
    },
    {
      "cell_type": "code",
      "metadata": {
        "colab": {
          "base_uri": "https://localhost:8080/",
          "height": 265
        },
        "id": "3spn8Gf2mEt5",
        "outputId": "a05c686d-852a-49d9-e701-7e51d2f2302c"
      },
      "source": [
        "fpr, tpr, _ = roc_curve(y_test, predictions_test)\n",
        "auc =  roc_auc_score(y_test, predictions_test)\n",
        "plt.plot(fpr,tpr,label=\"data, auc=\"+str(auc))\n",
        "plt.legend(loc=4)\n",
        "plt.show()"
      ],
      "execution_count": null,
      "outputs": [
        {
          "output_type": "display_data",
          "data": {
            "image/png": "[encoded data removed]",
            "text/plain": [
              "<Figure size 432x288 with 1 Axes>"
            ]
          },
          "metadata": {
            "tags": [],
            "needs_background": "light"
          }
        }
      ]
    },
    {
      "cell_type": "markdown",
      "metadata": {
        "id": "1sZhJG0MOQw1"
      },
      "source": [
        "# KNN "
      ]
    },
    {
      "cell_type": "code",
      "metadata": {
        "id": "RGNleCbwOTOg"
      },
      "source": [
        "k_range = range(1,26)\n",
        "scores = {}\n",
        "scores_list = []"
      ],
      "execution_count": null,
      "outputs": []
    },
    {
      "cell_type": "code",
      "metadata": {
        "id": "l8Ja5V0sBwrB"
      },
      "source": [
        "for k in k_range:\n",
        "  knn = KNeighborsClassifier(n_neighbors=k)\n",
        "  knn.fit(X_train, y_train)\n",
        "  y_pred = knn.predict(X_train)\n",
        "  scores[k] = accuracy_score(y_train, y_pred)\n",
        "  scores_list.append(accuracy_score(y_train, y_pred))"
      ],
      "execution_count": null,
      "outputs": []
    },
    {
      "cell_type": "code",
      "metadata": {
        "id": "U_PYIvGkC1a-"
      },
      "source": [
        "plt.plot(k_range, scores_list)\n",
        "plt.xlabel('Value of k for KNN')\n",
        "plt.ylabel('Testing Accuracy')"
      ],
      "execution_count": null,
      "outputs": []
    },
    {
      "cell_type": "code",
      "metadata": {
        "id": "WeXgWfnJwM7j"
      },
      "source": [
        "y_pred = \n",
        "print(classification_report(y_train, y_pred))"
      ],
      "execution_count": null,
      "outputs": []
    },
    {
      "cell_type": "code",
      "metadata": {
        "id": "O8LDjwVXxbv1"
      },
      "source": [
        "pd.crosstab(y_train, y_pred, rownames=['Real'],colnames=['Predito'],margins=True)"
      ],
      "execution_count": null,
      "outputs": []
    },
    {
      "cell_type": "code",
      "metadata": {
        "id": "Nim0I8PMxvCO"
      },
      "source": [
        "scores = cross_val_score(rf, X_train, y_train, cv=5, scoring='accuracy')\n",
        "scores"
      ],
      "execution_count": null,
      "outputs": []
    },
    {
      "cell_type": "code",
      "metadata": {
        "id": "eDIZWLplxyRU"
      },
      "source": [
        "scores.mean()"
      ],
      "execution_count": null,
      "outputs": []
    },
    {
      "cell_type": "code",
      "metadata": {
        "id": "kogl1nyfx3HQ"
      },
      "source": [
        "accuracy_score(y_train, y_pred)"
      ],
      "execution_count": null,
      "outputs": []
    },
    {
      "cell_type": "code",
      "metadata": {
        "id": "4NqqkFI-yAkn"
      },
      "source": [
        "rmse = sqrt(mean_squared_error(y_train, y_pred))\n",
        "rmse"
      ],
      "execution_count": null,
      "outputs": []
    },
    {
      "cell_type": "code",
      "metadata": {
        "id": "hpsP9EKoz0f_"
      },
      "source": [
        "fpr, tpr, _ = roc_curve(y_train, y_pred)\n",
        "auc =  roc_auc_score(y_train, y_pred)\n",
        "plt.plot(fpr,tpr,label=\"data, auc=\"+str(auc))\n",
        "plt.legend(loc=4)\n",
        "plt.show()"
      ],
      "execution_count": null,
      "outputs": []
    },
    {
      "cell_type": "markdown",
      "metadata": {
        "id": "giZi9VFEPbfG"
      },
      "source": [
        "# MLPClassifier"
      ]
    },
    {
      "cell_type": "code",
      "metadata": {
        "id": "TCP1wGp0PdwJ"
      },
      "source": [
        "clf = MLPClassifier(hidden_layer_sizes=(100,100,100), max_iter=500, alpha=0.0001,\n",
        "                     solver='sgd', verbose=10,  random_state=21,tol=0.000000001)"
      ],
      "execution_count": null,
      "outputs": []
    },
    {
      "cell_type": "code",
      "metadata": {
        "id": "9g-Gk6rq2FIT"
      },
      "source": [
        "clf.fit(X_train, y_train)\n",
        "y_pred = clf.predict(x_test)"
      ],
      "execution_count": null,
      "outputs": []
    },
    {
      "cell_type": "code",
      "metadata": {
        "id": "ZL0h0Lx32Nyt"
      },
      "source": [
        " print(classification_report(y_train, y_pred))"
      ],
      "execution_count": null,
      "outputs": []
    },
    {
      "cell_type": "code",
      "metadata": {
        "id": "AUGrMZhT2Srz"
      },
      "source": [
        "pd.crosstab(y_train, y_pred, rownames=['Real'],colnames=['Predito'],margins=True)"
      ],
      "execution_count": null,
      "outputs": []
    },
    {
      "cell_type": "code",
      "metadata": {
        "id": "jJEpukK92ZED"
      },
      "source": [
        "scores = cross_val_score(rf, X_train, y_train, cv=5, scoring='accuracy')\n",
        "scores"
      ],
      "execution_count": null,
      "outputs": []
    },
    {
      "cell_type": "code",
      "metadata": {
        "id": "xKIgmpAo2bpy"
      },
      "source": [
        "scores.mean()"
      ],
      "execution_count": null,
      "outputs": []
    },
    {
      "cell_type": "code",
      "metadata": {
        "id": "9CObHkwe2NEz"
      },
      "source": [
        "accuracy_score(y_test, y_pred)"
      ],
      "execution_count": null,
      "outputs": []
    },
    {
      "cell_type": "code",
      "metadata": {
        "id": "V-7innmQ2d0F"
      },
      "source": [
        "rmse = sqrt(mean_squared_error(y_train, y_pred))\n",
        "rmse"
      ],
      "execution_count": null,
      "outputs": []
    },
    {
      "cell_type": "code",
      "metadata": {
        "id": "e7VLXhbi3XCI"
      },
      "source": [
        "fpr, tpr, _ = roc_curve(y_train, y_pred)\n",
        "auc =  roc_auc_score(y_train, y_pred)\n",
        "plt.plot(fpr,tpr,label=\"data, auc=\"+str(auc))\n",
        "plt.legend(loc=4)\n",
        "plt.show()"
      ],
      "execution_count": null,
      "outputs": []
    }
  ]
}